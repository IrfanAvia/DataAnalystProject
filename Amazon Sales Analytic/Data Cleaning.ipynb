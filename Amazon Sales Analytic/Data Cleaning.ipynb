{
 "cells": [
  {
   "cell_type": "code",
   "execution_count": 1,
   "metadata": {},
   "outputs": [
    {
     "data": {
      "text/plain": [
       "['amazon.csv', 'newplot.png', 'project3.ipynb', 'project3.ipynb (df).csv']"
      ]
     },
     "execution_count": 1,
     "metadata": {},
     "output_type": "execute_result"
    }
   ],
   "source": [
    "import pandas as pd\n",
    "import numpy as np\n",
    "import matplotlib.pyplot as plt\n",
    "import seaborn as sns\n",
    "import warnings\n",
    "import os\n",
    "import plotly.express as px\n",
    "import plotly.graph_objects as go\n",
    "os.listdir()"
   ]
  },
  {
   "cell_type": "code",
   "execution_count": 2,
   "metadata": {},
   "outputs": [
    {
     "data": {
      "text/html": [
       "<div>\n",
       "<style scoped>\n",
       "    .dataframe tbody tr th:only-of-type {\n",
       "        vertical-align: middle;\n",
       "    }\n",
       "\n",
       "    .dataframe tbody tr th {\n",
       "        vertical-align: top;\n",
       "    }\n",
       "\n",
       "    .dataframe thead th {\n",
       "        text-align: right;\n",
       "    }\n",
       "</style>\n",
       "<table border=\"1\" class=\"dataframe\">\n",
       "  <thead>\n",
       "    <tr style=\"text-align: right;\">\n",
       "      <th></th>\n",
       "      <th>product_id</th>\n",
       "      <th>product_name</th>\n",
       "      <th>category</th>\n",
       "      <th>discounted_price</th>\n",
       "      <th>actual_price</th>\n",
       "      <th>discount_percentage</th>\n",
       "      <th>rating</th>\n",
       "      <th>rating_count</th>\n",
       "      <th>about_product</th>\n",
       "      <th>user_id</th>\n",
       "      <th>user_name</th>\n",
       "      <th>review_id</th>\n",
       "      <th>review_title</th>\n",
       "      <th>review_content</th>\n",
       "      <th>img_link</th>\n",
       "      <th>product_link</th>\n",
       "    </tr>\n",
       "  </thead>\n",
       "  <tbody>\n",
       "    <tr>\n",
       "      <th>0</th>\n",
       "      <td>B07JW9H4J1</td>\n",
       "      <td>Wayona Nylon Braided USB to Lightning Fast Cha...</td>\n",
       "      <td>Computers&amp;Accessories|Accessories&amp;Peripherals|...</td>\n",
       "      <td>₹399</td>\n",
       "      <td>₹1,099</td>\n",
       "      <td>64%</td>\n",
       "      <td>4.2</td>\n",
       "      <td>24,269</td>\n",
       "      <td>High Compatibility : Compatible With iPhone 12...</td>\n",
       "      <td>AG3D6O4STAQKAY2UVGEUV46KN35Q,AHMY5CWJMMK5BJRBB...</td>\n",
       "      <td>Manav,Adarsh gupta,Sundeep,S.Sayeed Ahmed,jasp...</td>\n",
       "      <td>R3HXWT0LRP0NMF,R2AJM3LFTLZHFO,R6AQJGUP6P86,R1K...</td>\n",
       "      <td>Satisfied,Charging is really fast,Value for mo...</td>\n",
       "      <td>Looks durable Charging is fine tooNo complains...</td>\n",
       "      <td>https://m.media-amazon.com/images/W/WEBP_40237...</td>\n",
       "      <td>https://www.amazon.in/Wayona-Braided-WN3LG1-Sy...</td>\n",
       "    </tr>\n",
       "    <tr>\n",
       "      <th>1</th>\n",
       "      <td>B098NS6PVG</td>\n",
       "      <td>Ambrane Unbreakable 60W / 3A Fast Charging 1.5...</td>\n",
       "      <td>Computers&amp;Accessories|Accessories&amp;Peripherals|...</td>\n",
       "      <td>₹199</td>\n",
       "      <td>₹349</td>\n",
       "      <td>43%</td>\n",
       "      <td>4.0</td>\n",
       "      <td>43,994</td>\n",
       "      <td>Compatible with all Type C enabled devices, be...</td>\n",
       "      <td>AECPFYFQVRUWC3KGNLJIOREFP5LQ,AGYYVPDD7YG7FYNBX...</td>\n",
       "      <td>ArdKn,Nirbhay kumar,Sagar Viswanathan,Asp,Plac...</td>\n",
       "      <td>RGIQEG07R9HS2,R1SMWZQ86XIN8U,R2J3Y1WL29GWDE,RY...</td>\n",
       "      <td>A Good Braided Cable for Your Type C Device,Go...</td>\n",
       "      <td>I ordered this cable to connect my phone to An...</td>\n",
       "      <td>https://m.media-amazon.com/images/W/WEBP_40237...</td>\n",
       "      <td>https://www.amazon.in/Ambrane-Unbreakable-Char...</td>\n",
       "    </tr>\n",
       "    <tr>\n",
       "      <th>2</th>\n",
       "      <td>B096MSW6CT</td>\n",
       "      <td>Sounce Fast Phone Charging Cable &amp; Data Sync U...</td>\n",
       "      <td>Computers&amp;Accessories|Accessories&amp;Peripherals|...</td>\n",
       "      <td>₹199</td>\n",
       "      <td>₹1,899</td>\n",
       "      <td>90%</td>\n",
       "      <td>3.9</td>\n",
       "      <td>7,928</td>\n",
       "      <td>【 Fast Charger&amp; Data Sync】-With built-in safet...</td>\n",
       "      <td>AGU3BBQ2V2DDAMOAKGFAWDDQ6QHA,AESFLDV2PT363T2AQ...</td>\n",
       "      <td>Kunal,Himanshu,viswanath,sai niharka,saqib mal...</td>\n",
       "      <td>R3J3EQQ9TZI5ZJ,R3E7WBGK7ID0KV,RWU79XKQ6I1QF,R2...</td>\n",
       "      <td>Good speed for earlier versions,Good Product,W...</td>\n",
       "      <td>Not quite durable and sturdy,https://m.media-a...</td>\n",
       "      <td>https://m.media-amazon.com/images/W/WEBP_40237...</td>\n",
       "      <td>https://www.amazon.in/Sounce-iPhone-Charging-C...</td>\n",
       "    </tr>\n",
       "    <tr>\n",
       "      <th>3</th>\n",
       "      <td>B08HDJ86NZ</td>\n",
       "      <td>boAt Deuce USB 300 2 in 1 Type-C &amp; Micro USB S...</td>\n",
       "      <td>Computers&amp;Accessories|Accessories&amp;Peripherals|...</td>\n",
       "      <td>₹329</td>\n",
       "      <td>₹699</td>\n",
       "      <td>53%</td>\n",
       "      <td>4.2</td>\n",
       "      <td>94,363</td>\n",
       "      <td>The boAt Deuce USB 300 2 in 1 cable is compati...</td>\n",
       "      <td>AEWAZDZZJLQUYVOVGBEUKSLXHQ5A,AG5HTSFRRE6NL3M5S...</td>\n",
       "      <td>Omkar dhale,JD,HEMALATHA,Ajwadh a.,amar singh ...</td>\n",
       "      <td>R3EEUZKKK9J36I,R3HJVYCLYOY554,REDECAZ7AMPQC,R1...</td>\n",
       "      <td>Good product,Good one,Nice,Really nice product...</td>\n",
       "      <td>Good product,long wire,Charges good,Nice,I bou...</td>\n",
       "      <td>https://m.media-amazon.com/images/I/41V5FtEWPk...</td>\n",
       "      <td>https://www.amazon.in/Deuce-300-Resistant-Tang...</td>\n",
       "    </tr>\n",
       "    <tr>\n",
       "      <th>4</th>\n",
       "      <td>B08CF3B7N1</td>\n",
       "      <td>Portronics Konnect L 1.2M Fast Charging 3A 8 P...</td>\n",
       "      <td>Computers&amp;Accessories|Accessories&amp;Peripherals|...</td>\n",
       "      <td>₹154</td>\n",
       "      <td>₹399</td>\n",
       "      <td>61%</td>\n",
       "      <td>4.2</td>\n",
       "      <td>16,905</td>\n",
       "      <td>[CHARGE &amp; SYNC FUNCTION]- This cable comes wit...</td>\n",
       "      <td>AE3Q6KSUK5P75D5HFYHCRAOLODSA,AFUGIFH5ZAFXRDSZH...</td>\n",
       "      <td>rahuls6099,Swasat Borah,Ajay Wadke,Pranali,RVK...</td>\n",
       "      <td>R1BP4L2HH9TFUP,R16PVJEXKV6QZS,R2UPDB81N66T4P,R...</td>\n",
       "      <td>As good as original,Decent,Good one for second...</td>\n",
       "      <td>Bought this instead of original apple, does th...</td>\n",
       "      <td>https://m.media-amazon.com/images/W/WEBP_40237...</td>\n",
       "      <td>https://www.amazon.in/Portronics-Konnect-POR-1...</td>\n",
       "    </tr>\n",
       "    <tr>\n",
       "      <th>...</th>\n",
       "      <td>...</td>\n",
       "      <td>...</td>\n",
       "      <td>...</td>\n",
       "      <td>...</td>\n",
       "      <td>...</td>\n",
       "      <td>...</td>\n",
       "      <td>...</td>\n",
       "      <td>...</td>\n",
       "      <td>...</td>\n",
       "      <td>...</td>\n",
       "      <td>...</td>\n",
       "      <td>...</td>\n",
       "      <td>...</td>\n",
       "      <td>...</td>\n",
       "      <td>...</td>\n",
       "      <td>...</td>\n",
       "    </tr>\n",
       "    <tr>\n",
       "      <th>1460</th>\n",
       "      <td>B08L7J3T31</td>\n",
       "      <td>Noir Aqua - 5pcs PP Spun Filter + 1 Spanner | ...</td>\n",
       "      <td>Home&amp;Kitchen|Kitchen&amp;HomeAppliances|WaterPurif...</td>\n",
       "      <td>₹379</td>\n",
       "      <td>₹919</td>\n",
       "      <td>59%</td>\n",
       "      <td>4</td>\n",
       "      <td>1,090</td>\n",
       "      <td>SUPREME QUALITY 90 GRAM 3 LAYER THIK PP SPUN F...</td>\n",
       "      <td>AHITFY6AHALOFOHOZEOC6XBP4FEA,AFRABBODZJZQB6Z4U...</td>\n",
       "      <td>Prabha ds,Raghuram bk,Real Deal,Amazon Custome...</td>\n",
       "      <td>R3G3XFHPBFF0E8,R3C0BZCD32EIGW,R2EBVBCN9QPD9R,R...</td>\n",
       "      <td>Received the product without spanner,Excellent...</td>\n",
       "      <td>I received product without spanner,Excellent p...</td>\n",
       "      <td>https://m.media-amazon.com/images/I/41fDdRtjfx...</td>\n",
       "      <td>https://www.amazon.in/Noir-Aqua-Spanner-Purifi...</td>\n",
       "    </tr>\n",
       "    <tr>\n",
       "      <th>1461</th>\n",
       "      <td>B01M6453MB</td>\n",
       "      <td>Prestige Delight PRWO Electric Rice Cooker (1 ...</td>\n",
       "      <td>Home&amp;Kitchen|Kitchen&amp;HomeAppliances|SmallKitch...</td>\n",
       "      <td>₹2,280</td>\n",
       "      <td>₹3,045</td>\n",
       "      <td>25%</td>\n",
       "      <td>4.1</td>\n",
       "      <td>4,118</td>\n",
       "      <td>230 Volts, 400 watts, 1 Year</td>\n",
       "      <td>AFG5FM3NEMOL6BNFRV2NK5FNJCHQ,AGEINTRN6Z563RMLH...</td>\n",
       "      <td>Manu Bhai,Naveenpittu,Evatira Sangma,JAGANNADH...</td>\n",
       "      <td>R3DDL2UPKQ2CK9,R2SYYU1OATVIU5,R1VM993161IYRW,R...</td>\n",
       "      <td>ok,everything was good couldn't return bcoz I ...</td>\n",
       "      <td>ok,got everything as mentioned but the measuri...</td>\n",
       "      <td>https://m.media-amazon.com/images/I/41gzDxk4+k...</td>\n",
       "      <td>https://www.amazon.in/Prestige-Delight-PRWO-1-...</td>\n",
       "    </tr>\n",
       "    <tr>\n",
       "      <th>1462</th>\n",
       "      <td>B009P2LIL4</td>\n",
       "      <td>Bajaj Majesty RX10 2000 Watts Heat Convector R...</td>\n",
       "      <td>Home&amp;Kitchen|Heating,Cooling&amp;AirQuality|RoomHe...</td>\n",
       "      <td>₹2,219</td>\n",
       "      <td>₹3,080</td>\n",
       "      <td>28%</td>\n",
       "      <td>3.6</td>\n",
       "      <td>468</td>\n",
       "      <td>International design and styling|Two heat sett...</td>\n",
       "      <td>AGVPWCMAHYQWJOQKMUJN4DW3KM5Q,AF4Q3E66MY4SR7YQZ...</td>\n",
       "      <td>Nehal Desai,Danish Parwez,Amazon Customer,Amaz...</td>\n",
       "      <td>R1TLRJVW4STY5I,R2O455KRN493R1,R3Q5MVGBRIAS2G,R...</td>\n",
       "      <td>very good,Work but front melt after 2 month,Go...</td>\n",
       "      <td>plastic but cool body ,u have to find sturdy s...</td>\n",
       "      <td>https://m.media-amazon.com/images/W/WEBP_40237...</td>\n",
       "      <td>https://www.amazon.in/Bajaj-RX-10-2000-Watt-Co...</td>\n",
       "    </tr>\n",
       "    <tr>\n",
       "      <th>1463</th>\n",
       "      <td>B00J5DYCCA</td>\n",
       "      <td>Havells Ventil Air DSP 230mm Exhaust Fan (Pist...</td>\n",
       "      <td>Home&amp;Kitchen|Heating,Cooling&amp;AirQuality|Fans|E...</td>\n",
       "      <td>₹1,399</td>\n",
       "      <td>₹1,890</td>\n",
       "      <td>26%</td>\n",
       "      <td>4</td>\n",
       "      <td>8,031</td>\n",
       "      <td>Fan sweep area: 230 MM ; Noise level: (40 - 45...</td>\n",
       "      <td>AF2JQCLSCY3QJATWUNNHUSVUPNQQ,AFDMLUXC5LS5RXDJS...</td>\n",
       "      <td>Shubham Dubey,E.GURUBARAN,Mayank S.,eusuf khan...</td>\n",
       "      <td>R39Q2Y79MM9SWK,R3079BG1NIH6MB,R29A31ZELTZNJM,R...</td>\n",
       "      <td>Fan Speed is slow,Good quality,Good product,go...</td>\n",
       "      <td>I have installed this in my kitchen working fi...</td>\n",
       "      <td>https://m.media-amazon.com/images/W/WEBP_40237...</td>\n",
       "      <td>https://www.amazon.in/Havells-Ventilair-230mm-...</td>\n",
       "    </tr>\n",
       "    <tr>\n",
       "      <th>1464</th>\n",
       "      <td>B01486F4G6</td>\n",
       "      <td>Borosil Jumbo 1000-Watt Grill Sandwich Maker (...</td>\n",
       "      <td>Home&amp;Kitchen|Kitchen&amp;HomeAppliances|SmallKitch...</td>\n",
       "      <td>₹2,863</td>\n",
       "      <td>₹3,690</td>\n",
       "      <td>22%</td>\n",
       "      <td>4.3</td>\n",
       "      <td>6,987</td>\n",
       "      <td>Brand-Borosil, Specification â€“ 23V ~ 5Hz;1 W...</td>\n",
       "      <td>AFGW5PT3R6ZAVQR4Y5MWVAKBZAYA,AG7QNJ2SCS5VS5VYY...</td>\n",
       "      <td>Rajib,Ajay B,Vikas Kahol,PARDEEP,Anindya Prama...</td>\n",
       "      <td>R20RBRZ0WEUJT9,ROKIFK9R2ISSE,R30EEG2FNJSN5I,R2...</td>\n",
       "      <td>Works perfect,Ok good product,Nice Product. Re...</td>\n",
       "      <td>It does it job perfectly..only issue is temp c...</td>\n",
       "      <td>https://m.media-amazon.com/images/W/WEBP_40237...</td>\n",
       "      <td>https://www.amazon.in/Borosil-Jumbo-1000-Watt-...</td>\n",
       "    </tr>\n",
       "  </tbody>\n",
       "</table>\n",
       "<p>1465 rows × 16 columns</p>\n",
       "</div>"
      ],
      "text/plain": [
       "      product_id                                       product_name  \\\n",
       "0     B07JW9H4J1  Wayona Nylon Braided USB to Lightning Fast Cha...   \n",
       "1     B098NS6PVG  Ambrane Unbreakable 60W / 3A Fast Charging 1.5...   \n",
       "2     B096MSW6CT  Sounce Fast Phone Charging Cable & Data Sync U...   \n",
       "3     B08HDJ86NZ  boAt Deuce USB 300 2 in 1 Type-C & Micro USB S...   \n",
       "4     B08CF3B7N1  Portronics Konnect L 1.2M Fast Charging 3A 8 P...   \n",
       "...          ...                                                ...   \n",
       "1460  B08L7J3T31  Noir Aqua - 5pcs PP Spun Filter + 1 Spanner | ...   \n",
       "1461  B01M6453MB  Prestige Delight PRWO Electric Rice Cooker (1 ...   \n",
       "1462  B009P2LIL4  Bajaj Majesty RX10 2000 Watts Heat Convector R...   \n",
       "1463  B00J5DYCCA  Havells Ventil Air DSP 230mm Exhaust Fan (Pist...   \n",
       "1464  B01486F4G6  Borosil Jumbo 1000-Watt Grill Sandwich Maker (...   \n",
       "\n",
       "                                               category discounted_price  \\\n",
       "0     Computers&Accessories|Accessories&Peripherals|...             ₹399   \n",
       "1     Computers&Accessories|Accessories&Peripherals|...             ₹199   \n",
       "2     Computers&Accessories|Accessories&Peripherals|...             ₹199   \n",
       "3     Computers&Accessories|Accessories&Peripherals|...             ₹329   \n",
       "4     Computers&Accessories|Accessories&Peripherals|...             ₹154   \n",
       "...                                                 ...              ...   \n",
       "1460  Home&Kitchen|Kitchen&HomeAppliances|WaterPurif...             ₹379   \n",
       "1461  Home&Kitchen|Kitchen&HomeAppliances|SmallKitch...           ₹2,280   \n",
       "1462  Home&Kitchen|Heating,Cooling&AirQuality|RoomHe...           ₹2,219   \n",
       "1463  Home&Kitchen|Heating,Cooling&AirQuality|Fans|E...           ₹1,399   \n",
       "1464  Home&Kitchen|Kitchen&HomeAppliances|SmallKitch...           ₹2,863   \n",
       "\n",
       "     actual_price discount_percentage rating rating_count  \\\n",
       "0          ₹1,099                 64%    4.2       24,269   \n",
       "1            ₹349                 43%    4.0       43,994   \n",
       "2          ₹1,899                 90%    3.9        7,928   \n",
       "3            ₹699                 53%    4.2       94,363   \n",
       "4            ₹399                 61%    4.2       16,905   \n",
       "...           ...                 ...    ...          ...   \n",
       "1460         ₹919                 59%      4        1,090   \n",
       "1461       ₹3,045                 25%    4.1        4,118   \n",
       "1462       ₹3,080                 28%    3.6          468   \n",
       "1463       ₹1,890                 26%      4        8,031   \n",
       "1464       ₹3,690                 22%    4.3        6,987   \n",
       "\n",
       "                                          about_product  \\\n",
       "0     High Compatibility : Compatible With iPhone 12...   \n",
       "1     Compatible with all Type C enabled devices, be...   \n",
       "2     【 Fast Charger& Data Sync】-With built-in safet...   \n",
       "3     The boAt Deuce USB 300 2 in 1 cable is compati...   \n",
       "4     [CHARGE & SYNC FUNCTION]- This cable comes wit...   \n",
       "...                                                 ...   \n",
       "1460  SUPREME QUALITY 90 GRAM 3 LAYER THIK PP SPUN F...   \n",
       "1461                       230 Volts, 400 watts, 1 Year   \n",
       "1462  International design and styling|Two heat sett...   \n",
       "1463  Fan sweep area: 230 MM ; Noise level: (40 - 45...   \n",
       "1464  Brand-Borosil, Specification â€“ 23V ~ 5Hz;1 W...   \n",
       "\n",
       "                                                user_id  \\\n",
       "0     AG3D6O4STAQKAY2UVGEUV46KN35Q,AHMY5CWJMMK5BJRBB...   \n",
       "1     AECPFYFQVRUWC3KGNLJIOREFP5LQ,AGYYVPDD7YG7FYNBX...   \n",
       "2     AGU3BBQ2V2DDAMOAKGFAWDDQ6QHA,AESFLDV2PT363T2AQ...   \n",
       "3     AEWAZDZZJLQUYVOVGBEUKSLXHQ5A,AG5HTSFRRE6NL3M5S...   \n",
       "4     AE3Q6KSUK5P75D5HFYHCRAOLODSA,AFUGIFH5ZAFXRDSZH...   \n",
       "...                                                 ...   \n",
       "1460  AHITFY6AHALOFOHOZEOC6XBP4FEA,AFRABBODZJZQB6Z4U...   \n",
       "1461  AFG5FM3NEMOL6BNFRV2NK5FNJCHQ,AGEINTRN6Z563RMLH...   \n",
       "1462  AGVPWCMAHYQWJOQKMUJN4DW3KM5Q,AF4Q3E66MY4SR7YQZ...   \n",
       "1463  AF2JQCLSCY3QJATWUNNHUSVUPNQQ,AFDMLUXC5LS5RXDJS...   \n",
       "1464  AFGW5PT3R6ZAVQR4Y5MWVAKBZAYA,AG7QNJ2SCS5VS5VYY...   \n",
       "\n",
       "                                              user_name  \\\n",
       "0     Manav,Adarsh gupta,Sundeep,S.Sayeed Ahmed,jasp...   \n",
       "1     ArdKn,Nirbhay kumar,Sagar Viswanathan,Asp,Plac...   \n",
       "2     Kunal,Himanshu,viswanath,sai niharka,saqib mal...   \n",
       "3     Omkar dhale,JD,HEMALATHA,Ajwadh a.,amar singh ...   \n",
       "4     rahuls6099,Swasat Borah,Ajay Wadke,Pranali,RVK...   \n",
       "...                                                 ...   \n",
       "1460  Prabha ds,Raghuram bk,Real Deal,Amazon Custome...   \n",
       "1461  Manu Bhai,Naveenpittu,Evatira Sangma,JAGANNADH...   \n",
       "1462  Nehal Desai,Danish Parwez,Amazon Customer,Amaz...   \n",
       "1463  Shubham Dubey,E.GURUBARAN,Mayank S.,eusuf khan...   \n",
       "1464  Rajib,Ajay B,Vikas Kahol,PARDEEP,Anindya Prama...   \n",
       "\n",
       "                                              review_id  \\\n",
       "0     R3HXWT0LRP0NMF,R2AJM3LFTLZHFO,R6AQJGUP6P86,R1K...   \n",
       "1     RGIQEG07R9HS2,R1SMWZQ86XIN8U,R2J3Y1WL29GWDE,RY...   \n",
       "2     R3J3EQQ9TZI5ZJ,R3E7WBGK7ID0KV,RWU79XKQ6I1QF,R2...   \n",
       "3     R3EEUZKKK9J36I,R3HJVYCLYOY554,REDECAZ7AMPQC,R1...   \n",
       "4     R1BP4L2HH9TFUP,R16PVJEXKV6QZS,R2UPDB81N66T4P,R...   \n",
       "...                                                 ...   \n",
       "1460  R3G3XFHPBFF0E8,R3C0BZCD32EIGW,R2EBVBCN9QPD9R,R...   \n",
       "1461  R3DDL2UPKQ2CK9,R2SYYU1OATVIU5,R1VM993161IYRW,R...   \n",
       "1462  R1TLRJVW4STY5I,R2O455KRN493R1,R3Q5MVGBRIAS2G,R...   \n",
       "1463  R39Q2Y79MM9SWK,R3079BG1NIH6MB,R29A31ZELTZNJM,R...   \n",
       "1464  R20RBRZ0WEUJT9,ROKIFK9R2ISSE,R30EEG2FNJSN5I,R2...   \n",
       "\n",
       "                                           review_title  \\\n",
       "0     Satisfied,Charging is really fast,Value for mo...   \n",
       "1     A Good Braided Cable for Your Type C Device,Go...   \n",
       "2     Good speed for earlier versions,Good Product,W...   \n",
       "3     Good product,Good one,Nice,Really nice product...   \n",
       "4     As good as original,Decent,Good one for second...   \n",
       "...                                                 ...   \n",
       "1460  Received the product without spanner,Excellent...   \n",
       "1461  ok,everything was good couldn't return bcoz I ...   \n",
       "1462  very good,Work but front melt after 2 month,Go...   \n",
       "1463  Fan Speed is slow,Good quality,Good product,go...   \n",
       "1464  Works perfect,Ok good product,Nice Product. Re...   \n",
       "\n",
       "                                         review_content  \\\n",
       "0     Looks durable Charging is fine tooNo complains...   \n",
       "1     I ordered this cable to connect my phone to An...   \n",
       "2     Not quite durable and sturdy,https://m.media-a...   \n",
       "3     Good product,long wire,Charges good,Nice,I bou...   \n",
       "4     Bought this instead of original apple, does th...   \n",
       "...                                                 ...   \n",
       "1460  I received product without spanner,Excellent p...   \n",
       "1461  ok,got everything as mentioned but the measuri...   \n",
       "1462  plastic but cool body ,u have to find sturdy s...   \n",
       "1463  I have installed this in my kitchen working fi...   \n",
       "1464  It does it job perfectly..only issue is temp c...   \n",
       "\n",
       "                                               img_link  \\\n",
       "0     https://m.media-amazon.com/images/W/WEBP_40237...   \n",
       "1     https://m.media-amazon.com/images/W/WEBP_40237...   \n",
       "2     https://m.media-amazon.com/images/W/WEBP_40237...   \n",
       "3     https://m.media-amazon.com/images/I/41V5FtEWPk...   \n",
       "4     https://m.media-amazon.com/images/W/WEBP_40237...   \n",
       "...                                                 ...   \n",
       "1460  https://m.media-amazon.com/images/I/41fDdRtjfx...   \n",
       "1461  https://m.media-amazon.com/images/I/41gzDxk4+k...   \n",
       "1462  https://m.media-amazon.com/images/W/WEBP_40237...   \n",
       "1463  https://m.media-amazon.com/images/W/WEBP_40237...   \n",
       "1464  https://m.media-amazon.com/images/W/WEBP_40237...   \n",
       "\n",
       "                                           product_link  \n",
       "0     https://www.amazon.in/Wayona-Braided-WN3LG1-Sy...  \n",
       "1     https://www.amazon.in/Ambrane-Unbreakable-Char...  \n",
       "2     https://www.amazon.in/Sounce-iPhone-Charging-C...  \n",
       "3     https://www.amazon.in/Deuce-300-Resistant-Tang...  \n",
       "4     https://www.amazon.in/Portronics-Konnect-POR-1...  \n",
       "...                                                 ...  \n",
       "1460  https://www.amazon.in/Noir-Aqua-Spanner-Purifi...  \n",
       "1461  https://www.amazon.in/Prestige-Delight-PRWO-1-...  \n",
       "1462  https://www.amazon.in/Bajaj-RX-10-2000-Watt-Co...  \n",
       "1463  https://www.amazon.in/Havells-Ventilair-230mm-...  \n",
       "1464  https://www.amazon.in/Borosil-Jumbo-1000-Watt-...  \n",
       "\n",
       "[1465 rows x 16 columns]"
      ]
     },
     "execution_count": 2,
     "metadata": {},
     "output_type": "execute_result"
    }
   ],
   "source": [
    "df = pd.read_csv('amazon.csv')\n",
    "df"
   ]
  },
  {
   "cell_type": "code",
   "execution_count": 3,
   "metadata": {},
   "outputs": [],
   "source": [
    "def clean_values(value):\n",
    "    # Split the value by comma and return the first part (User ID or User Name)\n",
    "    return value.split(',')[0].strip()  # Change the index to [1] for User Name if needed\n",
    "\n",
    "# Apply the function to clean up each column\n",
    "df['user_id'] = df['user_id'].apply(clean_values)\n",
    "df['user_name'] = df['user_name'].apply(clean_values)\n",
    "df['review_id'] = df['review_id'].apply(clean_values)\n",
    "df['review_title'] = df['review_title'].apply(clean_values)"
   ]
  },
  {
   "cell_type": "code",
   "execution_count": 4,
   "metadata": {},
   "outputs": [
    {
     "data": {
      "text/plain": [
       "product_id             False\n",
       "product_name           False\n",
       "category               False\n",
       "discounted_price       False\n",
       "actual_price           False\n",
       "discount_percentage    False\n",
       "rating                 False\n",
       "rating_count            True\n",
       "about_product          False\n",
       "user_id                False\n",
       "user_name              False\n",
       "review_id              False\n",
       "review_title           False\n",
       "review_content         False\n",
       "img_link               False\n",
       "product_link           False\n",
       "dtype: bool"
      ]
     },
     "execution_count": 4,
     "metadata": {},
     "output_type": "execute_result"
    }
   ],
   "source": [
    "df.isnull().any()"
   ]
  },
  {
   "cell_type": "code",
   "execution_count": 5,
   "metadata": {},
   "outputs": [
    {
     "name": "stdout",
     "output_type": "stream",
     "text": [
      "<class 'pandas.core.frame.DataFrame'>\n",
      "RangeIndex: 1465 entries, 0 to 1464\n",
      "Data columns (total 16 columns):\n",
      " #   Column               Non-Null Count  Dtype \n",
      "---  ------               --------------  ----- \n",
      " 0   product_id           1465 non-null   object\n",
      " 1   product_name         1465 non-null   object\n",
      " 2   category             1465 non-null   object\n",
      " 3   discounted_price     1465 non-null   object\n",
      " 4   actual_price         1465 non-null   object\n",
      " 5   discount_percentage  1465 non-null   object\n",
      " 6   rating               1465 non-null   object\n",
      " 7   rating_count         1463 non-null   object\n",
      " 8   about_product        1465 non-null   object\n",
      " 9   user_id              1465 non-null   object\n",
      " 10  user_name            1465 non-null   object\n",
      " 11  review_id            1465 non-null   object\n",
      " 12  review_title         1465 non-null   object\n",
      " 13  review_content       1465 non-null   object\n",
      " 14  img_link             1465 non-null   object\n",
      " 15  product_link         1465 non-null   object\n",
      "dtypes: object(16)\n",
      "memory usage: 183.2+ KB\n"
     ]
    }
   ],
   "source": [
    "df.info()"
   ]
  },
  {
   "cell_type": "code",
   "execution_count": 6,
   "metadata": {},
   "outputs": [],
   "source": [
    "df['discounted_price'] = df['discounted_price'].str.replace(\"₹\",'')\n",
    "df['discounted_price'] = df['discounted_price'].str.replace(\",\",'')\n",
    "df['discounted_price'] = df['discounted_price'].astype('float64')"
   ]
  },
  {
   "cell_type": "code",
   "execution_count": 7,
   "metadata": {},
   "outputs": [],
   "source": [
    "df['actual_price'] = df['actual_price'].str.replace(\"₹\",'')\n",
    "df['actual_price'] = df['actual_price'].str.replace(\",\",'')\n",
    "df['actual_price'] = df['actual_price'].astype('float64')"
   ]
  },
  {
   "cell_type": "code",
   "execution_count": 8,
   "metadata": {},
   "outputs": [
    {
     "name": "stderr",
     "output_type": "stream",
     "text": [
      "C:\\Users\\Yayat Supriyatna\\AppData\\Local\\Temp\\ipykernel_21568\\745301728.py:1: FutureWarning: The default value of regex will change from True to False in a future version. In addition, single character regular expressions will *not* be treated as literal strings when regex=True.\n",
      "  df['rating'] = df['rating'].str.replace(\".\",',')\n"
     ]
    }
   ],
   "source": [
    "\n",
    "df['rating'] = df['rating'].str.replace(\".\",',')\n",
    "df['actual_price'] = df['actual_price'].astype('float64')"
   ]
  },
  {
   "cell_type": "code",
   "execution_count": 9,
   "metadata": {},
   "outputs": [],
   "source": [
    "df['discount_percentage'] = df['discount_percentage'].str.replace('%','').astype('float64')\n",
    "df['discount_percentage'] = df['discount_percentage'] / 100"
   ]
  },
  {
   "cell_type": "code",
   "execution_count": 10,
   "metadata": {},
   "outputs": [],
   "source": [
    "df['rating_count'] = df['rating_count'].str.replace(\",\",'').astype('float64')"
   ]
  },
  {
   "cell_type": "code",
   "execution_count": 11,
   "metadata": {},
   "outputs": [
    {
     "data": {
      "text/plain": [
       "array(['4,2', '4,0', '3,9', '4,1', '4,3', '4,4', '4,5', '3,7', '3,3',\n",
       "       '3,6', '3,4', '3,8', '3,5', '4,6', '3,2', '5,0', '4,7', '3,0',\n",
       "       '2,8', '4', '3,1', '4,8', '2,3', '|', '2', '3', '2,6', '2,9'],\n",
       "      dtype=object)"
      ]
     },
     "execution_count": 11,
     "metadata": {},
     "output_type": "execute_result"
    }
   ],
   "source": [
    "df['rating'].unique()\n"
   ]
  },
  {
   "cell_type": "code",
   "execution_count": 12,
   "metadata": {},
   "outputs": [],
   "source": [
    "df = df[df['rating'] != '|']"
   ]
  },
  {
   "cell_type": "code",
   "execution_count": 13,
   "metadata": {},
   "outputs": [
    {
     "name": "stderr",
     "output_type": "stream",
     "text": [
      "C:\\Users\\Yayat Supriyatna\\AppData\\Local\\Temp\\ipykernel_21568\\4017037734.py:1: SettingWithCopyWarning: \n",
      "A value is trying to be set on a copy of a slice from a DataFrame.\n",
      "Try using .loc[row_indexer,col_indexer] = value instead\n",
      "\n",
      "See the caveats in the documentation: https://pandas.pydata.org/pandas-docs/stable/user_guide/indexing.html#returning-a-view-versus-a-copy\n",
      "  df['rating'] = df['rating'].str.replace(\",\",'.')\n"
     ]
    }
   ],
   "source": [
    "df['rating'] = df['rating'].str.replace(\",\",'.')"
   ]
  },
  {
   "cell_type": "code",
   "execution_count": 14,
   "metadata": {},
   "outputs": [
    {
     "name": "stderr",
     "output_type": "stream",
     "text": [
      "C:\\Users\\Yayat Supriyatna\\AppData\\Local\\Temp\\ipykernel_21568\\3813225772.py:1: SettingWithCopyWarning: \n",
      "A value is trying to be set on a copy of a slice from a DataFrame.\n",
      "Try using .loc[row_indexer,col_indexer] = value instead\n",
      "\n",
      "See the caveats in the documentation: https://pandas.pydata.org/pandas-docs/stable/user_guide/indexing.html#returning-a-view-versus-a-copy\n",
      "  df['rating'] = df['rating'].astype(float)\n"
     ]
    }
   ],
   "source": [
    "df['rating'] = df['rating'].astype(float)\n"
   ]
  },
  {
   "cell_type": "code",
   "execution_count": 15,
   "metadata": {},
   "outputs": [
    {
     "name": "stdout",
     "output_type": "stream",
     "text": [
      "<class 'pandas.core.frame.DataFrame'>\n",
      "Int64Index: 1464 entries, 0 to 1464\n",
      "Data columns (total 16 columns):\n",
      " #   Column               Non-Null Count  Dtype  \n",
      "---  ------               --------------  -----  \n",
      " 0   product_id           1464 non-null   object \n",
      " 1   product_name         1464 non-null   object \n",
      " 2   category             1464 non-null   object \n",
      " 3   discounted_price     1464 non-null   float64\n",
      " 4   actual_price         1464 non-null   float64\n",
      " 5   discount_percentage  1464 non-null   float64\n",
      " 6   rating               1464 non-null   float64\n",
      " 7   rating_count         1462 non-null   float64\n",
      " 8   about_product        1464 non-null   object \n",
      " 9   user_id              1464 non-null   object \n",
      " 10  user_name            1464 non-null   object \n",
      " 11  review_id            1464 non-null   object \n",
      " 12  review_title         1464 non-null   object \n",
      " 13  review_content       1464 non-null   object \n",
      " 14  img_link             1464 non-null   object \n",
      " 15  product_link         1464 non-null   object \n",
      "dtypes: float64(5), object(11)\n",
      "memory usage: 194.4+ KB\n"
     ]
    }
   ],
   "source": [
    "df.info()"
   ]
  },
  {
   "cell_type": "code",
   "execution_count": 17,
   "metadata": {},
   "outputs": [],
   "source": [
    "df = df.dropna(subset=['rating_count'])"
   ]
  },
  {
   "cell_type": "code",
   "execution_count": 18,
   "metadata": {},
   "outputs": [
    {
     "data": {
      "text/plain": [
       "product_id             False\n",
       "product_name           False\n",
       "category               False\n",
       "discounted_price       False\n",
       "actual_price           False\n",
       "discount_percentage    False\n",
       "rating                 False\n",
       "rating_count           False\n",
       "about_product          False\n",
       "user_id                False\n",
       "user_name              False\n",
       "review_id              False\n",
       "review_title           False\n",
       "review_content         False\n",
       "img_link               False\n",
       "product_link           False\n",
       "dtype: bool"
      ]
     },
     "execution_count": 18,
     "metadata": {},
     "output_type": "execute_result"
    }
   ],
   "source": [
    "df.isna().any()"
   ]
  },
  {
   "cell_type": "code",
   "execution_count": 19,
   "metadata": {},
   "outputs": [],
   "source": [
    "df = df.rename(columns={'actual_price': 'actual_price_₹',\n",
    "                        'discounted_price': 'discounted_price_₹'\n",
    "})"
   ]
  },
  {
   "cell_type": "code",
   "execution_count": 20,
   "metadata": {},
   "outputs": [
    {
     "data": {
      "image/png": "[encoded data removed]",
      "text/plain": [
       "<Figure size 1800x600 with 2 Axes>"
      ]
     },
     "metadata": {},
     "output_type": "display_data"
    }
   ],
   "source": [
    "fig, axes = plt.subplots(1, 2, figsize=(18, 6))\n",
    "\n",
    "# actual price vs rating\n",
    "sns.scatterplot(ax=axes[0], data=df, x='actual_price_₹', y='rating', size='rating_count', alpha=0.5)\n",
    "axes[0].set_title('Actual Price vs Rating')\n",
    "axes[0].set_xlabel('Actual Price')\n",
    "axes[0].set_ylabel('Average Rating')\n",
    "axes[0].set_xscale('log')\n",
    "axes[0].grid(True)\n",
    "\n",
    "# discounted price vs rating\n",
    "sns.scatterplot(ax=axes[1], data=df, x='discounted_price_₹', y='rating', size='rating_count', alpha=0.5)\n",
    "axes[1].set_title('Discounted Price vs Rating')\n",
    "axes[1].set_xlabel('Discounted Price')\n",
    "axes[1].set_ylabel('Average Rating')\n",
    "axes[1].set_xscale('log')  \n",
    "axes[1].grid(True)"
   ]
  },
  {
   "cell_type": "code",
   "execution_count": 21,
   "metadata": {},
   "outputs": [
    {
     "data": {
      "image/png": "[encoded data removed]",
      "text/plain": [
       "<Figure size 1000x800 with 1 Axes>"
      ]
     },
     "metadata": {},
     "output_type": "display_data"
    }
   ],
   "source": [
    "plt.figure(figsize=(10, 8))\n",
    "sns.scatterplot(x='rating', y='discounted_price_₹', data=df)\n",
    "plt.title('rating vs. Discount Price')\n",
    "plt.show()"
   ]
  },
  {
   "cell_type": "code",
   "execution_count": 22,
   "metadata": {},
   "outputs": [
    {
     "data": {
      "application/vnd.plotly.v1+json": {
       "config": {
        "plotlyServerURL": "https://plot.ly"
       },
       "data": [
        {
         "customdata": [
          [
           "Wayona Nylon Braided USB to Lightning Fast Charging and Data Sync Cable Compatible for iPhone 13, 12,11, X, 8, 7, 6, 5, iPad Air, Pro, Mini (3 FT Pack of 1, Grey)"
          ],
          [
           "Ambrane Unbreakable 60W / 3A Fast Charging 1.5m Braided Type C Cable for Smartphones, Tablets, Laptops & other Type C devices, PD Technology, 480Mbps Data Sync, Quick Charge 3.0 (RCT15A, Black)"
          ],
          [
           "Sounce Fast Phone Charging Cable & Data Sync USB Cable Compatible for iPhone 13, 12,11, X, 8, 7, 6, 5, iPad Air, Pro, Mini & iOS Devices"
          ],
          [
           "boAt Deuce USB 300 2 in 1 Type-C & Micro USB Stress Resistant, Tangle-Free, Sturdy Cable with 3A Fast Charging & 480mbps Data Transmission, 10000+ Bends Lifespan and Extended 1.5m Length(Martian Red)"
          ],
          [
           "Portronics Konnect L 1.2M Fast Charging 3A 8 Pin USB Cable with Charge & Sync Function for iPhone, iPad (Grey)"
          ],
          [
           "pTron Solero TB301 3A Type-C Data and Fast Charging Cable, Made in India, 480Mbps Data Sync, Strong and Durable 1.5-Meter Nylon Braided USB Cable for Type-C Devices for Charging Adapter (Black)"
          ],
          [
           "boAt Micro USB 55 Tangle-free, Sturdy Micro USB Cable with 3A Fast Charging & 480mbps Data Transmission (Black)"
          ],
          [
           "MI Usb Type-C Cable Smartphone (Black)"
          ],
          [
           "TP-Link USB WiFi Adapter for PC(TL-WN725N), N150 Wireless Network Adapter for Desktop - Nano Size WiFi Dongle Compatible with Windows 11/10/7/8/8.1/XP/ Mac OS 10.9-10.15 Linux Kernel 2.6.18-4.4.3"
          ],
          [
           "Ambrane Unbreakable 60W / 3A Fast Charging 1.5m Braided Micro USB Cable for Smartphones, Tablets, Laptops & Other Micro USB Devices, 480Mbps Data Sync, Quick Charge 3.0 (RCM15, Black)"
          ],
          [
           "Portronics Konnect L POR-1081 Fast Charging 3A Type-C Cable 1.2Meter with Charge & Sync Function for All Type-C Devices (Grey)"
          ],
          [
           "boAt Rugged v3 Extra Tough Unbreakable Braided Micro USB Cable 1.5 Meter (Black)"
          ],
          [
           "AmazonBasics Flexible Premium HDMI Cable (Black, 4K@60Hz, 18Gbps), 3-Foot"
          ],
          [
           "Portronics Konnect CL 20W POR-1067 Type-C to 8 Pin USB 1.2M Cable with Power Delivery & 3A Quick Charge Support, Nylon Braided for All Type-C and 8 Pin Devices, Green"
          ],
          [
           "Portronics Konnect L 1.2M POR-1401 Fast Charging 3A 8 Pin USB Cable with Charge & Sync Function (White)"
          ],
          [
           "MI Braided USB Type-C Cable for Charging Adapter (Red)"
          ],
          [
           "MI 80 cm (32 inches) 5A Series HD Ready Smart Android LED TV L32M7-5AIN (Black)"
          ],
          [
           "Ambrane Unbreakable 60W / 3A Fast Charging 1.5m Braided Type C to Type C Cable for Smartphones, Tablets, Laptops & Other Type C Devices, PD Technology, 480Mbps Data Sync (RCTT15, Black)"
          ],
          [
           "boAt Type C A325 Tangle-free, Sturdy Type C Cable with 3A Rapid Charging & 480mbps Data Transmission(Black)"
          ],
          [
           "LG 80 cm (32 inches) HD Ready Smart LED TV 32LM563BPTC (Dark Iron Gray)"
          ],
          [
           "Duracell USB Lightning Apple Certified (Mfi) Braided Sync & Charge Cable For Iphone, Ipad And Ipod. Fast Charging Lightning Cable, 3.9 Feet (1.2M) - Black"
          ],
          [
           "tizum HDMI to VGA Adapter Cable 1080P for Projector, Computer, Laptop, TV, Projectors & TV"
          ],
          [
           "Samsung 80 cm (32 Inches) Wondertainment Series HD Ready LED Smart TV UA32T4340BKXXL (Glossy Black)"
          ],
          [
           "Flix Micro Usb Cable For Smartphone (Black)"
          ],
          [
           "Acer 80 cm (32 inches) I Series HD Ready Android Smart LED TV AR32AR2841HDFL (Black)"
          ],
          [
           "Tizum High Speed HDMI Cable with Ethernet | Supports 3D 4K | for All HDMI Devices Laptop Computer Gaming Console TV Set Top Box (1.5 Meter/ 5 Feet)"
          ],
          [
           "OnePlus 80 cm (32 inches) Y Series HD Ready LED Smart Android TV 32Y1 (Black)"
          ],
          [
           "Ambrane Unbreakable 3 in 1 Fast Charging Braided Multipurpose Cable for Speaker with 2.1 A Speed - 1.25 meter, Black"
          ],
          [
           "Duracell USB C To Lightning Apple Certified (Mfi) Braided Sync & Charge Cable For Iphone, Ipad And Ipod. Fast Charging Lightning Cable, 3.9 Feet (1.2M) - Black"
          ],
          [
           "boAt A400 USB Type-C to USB-A 2.0 Male Data Cable, 2 Meter (Black)"
          ],
          [
           "AmazonBasics USB 2.0 - A-Male to A-Female Extension Cable for Personal Computer, Printer (Black, 9.8 Feet/3 Meters)"
          ],
          [
           "Ambrane 60W / 3A Type C Fast Charging Unbreakable 1.5m L Shaped Braided Cable, PD Technology, 480Mbps Data Transfer for Smartphones, Tablet, Laptops & other type c devices (ABLC10, Black)"
          ],
          [
           "Zoul USB C 60W Fast Charging 3A 6ft/2M Long Type C Nylon Braided Data Cable Quick Charger Cable QC 3.0 for Samsung Galaxy M31S M30 S10 S9 S20 Plus, Note 10 9 8, A20e A40 A50 A70 (2M, Grey)"
          ],
          [
           "Samsung Original Type C to C Cable - 3.28 Feet (1 Meter), White"
          ],
          [
           "pTron Solero T351 3.5Amps Fast Charging Type-C to Type-C PD Data & Charging USB Cable, Made in India, 480Mbps Data Sync, Durable 1 Meter Long Cable for Type-C Smartphones, Tablets & Laptops (Black)"
          ],
          [
           "pTron Solero MB301 3A Micro USB Data & Charging Cable, Made in India, 480Mbps Data Sync, Strong & Durable 1.5-Meter Nylon Braided USB Cable for Micro USB Devices - (Black)"
          ],
          [
           "Amazonbasics Nylon Braided Usb-C To Lightning Cable, Fast Charging Mfi Certified Smartphone, Iphone Charger (6-Foot, Dark Grey)"
          ],
          [
           "Sounce 65W OnePlus Dash Warp Charge Cable, 6.5A Type-C to USB C PD Data Sync Fast Charging Cable Compatible with One Plus 8T/ 9/ 9R/ 9 pro/ 9RT/ 10R/ Nord & for All Type C Devices – Red, 1 Meter"
          ],
          [
           "OnePlus 126 cm (50 inches) Y Series 4K Ultra HD Smart Android LED TV 50Y1S Pro (Black)"
          ],
          [
           "Duracell Type C To Type C 5A (100W) Braided Sync & Fast Charging Cable, 3.9 Feet (1.2M). USB C to C Cable, Supports PD & QC 3.0 Charging, 5 GBPS Data Transmission – Black"
          ],
          [
           "AmazonBasics USB 2.0 Cable - A-Male to B-Male - for Personal Computer, Printer- 6 Feet (1.8 Meters), Black"
          ],
          [
           "Mi 108 cm (43 inches) Full HD Android LED TV 4C | L43M6-INC (Black)"
          ],
          [
           "Wayona Nylon Braided 3A Lightning to USB A Syncing and Fast Charging Data Cable for iPhone, Ipad (3 FT Pack of 1, Black)"
          ],
          [
           "TP-Link Nano AC600 USB Wi-Fi Adapter(Archer T2U Nano)- 2.4G/5G Dual Band Wireless Network Adapter for PC Desktop Laptop, Mini Travel Size, Supports Windows 11,10, 8.1, 8, 7, XP/Mac OS 10.9-10.15"
          ],
          [
           "FLiX (Beetel USB to Micro USB PVC Data Sync & 2A Fast Charging Cable, Made in India, 480Mbps Data Sync, Solid Cable, 1 Meter Long USB Cable for Micro USB Devices (White)(XCD-M11)"
          ],
          [
           "Wecool Nylon Braided Multifunction Fast Charging Cable For Android Smartphone, Ios And Type C Usb Devices, 3 In 1 Charging Cable, 3A, (3 Feet) (Black)"
          ],
          [
           "D-Link DWA-131 300 Mbps Wireless Nano USB Adapter (Black)"
          ],
          [
           "Amazon Basics High-Speed HDMI Cable, 6 Feet - Supports Ethernet, 3D, 4K video,Black"
          ],
          [
           "7SEVEN® Compatible for Samsung Smart 4K Ultra HD TV Monitor Remote Control Replacement of Original Samsung TV Remote for LED OLED UHD QLED and Suitable for 6 7 8 Series Samsung TV with Hot Keys BN59-01259E"
          ],
          [
           "Amazonbasics Micro Usb Fast Charging Cable For Android Smartphone,Personal Computer,Printer With Gold Plated Connectors (6 Feet, Black)"
          ],
          [
           "TP-Link AC600 600 Mbps WiFi Wireless Network USB Adapter for Desktop PC with 2.4GHz/5GHz High Gain Dual Band 5dBi Antenna Wi-Fi, Supports Windows 11/10/8.1/8/7/XP, Mac OS 10.15 and earlier (Archer T2U Plus)"
          ],
          [
           "AmazonBasics Micro USB Fast Charging Cable for Android Phones with Gold Plated Connectors (3 Feet, Black)"
          ],
          [
           "AmazonBasics New Release Nylon USB-A to Lightning Cable Cord, Fast Charging MFi Certified Charger for Apple iPhone, iPad (6-Ft, Rose Gold)"
          ],
          [
           "VW 80 cm (32 inches) Frameless Series HD Ready LED TV VW32A (Black)"
          ],
          [
           "Ambrane Unbreakable 3A Fast Charging Braided Type C Cable    1.5 Meter (RCT15, Blue) Supports QC 2.0/3.0 Charging"
          ],
          [
           "Tata Sky Universal Remote"
          ],
          [
           "TP-LINK WiFi Dongle 300 Mbps Mini Wireless Network USB Wi-Fi Adapter for PC Desktop Laptop(Supports Windows 11/10/8.1/8/7/XP, Mac OS 10.9-10.15 and Linux, WPS, Soft AP Mode, USB 2.0) (TL-WN823N),Black"
          ],
          [
           "OnePlus 80 cm (32 inches) Y Series HD Ready Smart Android LED TV 32 Y1S (Black)"
          ],
          [
           "Wecool Unbreakable 3 in 1 Charging Cable with 3A Speed, Fast Charging Multi Purpose Cable 1.25 Mtr Long, Type C cable, Micro Usb Cable and Cable for iPhone, White"
          ],
          [
           "Portronics Konnect L 1.2Mtr, Fast Charging 3A Micro USB Cable with Charge & Sync Function (Grey)"
          ],
          [
           "Airtel DigitalTV DTH Television, Setup Box Remote Compatible for SD and HD Recording (Black)"
          ],
          [
           "Samsung 108 cm (43 inches) Crystal 4K Neo Series Ultra HD Smart LED TV UA43AUE65AKXXL (Black)"
          ],
          [
           "Lapster 1.5 mtr USB 2.0 Type A Male to USB A Male Cable for computer and laptop"
          ],
          [
           "AmazonBasics USB Type-C to USB Type-C 2.0 Cable - 3 Feet Laptop (0.9 Meters) - White"
          ],
          [
           "Redmi 80 cm (32 inches) Android 11 Series HD Ready Smart LED TV | L32M6-RA/L32M7-RA (Black)"
          ],
          [
           "Amazon Basics High-Speed HDMI Cable, 6 Feet (2-Pack),Black"
          ],
          [
           "Portronics Konnect L 20W PD Quick Charge Type-C to 8-Pin USB Mobile Charging Cable, 1.2M, Tangle Resistant, Fast Data Sync(Grey)"
          ],
          [
           "Acer 80 cm (32 inches) N Series HD Ready TV AR32NSV53HD (Black)"
          ],
          [
           "Model-P4 6 Way Swivel Tilt Wall Mount 32-55-inch Full Motion Cantilever for LED,LCD and Plasma TV's"
          ],
          [
           "Amazon Basics USB Type-C to USB-A 2.0 Male Fast Charging Cable for Laptop - 3 Feet (0.9 Meters), Black"
          ],
          [
           "oraimo 65W Type C to C Fast Charging Cable USB C to USB C Cable High Speed Syncing, Nylon Braided 1M length with LED Indicator Compatible For Laptop, Macbook, Samsung Galaxy S22 S20 S10 S20Fe S21 S21 Ultra A70 A51 A71 A50S M31 M51 M31S M53 5G"
          ],
          [
           "CEDO 65W OnePlus Dash Warp Charge Cable, USB A to Type C Data Sync Fast Charging Cable Compatible with One Plus 3 /3T /5 /5T /6 /6T /7 /7T /7 pro & for All Type C Devices - 1 Meter, Red"
          ],
          [
           "Redmi 108 cm (43 inches) 4K Ultra HD Android Smart LED TV X43 | L43R7-7AIN (Black)"
          ],
          [
           "Pinnaclz Original Combo of 2 Micro USB Fast Charging Cable, USB Charging Cable for Data Transfer Perfect for Android Smart Phones White 1.2 Meter Made in India (Pack of 2)"
          ],
          [
           "boAt Type C A750 Stress Resistant, Tangle-free, Sturdy Flat Cable with 6.5A Fast Charging & 480Mbps Data Transmission, 10000+ Bends Lifespan and Extended 1.5m Length(Rebellious Black)"
          ],
          [
           "Ambrane 2 in 1 Type-C & Micro USB Cable with 60W / 3A Fast Charging, 480 mbps High Data, PD Technology & Quick Charge 3.0, Compatible with All Type-C & Micro USB Devices (ABDC-10, Black)"
          ],
          [
           "Ambrane 60W / 3A Fast Charging Output Cable with Type-C to USB for Mobile, Neckband, True Wireless Earphone Charging, 480mbps Data Sync Speed, 1m Length (ACT - AZ10, Black)"
          ],
          [
           "TCL 80 cm (32 inches) HD Ready Certified Android Smart LED TV 32S5205 (Black)"
          ],
          [
           "SWAPKART Fast Charging Cable and Data Sync USB Cable Compatible for iPhone 6/6S/7/7+/8/8+/10/11, 12, 13 Pro max iPad Air/Mini, iPod and iOS Devices (White)"
          ],
          [
           "Firestick Remote"
          ],
          [
           "Wayona Usb Nylon Braided Data Sync And Charging Cable For Iphone, Ipad Tablet (Red, Black)"
          ],
          [
           "Flix (Beetel) Usb To Type C Pvc Data Sync And 2A 480Mbps Data Sync, Tough Fast Charging Long Cable For Usb Type C Devices, Charging Adapter (White, 1 Meter) - Xcd-C12"
          ],
          [
           "SKYWALL 81.28 cm (32 inches) HD Ready Smart LED TV 32SWELS-PRO (Black)"
          ],
          [
           "boAt A 350 Type C Cable for Smartphone, Charging Adapter (1.5m, Carbon Black)"
          ],
          [
           "Wayona Usb Type C Fast Charger Cable Fast Charging Usb C Cable/Cord Compatible For Samsung Galaxy S10E S10 S9 S8 Plus S10+,Note 10 Note 9 Note 8,S20,M31S,M40,Realme X3,Pixel 2 Xl (3 Ft Pack Of 1,Grey)"
          ],
          [
           "OnePlus 108 cm (43 inches) Y Series 4K Ultra HD Smart Android LED TV 43Y1S Pro (Black)"
          ],
          [
           "Acer 127 cm (50 inches) I Series 4K Ultra HD Android Smart LED TV AR50AR2851UDFL (Black)"
          ],
          [
           "Samsung 108 cm (43 inches) Crystal 4K Series Ultra HD Smart LED TV UA43AUE60AKLXL (Black)"
          ],
          [
           "Lapster 65W compatible for OnePlus Dash Warp Charge Cable , type c to c cable fast charging Data Sync Cable Compatible with One Plus 10R / 9RT/ 9 pro/ 9R/ 8T/ 9/ Nord & for All Type C Devices – Red, 1 Meter"
          ],
          [
           "Wayona Nylon Braided (2 Pack) Lightning Fast Usb Data Cable Fast Charger Cord For Iphone, Ipad Tablet (3 Ft Pack Of 2, Grey)"
          ],
          [
           "Gizga Essentials USB WiFi Adapter for PC, 150 Mbps Wireless Network Adapter for Desktop - Nano Size WiFi Dongle Compatible with Windows, Mac OS & Linux Kernel | WPA/WPA2 Encryption Standards| Black"
          ],
          [
           "OnePlus 108 cm (43 inches) Y Series Full HD Smart Android LED TV 43 Y1S (Black)"
          ],
          [
           "boAt Deuce USB 300 2 in 1 Type-C & Micro USB Stress Resistant, Sturdy Cable with 3A Fast Charging & 480mbps Data Transmission, 10000+ Bends Lifespan and Extended 1.5m Length(Mercurial Black)"
          ],
          [
           "Lapster USB 3.0 A to Micro B SuperSpeed for hard disk cable - short cable"
          ],
          [
           "TCL 100 cm (40 inches) Full HD Certified Android R Smart LED TV 40S6505 (Black)"
          ],
          [
           "ZEBRONICS ZEB-USB150WF1 WiFi USB Mini Adapter Supports 150 Mbps Wireless Data, Comes with Advanced Security WPA/WPA2 encryption Standards"
          ],
          [
           "LOHAYA Remote Compatible for Mi Smart LED TV 4A Remote Control (32\"/43\") [ Compatible for Mi Tv Remote Control ] [ Compatible for Mi Smart LED Tv Remote Control ]"
          ],
          [
           "Gilary Multi Charging Cable, 3 in 1 Nylon Braided Fast Charging Cable for iPhone Micro USB Type C Mobile Phone | Colour May Vary |"
          ],
          [
           "TP-Link UE300 USB 3.0 to RJ45 Gigabit Ethernet Network Adapter - Plug and Play"
          ],
          [
           "Wayona Type C to Lightning MFI Certified 20W Fast charging Nylon Braided USB C Cable for iPhone 14, 14 Pro, 14 Pro Max, 14 Plus, 13, 13 Pro, 13 Pro Max, 13 Mini, 12, 12 Pro, 11, 11 Pro Max iPhone 12 Mini, X, 8 (2M, Grey)"
          ],
          [
           "Dealfreez Case Compatible with Fire TV Stick 3rd Gen 2021 Full Wrap Silicone Remote Cover Anti-Lost with Loop (D-Black)"
          ],
          [
           "Amazon Basics New Release Nylon USB-A to Lightning Cable Cord, Fast Charging MFi Certified Charger for Apple iPhone, iPad (3-Ft, Rose Gold)"
          ],
          [
           "Isoelite Remote Compatible for Samsung LED/LCD Remote Control Works with All Samsung LED/LCD TV Model No :- BN59-607A (Please Match The Image with Your Old Remote)"
          ],
          [
           "MI 100 cm (40 inches) 5A Series Full HD Smart Android LED TV with 24W Dolby Audio & Metal Bezel-Less Frame (Black) (2022 Model)"
          ],
          [
           "Wayona Nylon Braided USB Data Sync and Fast Charging 3A Short Power Bank Cable For iPhones, iPad Air, iPad mini, iPod Nano and iPod Touch (Grey)"
          ],
          [
           "Wayona Type C To Type C Long Fast Charging Cable Type C Charger Cord Compatible With Samsung S22 S20 S20 Fe 2022 S22 Ultra S21 Ultra A70 A51 A53 A33 A73 M51 M31 M33 M53 (Grey, 2M, 65W, 6Ft)"
          ],
          [
           "Wayona Nylon Braided 2M / 6Ft Fast Charge Usb To Lightning Data Sync And Charging Cable For Iphone, Ipad Tablet (6 Ft Pack Of 1, Grey)"
          ],
          [
           "CROSSVOLT Compatible Dash/Warp Data Sync Fast Charging Cable Supported for All C Type Devices (Cable)"
          ],
          [
           "VU 139 cm (55 inches) The GloLED Series 4K Smart LED Google TV 55GloLED (Grey)"
          ],
          [
           "PTron Solero T241 2.4A Type-C Data & Charging USB Cable, Made in India, 480Mbps Data Sync, Durable 1-Meter Long USB Cable for Type-C USB Devices for Charging Adapter (Black)"
          ],
          [
           "Croma 80 cm (32 Inches) HD Ready LED TV (CREL7369, Black) (2021 Model)"
          ],
          [
           "boAt Laptop, Smartphone Type-c A400 Male Data Cable (Carbon Black)"
          ],
          [
           "LG 80 cm (32 inches) HD Ready Smart LED TV 32LQ576BPSA (Ceramic Black)"
          ],
          [
           "boAt Type C A750 Stress Resistant, Tangle-free, Sturdy Flat Cable with 6.5A Fast Charging & 480Mbps Data Transmission, 10000+ Bends Lifespan and Extended 1.5m Length(Radiant Red)"
          ],
          [
           "Cotbolt Silicone Protective Case Cover for LG an MR21GA Magic Remote Shockproof for LG Smart TV Remote 2021 Protective Skin Waterproof Anti Lost (Black) (Remote Not Included)"
          ],
          [
           "Portronics Konnect L POR-1403 Fast Charging 3A Type-C Cable 1.2 Meter with Charge & Sync Function for All Type-C Devices (White)"
          ],
          [
           "Electvision Remote Control Compatible with Amazon Fire tv Stick (Pairing Manual Will be Back Side Remote Control)(P)"
          ],
          [
           "King Shine Multi Retractable 3.0A Fast Charger Cord, Multiple Charging Cable 4Ft/1.2m 3-in-1 USB Charge Cord Compatible with Phone/Type C/Micro USB for All Android and iOS Smartphones (Random Colour)"
          ],
          [
           "Lapster 5 pin mini usb cable, usb b cable,camera cable usb2.0 for External HDDS/Card Readers/Camera etc."
          ],
          [
           "Portronics Konnect Spydr 31 3-in-1 Multi Functional Cable with 3.0A Output, Tangle Resistant, 1.2M Length, Nylon Braided(Zebra)"
          ],
          [
           "Belkin Apple Certified Lightning To Type C Cable, Tough Unbreakable Braided Fast Charging For Iphone, Ipad, Air Pods, 3.3 Feet (1 Meters)    White"
          ],
          [
           "Remote Control Compatible for Amazon Fire Tv Stick Remote Control [ 3rd Gen ](Not Compatible for Fire TV Edition Smart TV) from basesailor"
          ],
          [
           "VW 80 cm (32 inches) Playwall Frameless Series HD Ready Android Smart LED TV VW3251 (Black)"
          ],
          [
           "Hisense 108 cm (43 inches) 4K Ultra HD Smart Certified Android LED TV 43A6GE (Black)"
          ],
          [
           "Redmi 126 cm (50 inches) 4K Ultra HD Android Smart LED TV X50 | L50M6-RA (Black)"
          ],
          [
           "AmazonBasics 6-Feet DisplayPort (not USB port) to HDMI Cable Black"
          ],
          [
           "AmazonBasics 3 Feet High Speed HDMI Male to Female 2.0 Extension Cable"
          ],
          [
           "iFFALCON 80 cm (32 inches) HD Ready Smart LED TV 32F53 (Black)"
          ],
          [
           "7SEVEN® Compatible Lg Smart Tv Remote Suitable for Any LG LED OLED LCD UHD Plasma Android Television and AKB75095303 replacement of Original Lg Tv Remote Control"
          ],
          [
           "AmazonBasics 3.5mm to 2-Male RCA Adapter Cable For Tablet, Smartphone (Black, 15 feet)"
          ],
          [
           "Acer 109 cm (43 inches) I Series 4K Ultra HD Android Smart LED TV AR43AR2851UDFL (Black)"
          ],
          [
           "Wayona Usb Type C 65W 6Ft/2M Long Fast Charging Cable Compatible For Samsung S22 S20 Fe S21 Ultra A33 A53 A01 A73 A70 A51 M33 M53 M51 M31(2M, Black)"
          ],
          [
           "Saifsmart Outlet Wall Mount Hanger Holder for Dot 3rd Gen, Compact Bracket Case Plug and Built-in Cable Management for Kitchen Bathroom, Bedroom (Black)"
          ],
          [
           "MI 2-in-1 USB Type C Cable (Micro USB to Type C) 30cm for Smartphone, Headphone, Laptop (White)"
          ],
          [
           "AmazonBasics New Release ABS USB-A to Lightning Cable Cord, Fast Charging MFi Certified Charger for Apple iPhone, iPad Tablet (3-Ft, White)"
          ],
          [
           "LG 108 cm (43 inches) 4K Ultra HD Smart LED TV 43UQ7500PSF (Ceramic Black)"
          ],
          [
           "pTron Solero 331 3.4Amps Multifunction Fast Charging Cable, 3-in-1 USB Cable Micro USB/Type-C/iOS, Made in India, Durable & Strong & Tangle-free 118cm in Length (Black)"
          ],
          [
           "10k 8k 4k HDMI Cable, Certified 48Gbps 1ms Ultra High Speed HDMI 2.1 Cable 4k 120Hz 144Hz 2k 165Hz 8k 60Hz Dynamic HDR ARC eARC DTS:X Compatible for Mac Gaming PC Soundbar TV Monitor Laptop PS5 4 Xbox"
          ],
          [
           "LRIPL Compatible Sony Bravia LCD/led Remote Works with Almost All Sony led/LCD tv's"
          ],
          [
           "boAt Type-c A400 Type-c to USB A Cable for All Type C Phones (Lg nexus 5x), 1Mtr(Black)"
          ],
          [
           "Zoul Type C to Type C Fast Charging Cable 65W 2M/6ft USB C Nylon Braided Cord Compatible with MacBook Oneplus 9 9R Samsung Galaxy S21 Ultra S20+ (2M, Black)"
          ],
          [
           "TP-LINK AC1300 Archer T3U Plus High Gain USB 3.0 Wi-Fi Dongle, Wireless Dual Band MU-MIMO WiFi Adapter with High Gain Antenna, Supports Windows 11/10/8.1/8/7/XP/MacOS"
          ],
          [
           "LRIPL Mi Remote Control with Netflix & Prime Video Button Compatible for Mi 4X LED Android Smart TV 4A Remote Control (32\"/43\") with Voice Command (Pairing Required)"
          ],
          [
           "TP-Link Nano USB WiFi Dongle 150Mbps High Gain Wireless Network Wi-Fi Adapter for PC Desktop and Laptops, Supports Windows 10/8.1/8/7/XP, Linux, Mac OS X (TL-WN722N)"
          ],
          [
           "Kodak 80 cm (32 inches) HD Ready Certified Android LED TV 32HDX7XPRO (Black)"
          ],
          [
           "Airtel DigitalTV DTH Remote SD/HD/HD Recording Compatible for Television (Shining Black )"
          ],
          [
           "AmazonBasics New Release Nylon USB-A to Lightning Cable Cord, MFi Certified Charger for Apple iPhone, iPad, Silver, 6-Ft"
          ],
          [
           "Ambrane Fast 100W Output Cable with Type-C to Type-C for Mobile, Laptop, Macbook & Table Charging, 480mbps Data Sync Speed, Braided Cable, 1.5m Length (ABCC-100, Black-Grey)"
          ],
          [
           "BlueRigger Digital Optical Audio Toslink Cable (3.3 Feet / 1 Meter) With 8 Channel (7.1) Audio Support (for Home Theatre, Xbox, Playstation etc.)"
          ],
          [
           "Duracell Type-C To Micro 1.2M braided Sync & Charge Cable, USB C to Micro Fast Charge Compatible for fast data transmission (Black)"
          ],
          [
           "VU 138 cm (55 inches) Premium Series 4K Ultra HD Smart IPS LED TV 55UT (Black)"
          ],
          [
           "Zoul USB Type C Fast Charging 3A Nylon Braided Data Cable Quick Charger Cable QC 3.0 for Samsung Galaxy M31s M30 S10 S9 S20 Plus, Note 10 9 8, A20e A40 A50 A70 (1M, Grey)"
          ],
          [
           "Samsung 80 cm (32 inches) Wondertainment Series HD Ready LED Smart TV UA32TE40AAKBXL (Titan Gray)"
          ],
          [
           "MI Xiaomi USB Type C HYperCharge Cable 6A 100cm Sturdy and Durable Black Supports 120W HyperCharging"
          ],
          [
           "GENERIC Ultra-Mini Bluetooth CSR 4.0 USB Dongle Adapter for Windows Computer ( Black:Golden)"
          ],
          [
           "7SEVEN® Compatible for Tata Sky Remote Original Set Top HD Box and Suitable for SD Tata Play setup Box Remote Control"
          ],
          [
           "Belkin Apple Certified Lightning To Type C Cable, Fast Charging For Iphone, Ipad, Air Pods, 3.3 Feet (1 Meters)    White"
          ],
          [
           "EGate i9 Pro-Max 1080p Native Full HD Projector 4k Support | 3600 L (330 ANSI ) | 150\" (381 cm) Large Screen | VGA, AV, HDMI, SD Card, USB, Audio Out | (E03i31 / E04i32) Black"
          ],
          [
           "ZEBRONICS HAA2021 HDMI version 2.1 cable with 8K @ 60Hz, 4K @ 120Hz, eARC & CEC support, 3D compatible, 2 meters length, 48Gbps max and Gold-plated connectors"
          ],
          [
           "7SEVEN® Compatible for Sony Bravia LCD LED UHD OLED QLED 4K Ultra HD TV remote control with YouTube and NETFLIX Hotkeys. Universal Replacement for Original Sony Smart Android tv Remote Control"
          ],
          [
           "AmazonBasics Digital Optical Coax to Analog RCA Audio Converter Adapter with Fiber Cable"
          ],
          [
           "Wayona Type C Cable Nylon Braided USB C QC 3.0 Fast Charging Short Power Bank Cable for Samsung Galaxy S10e/S10+/S10/S9/S9+/Note 9/S8/Note 8, LG G7 G5 G6, Moto G6 G7 (0.25M, Black)"
          ],
          [
           "Pinnaclz Original Combo of 2 USB Type C Fast Charging Cable, USB C Data Cable for Charging and Data Transfer Smart Phones White 1.2 Meter Made in India (Pack of 2)"
          ],
          [
           "Ambrane BCL-15 Lightning Cable for Smartphone (1.5m Black)"
          ],
          [
           "Belkin USB C to USB-C Fast Charging Type C Cable, 60W PD, 3.3 feet (1 meter) for Laptop, Personal Computer, Tablet, Smartphone - Black, USB-IF Certified"
          ],
          [
           "LOHAYA Television Remote Compatible with Samsung Smart LED/LCD/HD TV Remote Control [ Compatible for All Samsung Tv Remote Control ]"
          ],
          [
           "Wayona Nylon Braided Lightning USB Data Sync & 3A Charging Cable for iPhones, iPad Air, iPad Mini, iPod Nano and iPod Touch (3 FT Pack of 1, Grey)"
          ],
          [
           "Electvision Remote Control Compatible with Kodak/Thomson Smart led tv (Without Voice) Before Placing Order for verification Contact Our coustmer Care 7738090464"
          ],
          [
           "Acer 80 cm (32 inches) S Series HD Ready Android Smart LED TV AR32AR2841HDSB (Black)"
          ],
          [
           "realme 10W Fast Charging Micro-USB Cable (Braided, Black)"
          ],
          [
           "TP-Link AC1300 USB WiFi Adapter (Archer T3U) - 2.4G/5G Dual Band Mini Wireless Network Adapter for PC Desktop, MU-MIMO Wi-Fi Dongle, USB 3.0, Supports Windows 11,10, 8.1, 8, 7, XP/Mac OS 10.15 and earlier"
          ],
          [
           "Acer 139 cm (55 inches) I Series 4K Ultra HD Android Smart LED TV AR55AR2851UDFL (Black)"
          ],
          [
           "Ambrane 60W / 3A Fast Charging Output Cable with Micro to USB for Mobile, Neckband, True Wireless Earphone Charging, 480mbps Data Sync Speed, 1m Length (ACM - AZ1, Black)"
          ],
          [
           "Wayona USB Type C 65W Fast Charging 2M/6Ft Long Flash Charge Cable 3A QC 3.0 Data Cable Compatible with Samsung Galaxy S21 S10 S9 S8, iQOO Z3, Vivo, Note 10 9 8, A20e A40 A50 A70, Moto G7 G8 (2M, Grey)"
          ],
          [
           "Syncwire LTG to USB Cable for Fast Charging Compatible with Phone 5/ 5C/ 5S/ 6/ 6S/ 7/8/ X/XR/XS Max/ 11/12/ 13 Series and Pad Air/Mini, Pod & Other Devices (1.1 Meter, White)"
          ],
          [
           "Skadioo WiFi Adapter for pc | Car Accessories, WiFi Dongle for pc | USB WiFi Adapter for pc | Wi-Fi Receiver 2.4GHz, 802.11b/g/n UNano Size WiFi Dongle Compatible Adapter,WiFi dongle for pc"
          ],
          [
           "FLiX (Beetel USB to Type C PVC Data Sync & 15W(3A) TPE Fast Charging Cable, Made in India, 480Mbps Data Sync, 1 Meter Long cable for all Andriod & all Type C Devices (Black)(XCD - FPC02)"
          ],
          [
           "Zoul USB C to USB C Fast Charging Cable 65W Type C to Type C Nylon Braided Cord Compatible with Macbook Oneplus 9 10R Samsung Galaxy S22 S21 Ultra Z Flip3 Macbook Air/Pro M1 Google Pixel 11'' iPad Pro 2020/2018 (2M, Grey)"
          ],
          [
           "FLiX (Beetel Flow USB to Micro USB PVC Data Sync & 12W(2.4A) Fast Charging Cable,Made in India,480Mbps Data Sync,Solid Cable,1 Meter Long cable for all Andriod & Micro USB Devices (Black)(XCD-FPM01)"
          ],
          [
           "7SEVEN® Bluetooth Voice Command Remote for Xiaomi Redmi Mi Smart TV with Netflix & Prime Video Hot Keys XMRM-00A"
          ],
          [
           "Sony TV - Remote Compatible for Sony LED Remote Control Works with Sony LED TV by Trend Trail Speed tech & Remote hi Remote & REO India only"
          ],
          [
           "Storite USB 3.0 Cable A to Micro B high Speed Upto 5 Gbps Data Transfer Cable for Portable External Hard Drive - (20cm), Black"
          ],
          [
           "boAt LTG 500 Apple MFI Certified for iPhone, iPad and iPod 2Mtr Data Cable(Space Grey)"
          ],
          [
           "AmazonBasics USB C to Lightning Aluminum with Nylon Braided MFi Certified Charging Cable (Grey, 1.2 meter)"
          ],
          [
           "AmazonBasics Double Braided Nylon USB Type-C to Type-C 2.0 Cable Smartphone (Dark Grey, 3 feet)"
          ],
          [
           "Amazon Basics USB 3.0 Cable - A Male to Micro B - 6 Feet (1.8 Meters), Black"
          ],
          [
           "AmazonBasics USB C to Lightning Aluminum with Nylon Braided MFi Certified Charging Cable (Grey, 1.8 meter)"
          ],
          [
           "Wayona Usb C 65W Fast Charging Cable Compatible For Tablets Samsung S22 S20 S10 S20Fe S21 S21 Ultra A70 A51 A71 A50S M31 M51 M31S M53 5G (1M, Black)"
          ],
          [
           "Karbonn 80 cm (32 inches) Millenium Bezel-Less Series HD Ready Smart LED TV KJW32SKHD (Phantom Black)"
          ],
          [
           "BlueRigger Digital Optical Audio Toslink Cable (6 Feet / 1.8 Meter) With 8 Channel (7.1) Audio Support (for Home Theatre, Xbox, Playstation etc.)"
          ],
          [
           "VW 60 cm (24 inches) Premium Series HD Ready LED TV VW24A (Black)"
          ],
          [
           "Amazon Basics USB A to Lightning MFi Certified Charging Cable (White, 1.2 meter)"
          ],
          [
           "Samsung 138 cm (55 inches) Crystal 4K Neo Series Ultra HD Smart LED TV UA55AUE65AKXXL (Black)"
          ],
          [
           "LOHAYA Television Remote Compatible for VU LED LCD HD Tv Remote Control Model No :- EN2B27V"
          ],
          [
           "Duracell Micro USB 3A Braided Sync & Fast Charging Cable, 3.9 Feet (1.2M). Supports QC 2.0/3.0 Charging, High Speed Data Transmission - Black"
          ],
          [
           "Zebronics CU3100V Fast charging Type C cable with QC 18W support, 3A max capacity, 1 meter braided cable, Data transfer and Superior durability (Braided Black + White)"
          ],
          [
           "FLiX (Beetel) USB to iPhone Lightning Textured Pattern Data Sync & 2A Fast Charging Cable, Made in India, 480Mbps Data Sync, Tough Cable, 1 Meter Long USB Cable for Apple Devices (Black)(XCD-L102)"
          ],
          [
           "MI 108 cm (43 inches) 5A Series Full HD Smart Android LED TV L43M7-EAIN (Black)"
          ],
          [
           "Belkin Apple Certified Lightning to USB Charge and Sync Cable for iPhone, iPad, Air Pods, 39.6 inch (100cm) – Black"
          ],
          [
           "Time Office Scanner Replacement Cable for Startek FM220U (Type C) Ivory"
          ],
          [
           "Caldipree Silicone Case Cover Compatible for 2022 Samsung Smart TV Remote QLED TV BN68-13897A TM2280E (2022-BLACK)"
          ],
          [
           "Storite USB 2.0 A to Mini 5 pin B Cable for External HDDS/Camera/Card Readers 35cm"
          ],
          [
           "Universal Remote Control for All Sony TV for All LCD LED and Bravia TVs Remote"
          ],
          [
           "Cotbolt Silicone Case Cover Compatible for Samsung BN59-01312A QLED 8K 4K Smart TV Remote Shockproof Protective Remote Cover (Black)"
          ],
          [
           "BlueRigger High Speed HDMI Cable with Ethernet - Supports 3D, 4K 60Hz and Audio Return - Latest Version (3 Feet / 0.9 Meter)"
          ],
          [
           "Amkette 30 Pin to USB Charging & Data Sync Cable for iPhone 3G/3GS/4/4s/iPad 1/2/3, iPod Nano 5th/6th Gen and iPod Touch 3rd/4th Gen -1.5m (Black)"
          ],
          [
           "TCL 80 cm (32 inches) HD Ready Certified Android Smart LED TV 32S615 (Black)"
          ],
          [
           "POPIO Type C Dash Charging USB Data Cable for OnePlus Devices"
          ],
          [
           "MYVN LTG to USB for Fast Charging & Data Sync USB Cable Compatible for iPhone 5/5s/6/6S/7/7+/8/8+/10/11, iPad Air/Mini, iPod and iOS Devices (1 M)"
          ],
          [
           "Tata Sky Universal Remote Compatible for SD/HD"
          ],
          [
           "WZATCO Pixel | Portable LED Projector | Native 720p with Full HD 1080P Support | 2000 Lumens (200 ANSI) | 176\" Large Screen | Projector for Home and Outdoor | Compatible with TV Stick, PC, PS4"
          ],
          [
           "7SEVEN® Compatible Tata Sky Remote Control Replacement of Original dth SD HD tata Play Set top Box Remote - IR Learning Universal Remote for Any Brand TV - Pairing Must"
          ],
          [
           "AmazonBasics USB 2.0 Extension Cable for Personal Computer, Printer, 2-Pack - A-Male to A-Female - 3.3 Feet (1 Meter, Black)"
          ],
          [
           "Amazon Basics USB C to Lightning TPE MFi Certified Charging Cable (White, 1.2 meter)"
          ],
          [
           "Crypo™ Universal Remote Compatible with Tata Sky Universal HD & SD Set top Box (Also Works with All TV)"
          ],
          [
           "Karbonn 80 cm (32 Inches) Millennium Series HD Ready LED TV KJW32NSHDF (Phantom Black) with Bezel-Less Design"
          ],
          [
           "OnePlus 138.7 cm (55 inches) U Series 4K LED Smart Android TV 55U1S (Black)"
          ],
          [
           "Posh 1.5 Meter High Speed Gold Plated HDMI Male to Female Extension Cable (Black)"
          ],
          [
           "Amazon Basics HDMI Coupler,Black"
          ],
          [
           "boAt LTG 550v3 Lightning Apple MFi Certified Cable with Spaceship Grade Aluminium Housing,Stress Resistance, Rapid 2.4A Charging & 480mbps Data Sync, 1m Length & 10000+ Bends Lifespan(Mercurial Black)"
          ],
          [
           "Wayona Nylon Braided Usb Syncing And Charging Cable Sync And Charging Cable For Iphone, Ipad (3 Ft, Black) - Pack Of 2"
          ],
          [
           "Astigo Compatible Remote for Airtel Digital Set Top Box (Pairing Required with TV Remote)"
          ],
          [
           "Caprigo Heavy Duty TV Wall Mount Stand for 12 to 27 inches LED/LCD/Monitor Screen's, Full Motion Rotatable Universal TV & Monitor Wall Mount Bracket with Swivel & Tilt Adjustments (Single Arm - M416)"
          ],
          [
           "Portronics Konnect L 60W PD Type C to Type C Mobile Charging Cable, 1.2M, Fast Data Sync, Tangle Resistant, TPE+Nylon Braided(Grey)"
          ],
          [
           "TATA SKY HD Connection with 1 month basic package and free installation"
          ],
          [
           "Remote Compatible for Samsung LED/LCD Remote Control Works with Samsung LED/LCD TV by Trend Trail"
          ],
          [
           "SoniVision SA-D10 SA-D100 SA-D40 Home Theater Systems Remote Compatible with Sony RM-ANU156"
          ],
          [
           "Rts™ High Speed 3D Full HD 1080p Support (10 Meters) HDMI Male to HDMI Male Cable TV Lead 1.4V for All Hdmi Devices- Black (10M - 30 FEET)"
          ],
          [
           "boAt LTG 500 Apple MFI Certified for iPhone, iPad and iPod 2Mtr Data Cable(Metallic Silver)"
          ],
          [
           "Agaro Blaze USBA to micro +Type C 2in1 Braided 1.2M Cable"
          ],
          [
           "AmazonBasics 6 Feet DisplayPort to DisplayPort Cable - (Not HDMI Cable) (Gold)"
          ],
          [
           "MI 108 cm (43 inches) 5X Series 4K Ultra HD LED Smart Android TV L43M6-ES (Grey)"
          ],
          [
           "Sansui 140cm (55 inches) 4K Ultra HD Certified Android LED TV with Dolby Audio & Dolby Vision JSW55ASUHD (Mystique Black)"
          ],
          [
           "LOHAYA LCD/LED Remote Compatible for Sony Bravia Smart LCD LED UHD OLED QLED 4K Ultra HD TV Remote Control with YouTube & Netflix Function [ Compatible for Sony Tv Remote Control ]"
          ],
          [
           "Zebronics CU3100V Fast charging Type C cable with QC 18W support, 3A max capacity, 1 meter braided cable, Data transfer and Superior durability (Braided Black )"
          ],
          [
           "Belkin USB C to USB-C Fast Charging Type C Cable, 60W PD, 3.3 feet (1 meter) for Laptop, Personal Computer, Tablet, Smartphone - White, USB-IF Certified"
          ],
          [
           "7SEVEN® TCL Remote Control Smart TV RC802V Remote Compatible for TCL TV Remote Original 55EP680 40A325 49S6500 55P8S 55P8 50P8 65P8 40S6500 43S6500FS 49S6800FS 49S6800 49S6510FS(Without Voice Function/Google Assistant and Non-Bluetooth remote)"
          ],
          [
           "Wayona 3in1 Nylon Braided 66W USB Fast Charging Cable with Type C, Lightening and Micro USB Port, Compatible with iPhone, iPad, Samsung Galaxy, OnePlus, Mi, Oppo, Vivo, iQOO, Xiaomi (1M, Black)"
          ],
          [
           "Hi-Mobiler iPhone Charger Lightning Cable,2 Pack Apple MFi Certified USB iPhone Fast Chargering Cord,Data Sync Transfer for 13/12/11 Pro Max Xs X XR 8 7 6 5 5s iPad iPod More Model Cell Phone Cables"
          ],
          [
           "Amazon Basics 16-Gauge Speaker Wire - 50 Feet"
          ],
          [
           "Ambrane 60W / 3A Fast Charging Output Cable with Type-C to USB for Mobile, Neckband, True Wireless Earphone Charging, 480mbps Data Sync Speed, 1m Length (ACT - AZ10, White)"
          ],
          [
           "Wayona Usb Type C To Usb Nylon Braided Quick Charger Fast Charging Short Cable For Smartphone (Samsung Galaxy S21/S20/S10/S9/S9+/Note 9/S8/Note 8, Lg G7 G5 G6, Moto G6 G7) (0.25M,Grey)"
          ],
          [
           "Caprigo Heavy Duty TV Wall Mount Bracket for 14 to 32 Inch LED/HD/Smart TV’s, Universal Fixed TV Wall Mount Stand (M452)"
          ],
          [
           "Smashtronics® - Case for Firetv Remote, Fire Stick Remote Cover Case, Silicone Cover for TV Firestick 4K/TV 2nd Gen(3rd Gen) Remote Control - Light Weight/Anti Slip/Shockproof (Black)"
          ],
          [
           "Electvision Remote Control for led Smart tv Compatible with VU Smart Led (Without Voice)"
          ],
          [
           "Boat A 350 Type C Cable 1.5m(Jet Black)"
          ],
          [
           "pTron Solero M241 2.4A Micro USB Data & Charging Cable, Made in India, 480Mbps Data Sync, Durable 1-Meter Long USB Cable for Micro USB Devices (White)"
          ],
          [
           "AmazonBasics USB Type-C to USB Type-C 2.0 Cable for Charging Adapter, Smartphone - 9 Feet (2.7 Meters) - White"
          ],
          [
           "Croma 3A Fast charge 1m Type-C to All Type-C Phones sync and charge cable, Made in India, 480Mbps Data transfer rate, Tested Durability with 8000+ bends (12 months warranty) - CRCMA0106sTC10, Black"
          ],
          [
           "Sony Bravia 164 cm (65 inches) 4K Ultra HD Smart LED Google TV KD-65X74K (Black)"
          ],
          [
           "7SEVEN® Compatible for Mi tv Remote Control Original Suitable with Smart Android 4K LED Non Voice Command Xiaomi Redmi Remote of 4A Model 32 43 55 65 inches"
          ],
          [
           "7SEVEN® Compatible Vu Smart Tv Remote Control Suitable for Original 4K Android LED Ultra HD UHD Vu Tv Remote with Non Voice Feature without google assistant"
          ],
          [
           "Storite High Speed Micro USB 3.0 Cable A to Micro B for External & Desktop Hard Drives 45cm"
          ],
          [
           "FLiX (Beetel) 3in1 (Type C|Micro|Iphone Lightening) Textured Pattern 3A Fast Charging Cable with QC & PD Support for Type C,Micro USB & Lightning Iphone Cable,Made in India,1.5 Meter Long Cable(T101)"
          ],
          [
           "SVM Products Unbreakable Set Top Box Stand with Dual Remote Holder (Black)"
          ],
          [
           "VU 164 cm (65 inches) The GloLED Series 4K Smart LED Google TV 65GloLED (Grey)"
          ],
          [
           "CableCreation RCA to 3.5mm Male Audio Cable, 3.5mm to 2RCA Cable Male RCA Cable,Y Splitter Stereo Jack Cable for Home Theater,Subwoofer, Receiver, Speakers and More (3Feet/0.9Meter,Black)"
          ],
          [
           "Wayona USB Type C Fast Charging Cable Charger Cord 3A QC 3.0 Data Cable Compatible with Samsung Galaxy S10e S10 S9 S8 S20 Plus, Note 10 9 8, M51 A40 A50 A70, Moto G7 G8 (1M, Grey)"
          ],
          [
           "boAt Rugged V3 Braided Micro USB Cable (Pearl White)"
          ],
          [
           "Amazon Basics USB A to Lightning PVC Molded Nylon MFi Certified Charging Cable (Black, 1.2 meter)"
          ],
          [
           "AmazonBasics - High-Speed Male to Female HDMI Extension Cable - 6 Feet"
          ],
          [
           "Wayona Nylon Braided Usb Type C 3Ft 1M 3A Fast Charger Cable For Samsung Galaxy S9 S8 (Wc3Cb1, Black)"
          ],
          [
           "Belkin Apple Certified Lightning to USB Charge and Sync Tough Braided Cable for iPhone, iPad, Air Pods, 3.3 feet (1 meters) – Black"
          ],
          [
           "7SEVEN Compatible LG TV Remote Suitable for LG Non Magic Smart tv Remote Control (Mouse & Voice Non-Support) MR20GA Prime Video and Netflix Hotkeys"
          ],
          [
           "Realme Smart TV Stick 4K"
          ],
          [
           "Acer 100 cm (40 inches) P Series Full HD Android Smart LED TV AR40AR2841FDFL (Black)"
          ],
          [
           "Lapster usb 2.0 mantra cable, mantra mfs 100 data cable (black)"
          ],
          [
           "AmazonBasics High-Speed Braided HDMI Cable - 3 Feet - Supports Ethernet, 3D, 4K and Audio Return (Black)"
          ],
          [
           "Cubetek 3 in 1 LCD Display V5.0 Bluetooth Transmitter Receiver, Bypass Audio Adapter with Aux, Optical, Dual Link Support for TV, Home Stereo, PC, Headphones, Speakers, Model: CB-BT27"
          ],
          [
           "KRISONS Thunder Speaker, Multimedia Home Theatre, Floor Standing Speaker, LED Display with Bluetooth, FM, USB, Micro SD Card, AUX Connectivity"
          ],
          [
           "Acer 139 cm (55 inches) H Series 4K Ultra HD Android Smart LED TV AR55AR2851UDPRO (Black)"
          ],
          [
           "Dealfreez Case Compatible for Fire TV Stick 4K All Alexa Voice Remote Shockproof Silicone Anti-Lost Cover with Loop (C-Black)"
          ],
          [
           "Wayona Type C to Lightning MFI Certified 20W Fast charging Nylon Braided USB C Cable for iPhone 14 Pro, 14 Pro Max, 14, 14 Plus, 13, 13 Pro, 13 Pro Max, 13 Mini, 12, 12 Pro, 11, 11 Pro Max, iPhone 12 Mini (2M, Black)"
          ],
          [
           "VW 80 cm (32 inches) HD Ready Android Smart LED TV VW32PRO (Black)"
          ],
          [
           "Airtel Digital TV HD Set Top Box with 1 Month Basic Pack with Recording + Free Standard Installation"
          ],
          [
           "LOHAYA Voice Assistant Remote Compatible for Airtel Xstream Set-Top Box Remote Control with Netflix Function (Black) (Non - Voice)"
          ],
          [
           "Samsung 138 cm (55 inches) Crystal 4K Series Ultra HD Smart LED TV UA55AUE60AKLXL (Black)"
          ],
          [
           "Amazon Brand - Solimo 3A Fast Charging Tough Type C USB Data Cable  – 1 Meter"
          ],
          [
           "Mi 100 cm (40 inches) Horizon Edition Full HD Android LED TV 4A | L40M6-EI (Black)"
          ],
          [
           "Astigo Compatible Remote Control for Mi Smart LED 4A (43\"/32\")"
          ],
          [
           "Toshiba 108 cm (43 inches) V Series Full HD Smart Android LED TV 43V35KP (Silver)"
          ],
          [
           "Lenovo USB A to Type-C Tangle-free  Aramid fiber braided 1.2m cable with 4A Fast charging & 480 MBPS data transmission, certified 10000+ bend lifespan, Metallic Grey"
          ],
          [
           "LG 139 cm (55 inches) 4K Ultra HD Smart LED TV 55UQ7500PSF (Ceramic Black)"
          ],
          [
           "Tata Sky Digital TV HD Setup Box Remote"
          ],
          [
           "pTron Solero T241 2.4A Type-C Data & Charging USB Cable, Made in India, 480Mbps Data Sync, Durable 1-Meter Long USB Cable for Smartphone, Type-C USB Devices (White)"
          ],
          [
           "VU 108 cm (43 inches) Premium Series Full HD Smart LED TV 43GA (Black)"
          ],
          [
           "Storite Super Speed USB 3.0 Male to Male Cable for Hard Drive Enclosures, Laptop Cooling Pad, DVD Players(60cm,Black)"
          ],
          [
           "Kodak 80 cm (32 Inches) HD Ready LED TV Kodak 32HDX900S (Black)"
          ],
          [
           "AmazonBasics Double Braided Nylon USB Type-C to Type-C 2.0 Cable, Charging Adapter, Smartphone 6 feet, Dark Grey"
          ],
          [
           "Firestick Remote"
          ],
          [
           "AmazonBasics 10.2 Gbps High-Speed 4K HDMI Cable with Braided Cord (10-Foot, Dark Grey)"
          ],
          [
           "Hisense 126 cm (50 inches) Bezelless Series 4K Ultra HD Smart LED Google TV 50A6H (Black)"
          ],
          [
           "Tuarso 8K HDMI 2.1 Cable 48Gbps , 1.5 Meter High-Speed Braided HDMI Cable ( 8K@60HZ、4K@120HZ、2K@240HZ ) HDMI 2.1 Cable Compatible with Monitors , Television , Laptops , Projectors , Game Consoles and more with HDMI Ports Device"
          ],
          [
           "AmazonBasics USB Type-C to Micro-B 2.0 Cable - 6 Inches (15.2 Centimeters) - White"
          ],
          [
           "Kodak 139 cm (55 inches) 4K Ultra HD Smart LED TV 55CA0909 (Black)"
          ],
          [
           "Smashtronics® - Case for Firetv Remote, Fire Stick Remote Cover Case, Silicone Cover for TV Firestick 4K/TV 2nd Gen(3rd Gen) Remote Control - Light Weight/Anti Slip/Shockproof (Black)"
          ],
          [
           "7SEVEN® Suitable Sony Tv Remote Original Bravia for Smart Android Television Compatible for Any Model of LCD LED OLED UHD 4K Universal Sony Remote Control"
          ],
          [
           "PROLEGEND® PL-T002 Universal TV Stand Table Top for Most 22 to 65 inch LCD Flat Screen TV, VESA up to 800 by 400mm"
          ],
          [
           "WANBO X1 Pro (Upgraded) | Native 1080P Full HD | Android 9 | Projector for Home | LED Cinema | 350ANSI | 3900 lumens | WiFi Bluetooth | HDMI ARC | Dolby DTS | 4D Keystone Correction (Global Version)"
          ],
          [
           "Lava Charging Adapter Elements D3 2A Fast Charging Speed Usb Type C Data Cable, White"
          ],
          [
           "TIZUM High Speed HDMI Cable Aura -Gold Plated-High Speed Data 10.2Gbps, 3D, 4K, HD 1080P (10 Ft/ 3 M)"
          ],
          [
           "Technotech High Speed HDMI Cable 5 Meter V1.4 - Supports Full HD 1080p (Color May Vary)"
          ],
          [
           "NK STAR 950 Mbps USB WiFi Adapter Wireless Network Receiver Dongle for Desktop Laptop, (Support- Windows XP/7/8/10 & MAC OS) NOt Support to DVR and HDTV"
          ],
          [
           "LS LAPSTER Quality Assured USB 2.0 morpho cable, morpho device cable for Mso 1300 E3/E2/E Biometric Finger Print Scanner morpho USB cable (Black)"
          ],
          [
           "Amazon Basics 10.2 Gbps High-Speed 4K HDMI Cable with Braided Cord, 1.8 Meter, Dark Grey"
          ],
          [
           "Kodak 126 cm (50 inches) Bezel-Less Design Series 4K Ultra HD Smart Android LED TV 50UHDX7XPROBL (Black)"
          ],
          [
           "ZORBES® Wall Adapter Holder for Alexa Echo Dot 4th Generation,A Space-Saving Solution with Cord Management for Your Smart Home Speakers -White (Holder Only)"
          ],
          [
           "Sansui 80cm (32 inches) HD Ready Smart LED TV JSY32SKHD (BLACK) With Bezel-less Design"
          ],
          [
           "Synqe USB Type C Fast Charging Cable 2M Charger Cord Data Cable Compatible with Samsung Galaxy M51,Galaxy M31S, S10e S10 S9 S20 Plus, Note10 9 8,M40 A50 A70, Redmi Note 9, Moto G7, Poco F1 (2M, Grey)"
          ],
          [
           "MI 80 cm (32 inches) HD Ready Smart Android LED TV 5A Pro | L32M7-EAIN (Black)"
          ],
          [
           "Bestor ® 8K Hdmi 2.1 Cable 48Gbps 9.80Ft/Ultra High Speed Hdmi Braided Cord For Roku Tv/Ps5/Hdtv/Blu-Ray Projector, Laptop, Television, Personal Computer, Xbox, Ps4, Ps5, Ps4 Pro (1 M, Grey)"
          ],
          [
           "Irusu Play VR Plus Virtual Reality Headset with Headphones for Gaming (Black)"
          ],
          [
           "Amazon Brand - Solimo Fast Charging Braided Type C Data Cable Seam, Suitable For All Supported Mobile Phones (1 Meter, Black)"
          ],
          [
           "Synqe USB C to USB C 60W Nylon Braided Fast Charging Type C to Type C Cable Compatible with Samsung Galaxy Note 20/Ultra, S20 S22 S21 S20 FE A73 A53 A33 (2M, Black)"
          ],
          [
           "Shopoflux Silicone Remote Cover for Mi Smart TV and Mi TV Stick/MI Box S / 3S / MI 4X / 4A Smart LED TV (Black)"
          ],
          [
           "EYNK Extra Long Micro USB Fast Charging USB Cable | Micro USB Data Cable | Quick Fast Charging Cable | Charger Sync Cable | High Speed Transfer Android Smartphones V8 Cable (2.4 Amp, 3m,) (White)"
          ],
          [
           "LUNAGARIYA®, Protective Case Compatible with JIO Settop Box Remote Control,PU Leather Cover Holder (Before Placing Order,Please Compare The Dimensions of The Product with Your Remote)"
          ],
          [
           "7SEVEN® Compatible with Fire Tv Stick Remote with Voice Command Feature Suitable for Second Generation Amazon Fire Tv Stick Remote Only - Pairing Must"
          ],
          [
           "PRUSHTI COVER AND BAGS, Protective Case for Airtel Xstream settop Box Remote Remote Control Pouch Cover Holder PU Leather Cover Holder(only Cover for Selling Purpose)"
          ],
          [
           "Aine HDMI Male to VGA Female Video Converter Adapter Cable (Black)"
          ],
          [
           "Mi 80 cm (32 inches) HD Ready Android Smart LED TV 4A PRO | L32M5-AL (Black)"
          ],
          [
           "Storite USB 2.0 A to Mini 5 pin B Cable for External HDDS/Camera/Card Readers (150cm - 1.5M)"
          ],
          [
           "TCL 108 cm (43 inches) 4K Ultra HD Certified Android Smart LED TV 43P615 (Black)"
          ],
          [
           "OnePlus 163.8 cm (65 inches) U Series 4K LED Smart Android TV 65U1S (Black)"
          ],
          [
           "AmazonBasics 108 cm (43 inches) 4K Ultra HD Smart LED Fire TV AB43U20PS (Black)"
          ],
          [
           "Kodak 80 cm (32 inches) HD Ready Certified Android Smart LED TV 32HDX7XPROBL (Black)"
          ],
          [
           "Synqe Type C to Type C Short Fast Charging 60W Cable Compatible with Samsung Galaxy Z Fold3 5G, Z Flip3 5G, S22 5G, S22 Ultra, S21, S20, S20FE, A52, A73, A53 (0.25M, Black)"
          ],
          [
           "Airtel DigitalTV HD Setup Box Remote"
          ],
          [
           "Airtel Digital TV HD Set Top Box with FTA Pack | Unlimited Entertainment + Recording Feature + Free Standard Installation (6 Months Pack)"
          ],
          [
           "ESR USB C to Lightning Cable, 10 ft (3 m), MFi-Certified, Braided Nylon Power Delivery Fast Charging for iPhone 14/14 Plus/14 Pro/14 Pro Max, iPhone 13/12/11/X/8 Series, Use with Type-C Chargers, Black"
          ],
          [
           "MI 138.8 cm (55 inches) 5X Series 4K Ultra HD LED Smart Android TV L55M6-ES (Grey)"
          ],
          [
           "Storite USB Extension Cable USB 3.0 Male to Female Extension Cable High Speed 5GBps Extension Cable Data Transfer for Keyboard, Mouse, Flash Drive, Hard Drive, Printer and More- 1.5M - Blue"
          ],
          [
           "Fire-Boltt Ninja Call Pro Plus 1.83\" Smart Watch with Bluetooth Calling, AI Voice Assistance, 100 Sports Modes IP67 Rating, 240*280 Pixel High Resolution"
          ],
          [
           "Fire-Boltt Phoenix Smart Watch with Bluetooth Calling 1.3\",120+ Sports Modes, 240*240 PX High Res with SpO2, Heart Rate Monitoring & IP67 Rating"
          ],
          [
           "boAt Wave Call Smart Watch, Smart Talk with Advanced Dedicated Bluetooth Calling Chip, 1.69” HD Display with 550 NITS & 70% Color Gamut, 150+ Watch Faces, Multi-Sport Modes,HR,SpO2, IP68(Active Black)"
          ],
          [
           "MI Power Bank 3i 20000mAh Lithium Polymer 18W Fast Power Delivery Charging | Input- Type C | Micro USB| Triple Output | Sandstone Black"
          ],
          [
           "Redmi A1 (Light Blue, 2GB RAM, 32GB Storage) | Segment Best AI Dual Cam | 5000mAh Battery | Leather Texture Design | Android 12"
          ],
          [
           "OnePlus Nord 2T 5G (Jade Fog, 8GB RAM, 128GB Storage)"
          ],
          [
           "OnePlus Nord 2T 5G (Gray Shadow, 8GB RAM, 128GB Storage)"
          ],
          [
           "Redmi A1 (Black, 2GB RAM, 32GB Storage) | Segment Best AI Dual Cam | 5000mAh Battery | Leather Texture Design | Android 12"
          ],
          [
           "Redmi A1 (Light Green, 2GB RAM 32GB ROM) | Segment Best AI Dual Cam | 5000mAh Battery | Leather Texture Design | Android 12"
          ],
          [
           "SanDisk Ultra® microSDXC™ UHS-I Card, 64GB, 140MB/s R, 10 Y Warranty, for Smartphones"
          ],
          [
           "Noise Pulse Go Buzz Smart Watch Bluetooth Calling with 1.69\" Display, 550 NITS, 150+ Cloud Watch Face, SPo2, Heart Rate Tracking, 100 Sports Mode with Auto Detection, Longer Battery (Jet Black)"
          ],
          [
           "Nokia 105 Single SIM, Keypad Mobile Phone with Wireless FM Radio | Charcoal"
          ],
          [
           "boAt Wave Lite Smartwatch with 1.69\" HD Display, Sleek Metal Body, HR & SpO2 Level Monitor, 140+ Watch Faces, Activity Tracker, Multiple Sports Modes, IP68 & 7 Days Battery Life(Active Black)"
          ],
          [
           "JBL C100SI Wired In Ear Headphones with Mic, JBL Pure Bass Sound, One Button Multi-function Remote, Angled Buds for Comfort fit (Black)"
          ],
          [
           "Samsung Galaxy M04 Dark Blue, 4GB RAM, 64GB Storage | Upto 8GB RAM with RAM Plus | MediaTek Helio P35 | 5000 mAh Battery"
          ],
          [
           "PTron Tangentbeat in-Ear Bluetooth 5.0 Wireless Headphones with Mic, Enhanced Bass, 10mm Drivers, Clear Calls, Snug-Fit, Fast Charging, Magnetic Buds, Voice Assistant & IPX4 Wireless Neckband (Black)"
          ],
          [
           "Redmi 10A (Charcoal Black, 4GB RAM, 64GB Storage) | 2 Ghz Octa Core Helio G25 | 5000 mAh Battery | Finger Print Sensor | Upto 5GB RAM with RAM Booster"
          ],
          [
           "pTron Bullet Pro 36W PD Quick Charger, 3 Port Fast Car Charger Adapter - Compatible with All Smartphones & Tablets (Black)"
          ],
          [
           "boAt Bassheads 100 in Ear Wired Earphones with Mic(Taffy Pink)"
          ],
          [
           "SanDisk Ultra® microSDXC™ UHS-I Card, 128GB, 140MB/s R, 10 Y Warranty, for Smartphones"
          ],
          [
           "Samsung Galaxy M04 Light Green, 4GB RAM, 64GB Storage | Upto 8GB RAM with RAM Plus | MediaTek Helio P35 | 5000 mAh Battery"
          ],
          [
           "MI 10000mAh Lithium Ion, Lithium Polymer Power Bank Pocket Pro with 22.5 Watt Fast Charging, Dual Input Ports(Micro-USB and Type C), Triple Output Ports, (Black)"
          ],
          [
           "Mi 10000mAH Li-Polymer, Micro-USB and Type C Input Port, Power Bank 3i with 18W Fast Charging (Midnight Black)"
          ],
          [
           "ELV Car Mount Adjustable Car Phone Holder Universal Long Arm, Windshield for Smartphones - Black"
          ],
          [
           "Samsung 25W USB Travel Adapter for Cellular Phones - White"
          ],
          [
           "Noise ColorFit Pulse Grand Smart Watch with 1.69\"(4.29cm) HD Display, 60 Sports Modes, 150 Watch Faces, Fast Charge, Spo2, Stress, Sleep, Heart Rate Monitoring & IP68 Waterproof (Jet Black)"
          ],
          [
           "Fire-Boltt Ninja 3 Smartwatch Full Touch 1.69 & 60 Sports Modes with IP68, Sp02 Tracking, Over 100 Cloud based watch faces - Black"
          ],
          [
           "Samsung Galaxy M33 5G (Mystique Green, 8GB, 128GB Storage) | 6000mAh Battery | Upto 16GB RAM with RAM Plus | Travel Adapter to be Purchased Separately"
          ],
          [
           "SanDisk Ultra microSD UHS-I Card 32GB, 120MB/s R"
          ],
          [
           "Samsung Galaxy M13 (Aqua Green, 6GB, 128GB Storage) | 6000mAh Battery | Upto 12GB RAM with RAM Plus"
          ],
          [
           "Fire-Boltt Ninja Call Pro Plus 1.83\" Smart Watch with Bluetooth Calling, AI Voice Assistance, 100 Sports Modes IP67 Rating, 240*280 Pixel High Resolution"
          ],
          [
           "Fire-Boltt India's No 1 Smartwatch Brand Talk 2 Bluetooth Calling Smartwatch with Dual Button, Hands On Voice Assistance, 60 Sports Modes, in Built Mic & Speaker with IP68 Rating"
          ],
          [
           "Samsung Galaxy M33 5G (Emerald Brown, 6GB, 128GB Storage) | 6000mAh Battery | Upto 12GB RAM with RAM Plus | Travel Adapter to be Purchased Separately"
          ],
          [
           "iQOO vivo Z6 5G (Chromatic Blue, 6GB RAM, 128GB Storage) | Snapdragon 695-6nm Processor | 120Hz FHD+ Display | 5000mAh Battery"
          ],
          [
           "Fire-Boltt Ninja Call Pro Plus 1.83\" Smart Watch with Bluetooth Calling, AI Voice Assistance, 100 Sports Modes IP67 Rating, 240*280 Pixel High Resolution"
          ],
          [
           "Wayona Nylon Braided USB to Lightning Fast Charging and Data Sync Cable Compatible for iPhone 13, 12,11, X, 8, 7, 6, 5, iPad Air, Pro, Mini (3 FT Pack of 1, Grey)"
          ],
          [
           "Redmi 9 Activ (Carbon Black, 4GB RAM, 64GB Storage) | Octa-core Helio G35 | 5000 mAh Battery"
          ],
          [
           "Redmi 9A Sport (Coral Green, 2GB RAM, 32GB Storage) | 2GHz Octa-core Helio G25 Processor | 5000 mAh Battery"
          ],
          [
           "Fire-Boltt Ninja Call Pro Plus 1.83\" Smart Watch with Bluetooth Calling, AI Voice Assistance, 100 Sports Modes IP67 Rating, 240*280 Pixel High Resolution"
          ],
          [
           "Redmi 10A (Sea Blue, 4GB RAM, 64GB Storage) | 2 Ghz Octa Core Helio G25 | 5000 mAh Battery | Finger Print Sensor | Upto 5GB RAM with RAM Booster"
          ],
          [
           "AGARO Blaze USB 3.0 to USB Type C OTG Adapter"
          ],
          [
           "Fire-Boltt Visionary 1.78\" AMOLED Bluetooth Calling Smartwatch with 368*448 Pixel Resolution 100+ Sports Mode, TWS Connection, Voice Assistance, SPO2 & Heart Rate Monitoring"
          ],
          [
           "Noise ColorFit Pro 4 Advanced Bluetooth Calling Smart Watch with 1.72\" TruView Display, Fully-Functional Digital Crown, 311 PPI, 60Hz Refresh Rate, 500 NITS Brightness (Charcoal Black)"
          ],
          [
           "Ambrane Unbreakable 60W / 3A Fast Charging 1.5m Braided Type C Cable for Smartphones, Tablets, Laptops & other Type C devices, PD Technology, 480Mbps Data Sync, Quick Charge 3.0 (RCT15A, Black)"
          ],
          [
           "iQOO Z6 Lite 5G by vivo (Stellar Green, 6GB RAM, 128GB Storage) | World's First Snapdragon 4 Gen 1 | 120Hz Refresh Rate | 5000mAh Battery | Travel Adapter to be Purchased Separately"
          ],
          [
           "Sounce Fast Phone Charging Cable & Data Sync USB Cable Compatible for iPhone 13, 12,11, X, 8, 7, 6, 5, iPad Air, Pro, Mini & iOS Devices"
          ],
          [
           "Fire-Boltt Ninja Call Pro Plus 1.83\" Smart Watch with Bluetooth Calling, AI Voice Assistance, 100 Sports Modes IP67 Rating, 240*280 Pixel High Resolution"
          ],
          [
           "Redmi 10A (Slate Grey, 4GB RAM, 64GB Storage) | 2 Ghz Octa Core Helio G25 | 5000 mAh Battery | Finger Print Sensor | Upto 5GB RAM with RAM Booster"
          ],
          [
           "Duracell 38W Fast Car Charger Adapter with Dual Output. Quick Charge, Type C PD 20W & Qualcomm Certified 3.0 Compatible for iPhone, All Smartphones, Tablets & More (Copper & Black)"
          ],
          [
           "realme narzo 50 (Speed Blue, 4GB RAM+64GB Storage) Helio G96 Processor | 50MP AI Triple Camera | 120Hz Ultra Smooth Display"
          ],
          [
           "WeCool Bluetooth Extendable Selfie Sticks with Wireless Remote and Tripod Stand, 3-in-1 Multifunctional Selfie Stick with Tripod Stand Compatible with iPhone/OnePlus/Samsung/Oppo/Vivo and All Phones"
          ],
          [
           "Fire-Boltt Phoenix Smart Watch with Bluetooth Calling 1.3\",120+ Sports Modes, 240*240 PX High Res with SpO2, Heart Rate Monitoring & IP67 Rating"
          ],
          [
           "OPPO A74 5G (Fantastic Purple,6GB RAM,128GB Storage) with No Cost EMI/Additional Exchange Offers"
          ],
          [
           "Redmi Note 11 Pro + 5G (Stealth Black, 6GB RAM, 128GB Storage) | 67W Turbo Charge | 120Hz Super AMOLED Display | Additional Exchange Offers | Charger Included"
          ],
          [
           "Samsung Original 25W USB Travel Lightning Adapter for Cellular Phones, Black"
          ],
          [
           "realme Buds Classic Wired in Ear Earphones with Mic (Black)"
          ],
          [
           "Noise ColorFit Pulse Grand Smart Watch with 1.69\" HD Display, 60 Sports Modes, 150 Watch Faces, Spo2 Monitoring, Call Notification, Quick Replies to Text & Calls (Rose Pink)"
          ],
          [
           "boAt Wave Call Smart Watch, Smart Talk with Advanced Dedicated Bluetooth Calling Chip, 1.69” HD Display with 550 NITS & 70% Color Gamut, 150+ Watch Faces, Multi-Sport Modes, HR, SpO2, IP68(Mauve)"
          ],
          [
           "boAt Deuce USB 300 2 in 1 Type-C & Micro USB Stress Resistant, Tangle-Free, Sturdy Cable with 3A Fast Charging & 480mbps Data Transmission, 10000+ Bends Lifespan and Extended 1.5m Length(Martian Red)"
          ],
          [
           "Portronics Konnect L 1.2M Fast Charging 3A 8 Pin USB Cable with Charge & Sync Function for iPhone, iPad (Grey)"
          ],
          [
           "iQOO Neo 6 5G (Dark Nova, 8GB RAM, 128GB Storage) | Snapdragon® 870 5G | 80W FlashCharge"
          ],
          [
           "boAt Xtend Smartwatch with Alexa Built-in, 1.69” HD Display, Multiple Watch Faces, Stress Monitor, Heart & SpO2 Monitoring, 14 Sports Modes, Sleep Monitor, 5 ATM & 7 Days Battery(Charcoal Black)"
          ],
          [
           "Tygot Bluetooth Extendable Selfie Sticks with Wireless Remote and Tripod Stand, 3-in-1 Multifunctional Selfie Stick with Tripod Stand Compatible with iPhone/OnePlus/Samsung/Oppo/Vivo and All Phones"
          ],
          [
           "Samsung EVO Plus 128GB microSDXC UHS-I U3 130MB/s Full HD & 4K UHD Memory Card with Adapter (MB-MC128KA), Blue"
          ],
          [
           "Portronics Adapto 20 Type C 20W Fast PD/Type C Adapter Charger with Fast Charging for iPhone 12/12 Pro/12 Mini/12 Pro Max/11/XS/XR/X/8/Plus, iPad Pro/Air/Mini, Galaxy 10/9/8 (Adapter Only) White"
          ],
          [
           "Samsung Galaxy M13 5G (Aqua Green, 6GB, 128GB Storage) | 5000mAh Battery | Upto 12GB RAM with RAM Plus"
          ],
          [
           "boAt Bassheads 100 in Ear Wired Earphones with Mic(Furious Red)"
          ],
          [
           "iQOO Z6 44W by vivo (Lumina Blue, 4GB RAM, 128GB Storage) | 6.44\" FHD+ AMOLED Display | 50% Charge in just 27 mins | in-Display Fingerprint Scanning"
          ],
          [
           "Fire-Boltt Gladiator 1.96\" Biggest Display Smart Watch with Bluetooth Calling, Voice Assistant &123 Sports Modes, 8 Unique UI Interactions, SpO2, 24/7 Heart Rate Tracking"
          ],
          [
           "pTron Solero TB301 3A Type-C Data and Fast Charging Cable, Made in India, 480Mbps Data Sync, Strong and Durable 1.5-Meter Nylon Braided USB Cable for Type-C Devices for Charging Adapter (Black)"
          ],
          [
           "STRIFF PS2_01 Multi Angle Mobile/Tablet Tabletop Stand. Phone Holder for iPhone, Android, Samsung, OnePlus, Xiaomi. Portable, Foldable Cell Phone Stand. Perfect for Bed, Office, Home & Desktop (Black)"
          ],
          [
           "Samsung Galaxy Buds Live Bluetooth Truly Wireless in Ear Earbuds with Mic, Upto 21 Hours Playtime, Mystic Black"
          ],
          [
           "OnePlus Nord 2T 5G (Jade Fog, 12GB RAM, 256GB Storage)"
          ],
          [
           "Sounce Spiral Charger Cable Protector Data Cable Saver Charging Cord Protective Cable Cover Headphone MacBook Laptop Earphone Cell Phone Set of 3 (Cable Protector (12 Units))"
          ],
          [
           "PTron Boom Ultima 4D Dual Driver, in-Ear Gaming Wired Headphones with in-line Mic, Volume Control & Passive Noise Cancelling Boom 3 Earphones - (Dark Blue)"
          ],
          [
           "Samsung Galaxy M13 (Aqua Green, 4GB, 64GB Storage) | 6000mAh Battery | Upto 8GB RAM with RAM Plus"
          ],
          [
           "OnePlus 10R 5G (Forest Green, 8GB RAM, 128GB Storage, 80W SuperVOOC)"
          ],
          [
           "Samsung Galaxy M33 5G (Emerald Brown, 6GB, 128GB Storage) | 6000mAh Battery | Upto 12GB RAM with RAM Plus | Travel Adapter to be Purchased Separately"
          ],
          [
           "Ambrane Mobile Holding Stand, 180° Perfect View, Height Adjustment, Wide Compatibility, Multipurpose, Anti-Skid Design (Twistand, Black)"
          ],
          [
           "Ambrane 10000mAh Slim Power Bank, 20W Fast Charging, Dual Output, Type C PD (Input & Output), Quick Charge, Li-Polymer, Multi-Layer Protection for iPhone, Anrdoid & Other Devices (Stylo 10K, Black)"
          ],
          [
           "Nokia 105 Single SIM, Keypad Mobile Phone with Wireless FM Radio | Blue"
          ],
          [
           "PTron Tangent Lite Bluetooth 5.0 Earphones with Mic, Hi-Fi Stereo Sound Neckband, 8Hrs Playtime, Lightweight Snug-fit in-Ear Headphones, IPX4 Water Resistant, Fast Charge & Voice Assistant (Black)"
          ],
          [
           "Samsung EVO Plus 64GB microSDXC UHS-I U1 130MB/s Full HD & 4K UHD Memory Card with Adapter (MB-MC64KA), Blue"
          ],
          [
           "Ambrane 20000mAh Power Bank with 20W Fast Charging, Triple Output, Power Delivery, Type C Input, Made in India, Multi-Layer Protection, Li-Polymer + Type C Cable (Stylo-20k, Black)"
          ],
          [
           "boAt Micro USB 55 Tangle-free, Sturdy Micro USB Cable with 3A Fast Charging & 480mbps Data Transmission (Black)"
          ],
          [
           "Samsung Galaxy M13 (Midnight Blue, 4GB, 64GB Storage) | 6000mAh Battery | Upto 8GB RAM with RAM Plus"
          ],
          [
           "boAt Xtend Smartwatch with Alexa Built-in, 1.69” HD Display, Multiple Watch Faces, Stress Monitor, Heart & SpO2 Monitoring, 14 Sports Modes, Sleep Monitor, 5 ATM & 7 Days Battery(Pitch Black)"
          ],
          [
           "boAt Wave Call Smart Watch, Smart Talk with Advanced Dedicated Bluetooth Calling Chip, 1.69” HD Display with 550 NITS & 70% Color Gamut, 150+ Watch Faces, Multi-Sport Modes, HR, SpO2, IP68(Deep Blue)"
          ],
          [
           "MI Usb Type-C Cable Smartphone (Black)"
          ],
          [
           "Ambrane Unbreakable 60W / 3A Fast Charging 1.5m Braided Micro USB Cable for Smartphones, Tablets, Laptops & Other Micro USB Devices, 480Mbps Data Sync, Quick Charge 3.0 (RCM15, Black)"
          ],
          [
           "MI Xiaomi 22.5W Fast USB Type C Charger Combo for Tablets - White"
          ],
          [
           "Samsung Galaxy M13 5G (Aqua Green, 6GB, 128GB Storage) | 5000mAh Battery | Upto 12GB RAM with RAM Plus"
          ],
          [
           "Gizga Essentials Spiral Cable Protector Cord Saver for Mac Charger, iPhone Charger, Wire Protector, Lightweight Durable Flexible Wire Winder for Charging Cables, Data Cables, Earphones, Pack of 10"
          ],
          [
           "Redmi Note 11 (Space Black, 4GB RAM, 64GB Storage)|90Hz FHD+ AMOLED Display | Qualcomm® Snapdragon™ 680-6nm | 33W Charger Included"
          ],
          [
           "Portronics Konnect L POR-1081 Fast Charging 3A Type-C Cable 1.2Meter with Charge & Sync Function for All Type-C Devices (Grey)"
          ],
          [
           "Redmi Note 11 Pro + 5G (Phantom White, 8GB RAM, 128GB Storage) | 67W Turbo Charge | 120Hz Super AMOLED Display | Additional Exchange Offers | Charger Included"
          ],
          [
           "USB Charger, Oraimo Elite Dual Port 5V/2.4A Wall Charger, USB Wall Charger Adapter for iPhone 11/Xs/XS Max/XR/X/8/7/6/Plus, iPad Pro/Air 2/Mini 3/Mini 4, Samsung S4/S5, and More"
          ],
          [
           "Goldmedal Curve Plus 202042 Plastic Spice 3-Pin 240V Universal Travel Adaptor (White)"
          ],
          [
           "WeCool C1 Car Mobile Holder with One Click Technology,360° Rotational, Strong Suction Cup,Compatible with 4 to 6 Inch Devices, Wildshield and Dashboard Mobile Holder for Car, and Use"
          ],
          [
           "HP 32GB Class 10 MicroSD Memory Card (U1 TF Card 32GB)"
          ],
          [
           "iQOO Z6 44W by vivo (Lumina Blue, 6GB RAM, 128GB Storage) | 6.44\" FHD+ AMOLED Display | 50% Charge in just 27 mins | in-Display Fingerprint Scanning"
          ],
          [
           "iQOO Z6 Lite 5G by vivo (Mystic Night, 6GB RAM, 128GB Storage) | World's First Snapdragon 4 Gen 1 | 120Hz Refresh Rate | 5000mAh Battery | Travel Adapter to be Purchased Separately"
          ],
          [
           "Redmi Note 11 Pro + 5G (Stealth Black, 8GB RAM, 256GB Storage) | 67W Turbo Charge | 120Hz Super AMOLED Display | Additional Exchange Offers | Charger Included"
          ],
          [
           "boAt Bassheads 242 in Ear Wired Earphones with Mic(Active Black)"
          ],
          [
           "Portronics MODESK POR-122 Universal Mobile Tabletop Holder (Black)"
          ],
          [
           "realme narzo 50i (Mint Green, 2GB RAM+32GB Storage) Octa Core Processor | 6.5\" inch Large Display"
          ],
          [
           "MI 10000mAh 3i Lithium Polymer Power Bank Dual Input(Micro-USB and Type C) and Output Ports 18W Fast Charging (Metallic Blue)"
          ],
          [
           "Nokia 105 Plus Single SIM, Keypad Mobile Phone with Wireless FM Radio, Memory Card Slot and MP3 Player | Red"
          ],
          [
           "iQOO Z6 44W by vivo (Raven Black, 4GB RAM, 128GB Storage) | 6.44\" FHD+ AMOLED Display | 50% Charge in just 27 mins | in-Display Fingerprint Scanning"
          ],
          [
           "boAt Rugged v3 Extra Tough Unbreakable Braided Micro USB Cable 1.5 Meter (Black)"
          ],
          [
           "Ambrane 10000mAh Slim Power Bank, 20W Fast Charging, Dual Output, Type C PD (Input & Output), Quick Charge, Li-Polymer, Multi-Layer Protection for iPhone, Anrdoid & Other Devices (Stylo 10K, Green)"
          ],
          [
           "Samsung Galaxy M13 (Stardust Brown, 6GB, 128GB Storage) | 6000mAh Battery | Upto 12GB RAM with RAM Plus"
          ],
          [
           "OPPO A74 5G (Fluid Black, 6GB RAM, 128GB Storage) with No Cost EMI/Additional Exchange Offers"
          ],
          [
           "Spigen EZ Fit Tempered Glass Screen Protector Guard for iPhone 14/13/13 Pro - 2 Pack"
          ],
          [
           "Noise ColorFit Pulse Smartwatch with 3.56 cm (1.4\") Full Touch HD Display, SpO2, Heart Rate, Sleep Monitors & 10-Day Battery - Jet Black"
          ],
          [
           "Nokia 105 Plus Single SIM, Keypad Mobile Phone with Wireless FM Radio, Memory Card Slot and MP3 Player | Charcoal"
          ],
          [
           "iQOO Z6 Pro 5G by vivo (Legion Sky, 8GB RAM, 128GB Storage) | Snapdragon 778G 5G | 66W FlashCharge | 1300 nits Peak Brightness | HDR10+"
          ],
          [
           "MI 33W SonicCharge 2.0 USB Charger for Cellular Phones - White"
          ],
          [
           "OPPO A31 (Mystery Black, 6GB RAM, 128GB Storage) with No Cost EMI/Additional Exchange Offers"
          ],
          [
           "iQOO vivo Z6 5G (Chromatic Blue, 8GB RAM, 128GB Storage) | Snapdragon 695-6nm Processor | 120Hz FHD+ Display | 5000mAh Battery"
          ],
          [
           "Portronics Konnect CL 20W POR-1067 Type-C to 8 Pin USB 1.2M Cable with Power Delivery & 3A Quick Charge Support, Nylon Braided for All Type-C and 8 Pin Devices, Green"
          ],
          [
           "Motorola a10 Dual Sim keypad Mobile with 1750 mAh Battery, Expandable Storage Upto 32GB, Wireless FM with Recording - Rose Gold"
          ],
          [
           "Portronics Konnect L 1.2M POR-1401 Fast Charging 3A 8 Pin USB Cable with Charge & Sync Function (White)"
          ],
          [
           "boAt Wave Lite Smartwatch with 1.69\" HD Display, Heart Rate & SpO2 Level Monitor, Multiple Watch Faces, Activity Tracker, Multiple Sports Modes & IP68 (Deep Blue)"
          ],
          [
           "boAt Wave Call Smart Watch, Smart Talk with Advanced Dedicated Bluetooth Calling Chip, 1.69” HD Display with 550 NITS & 70% Color Gamut, 150+ Watch Faces, Multi-Sport Modes,HR,SpO2(Caribbean Green)"
          ],
          [
           "Spigen EZ Fit Tempered Glass Screen Protector for iPhone 14 Pro Max - 2 Pack (Sensor Protection)"
          ],
          [
           "KINGONE Upgraded Stylus Pen, iPad Pencil, Ultra High Precision & Sensitivity, Palm Rejection, Prevents False ON/Off Touch, Power Display, Tilt Sensitivity, Magnetic Adsorption for iPad 2018 and Later"
          ],
          [
           "Portronics CarPower Mini Car Charger with Dual Output, Fast Charging (Type C PD 18W + QC 3.0A) Compatible with All Smartphones(Black)"
          ],
          [
           "boAt Newly Launched Wave Electra with 1.81\" HD Display, Smart Calling with Ultra-Seamless BT Calling Chip,20 Built-In Watch Faces,100 + Sports Modes,Menu Personalization,In-Built Games(Charcoal Black)"
          ],
          [
           "PTron Newly Launched Force X10 Bluetooth Calling Smartwatch with 1.7\" Full Touch Color Display, Real Heart Rate Monitor, SpO2, Watch Faces, 5 Days Runtime, Fitness Trackers & IP68 Waterproof (Pink)"
          ],
          [
           "MI Braided USB Type-C Cable for Charging Adapter (Red)"
          ],
          [
           "iQOO vivo Z6 5G (Dynamo Black, 6GB RAM, 128GB Storage) | Snapdragon 695-6nm Processor | 120Hz FHD+ Display | 5000mAh Battery"
          ],
          [
           "Samsung Ehs64 Ehs64Avfwecinu Hands-Free Wired In Ear Earphones With Mic With Remote Note (White)"
          ],
          [
           "Duracell USB Lightning Apple Certified (Mfi) Braided Sync & Charge Cable For Iphone, Ipad And Ipod. Fast Charging Lightning Cable, 3.9 Feet (1.2M) - Black"
          ],
          [
           "Spigen EZ Fit Tempered Glass Screen Protector for iPhone 14 Pro - 2 Pack (Sensor Protection)"
          ],
          [
           "Samsung Galaxy M04 Dark Blue, 4GB RAM, 128GB Storage | Upto 8GB RAM with RAM Plus | MediaTek Helio P35 | 5000 mAh Battery"
          ],
          [
           "Ambrane Unbreakable 60W / 3A Fast Charging 1.5m Braided Type C to Type C Cable for Smartphones, Tablets, Laptops & Other Type C Devices, PD Technology, 480Mbps Data Sync (RCTT15, Black)"
          ],
          [
           "SWAPKART Flexible Mobile Tabletop Stand, Metal Built, Heavy Duty Foldable Lazy Bracket Clip Mount Multi Angle Clamp for All Smartphones (Pack of 1), Multi Color"
          ],
          [
           "boAt Type C A325 Tangle-free, Sturdy Type C Cable with 3A Rapid Charging & 480mbps Data Transmission(Black)"
          ],
          [
           "Redmi 9A Sport (Carbon Black, 2GB RAM, 32GB Storage) | 2GHz Octa-core Helio G25 Processor | 5000 mAh Battery"
          ],
          [
           "Fire-Boltt Ring 3 Smart Watch 1.8 Biggest Display with Advanced Bluetooth Calling Chip, Voice Assistance,118 Sports Modes, in Built Calculator & Games, SpO2, Heart Rate Monitoring"
          ],
          [
           "Amozo Ultra Hybrid Camera and Drop Protection Back Cover Case for iPhone 13 (TPU + Polycarbonate | Crystal Transparent)"
          ],
          [
           "ELV Aluminum Adjustable Mobile Phone Foldable Tabletop Stand Dock Mount for All Smartphones, Tabs, Kindle, iPad (Black)"
          ],
          [
           "Tecno Spark 9 (Sky Mirror, 6GB RAM,128GB Storage) | 11GB Expandable RAM | Helio G37 Gaming Processor"
          ],
          [
           "Flix Micro Usb Cable For Smartphone (Black)"
          ],
          [
           "JBL C100SI Wired In Ear Headphones with Mic, JBL Pure Bass Sound, One Button Multi-function Remote, Premium Metallic Finish, Angled Buds for Comfort fit (Red)"
          ],
          [
           "Tukzer Capacitive Stylus Pen for Touch Screens Devices, Fine Point, Lightweight Metal Body with Magnetism Cover Cap for Smartphones/Tablets/iPad/iPad Pro/iPhone (Grey)"
          ],
          [
           "Samsung Galaxy M13 5G (Aqua Green, 6GB, 128GB Storage) | 5000mAh Battery | Upto 12GB RAM with RAM Plus"
          ],
          [
           "Tukzer Capacitive Stylus Pen for Touch Screens Devices, Fine Point, Lightweight Metal Body with Magnetism Cover Cap for Smartphones/Tablets/iPad/iPad Pro/iPhone (White)"
          ],
          [
           "Mi 10W Wall Charger for Mobile Phones with Micro USB Cable (Black)"
          ],
          [
           "Fire-Boltt India's No 1 Smartwatch Brand Talk 2 Bluetooth Calling Smartwatch with Dual Button, Hands On Voice Assistance, 60 Sports Modes, in Built Mic & Speaker with IP68 Rating"
          ],
          [
           "STRIFF 12 Pieces Highly Flexible Silicone Micro USB Protector, Mouse Cable Protector, Suit for All Cell Phones, Computers and Chargers (White)"
          ],
          [
           "FLiX (Beetel) USB to Type C PVC Data Sync & 2A Smartphone Fast Charging Cable, Made in India, 480Mbps Data Sync, Tough Cable, 1 Meter Long USB Cable for USB Type C Devices Black XCD-C12"
          ],
          [
           "Noise ColorFit Pro 4 Alpha Bluetooth Calling Smart Watch with 1.78 AMOLED Display, Tru Sync, 60hz Refresh Rate, instacharge, Gesture Control, Functional 360 Digital Crown (Jet Black)"
          ],
          [
           "Elv Mobile Phone Mount Tabletop Holder for Phones and Tablets - Black"
          ],
          [
           "iQOO Z6 44W by vivo (Raven Black, 6GB RAM, 128GB Storage) | 6.44\" FHD+ AMOLED Display | 50% Charge in just 27 mins | in-Display Fingerprint Scanning"
          ],
          [
           "Redmi 11 Prime 5G (Meadow Green, 4GB RAM 64GB ROM) | Prime Design | MTK Dimensity 700 | 50 MP Dual Cam | 5000mAh | 7 Band 5G"
          ],
          [
           "Noise Pulse Buzz 1.69\" Bluetooth Calling Smart Watch with Call Function, 150 Watch Faces, 60 Sports Modes, Spo2 & Heart Rate Monitoring, Calling Smart Watch for Men & Women - Rose Pink"
          ],
          [
           "PTron Newly Launched Force X10 Bluetooth Calling Smartwatch with 1.7\" Full Touch Display, Real Heart Rate Monitor, SpO2, Watch Faces, 5 Days Runtime, Health/Fitness Trackers & IP68 Waterproof (Black)"
          ],
          [
           "Portronics CLAMP X Car-Vent Mobile Holder 360 Degree Rotational(Black)"
          ],
          [
           "pTron Volta Dual Port 12W Smart USB Charger Adapter, Multi-Layer Protection, Made in India, BIS Certified, Fast Charging Power Adaptor Without Cable for All iOS & Android Devices (Black)"
          ],
          [
           "boAt Flash Edition Smart Watch with Activity Tracker, Multiple Sports Modes, 1.3\" Screen, 170+ Watch Faces, Sleep Monitor, Gesture, Camera & Music Control, IP68 & 7 Days Battery Life(Lightning Black)"
          ],
          [
           "boAt Wave Lite Smartwatch with 1.69 Inches(4.29cm) HD Display, Heart Rate & SpO2 Level Monitor, Multiple Watch Faces, Activity Tracker, Multiple Sports Modes & IP68 (Scarlet Red)"
          ],
          [
           "iQOO Z6 Pro 5G by vivo (Phantom Dusk, 8GB RAM, 128GB Storage) | Snapdragon 778G 5G | 66W FlashCharge | 1300 nits Peak Brightness | HDR10+"
          ],
          [
           "Samsung Galaxy M32 Prime Edition (Light Blue, 4GB RAM, 64GB)"
          ],
          [
           "Redmi Note 11T 5G (Matte Black, 6GB RAM, 128GB ROM)| Dimensity 810 5G | 33W Pro Fast Charging | Charger Included | Additional Exchange Offers|Get 2 Months of YouTube Premium Free!"
          ],
          [
           "iQOO Z6 Pro 5G by vivo (Legion Sky, 6GB RAM, 128GB Storage) | Snapdragon 778G 5G | 66W FlashCharge | 1300 nits Peak Brightness | HDR10+"
          ],
          [
           "Redmi Note 11 (Horizon Blue, 6GB RAM, 64GB Storage)|90Hz FHD+ AMOLED Display | Qualcomm® Snapdragon™ 680-6nm | 33W Charger Included"
          ],
          [
           "Noise Pulse 2 Max Advanced Bluetooth Calling Smart Watch with 1.85'' TFT and 550 Nits Brightness, Smart DND, 10 Days Battery, 100 Sports Mode, Smartwatch for Men and Women - (Jet Black)"
          ],
          [
           "boAt A400 USB Type-C to USB-A 2.0 Male Data Cable, 2 Meter (Black)"
          ],
          [
           "Duracell USB C To Lightning Apple Certified (Mfi) Braided Sync & Charge Cable For Iphone, Ipad And Ipod. Fast Charging Lightning Cable, 3.9 Feet (1.2M) - Black"
          ],
          [
           "Myvn 30W Warp/20W Dash Charging Usb Type C Charger Cable Compatible For Cellular Phones Oneplus 8T 8 8Pro 7 Pro / 7T / 7T Pro Nord And Oneplus 3 / 3T / 5 / 5T / 6 / 6T / 7"
          ],
          [
           "PTron Newly Launched Force X10 Bluetooth Calling Smartwatch with 1.7\" Full Touch Color Display, Real Heart Rate Monitor, SpO2, Watch Faces, 5 Days Runtime, Fitness Trackers & IP68 Waterproof (Blue)"
          ],
          [
           "SanDisk Ultra® microSDXC™ UHS-I Card, 256GB, 150MB/s R, 10 Y Warranty, for Smartphones"
          ],
          [
           "Fire-Boltt Phoenix Smart Watch with Bluetooth Calling 1.3\",120+ Sports Modes, 240*240 PX High Res with SpO2, Heart Rate Monitoring & IP67 Rating"
          ],
          [
           "Redmi Note 11 (Space Black, 6GB RAM, 64GB Storage) | 90Hz FHD+ AMOLED Display | Qualcomm® Snapdragon™ 680-6nm | 33W Charger Included"
          ],
          [
           "Noise ColorFit Pro 2 Full Touch Control Smart Watch with 35g Weight & Upgraded LCD Display (Deep Wine)"
          ],
          [
           "Redmi Note 11T 5G (Aquamarine Blue, 6GB RAM, 128GB ROM)| Dimensity 810 5G | 33W Pro Fast Charging | Charger Included | Additional Exchange Offers| Get 2 Months of YouTube Premium Free!"
          ],
          [
           "Newly Launched Boult Dive+ with 1.85\" HD Display, Bluetooth Calling Smartwatch, 500 Nits Brightness, 7 Days Battery Life, 150+ Watch Faces, 100+ Sport Modes, IP68 Waterproof Smart Watch (Jet Black)"
          ],
          [
           "OnePlus Nord Watch with 1.78” AMOLED Display, 60 Hz Refresh Rate, 105 Fitness Modes, 10 Days Battery, SPO2, Heart Rate, Stress Monitor, Women Health Tracker & Multiple Watch Face [Midnight Black]"
          ],
          [
           "pTron Solero MB301 3A Micro USB Data & Charging Cable, Made in India, 480Mbps Data Sync, Strong & Durable 1.5-Meter Nylon Braided USB Cable for Micro USB Devices - (Black)"
          ],
          [
           "Noise Agile 2 Buzz Bluetooth Calling Smart Watch with 1.28\" TFT Display,Dual Button,in-Built Mic & Speaker,AI Voice Assistant, Health Suite,in-Built Games, 100 Watch Faces-(Jet Black)"
          ],
          [
           "Motorola a10 Dual Sim keypad Mobile with 1750 mAh Battery, Expandable Storage Upto 32GB, Wireless FM with Recording - Dark Blue"
          ],
          [
           "Fire-Boltt Ninja 3 Smartwatch Full Touch 1.69 \" & 60 Sports Modes with IP68, Sp02 Tracking, Over 100 Cloud based watch faces ( Silver )"
          ],
          [
           "Amazonbasics Nylon Braided Usb-C To Lightning Cable, Fast Charging Mfi Certified Smartphone, Iphone Charger (6-Foot, Dark Grey)"
          ],
          [
           "Flix (Beetel) Bolt 2.4 12W Dual USB Smart Charger, Made in India, Bis Certified, Fast Charging Power Adaptor with 1 Meter USB to Type C Cable for Cellular Phones (White)(Xwc-64D)"
          ],
          [
           "Kyosei Advanced Tempered Glass Compatible with Google Pixel 6a with Military-Grade Anti-Explosion Edge-to-Edge Coverage Screen Protector Guard"
          ],
          [
           "STRIFF 12 Pieces Highly Flexible Silicone Micro USB Protector, Mouse Cable Protector, Suit for All Cell Phones, Computers and Chargers (Black)"
          ],
          [
           "Redmi 11 Prime 5G (Thunder Black, 4GB RAM, 64GB Storage) | Prime Design | MTK Dimensity 700 | 50 MP Dual Cam | 5000mAh | 7 Band 5G"
          ],
          [
           "Samsung Original EHS64 Wired in Ear Earphones with Mic, Black"
          ],
          [
           "STRIFF Multi Angle Tablet/Mobile Stand. Holder for iPhone, Android, Samsung, OnePlus, Xiaomi. Portable,Foldable Stand.Perfect for Bed,Office, Home,Gift and Desktop (Black)"
          ],
          [
           "boAt Newly Launched Wave Electra with 1.81\" HD Display, Smart Calling Ultra-Seamless BT Calling Chip, 20 Built-in Watch Faces, 100 + Sports Modes, Menu Personalization, in-Built Games(Cherry Blossom)"
          ],
          [
           "WeCool B1 Mobile Holder for Bikes or Bike Mobile Holder for Maps and GPS Navigation, one Click Locking, Firm Gripping, Anti Shake and Stable Cradle Clamp with 360° Rotation Bicycle Phone Mount"
          ],
          [
           "Sounce 360 Adjustable Mobile Phone Holder, Universal Phone Holder Clip Lazy Bracket Flexible Gooseneck Clamp Long Arms Mount for Mobile Tabletop Stand for Bedroom, Office, Bathroom, White"
          ],
          [
           "OpenTech® Military-Grade Tempered Glass Screen Protector Compatible for iPhone 13/13 Pro / 14 with Edge to Edge Coverage and Easy Installation kit (6.1 Inches)"
          ],
          [
           "EN LIGNE Adjustable Cell Phone Stand, Foldable Portable Phone Stand Phone Holder for Desk, Desktop Tablet Stand Compatible with Mobile Phone/iPad/Tablet (Black)"
          ],
          [
           "Tecno Spark 8T (Turquoise Cyan, 4GB RAM,64GB Storage) | 50MP AI Camera | 7GB Expandable RAM"
          ],
          [
           "URBN 20000 mAh Lithium_Polymer 22.5W Super Fast Charging Ultra Compact Power Bank with Quick Charge & Power Delivery, Type C Input/Output, Made in India, Type C Cable Included (Camo)"
          ],
          [
           "Redmi Note 11T 5G (Stardust White, 6GB RAM, 128GB ROM)| Dimensity 810 5G | 33W Pro Fast Charging | Charger Included | Additional Exchange Offers|Get 2 Months of YouTube Premium Free!"
          ],
          [
           "OnePlus 10T 5G (Moonstone Black, 8GB RAM, 128GB Storage)"
          ],
          [
           "Nokia 150 (2020) (Cyan)"
          ],
          [
           "Noise ColorFit Ultra SE Smart Watch with 1.75\"(4.3cm) HD Display, Aluminium Alloy Body, 60 Sports Modes, Spo2, Lightweight, Stock Market Info, Calls & SMS Reply (Vintage Brown)"
          ],
          [
           "boAt Rockerz 400 Bluetooth On Ear Headphones With Mic With Upto 8 Hours Playback & Soft Padded Ear Cushions(Grey/Green)"
          ],
          [
           "SanDisk Ultra microSD UHS-I Card 64GB, 120MB/s R"
          ],
          [
           "iPhone Original 20W C Type Fast PD Charger Compatible with I-Phone13/13 mini/13pro/13 pro Max I-Phone 12/12 Pro/12mini/12 Pro Max, I-Phone11/11 Pro/11 Pro Max 2020 (Only Adapter)"
          ],
          [
           "LIRAMARK Webcam Cover Slide, Ultra Thin Laptop Camera Cover Slide Blocker for Computer MacBook Pro iMac PC Tablet (Pack of 3)"
          ],
          [
           "AmazonBasics New Release Nylon USB-A to Lightning Cable Cord, Fast Charging MFi Certified Charger for Apple iPhone, iPad (6-Ft, Rose Gold)"
          ],
          [
           "Nokia 8210 4G Volte keypad Phone with Dual SIM, Big Display, inbuilt MP3 Player & Wireless FM Radio | Blue"
          ],
          [
           "Sounce Protective Case Cover Compatible Boat Xtend Overall Protective Case TPU HD Clear Ultra-Thin Cover with Unbreakable Screen Guard"
          ],
          [
           "Samsung Galaxy M53 5G (Deep Ocean Blue, 6GB, 128GB Storage) | 108MP | sAmoled+ 120Hz | 12GB RAM with RAM Plus | Travel Adapter to be Purchased Separately"
          ],
          [
           "iQOO 9 SE 5G (Sunset Sierra, 8GB RAM, 128GB Storage) | Qualcomm Snapdragon 888 | 66W Flash Charge"
          ],
          [
           "SHREENOVA ID116 Plus Bluetooth Fitness Smart Watch for Men Women and Kids Activity Tracker (Black)"
          ],
          [
           "POCO C31 (Shadow Gray, 64 GB) (4 GB RAM)"
          ],
          [
           "Noise_Colorfit Smart Watch Charger 2 Pin USB Fast Charger Magnetic Charging Cable Adapter (Smart Watch Charger 2 pin)"
          ],
          [
           "POPIO Tempered Glass Screen Protector Compatible for iPhone 12 / iPhone 12 Pro with Case Friendly Edge to Edge Coverage and Easy Installation kit, Pack of 1"
          ],
          [
           "10WeRun Id-116 Bluetooth Smartwatch Wireless Fitness Band for Boys, Girls, Men, Women & Kids | Sports Gym Watch for All Smart Phones I Heart Rate and spo2 Monitor"
          ],
          [
           "Tokdis MX-1 Pro Bluetooth Calling Smartwatch - 1.69” LCD Display, Multiple Watch Faces, Sleep Monitor, Heart & SpO2 Monitoring, Multiple Sports Modes, Water Resistant"
          ],
          [
           "URBN 20000 mAh lithium_polymer Power Bank with 12 Watt Fast Charging, Camo"
          ],
          [
           "Sounce Gold Plated 3.5 mm Headphone Splitter for Computer 2 Male to 1 Female 3.5mm Headphone Mic Audio Y Splitter Cable Smartphone Headset to PC Adapter – (Black,20cm)"
          ],
          [
           "Noise ColorFit Ultra 2 Buzz 1.78\" AMOLED Bluetooth Calling Watch with 368*448px Always On Display, Premium Metallic Finish, 100+ Watch Faces, 100+ Sports Modes, Health Suite (Jet Black)"
          ],
          [
           "Redmi Note 11 (Horizon Blue, 6GB RAM, 64GB Storage)|90Hz FHD+ AMOLED Display | Qualcomm® Snapdragon™ 680-6nm | 33W Charger Included"
          ],
          [
           "Spigen Ultra Hybrid Back Cover Case Compatible with iPhone 14 Pro max (TPU + Poly Carbonate | Crystal Clear)"
          ],
          [
           "Oraimo 18W USB & Type-C Dual Output Super Fast Charger Wall Adapter PE2.0&Quick Charge 3.0 & Power Delivery 3.0 Compatible for iPhone 13/13 Mini/13 Pro Max/12/12 Pro Max, iPad Mini/Pro, Pixel, Galaxy, Airpods Pro"
          ],
          [
           "LAPSTER 12pcs Spiral Cable Protectors for Charger, Wires, Data Charger Cable Protector for Computers, Cell Phones etc.(Grey)"
          ],
          [
           "MI REDMI 9i Sport (Carbon Black, 64 GB) (4 GB RAM)"
          ],
          [
           "Fire-Boltt Ninja 3 Smartwatch Full Touch 1.69 \" & 60 Sports Modes with IP68, Sp02 Tracking, Over 100 Cloud based watch faces ( Green )"
          ],
          [
           "Lava A1 Josh 21(Blue Silver) -Dual Sim,Call Blink Notification,Military Grade Certified with 4 Day Battery Backup, Keypad Mobile"
          ],
          [
           "POPIO Tempered Glass Compatible for iPhone 13 / iPhone 13 Pro/iPhone 14 (Transparent) Edge to Edge Full Screen Coverage with Installation Kit, Pack of 2"
          ],
          [
           "Amazon Basics USB Type-C to USB-A 2.0 Male Fast Charging Cable for Laptop - 3 Feet (0.9 Meters), Black"
          ],
          [
           "Amozo Ultra Hybrid Camera and Drop Protection Back Cover Case for iPhone 13 (Polycarbonate| Back Transparent - Sides Black)"
          ],
          [
           "Pinnaclz Original Combo of 2 Micro USB Fast Charging Cable, USB Charging Cable for Data Transfer Perfect for Android Smart Phones White 1.2 Meter Made in India (Pack of 2)"
          ],
          [
           "FLiX Usb Charger,Flix (Beetel) Bolt 2.4 Dual Poart,5V/2.4A/12W Usb Wall Charger Fast Charging,Adapter For Android/Iphone 11/Xs/Xs Max/Xr/X/8/7/6/Plus,Ipad Pro/Air 2/Mini 3/4,Samsung S4/S5 & More-Black"
          ],
          [
           "Redmi 9A Sport (Coral Green, 3GB RAM, 32GB Storage) | 2GHz Octa-core Helio G25 Processor | 5000 mAh Battery"
          ],
          [
           "Prolet Classic Bumper Case Cover for Samsung Galaxy Watch 4 44mm TPU Plated Full Screen Protector (Black)"
          ],
          [
           "Samsung Galaxy S20 FE 5G (Cloud Navy, 8GB RAM, 128GB Storage) with No Cost EMI & Additional Exchange Offers"
          ],
          [
           "Ambrane 2 in 1 Type-C & Micro USB Cable with 60W / 3A Fast Charging, 480 mbps High Data, PD Technology & Quick Charge 3.0, Compatible with All Type-C & Micro USB Devices (ABDC-10, Black)"
          ],
          [
           "Ambrane 60W / 3A Fast Charging Output Cable with Type-C to USB for Mobile, Neckband, True Wireless Earphone Charging, 480mbps Data Sync Speed, 1m Length (ACT - AZ10, Black)"
          ],
          [
           "WeCool S5 Long Selfie Stick, with Large Reinforced Tripod Stand up to 61 Inch / 156 Cms, Ultra Long Multi Function Bluetooth Selfie Stick with 1/4 Screw Compatible with Gopro, Camera, and Ring Light"
          ],
          [
           "POCO C31 (Royal Blue, 64 GB) (4 GB RAM)"
          ],
          [
           "Noise ColorFit Pulse Grand Smart Watch with 1.69\"(4.29cm) HD Display, 60 Sports Modes, 150 Watch Faces, Fast Charge, Spo2, Stress, Sleep, Heart Rate Monitoring & IP68 Waterproof (Electric Blue)"
          ],
          [
           "Fire-Boltt Visionary 1.78\" AMOLED Bluetooth Calling Smartwatch with 368*448 Pixel Resolution 100+ Sports Mode, TWS Connection, Voice Assistance, SPO2 & Heart Rate Monitoring"
          ],
          [
           "Amazon Basics 2 Amp USB Wall Charger & Micro USB Cable (White)"
          ],
          [
           "Mobilife Bluetooth Extendable Selfie Stick with Tripod Stand and Wireless Remote,3-in-1 Multifunctional Selfie Stick Tripod for iPhone Samsung Mi Realme Oppo Vivo Google More,Black"
          ],
          [
           "Ambrane 27000mAh Power Bank, 20W Fast Charging, Triple Output, Type C PD (Input & Output), Quick Charge, Li-Polymer, Multi-Layer Protection for iPhone, Smartphones & Other Devices (Stylo Pro, Black)"
          ],
          [
           "STRIFF Wall Mount Phone Holder Wall Mount with Adhesive Strips, Charging Holder Compatible with iPhone, Smartphone and Mini Tablet (Pack of 1) (White)"
          ],
          [
           "Fire-Boltt Tank 1.85\" Bluetooth Calling Smart Watch, 123 Sports Mode, 8 UI Interactions, Built in Speaker & Mic, 7 Days Battery & Fire-Boltt Health Suite"
          ],
          [
           "Elv Aluminium Adjustable Mobile Phone Foldable Holder Tabletop Stand Dock Mount for All Smartphones, Tabs, Kindle, iPad (Moonlight Silver)"
          ],
          [
           "Samsung Galaxy M13 5G (Stardust Brown, 6GB, 128GB Storage) | 5000mAh Battery | Upto 12GB RAM with RAM Plus"
          ],
          [
           "DYAZO USB 3.0 Type C Female to USB A Male Connector/Converter/Adapter Compatible for Samsung Galaxy Note s 20 10 Plus Ultra,Google Pixel 4 5 3 2 & Other Type-c Devices"
          ],
          [
           "KINGONE Wireless Charging Pencil (2nd Generation) for iPad with Magnetic and Tilt Sensitive, Palm Rejection, Compatible with Apple iPad Pro 11 inch 1/2/3/4, iPad Pro 12.9 Inch 3/4/5/6, iPad Air 4/5, mini6"
          ],
          [
           "boAt BassHeads 100 in-Ear Wired Headphones with Mic (Black)"
          ],
          [
           "boAt Airdopes 141 Bluetooth Truly Wireless in Ear Earbuds with mic, 42H Playtime, Beast Mode(Low Latency Upto 80ms) for Gaming, ENx Tech, ASAP Charge, IWP, IPX4 Water Resistance (Bold Black)"
          ],
          [
           "Fire-Boltt Phoenix Smart Watch with Bluetooth Calling 1.3\",120+ Sports Modes, 240*240 PX High Res with SpO2, Heart Rate Monitoring & IP67 Rating"
          ],
          [
           "boAt Wave Call Smart Watch, Smart Talk with Advanced Dedicated Bluetooth Calling Chip, 1.69” HD Display with 550 NITS & 70% Color Gamut, 150+ Watch Faces, Multi-Sport Modes,HR,SpO2, IP68(Active Black)"
          ],
          [
           "SanDisk Cruzer Blade 32GB USB Flash Drive"
          ],
          [
           "Logitech B170 Wireless Mouse, 2.4 GHz with USB Nano Receiver, Optical Tracking, 12-Months Battery Life, Ambidextrous, PC/Mac/Laptop - Black"
          ],
          [
           "Storio Kids Toys LCD Writing Tablet 8.5Inch E-Note Pad Best Birthday Gift for Girls Boys, Multicolor (SC1667)"
          ],
          [
           "boAt Airdopes 121v2 in-Ear True Wireless Earbuds with Upto 14 Hours Playback, 8MM Drivers, Battery Indicators, Lightweight Earbuds & Multifunction Controls (Active Black, with Mic)"
          ],
          [
           "SKE Bed Study Table Portable Wood Multifunction Laptop-Table Lapdesk for Children Bed Foldabe Table Work with Tablet Slot & Cup Holder Brown Black"
          ],
          [
           "SanDisk Ultra® microSDXC™ UHS-I Card, 64GB, 140MB/s R, 10 Y Warranty, for Smartphones"
          ],
          [
           "Noise Pulse Go Buzz Smart Watch Bluetooth Calling with 1.69\" Display, 550 NITS, 150+ Cloud Watch Face, SPo2, Heart Rate Tracking, 100 Sports Mode with Auto Detection, Longer Battery (Jet Black)"
          ],
          [
           "boAt Rockerz 255 Pro+ in-Ear Bluetooth Neckband with Upto 40 Hours Playback, ASAP  Charge, IPX7, Dual Pairing, BT v5.0, with Mic (Active Black)"
          ],
          [
           "STRIFF Adjustable Laptop Tabletop Stand Patented Riser Ventilated Portable Foldable Compatible with MacBook Notebook Tablet Tray Desk Table Book with Free Phone Stand (Black)"
          ],
          [
           "ZEBRONICS Zeb-Bro in Ear Wired Earphones with Mic, 3.5mm Audio Jack, 10mm Drivers, Phone/Tablet Compatible(Black)"
          ],
          [
           "JBL C100SI Wired In Ear Headphones with Mic, JBL Pure Bass Sound, One Button Multi-function Remote, Angled Buds for Comfort fit (Black)"
          ],
          [
           "boAt Rockerz 450 Bluetooth On Ear Headphones with Mic, Upto 15 Hours Playback, 40MM Drivers, Padded Ear Cushions, Integrated Controls and Dual Modes(Luscious Black)"
          ],
          [
           "boAt Wave Lite Smartwatch with 1.69\" HD Display, Sleek Metal Body, HR & SpO2 Level Monitor, 140+ Watch Faces, Activity Tracker, Multiple Sports Modes, IP68 & 7 Days Battery Life(Active Black)"
          ],
          [
           "JBL C50HI, Wired in Ear Headphones with Mic, One Button Multi-Function Remote, Lightweight & Comfortable fit (Black)"
          ],
          [
           "LAPSTER Spiral Charger Spiral Charger Cable Protectors for Wires Data Cable Saver Charging Cord Protective Cable Cover Set of 3 (12 Pieces)"
          ],
          [
           "pTron Bullet Pro 36W PD Quick Charger, 3 Port Fast Car Charger Adapter - Compatible with All Smartphones & Tablets (Black)"
          ],
          [
           "HP v236w USB 2.0 64GB Pen Drive, Metal"
          ],
          [
           "HP X1000 Wired USB Mouse with 3 Handy Buttons, Fast-Moving Scroll Wheel and Optical Sensor works on most Surfaces (H2C21AA, Black/Grey)"
          ],
          [
           "Portronics Toad 23 Wireless Optical Mouse with 2.4GHz, USB Nano Dongle, Optical Orientation, Click Wheel, Adjustable DPI(Black)"
          ],
          [
           "Noise ColorFit Pulse Grand Smart Watch with 1.69\"(4.29cm) HD Display, 60 Sports Modes, 150 Watch Faces, Fast Charge, Spo2, Stress, Sleep, Heart Rate Monitoring & IP68 Waterproof (Jet Black)"
          ],
          [
           "Fire-Boltt Ninja 3 Smartwatch Full Touch 1.69 & 60 Sports Modes with IP68, Sp02 Tracking, Over 100 Cloud based watch faces - Black"
          ],
          [
           "Boult Audio BassBuds X1 in-Ear Wired Earphones with 10mm Extra Bass Driver and HD Sound with mic(Black)"
          ],
          [
           "Dell KB216 Wired Multimedia USB Keyboard with Super Quite Plunger Keys with Spill-Resistant – Black"
          ],
          [
           "Fire-Boltt India's No 1 Smartwatch Brand Talk 2 Bluetooth Calling Smartwatch with Dual Button, Hands On Voice Assistance, 60 Sports Modes, in Built Mic & Speaker with IP68 Rating"
          ],
          [
           "Dell MS116 1000Dpi USB Wired Optical Mouse, Led Tracking, Scrolling Wheel, Plug and Play."
          ],
          [
           "Boya ByM1 Auxiliary Omnidirectional Lavalier Condenser Microphone with 20ft Audio Cable (Black)"
          ],
          [
           "Wayona Nylon Braided USB to Lightning Fast Charging and Data Sync Cable Compatible for iPhone 13, 12,11, X, 8, 7, 6, 5, iPad Air, Pro, Mini (3 FT Pack of 1, Grey)"
          ],
          [
           "Duracell Ultra Alkaline AA Battery, 8 Pcs"
          ],
          [
           "Classmate Octane Neon- Blue Gel Pens(Pack of 5)|Smooth Writing Pen|Attractive body colour for Boys & Girls|Waterproof ink for smudge free writing|Preferred by Students for Exam|Study at home essential"
          ],
          [
           "3M Scotch Double Sided Heavy Duty Tape(1m holds 4.5Kgs) for indoor hanging applications (Photo frames, Mirrors, Key Holders, Car Interiors, Extension Boards, Wall decoration, etc)(L: 3m, W: 24mm)"
          ],
          [
           "boAt Bassheads 152 in Ear Wired Earphones with Mic(Active Black)"
          ],
          [
           "Fire-Boltt Visionary 1.78\" AMOLED Bluetooth Calling Smartwatch with 368*448 Pixel Resolution 100+ Sports Mode, TWS Connection, Voice Assistance, SPO2 & Heart Rate Monitoring"
          ],
          [
           "boAt BassHeads 122 Wired Earphones with Heavy Bass, Integrated Controls and Mic (Gun Metal)"
          ],
          [
           "Dell USB Wireless Keyboard and Mouse Set- KM3322W, Anti-Fade & Spill-Resistant Keys, up to 36 Month Battery Life, 3Y Advance Exchange Warranty, Black"
          ],
          [
           "Ambrane Unbreakable 60W / 3A Fast Charging 1.5m Braided Type C Cable for Smartphones, Tablets, Laptops & other Type C devices, PD Technology, 480Mbps Data Sync, Quick Charge 3.0 (RCT15A, Black)"
          ],
          [
           "Sounce Fast Phone Charging Cable & Data Sync USB Cable Compatible for iPhone 13, 12,11, X, 8, 7, 6, 5, iPad Air, Pro, Mini & iOS Devices"
          ],
          [
           "Noise ColorFit Pro 4 Advanced Bluetooth Calling Smart Watch with 1.72\" TruView Display, Fully-Functional Digital Crown, 311 PPI, 60Hz Refresh Rate, 500 NITS Brightness (Charcoal Black)"
          ],
          [
           "Seagate Expansion 1TB External HDD - USB 3.0 for Windows and Mac with 3 yr Data Recovery Services, Portable Hard Drive (STKM1000400)"
          ],
          [
           "HP w100 480P 30 FPS Digital Webcam with Built-in Mic, Plug and Play Setup, Wide-Angle View for Video Calling on Skype, Zoom, Microsoft Teams and Other Apps (Black)"
          ],
          [
           "ZEBRONICS Zeb-Dash Plus 2.4GHz High Precision Wireless Mouse with up to 1600 DPI, Power Saving Mode, Nano Receiver and Plug & Play Usage - USB"
          ],
          [
           "boAt Deuce USB 300 2 in 1 Type-C & Micro USB Stress Resistant, Tangle-Free, Sturdy Cable with 3A Fast Charging & 480mbps Data Transmission, 10000+ Bends Lifespan and Extended 1.5m Length(Martian Red)"
          ],
          [
           "Zebronics Zeb-Companion 107 USB Wireless Keyboard and Mouse Set with Nano Receiver (Black)"
          ],
          [
           "SYVO WT 3130 Aluminum Tripod (133CM), Universal Lightweight Tripod with Mobile Phone Holder Mount & Carry Bag for All Smart Phones, Gopro, Cameras - Brown"
          ],
          [
           "Boult Audio Airbass Z20 True Wireless, 40H Battery Life, Zen ENC Mic, Type-C Lightning Boult Fast Charging (10Mins=100Mins), BoomX Tech Bass, ENC, IPX5 in Ear Earbuds with mic (Green)"
          ],
          [
           "Portronics Konnect L 1.2M Fast Charging 3A 8 Pin USB Cable with Charge & Sync Function for iPhone, iPad (Grey)"
          ],
          [
           "SanDisk Ultra Flair 64GB USB 3.0 Pen Drive, Multicolor"
          ],
          [
           "boAt Xtend Smartwatch with Alexa Built-in, 1.69” HD Display, Multiple Watch Faces, Stress Monitor, Heart & SpO2 Monitoring, 14 Sports Modes, Sleep Monitor, 5 ATM & 7 Days Battery(Charcoal Black)"
          ],
          [
           "Tygot Bluetooth Extendable Selfie Sticks with Wireless Remote and Tripod Stand, 3-in-1 Multifunctional Selfie Stick with Tripod Stand Compatible with iPhone/OnePlus/Samsung/Oppo/Vivo and All Phones"
          ],
          [
           "boAt Rockerz 330 in-Ear Bluetooth Neckband with Upto 30 Hours Playtime, ASAP  Charge, Signature Sound, Dual Pairing & IPX5 with Mic (Active Black)"
          ],
          [
           "Casio FX-991ES Plus-2nd Edition Scientific Calculator, Black"
          ],
          [
           "TP-Link AC750 Wifi Range Extender | Up to 750Mbps | Dual Band WiFi Extender, Repeater, Wifi Signal Booster, Access Point| Easy Set-Up | Extends Wifi to Smart Home & Alexa Devices (RE200)"
          ],
          [
           "boAt Bassheads 242 in Ear Wired Earphones with Mic(Blue)"
          ],
          [
           "DIGITEK® (DTR 260 GT) Gorilla Tripod/Mini 33 cm (13 Inch) Tripod for Mobile Phone with Phone Mount & Remote, Flexible Gorilla Stand for DSLR & Action Cameras"
          ],
          [
           "Samsung EVO Plus 128GB microSDXC UHS-I U3 130MB/s Full HD & 4K UHD Memory Card with Adapter (MB-MC128KA), Blue"
          ],
          [
           "pTron Solero TB301 3A Type-C Data and Fast Charging Cable, Made in India, 480Mbps Data Sync, Strong and Durable 1.5-Meter Nylon Braided USB Cable for Type-C Devices for Charging Adapter (Black)"
          ],
          [
           "HP 805 Black Original Ink Cartridge"
          ],
          [
           "Sounce Spiral Charger Cable Protector Data Cable Saver Charging Cord Protective Cable Cover Headphone MacBook Laptop Earphone Cell Phone Set of 3 (Cable Protector (12 Units))"
          ],
          [
           "GIZGA essentials Universal Silicone Keyboard Protector Skin for 15.6-inches Laptop (5 x 6 x 3 inches)"
          ],
          [
           "SanDisk Ultra 128 GB USB 3.0 Pen Drive (Black)"
          ],
          [
           "Boult Audio ZCharge Bluetooth Wireless in Ear Earphones with Mic, 40H Playtime and Super Fast Charging, Environmental Noise Cancellation for Pro+ Calling and IPX5 Water Resistant (Black)"
          ],
          [
           "Dell WM118 Wireless Mouse, 2.4 Ghz with USB Nano Receiver, Optical Tracking, 12-Months Battery Life, Ambidextrous, Pc/Mac/Laptop - Black."
          ],
          [
           "Boult Audio AirBass PowerBuds with Inbuilt Powerbank, 120H Total Playtime, IPX7 Fully Waterproof, Lightning Boult Type-C Fast Charging, Low Latency Gaming, TWS Earbuds with Pro+ Calling Mic (Black)"
          ],
          [
           "Eveready 1015 Carbon Zinc AA Battery - 10 Pieces"
          ],
          [
           "Zebronics Zeb-Transformer-M Optical USB Gaming Mouse with LED Effect(Black)"
          ],
          [
           "PIDILITE Fevicryl Acrylic Colours Sunflower Kit (10 Colors x 15 ml) DIY Paint, Rich Pigment, Non-Craking Paint for Canvas, Wood, Leather, Earthenware, Metal, Diwali Gifts for Diwali"
          ],
          [
           "STRIFF Mpad Mouse Mat 230X190X3mm Gaming Mouse Pad, Non-Slip Rubber Base, Waterproof Surface, Premium-Textured, Compatible with Laser and Optical Mice(Universe Black)"
          ],
          [
           "Gizga Essentials Hard Drive Case Shell, 6.35cm/2.5-inch, Portable Storage Organizer Bag for Earphone USB Cable Power Bank Mobile Charger Digital Gadget Hard Disk, Water Resistance Material, Black"
          ],
          [
           "Boult Audio FXCharge with ENC, 32H Playtime, 5min=7H Type C Fast Charging, Zen ENC, 14.2 mm BoomX Rich Bass, IPX5, Bluetooth Wireless in Ear Earphones Neckband with mic (Black)"
          ],
          [
           "Boult Audio Probass Curve Bluetooth Wireless in Ear Earphones with Mic with Ipx5 Water Resistant, 12H Battery Life & Extra Bass (Black)"
          ],
          [
           "Ambrane 20000mAh Power Bank with 20W Fast Charging, Triple Output, Power Delivery, Type C Input, Made in India, Multi-Layer Protection, Li-Polymer + Type C Cable (Stylo-20k, Black)"
          ],
          [
           "boAt Micro USB 55 Tangle-free, Sturdy Micro USB Cable with 3A Fast Charging & 480mbps Data Transmission (Black)"
          ],
          [
           "Casio FX-82MS 2nd Gen Non-Programmable Scientific Calculator, 240 Functions and 2-line Display, Black"
          ],
          [
           "Tygot 10 Inches Big LED Ring Light for Camera, Phone tiktok YouTube Video Shooting and Makeup, 10\" inch Ring Light with 7 Feet Long Foldable and Lightweight Tripod Stand"
          ],
          [
           "HP X200 Wireless Mouse with 2.4 GHz Wireless connectivity, Adjustable DPI up to 1600, ambidextrous Design, and 18-Month Long Battery Life. 3-Years Warranty (6VY95AA)"
          ],
          [
           "Oakter Mini UPS for 12V WiFi Router Broadband Modem | Backup Upto 4 Hours | WiFi Router UPS Power Backup During Power Cuts | UPS for 12V Router Broadband Modem | Current Surge & Deep Discharge Protection"
          ],
          [
           "TP-Link Archer AC1200 Archer C6 Wi-Fi Speed Up to 867 Mbps/5 GHz + 400 Mbps/2.4 GHz, 5 Gigabit Ports, 4 External Antennas, MU-MIMO, Dual Band, WiFi Coverage with Access Point Mode, Black"
          ],
          [
           "boAt Rockerz 550 Over Ear Bluetooth Headphones with Upto 20 Hours Playback, 50MM Drivers, Soft Padded Ear Cushions and Physical Noise Isolation, Without Mic (Black)"
          ],
          [
           "Xiaomi Mi Wired in Ear Earphones with Mic Basic with Ultra Deep Bass & Aluminum Alloy Sound Chamber (Black)"
          ],
          [
           "Zodo 8. 5 inch LCD E-Writer Electronic Writing Pad/Tablet Drawing Board (Paperless Memo Digital Tablet)"
          ],
          [
           "Zebronics ZEB-KM2100 Multimedia USB Keyboard Comes with 114 Keys Including 12 Dedicated Multimedia Keys & with Rupee Key"
          ],
          [
           "MI Usb Type-C Cable Smartphone (Black)"
          ],
          [
           "ZEBRONICS Zeb-Comfort Wired USB Mouse, 3-Button, 1000 DPI Optical Sensor, Plug & Play, for Windows/Mac, Black"
          ],
          [
           "boAt Rockerz 370 On Ear Bluetooth Headphones with Upto 12 Hours Playtime, Cozy Padded Earcups and Bluetooth v5.0, with Mic (Buoyant Black)"
          ],
          [
           "ZEBRONICS Zeb-Astra 20 Wireless BT v5.0 Portable Speaker with 10W RMS Output, TWS, 10H Backup Approx, Built in Rechargeable Battery FM Radio, AUX, mSD, USB, Call Function and Dual 52mm Drivers Multi"
          ],
          [
           "Gizga Essentials Spiral Cable Protector Cord Saver for Mac Charger, iPhone Charger, Wire Protector, Lightweight Durable Flexible Wire Winder for Charging Cables, Data Cables, Earphones, Pack of 10"
          ],
          [
           "Portronics Konnect L POR-1081 Fast Charging 3A Type-C Cable 1.2Meter with Charge & Sync Function for All Type-C Devices (Grey)"
          ],
          [
           "Panasonic CR-2032/5BE Lithium Coin Battery - Pack of 5"
          ],
          [
           "MemeHo® Smart Standard Multi-Purpose Laptop Table with Dock Stand/Study Table/Bed Table/Foldable and Portable/Ergonomic & Rounded Edges/Non-Slip Legs/Engineered Wood with Cup Holder (Black)"
          ],
          [
           "SanDisk Ultra Dual Drive Go USB Type C Pendrive for Mobile (Black, 128 GB, 5Y - SDDDC3-128G-I35)"
          ],
          [
           "boAt Xtend Smartwatch with Alexa Built-in, 1.69” HD Display, Multiple Watch Faces, Stress Monitor, Heart & SpO2 Monitoring, 14 Sports Modes, Sleep Monitor, 5 ATM & 7 Days Battery(Pitch Black)"
          ],
          [
           "Tizum Mouse Pad/ Computer Mouse Mat with Anti-Slip Rubber Base | Smooth Mouse Control | Spill-Resistant Surface for Laptop, Notebook, MacBook, Gaming, Laser/ Optical Mouse, 9.4”x 7.9”, Multicolored"
          ],
          [
           "Epson 003 65 ml for EcoTank L1110/L3100/L3101/L3110/L3115/L3116/L3150/L3151/L3152/L3156/L5190 Black Ink Bottle"
          ],
          [
           "ZEBRONICS Zeb-Thunder Bluetooth Wireless Over Ear Headphone FM, mSD, 9 hrs Playback with Mic (Black)"
          ],
          [
           "Quantum QHM-7406 Full-Sized Keyboard with (₹) Rupee Symbol, Hotkeys and 3-pieces LED function for Desktop/Laptop/Smart TV Spill-Resistant Wired USB Keyboard with 10 million keystrokes lifespan (Black)"
          ],
          [
           "STRIFF Laptop Tabletop Stand, Fold-Up, Adjustable, Ventilated, Portable Holder for Desk, Aluminum Foldable Laptop Ergonomic Compatibility with up to 15.6-inch Laptop, All Mac, Tab, and Mobile (Silver)"
          ],
          [
           "Logitech M221 Wireless Mouse, Silent Buttons, 2.4 GHz with USB Mini Receiver, 1000 DPI Optical Tracking, 18-Month Battery Life, Ambidextrous PC / Mac / Laptop - Charcoal Grey"
          ],
          [
           "AmazonBasics Flexible Premium HDMI Cable (Black, 4K@60Hz, 18Gbps), 3-Foot"
          ],
          [
           "Classmate Soft Cover 6 Subject Spiral Binding Notebook, Single Line, 300 Pages"
          ],
          [
           "HP 32GB Class 10 MicroSD Memory Card (U1 TF Card 32GB)"
          ],
          [
           "HP 150 Wireless USB Mouse with Ergonomic and ambidextrous Design, 1600 DPI Optical Tracking, 2.4 GHz Wireless connectivity, Dual-Function Scroll Wheel and 12 Month Long Battery Life. 3-Years Warranty."
          ],
          [
           "Duracell Rechargeable AA 1300mAh Batteries, 4Pcs"
          ],
          [
           "Portronics Konnect CL 20W POR-1067 Type-C to 8 Pin USB 1.2M Cable with Power Delivery & 3A Quick Charge Support, Nylon Braided for All Type-C and 8 Pin Devices, Green"
          ],
          [
           "boAt Airdopes 181 in-Ear True Wireless Earbuds with ENx  Tech, Beast  Mode(Low Latency Upto 60ms) for Gaming, with Mic, ASAP  Charge, 20H Playtime, Bluetooth v5.2, IPX4 & IWP (Cool Grey)"
          ],
          [
           "TP-Link USB Bluetooth Adapter for PC, 5.0 Bluetooth Dongle Receiver (UB500) Supports Windows 11/10/8.1/7 for Desktop, Laptop, Mouse, Keyboard, Printers, Headsets, Speakers, PS4/ Xbox Controllers"
          ],
          [
           "Portronics Konnect L 1.2M POR-1401 Fast Charging 3A 8 Pin USB Cable with Charge & Sync Function (White)"
          ],
          [
           "SanDisk Ultra Dual Drive Luxe USB Type C Flash Drive (Silver, 128 GB, 5Y - SDDDC4-128G-I35)"
          ],
          [
           "Noise ColorFit Pulse Smartwatch with 3.56 cm (1.4\") Full Touch HD Display, SpO2, Heart Rate, Sleep Monitors & 10-Day Battery - Jet Black"
          ],
          [
           "rts [2 Pack] Mini USB C Type C Adapter Plug, Type C Female to USB A Male Charger Charging Cable Adapter Converter compatible for iPhone, Samsung S20 ultra/S21/S10/S8/S9/MacBook Pro iPad Silver"
          ],
          [
           "HP 682 Black Original Ink Cartridge"
          ],
          [
           "Logitech H111 Wired On Ear Headphones With Mic Black"
          ],
          [
           "Digitek DTR 550 LW (67 Inch) Tripod For DSLR, Camera |Operating Height: 5.57 Feet | Maximum Load Capacity up to 4.5kg | Portable Lightweight Aluminum Tripod with 360 Degree Ball Head | Carry Bag Included (Black) (DTR 550LW)"
          ],
          [
           "MI Braided USB Type-C Cable for Charging Adapter (Red)"
          ],
          [
           "Duracell USB Lightning Apple Certified (Mfi) Braided Sync & Charge Cable For Iphone, Ipad And Ipod. Fast Charging Lightning Cable, 3.9 Feet (1.2M) - Black"
          ],
          [
           "TP-Link TL-WA850RE Single_Band 300Mbps RJ45 Wireless Range Extender, Broadband/Wi-Fi Extender, Wi-Fi Booster/Hotspot with 1 Ethernet Port, Plug and Play, Built-in Access Point Mode, White"
          ],
          [
           "COI Note Pad/Memo Book with Sticky Notes & Clip Holder with Pen for Gifting"
          ],
          [
           "Fujifilm Instax Mini Single Pack 10 Sheets Instant Film for Fuji Instant Cameras"
          ],
          [
           "Fire-Boltt Ring 3 Smart Watch 1.8 Biggest Display with Advanced Bluetooth Calling Chip, Voice Assistance,118 Sports Modes, in Built Calculator & Games, SpO2, Heart Rate Monitoring"
          ],
          [
           "Samsung Galaxy Watch4 Bluetooth(4.4 cm, Black, Compatible with Android only)"
          ],
          [
           "Noise Buds Vs104 Bluetooth Truly Wireless in Ear Earbuds with Mic, 30-Hours of Playtime, Instacharge, 13Mm Driver and Hyper Sync (Charcoal Black)"
          ],
          [
           "Duracell Ultra Alkaline AAA Battery, 8 Pcs"
          ],
          [
           "JBL C200SI, Premium in Ear Wired Earphones with Mic, Signature Sound, One Button Multi-Function Remote, Angled Earbuds for Comfort fit (Blue)"
          ],
          [
           "Acer EK220Q 21.5 Inch (54.61 cm) Full HD (1920x1080) VA Panel LCD Monitor with LED Back Light I 250 Nits I HDMI, VGA Ports I Eye Care Features Like Bluelight Shield, Flickerless & Comfy View (Black)"
          ],
          [
           "E-COSMOS 5V 1.2W Portable Flexible USB LED Light (Colors May Vary, Small) - Set of 2 Pieces"
          ],
          [
           "boAt Dual Port Rapid Car Charger (Qualcomm Certified) with Quick Charge 3.0 + Free Micro USB Cable - (Black)"
          ],
          [
           "Zebronics ZEB-COUNTY 3W Wireless Bluetooth Portable Speaker With Supporting Carry Handle, USB, SD Card, AUX, FM & Call Function. (Green)"
          ],
          [
           "KINGONE Upgraded Stylus Pen, iPad Pencil, Ultra High Precision & Sensitivity, Palm Rejection, Prevents False ON/Off Touch, Power Display, Tilt Sensitivity, Magnetic Adsorption for iPad 2018 and Later"
          ],
          [
           "LG 80 cm (32 inches) HD Ready Smart LED TV 32LM563BPTC (Dark Iron Gray)"
          ],
          [
           "Zebronics Wired Keyboard and Mouse Combo with 104 Keys and a USB Mouse with 1200 DPI - JUDWAA 750"
          ],
          [
           "JBL Tune 215BT, 16 Hrs Playtime with Quick Charge, in Ear Bluetooth Wireless Earphones with Mic, 12.5mm Premium Earbuds with Pure Bass, BT 5.0, Dual Pairing, Type C & Voice Assistant Support (Black)"
          ],
          [
           "Gizga Essentials Professional 3-in-1 Cleaning Kit for Camera, Lens, Binocular, Laptop, TV, Monitor, Smartphone, Tablet (Includes: Cleaning Liquid 100ml, Plush Microfiber Cloth, Dust Removal Brush)"
          ],
          [
           "SanDisk Ultra Dual 64 GB USB 3.0 OTG Pen Drive (Black)"
          ],
          [
           "TP-Link Tapo 360° 2MP 1080p Full HD Pan/Tilt Home Security Wi-Fi Smart Camera| Alexa Enabled| 2-Way Audio| Night Vision| Motion Detection| Sound and Light Alarm| Indoor CCTV (Tapo C200) White"
          ],
          [
           "boAt Airdopes 171 in Ear Bluetooth True Wireless Earbuds with Upto 13 Hours Battery, IPX4, Bluetooth v5.0, Dual Tone Finish with Mic (Mysterious Blue)"
          ],
          [
           "Duracell Plus AAA Rechargeable Batteries (750 mAh) Pack of 4"
          ],
          [
           "tizum HDMI to VGA Adapter Cable 1080P for Projector, Computer, Laptop, TV, Projectors & TV"
          ],
          [
           "Samsung 80 cm (32 Inches) Wondertainment Series HD Ready LED Smart TV UA32T4340BKXXL (Glossy Black)"
          ],
          [
           "Logitech B100 Wired USB Mouse, 3 yr Warranty, 800 DPI Optical Tracking, Ambidextrous PC/Mac/Laptop - Black"
          ],
          [
           "Noise Pulse Buzz 1.69\" Bluetooth Calling Smart Watch with Call Function, 150 Watch Faces, 60 Sports Modes, Spo2 & Heart Rate Monitoring, Calling Smart Watch for Men & Women - Jet Black"
          ],
          [
           "Classmate 2100117 Soft Cover 6 Subject Spiral Binding Notebook, Single Line, 300 Pages"
          ],
          [
           "Flix Micro Usb Cable For Smartphone (Black)"
          ],
          [
           "AirCase Rugged Hard Drive Case for 2.5-inch Western Digital, Seagate, Toshiba, Portable Storage Shell for Gadget Hard Disk USB Cable Power Bank Mobile Charger Earphone, Waterproof (Black)"
          ],
          [
           "Noise Buds VS402 Truly Wireless in Ear Earbuds, 35-Hours of Playtime, Instacharge, Quad Mic with ENC, Hyper Sync, Low Latency, 10mm Driver, Bluetooth v5.3 and Breathing LED Lights (Neon Black)"
          ],
          [
           "JBL Go 2, Wireless Portable Bluetooth Speaker with Mic, JBL Signature Sound, Vibrant Color Options with IPX7 Waterproof & AUX (Blue)"
          ],
          [
           "Tizum High Speed HDMI Cable with Ethernet | Supports 3D 4K | for All HDMI Devices Laptop Computer Gaming Console TV Set Top Box (1.5 Meter/ 5 Feet)"
          ],
          [
           "Robustrion Tempered Glass Screen Protector for iPad 10.2 inch 9th Gen Generation 2021 8th Gen 2020 7th Gen 2019"
          ],
          [
           "Redgear Pro Wireless Gamepad with 2.4GHz Wireless Technology, Integrated Dual Intensity Motor, Illuminated Keys for PC(Compatible with Windows 7/8/8.1/10 only)"
          ],
          [
           "Logitech M235 Wireless Mouse, 1000 DPI Optical Tracking, 12 Month Life Battery, Compatible with Windows, Mac, Chromebook/PC/Laptop"
          ],
          [
           "STRIFF 12 Pieces Highly Flexible Silicone Micro USB Protector, Mouse Cable Protector, Suit for All Cell Phones, Computers and Chargers (White)"
          ],
          [
           "TP-link N300 WiFi Wireless Router TL-WR845N | 300Mbps Wi-Fi Speed | Three 5dBi high gain Antennas | IPv6 Compatible | AP/RE/WISP Mode | Parental Control | Guest Network"
          ],
          [
           "Logitech MK240 Nano Wireless USB Keyboard and Mouse Set, 12 Function Keys 2.4GHz Wireless, 1000DPI, Spill-Resistant Design, PC/Mac, Black/Chartreuse Yellow"
          ],
          [
           "Callas Multipurpose Foldable Laptop Table with Cup Holder | Drawer | Mac Holder | Table Holder Study Table, Breakfast Table, Foldable and Portable/Ergonomic & Rounded Edges/Non-Slip Legs (WA-27-Black)"
          ],
          [
           "Casio MJ-12D 150 Steps Check and Correct Desktop Calculator"
          ],
          [
           "Tukzer Capacitive Stylus Pen for Touch Screens Devices, Fine Point, Lightweight Metal Body with Magnetism Cover Cap for Smartphones/Tablets/iPad/iPad Pro/iPhone (Grey)"
          ],
          [
           "Amazon Basics Multipurpose Foldable Laptop Table with Cup Holder, Brown"
          ],
          [
           "Kanget [2 Pack] Type C Female to USB A Male Charger | Charging Cable Adapter Converter compatible for iPhone 14, 13, 12,11 Pro Max/Mini/XR/XS/X/SE, Samsung S20 ultra/S21/S10/S8/S9/MacBook Pro iPad (Grey)"
          ],
          [
           "Amazon Basics Magic Slate 8.5-inch LCD Writing Tablet with Stylus Pen, for Drawing, Playing, Noting by Kids & Adults, Black"
          ],
          [
           "Zebronics ZEB-90HB USB Hub, 4 Ports, Pocket Sized, Plug & Play, for Laptop & Computers"
          ],
          [
           "Noise ColorFit Pro 2 Full Touch Control Smart Watch with 35g Weight & Upgraded LCD Display,IP68 Waterproof,Heart Rate Monitor,Sleep & Step Tracker,Call & Message Alerts & Long Battery Life (Jet Black)"
          ],
          [
           "Zebronics Zeb Buds C2 in Ear Type C Wired Earphones with Mic, Braided 1.2 Metre Cable, Metallic Design, 10mm Drivers, in Line Mic & Volume Controller (Blue)"
          ],
          [
           "Redgear A-15 Wired Gaming Mouse with Upto 6400 DPI, RGB & Driver Customization for PC(Black)"
          ],
          [
           "JBL Commercial CSLM20B Auxiliary Omnidirectional Lavalier Microphone with Battery for Content Creation, Voiceover/Dubbing, Recording (Black,Small)"
          ],
          [
           "Fire-Boltt India's No 1 Smartwatch Brand Ring Bluetooth Calling with SpO2 & 1.7” Metal Body with Blood Oxygen Monitoring, Continuous Heart Rate, Full Touch & Multiple Watch Faces"
          ],
          [
           "Eveready Red 1012 AAA Batteries - Pack of 10"
          ],
          [
           "SanDisk Extreme microSD UHS I Card 128GB for 4K Video on Smartphones,Action Cams 190MB/s Read,90MB/s Write"
          ],
          [
           "Portronics MPORT 31C 4-in-1 USB Hub (Type C to 4 USB-A Ports) with Fast Data Transfer"
          ],
          [
           "Infinity (JBL Fuze Pint, Wireless Ultra Portable Mini Speaker with Mic, Deep Bass, Dual Equalizer, Bluetooth 5.0 with Voice Assistant Support for Mobiles (Black)"
          ],
          [
           "AirCase Protective Laptop Bag Sleeve fits Upto 13.3\" Laptop/ MacBook, Wrinkle Free, Padded, Waterproof Light Neoprene case Cover Pouch, for Men & Women, Black- 6 Months Warranty"
          ],
          [
           "Brand Conquer 6 in 1 with OTG, SD Card Reader, USB Type C, USB 3.0 and Micro USB, for Memory Card | Portable Card Reader | Compatible with TF, SD, Micro SD, SDHC, SDXC, MMC, RS-MMC, Micro SDXC"
          ],
          [
           "TP-Link AC750 Dual Band Wireless Cable Router, 4 10/100 LAN + 10/100 WAN Ports, Support Guest Network and Parental Control, 750Mbps Speed Wi-Fi, 3 Antennas (Archer C20) Blue, 2.4 GHz"
          ],
          [
           "Parker Quink Ink Bottle, Blue"
          ],
          [
           "STRIFF Laptop Stand Adjustable Laptop Computer Stand Multi-Angle Stand Phone Stand Portable Foldable Laptop Riser Notebook Holder Stand Compatible for 9 to 15.6” Laptops Black(Black)"
          ],
          [
           "Logitech MK215 Wireless Keyboard and Mouse Combo for Windows, 2.4 GHz Wireless, Compact Design, 2-Year Battery Life(Keyboard),5 Month Battery Life(Mouse) PC/Laptop- Black"
          ],
          [
           "boAt Bassheads 225 in Ear Wired Earphones with Mic(Blue)"
          ],
          [
           "Luxor 5 Subject Single Ruled Notebook - A4, 70 GSM, 300 pages"
          ],
          [
           "Duracell Chhota Power AA Battery Set of 10 Pcs"
          ],
          [
           "Zebronics Zeb-Transformer Gaming Keyboard and Mouse Combo (USB, Braided Cable)"
          ],
          [
           "SanDisk Ultra 64 GB USB Pen Drives (SDDDC2-064G-I35, Black, Silver)"
          ],
          [
           "Parker Classic Gold Gold Trim Ball Pen"
          ],
          [
           "boAt Flash Edition Smart Watch with Activity Tracker, Multiple Sports Modes, 1.3\" Screen, 170+ Watch Faces, Sleep Monitor, Gesture, Camera & Music Control, IP68 & 7 Days Battery Life(Lightning Black)"
          ],
          [
           "Tarkan Portable Folding Laptop Desk for Bed, Lapdesk with Handle, Drawer, Cup & Mobile/Tablet Holder for Study, Eating, Work (Black)"
          ],
          [
           "Ambrane Unbreakable 3 in 1 Fast Charging Braided Multipurpose Cable for Speaker with 2.1 A Speed - 1.25 meter, Black"
          ],
          [
           "Quantum RJ45 Ethernet Patch Cable/LAN Router Cable with Heavy Duty Gold Plated Connectors Supports Hi-Speed Gigabit Upto 1000Mbps, Waterproof and Durable,1-Year Warranty-32.8 Feet (10 Meters)(White)"
          ],
          [
           "HP USB Wireless Spill Resistance Keyboard and Mouse Set with 10m Working Range 2.4G Wireless Technology / 3 Years Warranty (4SC12PA), Black"
          ],
          [
           "boAt A400 USB Type-C to USB-A 2.0 Male Data Cable, 2 Meter (Black)"
          ],
          [
           "HUMBLE Dynamic Lapel Collar Mic Voice Recording Filter Microphone for Singing Youtube SmartPhones, Black"
          ],
          [
           "Boult Audio Omega with 30dB ANC+ ENC, 32H Playtime, 45ms Latency Gaming Mode, Quad Mic Zen ENC, 3 Equalizer Modes, ANC, Type-C Fast Charging, IPX5 True Wireless in Ear Bluetooth Earbuds (Black)"
          ],
          [
           "STRIFF UPH2W Multi Angle Tablet/Mobile Stand. Holder for iPhone, Android, Samsung, OnePlus, Xiaomi. Portable,Foldable Stand.Perfect for Bed,Office, Home,Gift and Desktop (White)"
          ],
          [
           "Amazon Basics Wireless Mouse | 2.4 GHz Connection, 1600 DPI | Type - C Adapter | Upto 12 Months of Battery Life | Ambidextrous Design | Suitable for PC/Mac/Laptop"
          ],
          [
           "Crucial RAM 8GB DDR4 3200MHz CL22 (or 2933MHz or 2666MHz) Laptop Memory CT8G4SFRA32A"
          ],
          [
           "APC Back-UPS BX600C-IN 600VA / 360W, 230V, UPS System, an Ideal Power Backup & Protection for Home Office, Desktop PC & Home Electronics"
          ],
          [
           "Luxor 5 Subject Single Ruled Notebook - A5 Size, 70 GSM, 300 Pages"
          ],
          [
           "Zebronics Zeb-Jaguar Wireless Mouse, 2.4GHz with USB Nano Receiver, High Precision Optical Tracking, 4 Buttons, Plug & Play, Ambidextrous, for PC/Mac/Laptop (Black+Grey)"
          ],
          [
           "Boult Audio Truebuds with 30H Playtime, IPX7 Waterproof, Lightning Boult™ Type C Fast Charging (10 Min=100Mins), BoomX™ Tech Rich Bass, Pro+ Calling HD Mic, Touch Controls in Ear Earbuds TWS (Grey)"
          ],
          [
           "Wembley LCD Writing Pad/Tab | Writing, Drawing, Reusable, Portable Pad with Colorful Letters | 9 Inch Graphic Tablet (Assorted)"
          ],
          [
           "Gizga Essentials Multi-Purpose Portable & Foldable Wooden Desk for Bed Tray, Laptop Table, Study Table (Black)"
          ],
          [
           "E-COSMOS Plug in LED Night Light Mini USB LED Light Flexible USB LED Ambient Light Mini USB LED Light, LED Portable car Bulb, Indoor, Outdoor, Reading, Sleep (4 pcs)"
          ],
          [
           "Duracell USB C To Lightning Apple Certified (Mfi) Braided Sync & Charge Cable For Iphone, Ipad And Ipod. Fast Charging Lightning Cable, 3.9 Feet (1.2M) - Black"
          ],
          [
           "Noise Buds VS201 V2 in-Ear Truly Wireless Earbuds with Dual Equalizer | with Mic | Total 14-Hour Playtime | Full Touch Control | IPX5 Water Resistance and Bluetooth v5.1 (Olive Green)"
          ],
          [
           "Lapster Gel Mouse pad with Wrist Rest , Gaming Mouse Pad with Lycra Cloth Nonslip for Laptop , Computer, , Home & Office (Black)"
          ],
          [
           "Gizga Essentials Earphone Carrying Case, Multi-Purpose Pocket Storage Travel Organizer for Earphones, Headset, Pen Drives, SD Cards, Shock-Proof Ballistic Nylon, Soft Fabric, Mesh Pocket, Green"
          ],
          [
           "SanDisk Ultra SDHC UHS-I Card 32GB 120MB/s R for DSLR Cameras, for Full HD Recording, 10Y Warranty"
          ],
          [
           "DIGITEK® (DRL-14C) Professional (31cm) Dual Temperature LED Ring Light with Tripod Stand & Mini Tripod for YouTube, Photo-Shoot, Video Shoot, Live Stream, Makeup, Vlogging & More"
          ],
          [
           "Classmate Long Notebook - 140 Pages, Single Line, 297mm x 210mm (Pack of 12)"
          ],
          [
           "Lenovo 300 Wired Plug & Play USB Mouse, High Resolution 1600 DPI Optical Sensor, 3-Button Design with clickable Scroll Wheel, Ambidextrous, Ergonomic Mouse for Comfortable All-Day Grip (GX30M39704)"
          ],
          [
           "Dyazo 6 Angles Adjustable Aluminum Ergonomic Foldable Portable Tabletop Laptop/Desktop Riser Stand Holder Compatible for MacBook, HP, Dell, Lenovo & All Other Notebook (Silver)"
          ],
          [
           "Western Digital WD 2TB My Passport Portable Hard Disk Drive, USB 3.0 with  Automatic Backup, 256 Bit AES Hardware Encryption,Password Protection,Compatible with Windows and Mac, External HDD-Black"
          ],
          [
           "Logitech C270 Digital HD Webcam with Widescreen HD Video Calling, HD Light Correction, Noise-Reducing Mic, for Skype, FaceTime, Hangouts, WebEx, PC/Mac/Laptop/MacBook/Tablet - (Black, HD 720p/30fps)"
          ],
          [
           "Portronics MPORT 31 4 Ports USB Hub (USB A to 4 USB-A Ports 4 in 1 Connector USB HUB(Grey)"
          ],
          [
           "AirCase Protective Laptop Bag Sleeve fits Upto 15.6\" Laptop/ MacBook, Wrinkle Free, Padded, Waterproof Light Neoprene case Cover Pouch, for Men & Women, Black- 6 Months Warranty"
          ],
          [
           "Zinq Five Fan Cooling Pad and Laptop Stand with Dual Height Adjustment and Dual USB Port Extension (Black)"
          ],
          [
           "Gizga Essentials Webcam Cover, Privacy Protector Webcam Cover Slide, Compatible with Laptop, Desktop, PC, Smartphone, Protect Your Privacy and Security, Strong Adhesive, Set of 3, Black"
          ],
          [
           "HP Z3700 Wireless Optical Mouse with USB Receiver and 2.4GHz Wireless Connection/ 1200DPI / 16 Months Long Battery Life /Ambidextrous and Slim Design (Modern Gold)"
          ],
          [
           "MAONO AU-400 Lavalier Auxiliary Omnidirectional Microphone (Black)"
          ],
          [
           "TABLE MAGIC Multipurpose Laptop Table Mat Finish Top Work at Home Study Table (TM Regular- Black) (Alloy Steel)"
          ],
          [
           "AmazonBasics USB 2.0 - A-Male to A-Female Extension Cable for Personal Computer, Printer (Black, 9.8 Feet/3 Meters)"
          ],
          [
           "GIZGA Essentials Portable Tabletop Tablet Stand Mobile Holder, Desktop Stand, Cradle, Dock for iPad, Smartphone, Kindle, E-Reader, Fully Foldable, Adjustable Angle, Anti-Slip Pads, Black"
          ],
          [
           "boAt Stone 650 10W Bluetooth Speaker with Upto 7 Hours Playback, IPX5 and Integrated Controls (Blue)"
          ],
          [
           "ESnipe Mart Worldwide Travel Adapter with Build in Dual USB Charger Ports with 125V 6A, 250V Protected Electrical Plug for Laptops, Cameras (White)"
          ],
          [
           "boAt Stone 180 5W Bluetooth Speaker with Upto 10 Hours Playback, 1.75\" Driver, IPX7 & TWS Feature(Black)"
          ],
          [
           "Portronics Ruffpad 8.5M Multicolor LCD Writing Pad with Screen 21.5cm (8.5-inch) for Drawing, Playing, Handwriting Gifts for Kids & Adults, India's first notepad to save and share your child's first creatives via Ruffpad app on your Smartphone(Black)"
          ],
          [
           "BRUSTRO Copytinta Coloured Craft Paper A4 Size 80 GSM Mixed Bright Colour 40 Sheets Pack (10 cols X 4 Sheets) Double Side Color for Office Printing, Art and Craft."
          ],
          [
           "Cuzor 12V Mini ups for WiFi Router | Power Backup up to 4 Hours | Replaceable Battery | Ups for Wi-Fi Router and Modem | Ups for Router up to 2A | ups for uninterrupted wi-fi"
          ],
          [
           "Crucial BX500 240GB 3D NAND SATA 6.35 cm (2.5-inch) SSD (CT240BX500SSD1)"
          ],
          [
           "Classmate Pulse Spiral Notebook - 240 mm x 180 mm, Soft Cover, 200 Pages, Unruled"
          ],
          [
           "Portronics My buddy plus Adjustable Laptop cooling Table (Brown)"
          ],
          [
           "ZEBRONICS Zeb-Evolve Wireless in Ear Neckband Earphone with Supporting Bluetooth v5.0, Voice Assistant, Rapid Charge, Call Function & Magnetic Earpiece, with mic (Metallic Blue)"
          ],
          [
           "INOVERA World Map Extended Anti Slip Rubber Gaming Stitched Mouse Pad Desk Mat for Computer Laptop (Black, 900L x 400B x 2H mm)"
          ],
          [
           "Seagate One Touch 2TB External HDD with Password Protection – Black, for Windows and Mac, with 3 yr Data Recovery Services, and 4 Months Adobe CC Photography (STKY2000400)"
          ],
          [
           "ZEBRONICS Zeb-Fame 5watts 2.0 Multi Media Speakers with AUX, USB and Volume Control (Black)"
          ],
          [
           "TVARA LCD Writing Tablet 8.5 Inch E-Note Pad LCD Writing Tablet, Kids Drawing Pad 8.5 Inch Doodle Board, Toddler Boy and Girl Learning Gift for 3 4 5 6 Years Old, Black"
          ],
          [
           "Ambrane 60W / 3A Type C Fast Charging Unbreakable 1.5m L Shaped Braided Cable, PD Technology, 480Mbps Data Transfer for Smartphones, Tablet, Laptops & other type c devices (ABLC10, Black)"
          ],
          [
           "Western Digital WD 1.5TB Elements Portable Hard Disk Drive, USB 3.0, Compatible with PC, PS4 and Xbox, External HDD (WDBU6Y0015BBK-WESN)"
          ],
          [
           "Redgear MP35 Speed-Type Gaming Mousepad (Black/Red)"
          ],
          [
           "Lenovo 400 Wireless Mouse, 1200DPI Optical Sensor, 2.4GHz Wireless Nano USB, 3-Button (Left,Right,Scroll) Upto 8M Left/Right & 100K Scroll clicks & 1yr Battery, Ambidextrous, Ergonomic GY50R91293"
          ],
          [
           "Logitech K480 Wireless Multi-Device Keyboard for Windows, macOS, iPadOS, Android or Chrome OS, Bluetooth, Compact, Compatible with PC, Mac, Laptop, Smartphone, Tablet - Black"
          ],
          [
           "Zoul USB C 60W Fast Charging 3A 6ft/2M Long Type C Nylon Braided Data Cable Quick Charger Cable QC 3.0 for Samsung Galaxy M31S M30 S10 S9 S20 Plus, Note 10 9 8, A20e A40 A50 A70 (2M, Grey)"
          ],
          [
           "RESONATE RouterUPS CRU12V2A | Zero Drop | UPS for WiFi Router | Mini UPS | Up to 4 Hours PowerBackup | Battery Replacement Program | Router UPS Compatible with 12V <2A Routers, FTTH, Modem, Set Top Box, Alexa, Mini Camera"
          ],
          [
           "3M Post-it Sticky Note Cube, 200 Sheets (4 Colors x 50 Sheets) | 3\" x 3\" Size | For notes, reminders, study, school and organizing"
          ],
          [
           "OFIXO Multi-Purpose Laptop Table/Study Table/Bed Table/Foldable and Portable Wooden/Writing Desk (Wooden)"
          ],
          [
           "Fire-Boltt Ninja Calling 1.69\" Bluetooth Calling Smart Watch, Dial Pad, Speaker, AI Voice Assistant with 450 NITS Peak Brightness, Wrist Gaming & 100+ Watch Faces with SpO2, HR, Multiple Sports Mode"
          ],
          [
           "Airtel AMF-311WW Data Card (Black), 4g Hotspot Support with 2300 Mah Battery"
          ],
          [
           "Gizga Essentials Laptop Power Cable Cord- 3 Pin Adapter Isi Certified(1 Meter/3.3 Feet)"
          ],
          [
           "Logitech MK270r USB Wireless Keyboard and Mouse Set for Windows, 2.4 GHz Wireless, Spill-resistant Design, 8 Multimedia & Shortcut Keys, 2-Year Battery Life, PC/Laptop- Black"
          ],
          [
           "DIGITEK® (DTR-200MT) (18 CM) Portable & Flexible Mini Tripod with Mobile Holder & 360 Degree Ball Head, For Smart Phones, Compact Cameras, GoPro, Maximum Operating Height: 7.87 Inch, Maximum Load Upto: 1 kgs"
          ],
          [
           "FEDUS Cat6 Ethernet Cable, 10 Meter High Speed 550MHZ / 10 Gigabit Speed UTP LAN Cable, Network Cable Internet Cable RJ45 Cable LAN Wire, Patch Computer Cord Gigabit Category 6 Wires for Modem, Router"
          ],
          [
           "Samsung Original Type C to C Cable - 3.28 Feet (1 Meter), White"
          ],
          [
           "Kingston DataTraveler Exodia DTX/32 GB Pen Drive USB 3.2 Gen 1 (Multicolor)"
          ],
          [
           "Duracell Rechargeable AA 2500mAh Batteries, 4 Pcs"
          ],
          [
           "pTron Solero T351 3.5Amps Fast Charging Type-C to Type-C PD Data & Charging USB Cable, Made in India, 480Mbps Data Sync, Durable 1 Meter Long Cable for Type-C Smartphones, Tablets & Laptops (Black)"
          ],
          [
           "ENVIE® (AA10004PLNi-CD) AA Rechargeable Batteries, Low Self Discharge, AA 1000mAh Ni-CD (Pack of 4)"
          ],
          [
           "ZEBRONICS Zeb-Buds 30 3.5Mm Stereo Wired in Ear Earphones with Mic for Calling, Volume Control, Multifunction Button, 14Mm Drivers, Stylish Eartip,1.2 Meter Durable Cable and Lightweight Design(Red)"
          ],
          [
           "Amazonbasics Nylon Braided Usb-C To Lightning Cable, Fast Charging Mfi Certified Smartphone, Iphone Charger (6-Foot, Dark Grey)"
          ],
          [
           "Sounce 65W OnePlus Dash Warp Charge Cable, 6.5A Type-C to USB C PD Data Sync Fast Charging Cable Compatible with One Plus 8T/ 9/ 9R/ 9 pro/ 9RT/ 10R/ Nord & for All Type C Devices – Red, 1 Meter"
          ],
          [
           "LAPSTER Accessories Power Cable Cord 2 Pin Laptop Adapter and Tape Recorder 1.5M"
          ],
          [
           "Portronics Ruffpad 12E Re-Writable LCD Writing Pad with 30.4cm (12 inch) Writing Area, Single Tap Erase, Smart Lock, Long Battery Life, India's first notepad to save and share your child's first creatives via Ruffpad app on your Smartphone(Black)"
          ],
          [
           "Verilux® USB C Hub Multiport Adapter- 6 in 1 Portable Aluminum Type C Hub with 4K HDMI Output, USB 2.0/3.0 Ports, SD/Micro SD Card Reader Compatible for MacBook Pro 2016-2020, MacBook Air 2018-2020, Type-C Devices"
          ],
          [
           "Zebronics Zeb Wonderbar 10 USB Powered 2.0 Computer Speaker with RGB Lights"
          ],
          [
           "HP Wired Mouse 100 with 1600 DPI Optical Sensor, USB Plug-and -Play,ambidextrous Design, Built-in Scrolling and 3 Handy Buttons. 3-Years Warranty (6VY96AA)"
          ],
          [
           "Anjaney Enterprise Smart Multipurpose Foldable Laptop Table with Cup Holder, Study Table, Bed Table, Breakfast Table, Foldable and Portable/Ergonomic & Rounded Edges/Non-Slip (Black)"
          ],
          [
           "ENVIE ECR-20 Charger for AA & AAA Rechargeable Batteries"
          ],
          [
           "ProElite Faux Leather Smart Flip Case Cover for Apple iPad 10.2\" 9th Gen (2021) / 8th Gen / 7th Gen with Stylus Pen, Black"
          ],
          [
           "Classmate Pulse 6 Subject Notebook - Unruled, 300 Pages, Spiral Binding, 240mm*180mm"
          ],
          [
           "Pentonic Multicolor Ball Point Pen, Pack of 10"
          ],
          [
           "Duracell Type C To Type C 5A (100W) Braided Sync & Fast Charging Cable, 3.9 Feet (1.2M). USB C to C Cable, Supports PD & QC 3.0 Charging, 5 GBPS Data Transmission – Black"
          ],
          [
           "AmazonBasics USB 2.0 Cable - A-Male to B-Male - for Personal Computer, Printer- 6 Feet (1.8 Meters), Black"
          ],
          [
           "Logitech Pebble M350 Wireless Mouse with Bluetooth or USB - Silent, Slim Computer Mouse with Quiet Click for Laptop, Notebook, PC and Mac - Graphite"
          ],
          [
           "Apsara Platinum Pencils Value Pack - Pack of 20"
          ],
          [
           "Zebronics Zeb-Power Wired USB Mouse, 3-Button, 1200 DPI Optical Sensor, Plug & Play, for Windows/Mac"
          ],
          [
           "Ant Esports GM320 RGB Optical Wired Gaming Mouse | 8 Programmable Buttons | 12800 DPI"
          ],
          [
           "Wecool Nylon Braided Multifunction Fast Charging Cable For Android Smartphone, Ios And Type C Usb Devices, 3 In 1 Charging Cable, 3A, (3 Feet) (Black)"
          ],
          [
           "Pilot V7 Liquid Ink Roller Ball Pen (2 Blue + 1 Black)"
          ],
          [
           "boAt Airdopes 191G True Wireless Earbuds with ENx™ Tech Equipped Quad Mics, Beast™ Mode(Low Latency- 65ms) for Gaming, 2x6mm Dual Drivers, 30H Playtime, IPX5, IWP™, Appealing Case LEDs(Sport Blue)"
          ],
          [
           "Boult Audio BassBuds Oak in-Ear Wired Earphones with 10mm Extra Bass Driver and HD Sound with mic(Brown)"
          ],
          [
           "IT2M Designer Mouse Pad for Laptop/Computer (9.2 X 7.6 Inches, 12788)"
          ],
          [
           "Noise ColorFit Ultra Buzz Bluetooth Calling Smart Watch with 1.75\" HD Display, 320x385 px Resolution, 100 Sports Modes, Stock Market Info Smartwatch for Men & Women (Olive Green)"
          ],
          [
           "Lapster Caddy for ssd and HDD, Optical Bay 2nd Hard Drive Caddy, Caddy 9.5mm for Laptop"
          ],
          [
           "SanDisk Extreme SD UHS I 64GB Card for 4K Video for DSLR and Mirrorless Cameras 170MB/s Read & 80MB/s Write"
          ],
          [
           "Fire-Boltt Ring Pro Bluetooth Calling, 1.75” 320*385px High Res, IP68 & SpO2 Monitoring, Pin Code Locking Functionality & Split Screen Access, Built in Mic & Speaker for HD Calls, Black, Free Size"
          ],
          [
           "Lenovo 600 Bluetooth 5.0 Silent Mouse: Compact, Portable, Dongle-Free Multi-Device connectivity with Microsoft Swift Pair | 3-Level Adjustable DPI up to 2400 | Battery Life: up to 1 yr"
          ],
          [
           "Boult Audio Airbass Propods X TWS Bluetooth Truly Wireless in Ear Earbuds with Mic, 32H Playtime, Fast Charging Type-C, Ipx5 Water Resistant, Touch Controls and Voice Assistant (Red)"
          ],
          [
           "Classmate Soft Cover 6 Subject Spiral Binding Notebook, Unruled, 300 Pages"
          ],
          [
           "TP-Link Nano AC600 USB Wi-Fi Adapter(Archer T2U Nano)- 2.4G/5G Dual Band Wireless Network Adapter for PC Desktop Laptop, Mini Travel Size, Supports Windows 11,10, 8.1, 8, 7, XP/Mac OS 10.9-10.15"
          ],
          [
           "LS LAPSTER Quality Assured Universal Silicone 15.6\" Keyboard Protector Skin|| Keyboard Dust Cover|| Keyboard Skin for 15.6\" Laptop| 15.6\" Keyguard| (3.93 x 11.81 x 0.39 inches)"
          ],
          [
           "KLAM LCD Writing Tablet Screenwriting Toys Board Smart Digital E-Note Pad 8.5 Inch Light Weight Magic Slate for Drawing Playing Noting by Kids and Adults Best Birthday Gift Girls Boys, Multicolor"
          ],
          [
           "CP PLUS 2MP Full HD Smart Wi-fi CCTV Security Camera | 360° with Pan Tilt | Two Way Talk | Cloud Monitor | Motion Detect | Night Vision | Supports SD Card (Up to 128 GB) | Alexa & Ok Google | CP-E21A"
          ],
          [
           "HP Deskjet 2331 Colour Printer, Scanner and Copier for Home/Small Office, Compact Size, Reliable, Easy Set-Up Through Smart App On Your Pc Connected Through USB, Ideal for Home."
          ],
          [
           "D-Link DIR-615 Wi-fi Ethernet-N300 Single_band 300Mbps Router, Mobile App Support, Router | AP | Repeater | Client Modes(Black)"
          ],
          [
           "RPM Euro Games Gaming Mousepad Speed Type Extended Large (Size - 800 mm x 300 mm x 3 mm)"
          ],
          [
           "Wacom One by CTL-472/K0-CX Digital Drawing Graphics Pen Tablet (Red & Black) Small (6-inch x 3.5-inch)(15x8cm) | Battery Free Cordless Pen with 2048 Pressure Level"
          ],
          [
           "Lenovo 300 FHD Webcam with Full Stereo Dual Built-in mics | FHD 1080P 2.1 Megapixel CMOS Camera |Privacy Shutter | Ultra-Wide 95 Lens | 360 Rotation | Flexible Mount, Plug-n-Play | Cloud Grey"
          ],
          [
           "Parker Quink Ink Bottle (Black)"
          ],
          [
           "Sony WI-C100 Wireless Headphones with Customizable Equalizer for Deep Bass & 25 Hrs Battery, DSEE-Upscale, Splash Proof, 360RA, Fast Pair, in-Ear Bluetooth Headset with mic for Phone Calls (Black)"
          ],
          [
           "Zebronics, ZEB-NC3300 USB Powered Laptop Cooling Pad with Dual Fan, Dual USB Port and Blue LED Lights"
          ],
          [
           "D-Link DWA-131 300 Mbps Wireless Nano USB Adapter (Black)"
          ],
          [
           "Tukzer Gel Mouse Pad Wrist Rest Memory-Foam Ergonomic Mousepad| Cushion Wrist Support & Pain Relief| Suitable for Gaming, Computer, Laptop, Home & Office Non-Slip Rubber Base (Blue)"
          ],
          [
           "Infinity (JBL Glide 510, 72 Hrs Playtime with Quick Charge, Wireless On Ear Headphone with Mic, Deep Bass, Dual Equalizer, Bluetooth 5.0 with Voice Assistant Support (Black)"
          ],
          [
           "Robustrion Smart Trifold Hard Back Flip Stand Case Cover for Apple iPad 10.2 Cover iPad 9th Generation Cover 2021 8th Gen 2020 7th Gen 2019 Generation Case - Black"
          ],
          [
           "Amazonbasics Micro Usb Fast Charging Cable For Android Smartphone,Personal Computer,Printer With Gold Plated Connectors (6 Feet, Black)"
          ],
          [
           "Logitech M331 Silent Plus Wireless Mouse, 2.4GHz with USB Nano Receiver, 1000 DPI Optical Tracking, 3 Buttons, 24 Month Life Battery, PC/Mac/Laptop - Black"
          ],
          [
           "Camel Artist Acrylic Color Box - 9ml Tubes, 12 Shades"
          ],
          [
           "LIRAMARK Webcam Cover Slide, Ultra Thin Laptop Camera Cover Slide Blocker for Computer MacBook Pro iMac PC Tablet (Pack of 3)"
          ],
          [
           "Portronics Key2 Combo Multimedia USB Wireless Keyboard and Mouse Set with 2.4 GHz Wireless Technology, Soft & Silent Button, Compact Size (Grey)"
          ],
          [
           "SupCares Laptop Stand 7 Height Adjustable, Aluminium, Ventilated, Foldable, Portable Laptop Holder for Desk & Table Mount Upto 15.6 inch Laptop with Carry Pouch (Silver)"
          ],
          [
           "ZEBRONICS Zeb-Sound Bomb N1 True Wireless in Ear Earbuds with Mic ENC, Gaming Mode (up to 50ms), up to 18H Playback, BT V5.2, Fidget Case, Voice Assistant, Splash Proof, Type C (Midnight Black)"
          ],
          [
           "Western Digital WD Green SATA 240GB Internal SSD Solid State Drive - SATA 6Gb/s 2.5 inches - WDS240G3G0A"
          ],
          [
           "Classmate Octane Neon- 25 Blue Gel Pens | Smooth Writing Pens| Water-proof Ink For Smudge-free Writing| Preferred By Students For Exam & Class Notes| Study At Home Essential"
          ],
          [
           "TP-Link AC600 600 Mbps WiFi Wireless Network USB Adapter for Desktop PC with 2.4GHz/5GHz High Gain Dual Band 5dBi Antenna Wi-Fi, Supports Windows 11/10/8.1/8/7/XP, Mac OS 10.15 and earlier (Archer T2U Plus)"
          ],
          [
           "Classmate Octane Colour Burst-Multicolour Gel Pens (Pack of 10) | Gold & Silver Glitter Sparkle Pens|10 colour ink shades for art lovers and kids|Fun at home essentials"
          ],
          [
           "Tukzer Stylus Pen, iPad Pencil with Palm Rejection Tilt Sensor| 2nd Gen for 2018-2022 iPad 6/7/8/9th Gen; iPad 10.2\", Pro 12.9/11\", Mini 6/5th, Air 5/4/3rd, Precise for Writing/Drawing (3 Spare Tips)"
          ],
          [
           "Logitech G102 USB Light Sync Gaming Mouse with Customizable RGB Lighting, 6 Programmable Buttons, Gaming Grade Sensor, 8K DPI Tracking, 16.8mn Color, Light Weight - Black"
          ],
          [
           "AmazonBasics New Release Nylon USB-A to Lightning Cable Cord, Fast Charging MFi Certified Charger for Apple iPhone, iPad (6-Ft, Rose Gold)"
          ],
          [
           "Zebronics ZEB-VITA Wireless Bluetooth 10W Portable Bar Speaker With Supporting USB, SD Card, AUX, FM, TWS & Call Function"
          ],
          [
           "Lapster USB 3.0 sata Cable for 2.5 inch SSD and HDD , USB 3.0 to SATA III Hard Driver Adapter , sata to USB Cable-(Blue)"
          ],
          [
           "URBN 10000 mAh Lithium Power Bank UPR10K with 12 Watt Fast Charging, Blue"
          ],
          [
           "Qubo Smart Cam 360 from Hero Group | Made in India | 2MP 1080p Full HD | CCTV Wi-Fi Camera | 360 Degree Coverage| Two Way Talk | Mobile App Connectivity | Night Vision | Cloud & SD Card Recording"
          ],
          [
           "Duracell CR2025 3V Lithium Coin Battery, 5 pcs, 2025 Coin Button Cell Battery, DL2025"
          ],
          [
           "Camel Fabrica Acrylic Ultra Color - 15ml each, 10 Shades"
          ],
          [
           "Lenovo GX20L29764 65W Laptop Adapter/Charger with Power Cord for Select Models of Lenovo (Round pin) (Black)"
          ],
          [
           "Hp Wired On Ear Headphones With Mic With 3.5 Mm Drivers, In-Built Noise Cancelling, Foldable And Adjustable For Laptop/Pc/Office/Home/ 1 Year Warranty (B4B09Pa)"
          ],
          [
           "Redragon K617 Fizz 60% Wired RGB Gaming Keyboard, 61 Keys Compact Mechanical Keyboard w/White and Grey Color Keycaps, Linear Red Switch, Pro Driver/Software Supported"
          ],
          [
           "Ambrane Unbreakable 3A Fast Charging Braided Type C Cable    1.5 Meter (RCT15, Blue) Supports QC 2.0/3.0 Charging"
          ],
          [
           "HP GT 53 XL Cartridge Ink"
          ],
          [
           "Noise ColorFit Ultra Smart Watch with 1.75\" HD Display, Aluminium Alloy Body, 60 Sports Modes, Spo2, Lightweight, Stock Market Info, Calls & SMS Reply (Space Blue)"
          ],
          [
           "Zebronics Zeb-JUKEBAR 3900, 80W Multimedia soundbar with subwoofer Supporting Bluetooth, HDMI(ARC), Coaxial Input, AUX, USB & Remote Control (Black)"
          ],
          [
           "boAt Bassheads 102 Wired in Ear Earphones with Mic (Mint Green)"
          ],
          [
           "Duracell CR2016 3V Lithium Coin Battery, 5 pcs, 2016 Coin Button Cell Battery, DL2016"
          ],
          [
           "MI 360° Home Security Wireless Camera 2K Pro with Bluetooth Gateway BLE 4.2 l Dual Band Wi-fi Connection l 3 Million 1296p| Full Color in Low-Light | AI Human Detection, White"
          ],
          [
           "ZEBRONICS Zeb-100HB 4 Ports USB Hub for Laptop, PC Computers, Plug & Play, Backward Compatible - Black"
          ],
          [
           "Boult Audio Bass Buds Q2 Lightweight Stereo Wired Over Ear Headphones Set with Mic with Deep Bass, Comfortable Ear Cushions, & Long Cord (Black)"
          ],
          [
           "ESR Screen Protector Compatible with iPad Pro 11 Inch (2022/2021/2020/2018) and iPad Air 5/4 (2022/2020, 10.9 Inch), Tempered-Glass Film with Alignment Frame, Scratch Resistant, HD Clarity, 2 Pack"
          ],
          [
           "boAt Rockerz 400 Bluetooth On Ear Headphones With Mic With Upto 8 Hours Playback & Soft Padded Ear Cushions(Grey/Green)"
          ],
          [
           "Parker Vector Standard Chrome Trim Ball Pen (Ink - Black)"
          ],
          [
           "Silicone Rubber Earbuds Tips, Eartips, Earpads, Earplugs, for Replacement in Earphones and Bluetooth Medium Size (10 Pcs Black)"
          ],
          [
           "Canon PIXMA MG2577s All-in-One Inkjet Colour Printer with 1 Additional Colour Cartridge"
          ],
          [
           "Samsung 24-inch(60.46cm) FHD Monitor, IPS, 75 Hz, Bezel Less Design, AMD FreeSync, Flicker Free, HDMI, D-sub, (LF24T350FHWXXL, Dark Blue Gray)"
          ],
          [
           "AirCase Protective Laptop Bag Sleeve fits Upto 14.1\" Laptop/ MacBook, Wrinkle Free, Padded, Waterproof Light Neoprene case Cover Pouch, for Men & Women, Black- 6 Months Warranty"
          ],
          [
           "Faber-Castell Connector Pen Set - Pack of 25 (Assorted)"
          ],
          [
           "Wecool Unbreakable 3 in 1 Charging Cable with 3A Speed, Fast Charging Multi Purpose Cable 1.25 Mtr Long, Type C cable, Micro Usb Cable and Cable for iPhone, White"
          ],
          [
           "Zinq UPS for Router, Mini UPS for 12V WiFi Router Broadband Modem with Upto 4 Hours Power Backup, Upto 2Amp, Works with Existing Adapter, Also Works with Set-top Box, Smart Camera, CCTV (Black)"
          ],
          [
           "SaleOn™ Portable Storage Organizer Bag for Earphone USB Cable Power Bank Mobile Charger Digital Gadget Hard Disk, Water Resistance Material - Dark Grey"
          ],
          [
           "Portronics Konnect L 1.2Mtr, Fast Charging 3A Micro USB Cable with Charge & Sync Function (Grey)"
          ],
          [
           "RPM Euro Games Laptop/PC Controller Wired for Windows - 7, 8, 8.1, 10 and XP, Ps3(Upgraded with XYAB Buttons)"
          ],
          [
           "realme Buds Wireless in Ear Bluetooth Earphones with mic, 11.2mm Bass Boost Driver, Magnetic Fast Pair, Fast Charging and 12 Hrs Playtime (Yellow)"
          ],
          [
           "TVARA LCD Writing Tablet, 8.5\" Inch Colorful Toddler Doodle Board Drawing Tablet, Erasable Reusable Electronic Drawing Pads, Educational and Learning Tool for 3-6 Years Old Boy and Girls Mix Colors"
          ],
          [
           "Wings Phantom Pro Earphones Gaming Earbuds with LED Battery Indicator, 50ms Low Latency, Bluetooth 5.3, 40 Hours Playtime, MEMs Mic, IPX4 Resist, 12mm Driver, 500mah case, Headphones, (Black TWS)"
          ],
          [
           "Robustrion [Anti-Scratch] & [Smudge Proof] [S Pen Compatible] Premium Tempered Glass Screen Protector for Samsung Tab S6 Lite 10.4 inch SM-P610/615 [Bubble Free]"
          ],
          [
           "Cablet 2.5 Inch SATA USB 3.0 HDD/SSD Portable External Enclosure for 7mm and 9.5mm, Tool-Free Design, Supports UASP Max 6TB"
          ],
          [
           "SanDisk 1TB Extreme Portable SSD 1050MB/s R, 1000MB/s W,Upto 2 Meter Drop Protection with IP55 Water/dust Resistance, HW Encryption, PC,MAC & TypeC Smartphone Compatible, 5Y Warranty, External SSD"
          ],
          [
           "ZEBRONICS Zeb-Warrior II 10 watts 2.0 Multimedia Speaker with RGB Lights, USB Powered, AUX Input, Volume Control Pod for PC, Laptops, Desktop"
          ],
          [
           "TP-Link UE300C USB Type-C to RJ45 Gigabit Ethernet Network Adapter/RJ45 LAN Wired Adapter for Ultrabook, Chromebook, Laptop, Desktop, Plug & Play, USB 3.0, Foldable and Portable Design"
          ],
          [
           "Lapster 1.5 mtr USB 2.0 Type A Male to USB A Male Cable for computer and laptop"
          ],
          [
           "Wecool Moonwalk M1 ENC True Wireless in Ear Earbuds with Mic, Titanium Drivers for Rich Bass Experience, 40+ Hours Play Time, Type C Fast Charging, Low Latency, BT 5.3, IPX5, Deep Bass (Black)"
          ],
          [
           "HP 330 Wireless Black Keyboard and Mouse Set with Numeric Keypad, 2.4GHz Wireless Connection and 1600 DPI, USB Receiver, LED Indicators , Black(2V9E6AA)"
          ],
          [
           "RC PRINT GI 790 Ink Refill for Canon G1000, G1010, G1100, G2000, G2002, G2010, G2012, G2100, G3000, G3010, G3012, G3100, G4000, G4010"
          ],
          [
           "Redgear Cloak Wired RGB Wired Over Ear Gaming Headphones with Mic for PC"
          ],
          [
           "AmazonBasics USB Type-C to USB Type-C 2.0 Cable - 3 Feet Laptop (0.9 Meters) - White"
          ],
          [
           "Wayona Type C To Type C 65W/3.25A Nylon Braided Fast Charging Cable Compatible For Laptop, Macbook, Samsung Galaxy M33 M53 M51 S20 Ultra, A71, A53, A51, Ipad Pro 2018 (1M, Grey)"
          ],
          [
           "Amazfit GTS2 Mini (New Version) Smart Watch with Always-on AMOLED Display, Alexa Built-in, SpO2, 14 Days' Battery Life, 68 Sports Modes, GPS, HR, Sleep & Stress Monitoring (Meteor Black)"
          ],
          [
           "Tabelito® Polyester Foam, Nylon Hybrid laptopss Bag Sleeve Case Cover Pouch for laptopss Apple/Dell/Lenovo/ Asus/ Hp/Samsung/Mi/MacBook/Ultrabook/Thinkpad/Ideapad/Surfacepro (15.6 inches /39.6cm, Blue) laptopsss"
          ],
          [
           "Robustrion Anti-Scratch & Smudge Proof Tempered Glass Screen Protector for Xiaomi Mi Pad 5 11 inch"
          ],
          [
           "Portronics Ruffpad 15 Re-Writable LCD Screen 38.1cm (15-inch) Writing Pad for Drawing, Playing, Handwriting Gifts for Kids & Adults (Grey)"
          ],
          [
           "DIGITEK® (DLS-9FT) Lightweight & Portable Aluminum Alloy Light Stand for Ring Light, Reflector, Flash Units, Diffuser, Portrait, Softbox, Studio Lighting & More Ideal for Outdoor & Indoor Shoots"
          ],
          [
           "Classmate Pulse 1 Subject Notebook - 240mm x 180mm , Soft Cover, 180 Pages, Single Line, Pack of 4"
          ],
          [
           "Scarters Mouse Pad, Desk Mat Extended for Work from Home/Office/Gaming | Vegan PU Leather | Anti-Skid, Anti-Slip, Reversible Splash-Proof – Deskspread ~ Navy Blue & Yellow"
          ],
          [
           "Casio MJ-120D 150 Steps Check and Correct Desktop Calculator with Tax Keys, Black"
          ],
          [
           "Redmi 80 cm (32 inches) Android 11 Series HD Ready Smart LED TV | L32M6-RA/L32M7-RA (Black)"
          ],
          [
           "Gizga Essentials Laptop Bag Sleeve Case Cover Pouch with Handle for 14.1 Inch Laptop for Men & Women, Padded Laptop Compartment, Premium Zipper Closure, Water Repellent Nylon Fabric, Grey"
          ],
          [
           "Parker Vector Camouflage Gift Set - Roller Ball Pen & Parker Logo Keychain (Black Body, Blue Ink), 2 Piece Set"
          ],
          [
           "TP-Link AC1200 Archer A6 Smart WiFi, 5GHz Gigabit Dual Band MU-MIMO Wireless Internet Router, Long Range Coverage by 4 Antennas, Qualcomm Chipset"
          ],
          [
           "CEDO 65W OnePlus Dash Warp Charge Cable, USB A to Type C Data Sync Fast Charging Cable Compatible with One Plus 3 /3T /5 /5T /6 /6T /7 /7T /7 pro & for All Type C Devices - 1 Meter, Red"
          ],
          [
           "HP Deskjet 2723 AIO Printer, Copy, Scan, WiFi, Bluetooth, USB, Simple Setup Smart App, Ideal for Home."
          ],
          [
           "Oraimo 18W USB & Type-C Dual Output Super Fast Charger Wall Adapter PE2.0&Quick Charge 3.0 & Power Delivery 3.0 Compatible for iPhone 13/13 Mini/13 Pro Max/12/12 Pro Max, iPad Mini/Pro, Pixel, Galaxy, Airpods Pro"
          ],
          [
           "Xiaomi Mi 4A Dual_Band Ethernet 1200Mbps Speed Router| 2.4GHz & 5GHz Frequency|128MB RAM | DualCore 4 Thread CPU|4 Omni Directional Antenna|Mi Wi-Fi app-Parental Control & Anti Hacking|Repeater, White"
          ],
          [
           "SLOVIC® Tripod Mount Adapter| Tripod Mobile Holder|Tripod Phone Mount(Made in India)| Smartphone Clip Clipper 360 Degree for Taking Magic Video Shots & Pictures."
          ],
          [
           "Sounce Gold Plated 3.5 mm Headphone Splitter for Computer 2 Male to 1 Female 3.5mm Headphone Mic Audio Y Splitter Cable Smartphone Headset to PC Adapter – (Black,20cm)"
          ],
          [
           "Orico 2.5\"(6.3cm) USB 3.0 HDD Enclosure Case Cover for SATA SSD HDD | SATA SSD HDD Enclosure High Speed USB 3.0 | Tool Free Installation | Black"
          ],
          [
           "Logitech G402 Hyperion Fury USB Wired Gaming Mouse, 4,000 DPI, Lightweight, 8 Programmable Buttons, Compatible for PC/Mac - Black"
          ],
          [
           "Panasonic Eneloop BQ-CC55N Advanced, Smart and Quick Charger for AA & AAA Rechargeable Batteries, White"
          ],
          [
           "Logitech K380 Wireless Multi-Device Keyboard for Windows, Apple iOS, Apple TV Android or Chrome, Bluetooth, Compact Space-Saving Design, PC/Mac/Laptop/Smartphone/Tablet (Dark Grey)"
          ],
          [
           "Canon PIXMA E477 All-in-One Wireless Ink Efficient Colour Printer (White/Blue)"
          ],
          [
           "Portronics Konnect L 20W PD Quick Charge Type-C to 8-Pin USB Mobile Charging Cable, 1.2M, Tangle Resistant, Fast Data Sync(Grey)"
          ],
          [
           "Redgear Cosmo 7,1 Usb Gaming Wired Over Ear Headphones With Mic With Virtual Surround Sound,50Mm Driver, Rgb Leds & Remote Control(Black)"
          ],
          [
           "Belkin Essential Series 4-Socket Surge Protector Universal Socket with 5ft Heavy Duty Cable (Grey)"
          ],
          [
           "Classmate Long Book - Unruled, 160 Pages, 314 mm x 194 mm - Pack Of 3"
          ],
          [
           "Artis AR-45W-MG2 45 Watts MG2 Laptop Adapter/Charger Compatible with MB Air 13” & MB Air 11” (14.5 V, 3.1 A) Connector: MG2 (T Tip Connector)"
          ],
          [
           "Imou 360° 1080P Full HD Security Camera, Human Detection, Motion Tracking, 2-Way Audio, Night Vision, Dome Camera with WiFi & Ethernet Connection, Alexa Google Assistant, Up to 256GB SD Card Support"
          ],
          [
           "Amazon Basics USB Type-C to USB-A 2.0 Male Fast Charging Cable for Laptop - 3 Feet (0.9 Meters), Black"
          ],
          [
           "E-COSMOS 5V 1.2W Portable Flexible USB LED Light (Colours May Vary, Small, EC-POF1)"
          ],
          [
           "Xiaomi Pad 5| Qualcomm Snapdragon 860| 120Hz Refresh Rate| 6GB, 128GB| 2.5K+ Display (10.95-inch/27.81cm)|1 Billion Colours| Dolby Vision Atmos| Quad Speakers| Wi-Fi| Gray"
          ],
          [
           "Sennheiser CX 80S in-Ear Wired Headphones with in-line One-Button Smart Remote with Microphone Black"
          ],
          [
           "HB Plus Folding Height Adjustable Aluminum Foldable Portable Adjustment Desktop Laptop Holder Riser Stand"
          ],
          [
           "oraimo 65W Type C to C Fast Charging Cable USB C to USB C Cable High Speed Syncing, Nylon Braided 1M length with LED Indicator Compatible For Laptop, Macbook, Samsung Galaxy S22 S20 S10 S20Fe S21 S21 Ultra A70 A51 A71 A50S M31 M51 M31S M53 5G"
          ],
          [
           "HP 65W AC Laptops Charger Adapter 4.5mm for HP Pavilion Black (Without Power Cable)"
          ],
          [
           "Tukzer Fully Foldable Tabletop Desktop Tablet Mobile Stand Holder - Angle & Height Adjustable for Desk, Cradle, Dock, Compatible with Smartphones & Tablets (White)"
          ],
          [
           "Gizga Essentials Cable Organiser, Cord Management System for PC, TV, Home Theater, Speaker & Cables, Reusable Cable Organizer for Desk, WFH Accessories, Organizer Tape Roll, Reusable Cable Ties Strap"
          ],
          [
           "Pinnaclz Original Combo of 2 Micro USB Fast Charging Cable, USB Charging Cable for Data Transfer Perfect for Android Smart Phones White 1.2 Meter Made in India (Pack of 2)"
          ],
          [
           "Camel Oil Pastel with Reusable Plastic Box - 50 Shades"
          ],
          [
           "boAt Type C A750 Stress Resistant, Tangle-free, Sturdy Flat Cable with 6.5A Fast Charging & 480Mbps Data Transmission, 10000+ Bends Lifespan and Extended 1.5m Length(Rebellious Black)"
          ],
          [
           "HP M270 Backlit USB Wired Gaming Mouse with 6 Buttons, 4-Speed Customizable 2400 DPI, Ergonomic Design, Breathing LED Lighting, Metal Scroll Wheel, Lightweighted / 3 Years Warranty (7ZZ87AA), Black"
          ],
          [
           "Foxin FTC 12A / Q2612A Black Laser Toner Cartridge Compatible with Laserjet 1020,M1005,1018,1010,1012,1015,1020 Plus,1022,3015,3020,3030,3050, 3050Z, 3052,3055 (Black)"
          ],
          [
           "Robustrion [Anti-Scratch] & [Smudge Proof] [Bubble Free] Premium Tempered Glass Screen Protector Guard for Samsung Galaxy Tab A8 10.5 inch [SM-X200/X205/X207] 2022"
          ],
          [
           "PC SQUARE Laptop Tabletop Stand/ Computer Tablet Stand 6 Angles Adjustable Aluminum Ergonomic Foldable Portable Desktop Holder Compatible with MacBook, HP, Dell, Lenovo & All Other Notebook (Silver)"
          ],
          [
           "Ambrane 2 in 1 Type-C & Micro USB Cable with 60W / 3A Fast Charging, 480 mbps High Data, PD Technology & Quick Charge 3.0, Compatible with All Type-C & Micro USB Devices (ABDC-10, Black)"
          ],
          [
           "Lenovo 130 Wireless Compact Mouse, 1K DPI Optical sensor, 2.4GHz Wireless NanoUSB, 10m range, 3button(left,right,scroll) upto 3M left/right clicks, 10 month battery, Ambidextrous, Ergonomic GY51C12380"
          ],
          [
           "Ambrane 60W / 3A Fast Charging Output Cable with Type-C to USB for Mobile, Neckband, True Wireless Earphone Charging, 480mbps Data Sync Speed, 1m Length (ACT - AZ10, Black)"
          ],
          [
           "Pilot Frixion Clicker Roller Pen (Blue), (9000019529)"
          ],
          [
           "ZEBRONICS Aluminium Alloy Laptop Stand, Compatible with 9-15.6 inch Laptops, 7 Angles Adjustable, Anti Slip Silicon Rubber Pads, Foldable, Velvet Pouch Inside, Zeb-NS2000 (Dark Grey)"
          ],
          [
           "HP K500F Backlit Membrane Wired Gaming Keyboard with Mixed Color Lighting, Metal Panel with Logo Lighting, 26 Anti-Ghosting Keys, and Windows Lock Key / 3 Years Warranty(7ZZ97AA)"
          ],
          [
           "GIZGA Club-laptop Neoprene Reversible for 15.6-inches Laptop Sleeve - Black-Red"
          ],
          [
           "Inventis 5V 1.2W Portable Flexible USB LED Light Lamp (Colors may vary)"
          ],
          [
           "TP-Link TL-WA855RE 300 Mbps Wi-Fi Range Extender (White)"
          ],
          [
           "boAt Stone 250 Portable Wireless Speaker with 5W RMS Immersive Audio, RGB LEDs, Up to 8HRS Playtime, IPX7 Water Resistance, Multi-Compatibility Modes(Black)"
          ],
          [
           "SWAPKART Fast Charging Cable and Data Sync USB Cable Compatible for iPhone 6/6S/7/7+/8/8+/10/11, 12, 13 Pro max iPad Air/Mini, iPod and iOS Devices (White)"
          ],
          [
           "Offbeat® - DASH 2.4GHz Wireless + Bluetooth 5.1 Mouse, Multi-Device Dual Mode Slim Rechargeable Silent Click Buttons Wireless Bluetooth Mouse, 3 Adjustable DPI, Works on 2 devices at the same time with a switch button for Windows/Mac/Android/Ipad/Smart TV"
          ],
          [
           "Classmate Drawing Book - Unruled, 40 Pages, 210 mm x 297 mm - Pack Of 4"
          ],
          [
           "HP GK320 Wired Full Size RGB Backlight Mechanical Gaming Keyboard, 4 LED Indicators, Mechanical Switches, Double Injection Key Caps, and Windows Lock Key(4QN01AA)"
          ],
          [
           "Parker Moments Vector Timecheck Gold Trim Roller Ball Pen (Black)"
          ],
          [
           "Camlin Elegante Fountain Pen - Black/Blue/Red"
          ],
          [
           "CARECASE® Optical Bay 2nd Hard Drive Caddy, 9.5 mm CD/DVD Drive Slot for SSD and HDD"
          ],
          [
           "WeCool S5 Long Selfie Stick, with Large Reinforced Tripod Stand up to 61 Inch / 156 Cms, Ultra Long Multi Function Bluetooth Selfie Stick with 1/4 Screw Compatible with Gopro, Camera, and Ring Light"
          ],
          [
           "Canon E4570 All-in-One Wi-Fi Ink Efficient Colour Printer with FAX/ADF/Duplex Printing (Black)- Smart Speaker Compatible, Standard"
          ],
          [
           "Crucial P3 500GB PCIe 3.0 3D NAND NVMe M.2 SSD, up to 3500MB/s - CT500P3SSD8"
          ],
          [
           "Wayona Usb Type C Fast Charger Cable Fast Charging Usb C Cable/Cord Compatible For Samsung Galaxy S10E S10 S9 S8 Plus S10+,Note 10 Note 9 Note 8,S20,M31S,M40,Realme X3,Pixel 2 Xl (3 Ft Pack Of 1,Grey)"
          ],
          [
           "HP v222w 64GB USB 2.0 Pen Drive (Silver)"
          ],
          [
           "Duracell Ultra Alkaline D Battery, 2 Pcs"
          ],
          [
           "BESTOR® LCD Writing Tablet/pad 12 inches | Electronic Writing Scribble Board for Kids | Kids Learning Toy | Portable Ruff for LCD Paperless Memo Digital Tablet Notepad E-Writer/Writing/Drawing Pad Home/School/Office (Black)"
          ],
          [
           "Lenovo IdeaPad 3 11th Gen Intel Core i3 15.6\" FHD Thin & Light Laptop(8GB/512GB SSD/Windows 11/Office 2021/2Yr Warranty/3months Xbox Game Pass/Platinum Grey/1.7Kg), 81X800LGIN"
          ],
          [
           "boAt BassHeads 900 On-Ear Wired Headphones with Mic (White)"
          ],
          [
           "Zebronics Astra 10 Portable Wireless BT v5.0 Speaker, 10W RMS Power, 15* Hours Backup, 2.25\" Drive Size, up to 6.4\" Mobile Holder Support, Carry Handle, USB, mSD, AUX Input and FM Radio with Antenna"
          ],
          [
           "KINGONE Wireless Charging Pencil (2nd Generation) for iPad with Magnetic and Tilt Sensitive, Palm Rejection, Compatible with Apple iPad Pro 11 inch 1/2/3/4, iPad Pro 12.9 Inch 3/4/5/6, iPad Air 4/5, mini6"
          ],
          [
           "Lapster 65W compatible for OnePlus Dash Warp Charge Cable , type c to c cable fast charging Data Sync Cable Compatible with One Plus 10R / 9RT/ 9 pro/ 9R/ 8T/ 9/ Nord & for All Type C Devices – Red, 1 Meter"
          ],
          [
           "Gizga Essentials USB WiFi Adapter for PC, 150 Mbps Wireless Network Adapter for Desktop - Nano Size WiFi Dongle Compatible with Windows, Mac OS & Linux Kernel | WPA/WPA2 Encryption Standards| Black"
          ],
          [
           "SWAPKART Portable Flexible Adjustable Eye Protection USB LED Desk Light Table Lamp for Reading, Working on PC, Laptop, Power Bank, Bedroom ( Multicolour )"
          ],
          [
           "Infinity (JBL Fuze 100, Wireless Portable Bluetooth Speaker with Mic, Deep Bass, Dual Equalizer, IPX7 Waterproof, Rugged Fabric Design (Black)"
          ],
          [
           "Pigeon by Stovekraft Amaze Plus Electric Kettle (14289) with Stainless Steel Body, 1.5 litre, used for boiling Water, making tea and coffee, instant noodles, soup etc. 1500 Watt (Silver)"
          ],
          [
           "USHA Quartz Room Heater with Overheating Protection (3002, Ivory, 800 Watts)"
          ],
          [
           "Amazon Brand - Solimo 2000/1000 Watts Room Heater with Adjustable Thermostat (ISI certified, White colour, Ideal for small to medium room/area)"
          ],
          [
           "StyleHouse Lint Remover for Woolen Clothes, Electric Lint Remover, Best Lint Shaver for Clothes"
          ],
          [
           "beatXP Kitchen Scale Multipurpose Portable Electronic Digital Weighing Scale | Weight Machine With Back light LCD Display | White |10 kg | 2 Year Warranty |"
          ],
          [
           "Glun Multipurpose Portable Electronic Digital Weighing Scale Weight Machine (10 Kg - with Back Light)"
          ],
          [
           "Pigeon Polypropylene Mini Handy and Compact Chopper with 3 Blades for Effortlessly Chopping Vegetables and Fruits for Your Kitchen (12420, Green, 400 ml)"
          ],
          [
           "Prestige 1.5 Litre Kettle 1500-watts, Red"
          ],
          [
           "Bajaj RHX-2 800-Watt Room Heater (White)"
          ],
          [
           "Prestige Electric Kettle PKOSS - 1500watts, Steel (1.5Ltr), Black"
          ],
          [
           "Pigeon by Stovekraft Cruise 1800 watt Induction Cooktop (Black)"
          ],
          [
           "Prestige PKGSS 1.7L 1500W Electric Kettle (Stainless Steel)"
          ],
          [
           "SHOPTOSHOP Electric Lint Remover, Best Lint Shaver for Clothes,Lint Remover for Woolen Clothes ,Lint Remover for Sweaters"
          ],
          [
           "Orpat OEH-1260 2000-Watt Fan Heater (Grey)"
          ],
          [
           "PRO365 Indo Mocktails/Coffee Foamer/Cappuccino/Lemonade/Milk Frother (6 Months Warranty)"
          ],
          [
           "Bajaj DX-6 1000W Dry Iron with Advance Soleplate and Anti-bacterial German Coating Technology, White"
          ],
          [
           "Croma 500W Mixer Grinder with 3 Stainless Steel Leak-proof Jars, 3 speed & Pulse function, 2 years warranty (CRAK4184, White & Purple)"
          ],
          [
           "Havells Instanio 3-Litre Instant Geyser (White/Blue)"
          ],
          [
           "Morphy Richards OFR Room Heater, 09 Fin 2000 Watts Oil Filled Room Heater , ISI Approved (OFR 9 Grey)"
          ],
          [
           "Havells Aqua Plus 1.2 litre Double Wall Kettle / 304 Stainless Steel Inner Body / Cool touch outer body / Wider mouth/ 2 Year warranty (Black, 1500 Watt)"
          ],
          [
           "Bajaj Splendora 3 Litre 3KW IWH Instant Water Heater (Geyser), White"
          ],
          [
           "KENT 16052 Elegant Electric Glass Kettle 1.8L 2000 W | Blue LED Illumination | Borosilicate Glass Body | Boil Drying Protection | Used as Boiler | Milk | Tea | Water & Soup | 1 Year Warranty"
          ],
          [
           "Bajaj New Shakti Neo 15L Vertical Storage Water Heater (Geyser 15 litres) 4 Star BEE Rated Heater For Water Heating with Titanium Armour, Swirl Flow Technology, Glasslined Tank (White), 1 Yr Warranty"
          ],
          [
           "Lifelong LLMG23 Power Pro 500-Watt Mixer Grinder with 3 Jars (Liquidizing, Wet Grinding and Chutney Jar), Stainless Steel blades, 1 Year Warranty (Black)"
          ],
          [
           "Bajaj Majesty DX-11 1000W Dry Iron with Advance Soleplate and Anti-bacterial German Coating Technology, White and Blue"
          ],
          [
           "Bajaj Rex 500W Mixer Grinder with Nutri-Pro Feature, 3 Jars, White"
          ],
          [
           "Lifelong LLEK15 Electric Kettle 1.5L with Stainless Steel Body, Easy and Fast Boiling of Water for Instant Noodles, Soup, Tea etc. (1 Year Warranty, Silver)"
          ],
          [
           "Lifelong LLQH922 Regalia 800 W (ISI Certified) Quartz Room Heater with 2 Power settings, Overheating Protection, 2 Rod Heater (1 Year Warranty, White)"
          ],
          [
           "R B Nova Lint/Fabric Shaver for Cloths, Lint Remover for Woolen Sweaters, Blankets, Jackets/Burr Remover Pill Remover from Carpets, Pack of 1"
          ],
          [
           "Bajaj Immersion Rod Water Heater 1500 Watts, Silver"
          ],
          [
           "INALSA Electric Kettle 1.5 Litre with Stainless Steel Body - Absa|Auto Shut Off & Boil Dry Protection Safety Features| Cordless Base & Cord Winder|Hot Water Kettle |Water Heater Jug"
          ],
          [
           "Prestige PIC 20 1600 Watt Induction Cooktop with Push button (Black)"
          ],
          [
           "Pigeon Healthifry Digital Air Fryer, 360° High Speed Air Circulation Technology 1200 W with Non-Stick 4.2 L Basket - Green"
          ],
          [
           "PrettyKrafts Laundry Basket for clothes with Lid & Handles, Toys Organiser, 75 Ltr Black & Grey"
          ],
          [
           "Philips GC1905 1440-Watt Steam Iron with Spray (Blue)"
          ],
          [
           "Havells Immersion HB15 1500 Watt (White Blue)"
          ],
          [
           "AGARO LR2007 Lint Remover, Rechargeable, for Woolen Sweaters, Blankets, Jackets, Burr Remover, Pill Remover From Carpets, Curtains"
          ],
          [
           "Pigeon 1.5 litre Hot Kettle and Stainless Steel Water Bottle Combo used for boiling Water, Making Tea and Coffee, Instant Noodles, Soup, 1500 Watt with Auto Shut- off Feature - (Silver)"
          ],
          [
           "NutriPro Juicer Mixer Grinder - Smoothie Maker - 500 Watts (3 Jars 2 Blades)"
          ],
          [
           "Philips GC026/30 Fabric Shaver, Lint Remover for Woolen Sweaters, Blankets, Jackets/Burr Remover Pill Remover from Carpets, Curtains (White)"
          ],
          [
           "Havells Cista Room Heater, White, 2000 Watts"
          ],
          [
           "AGARO Regal 800 Watts Handheld Vacuum Cleaner, Lightweight & Durable Body, Small/Mini Size ( Black)"
          ],
          [
           "Philips Viva Collection HD4928/01 2100-Watt Induction Cooktop with Feather Touch Sensor and Crystal Glass Plate (Black)"
          ],
          [
           "Pigeon By Stovekraft ABS Plastic Acer Plus Induction Cooktop 1800 Watts With Feather Touch Control - Black"
          ],
          [
           "AGARO Esteem Multi Kettle 1.2 Litre, 600W with 3 Heating Modes & Rapid Boil Technology"
          ],
          [
           "Bajaj Minor 1000 Watts Radiant Room Heater (Steel, ISI Approved)"
          ],
          [
           "Butterfly Jet Elite Mixer Grinder, 750W, 4 Jars (Grey)"
          ],
          [
           "SOFLIN Egg Boiler Electric Automatic Off 7 Egg Poacher for Steaming, Cooking, Boiling and Frying (400 Watts, Blue)"
          ],
          [
           "Lifelong LLQH925 Dyno Quartz Heater 2 Power settings Tip Over Cut-off Switch 800 Watt Silent operation Power Indicator 2 Rod Room Heater (1 Year Warranty, Grey)"
          ],
          [
           "Amazon Basics 1500 W Electric Kettle (Stainless Steel Body, 1.5 L)"
          ],
          [
           "Prestige Sandwich Maker PGMFD 01, Black"
          ],
          [
           "Orient Electric Fabrijoy DIFJ10BP 1000-Watt Dry Iron, Non-Stick (White and Blue)"
          ],
          [
           "Lifelong LLFH921 Regalia 2000 W Fan Heater, 3 Air Settings, Room Heater with Overheating Protection, 1 Year Warranty ( White, (ISI Certified, Ideal for small to medium room/area)"
          ],
          [
           "Philips GC181 Heavy Weight 1000-Watt Dry Iron, Pack of 1"
          ],
          [
           "Bulfyss USB Rechargeable Lint Remover Fabric Shaver Pet Hair Remover, Effectively and Quickly Remove Fuzz for Clothes, Sweater, Couch, Sofa, Blanket, Curtain, Wool, Cashmere (Grey, 1 Year Warranty)"
          ],
          [
           "Bajaj DX-7 1000W Dry Iron with Advance Soleplate and Anti-bacterial German Coating Technology, White"
          ],
          [
           "Bajaj New Shakti Neo 25L Vertical Storage Water Heater (Geyser 25 Litres) 4 Star BEE Rated Heater For Water Heating with Titanium Armour, Swirl Flow Technology, Glasslined Tank(White), 1 Yr Warranty"
          ],
          [
           "PHILIPS Handheld Garment Steamer STH3000/20 - Compact & Foldable, Convenient Vertical Steaming, 1000 Watt Quick Heat Up, up to 20g/min, Kills 99.9%* Bacteria (Reno Blue), Small"
          ],
          [
           "Room Heater Warmer Wall-Outlet 400 Watts Electric Handy Room Heater (Room Heaters Home for Bedroom, Reading Books, Work, bathrooms, Rooms, Offices, Home Offices,2022"
          ],
          [
           "Wonderchef Nutri-blend Mixer, Grinder & Blender | Powerful 400W 22000 RPM motor | Stainless steel Blades | 2 unbreakable jars | 2 Years warranty | Online recipe book by Chef Sanjeev Kapoor | Black"
          ],
          [
           "USHA Armor AR1100WB 1100 W Dry Iron with Black Weilburger Soleplate (Purple)"
          ],
          [
           "Butterfly EKN 1.5-Litre Electric Kettle (Silver with Black)"
          ],
          [
           "Crompton Arno Neo 15-L 5 Star Rated Storage Water Heater (Geyser) with Advanced 3 Level Safety (Grey)"
          ],
          [
           "Borosil Chef Delite BCH20DBB21 300-Watt Chopper (Black)"
          ],
          [
           "KENT 16055 Amaze Cool Touch Electric Kettle 1.8 L 1500 W | Plastic Outer & Stainless Steel Inside body | Auto shut off Over heating protection | Multipurpose hot water Kettle | 1 Year Warranty"
          ],
          [
           "Prestige IRIS Plus 750 watt mixer grinder"
          ],
          [
           "Simxen Egg Boiler Electric Automatic Off 7 Egg Poacher for Steaming, Cooking Also Boiling and Frying 400 W (Blue, Pink)"
          ],
          [
           "Amazon Basics 2000/1000 Watt Room Heater with Adjustable Thermostat (ISI certified, White color, Ideal for small to medium room/area)"
          ],
          [
           "HealthSense Weight Machine for Kitchen, Kitchen Food Weighing Scale for Health, Fitness, Home Baking & Cooking with Hanging Design, Touch Button, Tare Function & 1 Year Warranty – Chef-Mate KS 40"
          ],
          [
           "Bajaj New Shakti Neo 10L Vertical Storage Water Heater (Geyser 10 Litres) 4 Star BEE Rated Heater For Water Heating with Titanium Armour, Swirl Flow Technology, Glasslined Tank(White), 1 Yr Warranty"
          ],
          [
           "Bosch Pro 1000W Mixer Grinder MGM8842MIN - Black"
          ],
          [
           "Bulfyss Stainless Steel Digital Kitchen Weighing Scale & Food Weight Machine for Diet, Nutrition, Health, Fitness, Baking & Cooking (5Kgs, Stainless Steel, 2 Years Warranty)"
          ],
          [
           "VR 18 Pcs - 3 Different Size Plastic Food Snack Bag Pouch Clip Sealer Large, Medium, Small Plastic Snack Seal Sealing Bag Clips Vacuum Sealer (Set of 18, Multi-Color) (Multicolor)"
          ],
          [
           "Orient Electric Apex-FX 1200mm Ultra High Speed 400 RPM Ceiling Fan (Brown)"
          ],
          [
           "PrettyKrafts Folding Laundry Basket for Clothes with Lid & Handle, Toys Organiser, 75 Litre, (Pack of 1), Mushroom Print"
          ],
          [
           "Bajaj Majesty RX11 2000 Watts Heat Convector Room Heater (White, ISI Approved)"
          ],
          [
           "Eureka Forbes Trendy Zip 1000 Watts powerful suction vacuum cleaner with resuable dust bag & 5 accessories,1 year warrantycompact,light weight & easy to use (Black)"
          ],
          [
           "Pigeon by Stovekraft Quartz Electric Kettle (14299) 1.7 Litre with Stainless Steel Body, used for boiling Water, making tea and coffee, instant noodles, soup etc. 1500 Watt (Silver)"
          ],
          [
           "Maharaja Whiteline Lava Neo 1200-Watts Halogen Heater (White and Red)"
          ],
          [
           "Crompton Gracee 5-L Instant Water Heater (Geyser)"
          ],
          [
           "Bajaj DX-2 600W Dry Iron with Advance Soleplate and Anti-bacterial German Coating Technology, Black"
          ],
          [
           "Bajaj Waterproof 1500 Watts Immersion Rod Heater"
          ],
          [
           "AGARO Supreme High Pressure Washer, 1800 Watts, 120 Bars, 6.5L/Min Flow Rate, 8 Meters Outlet Hose, Portable, for Car,Bike and Home Cleaning Purpose, Black and Orange"
          ],
          [
           "Bajaj Deluxe 2000 Watts Halogen Room Heater (Steel, ISI Approved), Multicolor"
          ],
          [
           "Orpat HHB-100E WOB 250-Watt Hand Blender (White)"
          ],
          [
           "GILTON Egg Boiler Electric Automatic Off 7 Egg Poacher for Steaming, Cooking Also Boiling and Frying, Multi Color"
          ],
          [
           "HealthSense Chef-Mate KS 33 Digital Kitchen Weighing Scale & Food Weight Machine for Health, Fitness, Home Baking & Cooking with Free Bowl, 1 Year Warranty & Batteries Included"
          ],
          [
           "PHILIPS Digital Air Fryer HD9252/90 with Touch Panel, uses up to 90% less fat, 7 Pre-set Menu, 1400W, 4.1 Liter, with Rapid Air Technology (Black), Large"
          ],
          [
           "Milton Go Electro 2.0 Stainless Steel Electric Kettle, 1 Piece, 2 Litres, Silver | Power Indicator | 1500 Watts | Auto Cut-off | Detachable 360 Degree Connector | Boiler for Water"
          ],
          [
           "Philips Daily Collection HD2582/00 830-Watt 2-Slice Pop-up Toaster (White)"
          ],
          [
           "Crompton Insta Comfy 800 Watt Room Heater with 2 Heat Settings(Grey Blue)"
          ],
          [
           "USHA Heat Convector 812 T 2000-Watt with Instant Heating Feature (Black)"
          ],
          [
           "Philips HL7756/00 Mixer Grinder, 750W, 3 Jars (Black)"
          ],
          [
           "Kuber Industries Waterproof Round Non Wovan Laundry Bag/Hamper|Metalic Printed With Handles|Foldable Bin & 45 Liter Capicity|Size 37 x 37 x 49, Pack of 1 (Beige & Brown)-KUBMART11450"
          ],
          [
           "Lifelong LLMG93 500 Watt Duos Mixer Grinder, 2 Stainless Steel Jar (Liquidizing and Chutney Jar)| ABS Body, Stainless Steel Blades, 3 Speed Options with Whip (1 Year Warranty, Black)"
          ],
          [
           "IKEA Frother for Milk"
          ],
          [
           "Crompton Insta Comfort Heater 2000 Watts Heat Convector with Adjustable Thermostats, Hybrid Cyan, Standard (‎ACGRH- INSTACOMFORT)"
          ],
          [
           "Lint Remover Woolen Clothes Lint Extractor Battery Lint Removing Machine Bhur Remover"
          ],
          [
           "Pigeon Kessel Multipurpose Kettle (12173) 1.2 litres with Stainless Steel Body, used for boiling Water and milk, Tea, Coffee, Oats, Noodles, Soup etc. 600 Watt (Black & Silver)"
          ],
          [
           "C (DEVICE) Lint Remover for Woolen Clothes, Electric Lint Remover, Best Lint Shaver for Clothes Pack of 1"
          ],
          [
           "Pigeon by Stovekraft 2 Slice Auto Pop up Toaster. A Smart Bread Toaster for Your Home (750 Watt) (black)"
          ],
          [
           "Bajaj OFR Room Heater, 13 Fin 2900 Watts Oil Filled Room Heater with 400W PTC Ceramic Fan Heater, ISI Approved (Majesty 13F Plus Black)"
          ],
          [
           "Luminous Vento Deluxe 150 mm Exhaust Fan for Kitchen, Bathroom with Strong Air Suction, Rust Proof Body and Dust Protection Shutters (2-Year Warranty, White)"
          ],
          [
           "Wipro Vesta 1.8 litre Cool touch electric Kettle with Auto cut off | Double Layer outer body | Triple Protection - Dry Boil, Steam & Over Heat |Stainless Steel Inner Body | (Black, 1500 Watt)"
          ],
          [
           "Kitchen Mart Stainless Steel South Indian Filter Coffee Drip Maker, Madras Kappi, Drip Decotion Maker160ml (2 Cup)"
          ],
          [
           "Ikea 903.391.72 Polypropylene Plastic Solid Bevara Sealing Clip (Multicolour) - 30 Pack, Adjustable"
          ],
          [
           "HUL Pureit Germkill kit for Classic 23 L water purifier - 1500 L Capacity"
          ],
          [
           "HUL Pureit Germkill kit for Classic 23 L water purifier - 3000 L Capacity"
          ],
          [
           "Prestige Iris 750 Watt Mixer Grinder with 3 Stainless Steel Jar + 1 Juicer Jar (White and Blue)"
          ],
          [
           "Preethi Blue Leaf Diamond MG-214 mixer grinder 750 watt (Blue/White), 3 jars & Flexi Lid, FBT motor with 2yr Guarantee & Lifelong Free Service"
          ],
          [
           "Themisto 350 Watts Egg Boiler-Blue"
          ],
          [
           "Butterfly Smart Mixer Grinder, 750W, 4 Jars (Grey)"
          ],
          [
           "KENT Smart Multi Cooker Cum Kettle 1.2 Liter 800 Watts, Electric Cooker with Steamer & Boiler for Idlis, Instant Noodles, Momos, Eggs, & Steam Vegetables, Inner Stainless Steel & Cool Touch Outer Body"
          ],
          [
           "InstaCuppa Portable Blender for Smoothie, Milk Shakes, Crushing Ice and Juices, USB Rechargeable Personal Blender Machine for Kitchen with 2000 mAh Rechargeable Battery, 150 Watt Motor, 400 ML"
          ],
          [
           "USHA EI 1602 1000 W Lightweight Dry Iron with Non-Stick Soleplate (Multi-colour)"
          ],
          [
           "KENT 16044 Hand Blender Stainless Steel 400 W | Variable Speed Control | Easy to Clean and Store | Low Noise Operation"
          ],
          [
           "White Feather Portable Heat Sealer Mini Sealing Machine for Food Storage Vacuum Bag, Chip, Plastic, Snack Bags, Package Home Closer Storage Tool (Multicolor) Random Colour"
          ],
          [
           "Crompton IHL 152 1500-Watt Immersion Water Heater with Copper Heating Element (Black)"
          ],
          [
           "InstaCuppa Rechargeable Mini Electric Chopper - Stainless Steel Blades, One Touch Operation, for Mincing Garlic, Ginger, Onion, Vegetable, Meat, Nuts, (White, 250 ML, Pack of 1, 45 Watts)"
          ],
          [
           "Philips PowerPro FC9352/01 Compact Bagless Vacuum Cleaner (Blue)"
          ],
          [
           "SAIELLIN Electric Lint Remover for Clothes Fabric Shaver Lint Shaver for Woolen Clothes Blanket Jackets Stainless Steel Blades, Clothes and Furniture Lint Roller for Fabrics Portable Lint Shavers (White Orange)"
          ],
          [
           "Cookwell Bullet Mixer Grinder (5 Jars, 3 Blades, Silver)"
          ],
          [
           "Prestige PRWO 1.8-2 700-Watts Delight Electric Rice Cooker with 2 Aluminium Cooking Pans - 1.8 Liters, White"
          ],
          [
           "Swiffer Instant Electric Water Heater Faucet Tap Home-Kitchen Instantaneous Water Heater Tank less for Tap, LED Electric Head Water Heaters Tail Gallon Comfort(3000W) ((Pack of 1))"
          ],
          [
           "InstaCuppa Portable Blender for Smoothie, Milk Shakes, Crushing Ice and Juices, USB Rechargeable Personal Blender Machine for Kitchen with 4000 mAh Rechargeable Battery, 230 Watt Motor, 500 ML"
          ],
          [
           "Lifelong LLWH106 Flash 3 Litres Instant Water Heater for Home Use, 8 Bar Pressure,Power On/Off Indicator and Advanced Safety, (3000W, ISI Certified, 2 Years Warranty)"
          ],
          [
           "Hindware Atlantic Compacto 3 Litre Instant water heater with Stainless Steel Tank, Robust Construction, Pressure Relief Valve And I-thermostat Feature (White And Grey)"
          ],
          [
           "ATOM Selves-MH 200 GM Digital Pocket Scale"
          ],
          [
           "Crompton InstaBliss 3-L Instant Water Heater (Geyser) with Advanced 4 Level Safety"
          ],
          [
           "Croma 1100 W Dry Iron with Weilburger Dual Soleplate Coating (CRSHAH702SIR11, White)"
          ],
          [
           "Lint Roller with 40 Paper Sheets, 22 x 5 cm (Grey)"
          ],
          [
           "Portable Lint Remover Pet Fur Remover Clothes Fuzz Remover Pet Hairball Quick Epilator Shaver Removing Dust Pet Hair from Clothing Furniture Perfect for Clothing,Furniture,Couch,Carpet (Standard)"
          ],
          [
           "atomberg Renesa 1200mm BLDC Motor with Remote 3 Blade Energy Saving Ceiling Fan (Matt Black)"
          ],
          [
           "Pigeon by Stovekraft Amaze Plus Electric Kettle (14313) with Stainless Steel Body, 1.8 litre, used for boiling Water, making tea and coffee, instant noodles, soup etc. 1500 Watt (Silver)"
          ],
          [
           "Usha CookJoy (CJ1600WPC) 1600 Watt Induction cooktop (Black)"
          ],
          [
           "Reffair AX30 [MAX] Portable Air Purifier for Car, Home & Office | Smart Ionizer Function | H13 Grade True HEPA Filter [Internationally Tested] Aromabuds Fragrance Option - Black"
          ],
          [
           "!!1000 Watt/2000-Watt Room Heater!! Fan Heater!!Pure White!!HN-2500!!Made in India!!"
          ],
          [
           "Eureka Forbes Wet & Dry Ultimo 1400 Watts Multipurpose Vacuum Cleaner,Power Suction & Blower with 20 litres Tank Capacity,6 Accessories,1 Year Warranty,Compact,Light Weight & Easy to use (Red)"
          ],
          [
           "Activa Heat-Max 2000 Watts Room Heater (White color ) with ABS body"
          ],
          [
           "PHILIPS HL1655/00 Hand Blender, White Jar 250W"
          ],
          [
           "Bajaj DX-2 600W Dry Iron with Advance Soleplate and Anti-Bacterial German Coating Technology, Grey"
          ],
          [
           "V-Guard Zio Instant Water Geyser | 3 Litre | 3000 W Heating | White-Blue | | 2 Year Warranty"
          ],
          [
           "Homeistic Applience™ Instant Electric Water Heater Faucet Tap For Kitchen And Bathroom Sink Digital Water Heating Tap with Shower Head ABS Body- Shock Proof (Pack Of 1. White)"
          ],
          [
           "Kitchenwell 18Pc Plastic Food Snack Bag Pouch Clip Sealer for Keeping Food Fresh for Home, Kitchen, Camping Snack Seal Sealing Bag Clips (Multi-Color) | (Pack of 18)|"
          ],
          [
           "Havells Instanio 10 Litre Storage Water Heater with Flexi Pipe and Free installation (White Blue)"
          ],
          [
           "Prestige PIC 16.0+ 1900W Induction Cooktop with Soft Touch Push Buttons (Black)"
          ],
          [
           "AGARO 33398 Rapid 1000-Watt, 10-Litre Wet & Dry Vacuum Cleaner, with Blower Function (Red & Black)"
          ],
          [
           "KENT 16026 Electric Kettle Stainless Steel 1.8 L | 1500W | Superfast Boiling | Auto Shut-Off | Boil Dry Protection | 360° Rotating Base | Water Level Indicator"
          ],
          [
           "SKYTONE Stainless Steel Electric Meat Grinders with Bowl 700W Heavy for Kitchen Food Chopper, Meat, Vegetables, Onion , Garlic Slicer Dicer, Fruit & Nuts Blender (2L, 700 Watts)"
          ],
          [
           "KENT 16088 Vogue Electric Kettle 1.8 Litre 1500 W | Stainless Steel body | Auto shut off over heating protection | 1 Year Warranty"
          ],
          [
           "Eureka Forbes Supervac 1600 Watts Powerful Suction,bagless Vacuum Cleaner with cyclonic Technology,7 Accessories,1 Year Warranty,Compact,Lightweight & Easy to use (Red)"
          ],
          [
           "Mi Air Purifier 3 with True HEPA Filter, removes air pollutants, smoke, odor, bacteria & viruses with 99.97% efficiency, coverage area up to 484 sq. ft., Wi-Fi & Voice control - Alexa/GA (white)"
          ],
          [
           "Tata Swach Bulb 6000-Litre Cartridge, 1 Piece, White, Hollow Fiber Membrane"
          ],
          [
           "Havells Ambrose 1200mm Ceiling Fan (Gold Mist Wood)"
          ],
          [
           "PrettyKrafts Laundry Bag / Basket for Dirty Clothes, Folding Round Laundry Bag,Set of 2, Black Wave"
          ],
          [
           "FABWARE Lint Remover for Clothes - Sticky Lint Roller for Clothes, Furniture, Wool, Coat, Car Seats, Carpet, Fabric, Dust Cleaner, Pet Hair Remover with 1 Handle & 1 Refill Total 60 Sheets & 1 Cover"
          ],
          [
           "Brayden Fito Atom Rechargeable Smoothie Blender with 2000 mAh Battery and 3.7V Motor with 400ml Tritan Jar (Blue)"
          ],
          [
           "Bajaj Frore 1200 mm Ceiling Fan (Brown)"
          ],
          [
           "Venus Digital Kitchen Weighing Scale & Food Weight Machine for Health, Fitness, Home Baking & Cooking Scale, 2 Year Warranty & Battery Included (Weighing Scale Without Bowl) Capacity 10 Kg, 1 Gm"
          ],
          [
           "Bajaj ATX 4 750-Watt Pop-up Toaster (White)"
          ],
          [
           "Coway Professional Air Purifier for Home, Longest Filter Life 8500 Hrs, Green True HEPA Filter, Traps 99.99% Virus & PM 0.1 Particles, Warranty 7 Years (AirMega 150 (AP-1019C))"
          ],
          [
           "KENT Gold Optima Gravity Water Purifier (11016) | UF Technology Based | Non-Electric & Chemical Free | Counter Top | 10L Storage | White"
          ],
          [
           "HOMEPACK 750W Radiant Room Home Office Heaters For Winter"
          ],
          [
           "Bajaj Rex 750W Mixer Grinder with Nutri Pro Feature, 4 Jars, White"
          ],
          [
           "Heart Home Waterproof Round Non Wovan Laundry Bag/Hamper|Metalic Printed With Handles|Foldable Bin & 45 Liter Capicity|Size 37 x 37 x 49, Pack of 1 (Grey & Black)-HEARTXY11447"
          ],
          [
           "MILTON Smart Egg Boiler 360-Watts (Transparent and Silver Grey), Boil Up to 7 Eggs"
          ],
          [
           "iBELL SEK15L Premium 1.5 Litre Stainless Steel Electric Kettle,1500W Auto Cut-Off Feature,Silver with Black"
          ],
          [
           "Tosaa T2STSR Sandwich Gas Toaster Regular (Black)"
          ],
          [
           "V-Guard Divino 5 Star Rated 15 Litre Storage Water Heater (Geyser) with Advanced Safety Features, White"
          ],
          [
           "Akiara® - Makes life easy Mini Sewing Machine with Table Set | Tailoring Machine | Hand Sewing Machine with extension table, foot pedal, adapter"
          ],
          [
           "Usha Steam Pro SI 3713, 1300 W Steam Iron, Powerful steam Output up to 18 g/min, Non-Stick Soleplate (White & Blue)"
          ],
          [
           "Wonderchef Nutri-blend Complete Kitchen Machine | 22000 RPM Mixer Grinder, Blender, Chopper, Juicer | 400W Powerful motor | SS Blades | 4 Unbreakable Jars | 2 Years Warranty | Online Recipe Book By Chef Sanjeev Kapoor | Black"
          ],
          [
           "WIDEWINGS Electric Handheld Milk Wand Mixer Frother for Latte Coffee Hot Milk, Milk Frother for Coffee, Egg Beater, Hand Blender, Coffee Beater with Stand"
          ],
          [
           "Morphy Richards Icon Superb 750W Mixer Grinder, 4 Jars, Silver and Black"
          ],
          [
           "Philips Handheld Garment Steamer GC360/30 - Vertical & Horizontal Steaming, 1200 Watt, up to 22g/min"
          ],
          [
           "Vedini Transparent Empty Refillable Reusable Fine Mist Spray Bottle for Perfume, Travel with DIY Sticker Set ( 100ml, Pack of 4)"
          ],
          [
           "Crompton Sea Sapphira 1200 mm Ultra High Speed 3 Blade Ceiling Fan (Lustre Brown, Pack of 1)"
          ],
          [
           "Kuber Industries Waterproof Canvas Laundry Bag/Hamper|Metalic Printed With Handles|Foldable Bin & 45 Liter Capicity|Size 37 x 37 x 46, Pack of 1 (Brown)"
          ],
          [
           "JM SELLER 180 W 2021 Edition Electric Beater High Speed Hand Mixer Egg Beater for Cake Making and Whipping Cream with 7 Speed Control (White) with Free Spatula and Oil Brush"
          ],
          [
           "Oratech Coffee Frother electric, milk frother electric, coffee beater, cappuccino maker, Coffee Foamer, Mocktail Mixer, Coffee Foam Maker, coffee whisker electric, Froth Maker, coffee stirrers electric, coffee frothers, Coffee Blender, (6 Month Warranty) (Multicolour)"
          ],
          [
           "Havells Glaze 74W Pearl Ivory Gold Ceiling Fan, Sweep: 1200 Mm"
          ],
          [
           "Pick Ur Needs® Lint Remover for Clothes High Range Rechargeable Lint Shaver for All Types of Clothes, Fabrics, Blanket with 1 Extra Blade Multicolor (Rechargeable)"
          ],
          [
           "Rico Japanese Technology Rechargeable Wireless Electric Chopper with Replacement Warranty - Stainless Steel Blades, One Touch Operation, 10 Seconds Chopping, Mincing Vegetable, Meat - 250 ML, 30 Watts"
          ],
          [
           "Butterfly Smart Wet Grinder, 2L (White) with Coconut Scrapper Attachment, Output - 150 W, Input 260 W"
          ],
          [
           "AGARO Marvel 9 Liters Oven Toaster Griller, Cake Baking OTG (Black)"
          ],
          [
           "Philips GC1920/28 1440-Watt Non-Stick Soleplate Steam Iron"
          ],
          [
           "Havells OFR 13 Wave Fin with PTC Fan Heater 2900 Watts (Black)"
          ],
          [
           "Bajaj DHX-9 1000W Heavy Weight Dry Iron with Advance Soleplate and Anti-Bacterial German Coating Technology, Ivory"
          ],
          [
           "Aquasure From Aquaguard Amaze RO+UV+MTDS,7L storage water purifier,suitable for borewell,tanker,municipal water (Grey) from Eureka Forbes"
          ],
          [
           "ROYAL STEP Portable Electric USB Juice Maker Juicer Bottle Blender Grinder Mixer,6 Blades Rechargeable Bottle with (MULTII) (MULTI COLOUR 6 BLED JUICER MIXER)"
          ],
          [
           "KENT 16068 Zoom Vacuum Cleaner for Home and Car 130 W | Cordless, Hoseless, Rechargeable HEPA Filters Vacuum Cleaner with Cyclonic Technology | Bagless Design and Multi Nozzle Operation | Blue"
          ],
          [
           "ENEM Sealing Machine | 12 Inch (300 mm) | 1 Year Warranty | Full Customer Support | Beep Sound Function | Plastic Packing Machine | Plastic Bag Sealing Machine | Heat Sealer Machine | Plastic Sealing Machine | Blue | Made in India"
          ],
          [
           "Wipro Vesta 1200 Watt GD203 Heavyweight Automatic Dry Iron| Quick Heat Up| Anti bacterial German Weilburger Double Coated Black Soleplate |2 Years Warranty"
          ],
          [
           "Inalsa Electric Kettle Prism Inox - 1350 W with LED Illumination & Boro-Silicate Body, 1.8 L Capacity along with Cordless Base, 2 Year Warranty (Black)"
          ],
          [
           "VRPRIME Lint Roller Lint Remover for Clothes, Pet | 360 Sheets Reusable Sticky Easy-Tear Sheet Brush for Clothes, Furniture, Carpet, Dog Fur, Sweater, Dust & Dirt (4 Rolls - 90 Sheet Each Roll)"
          ],
          [
           "Philips AC1215/20 Air purifier, removes 99.97% airborne pollutants, 4-stage filtration with True HEPA filter (white)"
          ],
          [
           "Eopora PTC Ceramic Fast Heating Room Heater for Bedroom, 1500/1000 Watts Room Heater for Home, Electric Heater, Electric Fan Heater for Home Office Bedroom (White)"
          ],
          [
           "Usha Goliath GO1200WG Heavy Weight 1200-Watt Dry Iron, 1.8 Kg(Red)"
          ],
          [
           "Wipro Vesta Electric Egg Boiler, 360 Watts, 3 Boiling Modes, Stainless Steel Body and Heating Plate, Boils up to 7 Eggs at a time, Automatic Shut Down, White, Standard (VB021070)"
          ],
          [
           "Philips Viva Collection HR1832/00 1.5-Litre400-Watt Juicer (Ink Black)"
          ],
          [
           "Kitchenwell Multipurpose Portable Electronic Digital Weighing Scale Weight Machine | Weight Machine | 10 Kg"
          ],
          [
           "FIGMENT Handheld Milk Frother Rechargeable, 3-Speed Electric Frother for Coffee with 2 Whisks and Coffee Decoration Tool, Coffee Frother Mixer, CRESCENT ENTERPRISES VRW0.50BK (A1)"
          ],
          [
           "Balzano High Speed Nutri Blender/Mixer/Smoothie Maker - 500 Watt - Silver, 2 Jar"
          ],
          [
           "Swiss Military VC03 Wireless Car Vacuum Cleaner | Wireless Vacuum Cleaner for Home, Car, Living Room | Wireless Vacuum Cleaner Dust Collection/Lighting Car Pet Hair Vacuum with Powerful Motor"
          ],
          [
           "Zuvexa USB Rechargeable Electric Foam Maker - Handheld Milk Wand Mixer Frother for Hot Milk, Hand Blender Coffee, Egg Beater (Black)"
          ],
          [
           "Usha IH2415 1500-Watt Immersion Heater (Silver)"
          ],
          [
           "ACTIVA Instant 3 LTR 3 KVA SPECIAL Anti Rust Coated Tank Geyser with Full ABS Body with 5 Year Warranty Premium (White)"
          ],
          [
           "Havells Instanio 1-Litre 3KW Instant Water Heater (Geyser), White Blue"
          ],
          [
           "Lifelong 2-in1 Egg Boiler and Poacher 500-Watt (Transparent and Silver Grey), Boil 8 eggs, Poach 4 eggs, Easy to clean| 3 Boiling Modes, Stainless Steel Body and Heating Plate, Automatic Turn-Off"
          ],
          [
           "INDIAS®™ Electro-Instant Water Geyser A.B.S. Body Shock Proof Can be Used in Bathroom, Kitchen, wash Area, Hotels, Hospital etc."
          ],
          [
           "AmazonBasics Induction Cooktop 1600 Watt (Black)"
          ],
          [
           "Sui Generis Electric Handheld Milk Wand Mixer Frother for Latte Coffee Hot Milk, Milk Frother, Electric Coffee Beater, Egg Beater, Latte Maker, Mini Hand Blender Cappuccino Maker (Multicolor)"
          ],
          [
           "Philips Air Purifier Ac2887/20,Vitashield Intelligent Purification,Long Hepa Filter Life Upto 17000 Hours,Removes 99.9% Airborne Viruses & Bacteria,99.97% Airborne Pollutants,Ideal For Master Bedroom"
          ],
          [
           "Esquire Laundry Basket Brown, 50 Ltr Capacity(Plastic)"
          ],
          [
           "PHILIPS Air Fryer HD9200/90, uses up to 90% less fat, 1400W, 4.1 Liter, with Rapid Air Technology (Black), Large"
          ],
          [
           "Havells Bero Quartz Heater Black 800w 2 Heat Settings 2 Year Product Warranty"
          ],
          [
           "Philips EasyTouch Plus Standing Garment Steamer GC523/60 - 1600 Watt, 5 Steam Settings, Up to 32 g/min steam, with Double Pole"
          ],
          [
           "Brayden Chopro, Electric Vegetable Chopper for Kitchen with 500 ML Capacity, 400 Watts Copper Motor and 4 Bi-Level SS Blades (Black)"
          ],
          [
           "Wonderchef Nutri-blend Mixer, Grinder & Blender | Powerful 400W 22000 RPM motor | Stainless steel Blades | 3 unbreakable jars | 2 Years warranty | Online recipe book by Chef Sanjeev Kapoor | Black"
          ],
          [
           "Usha Janome Dream Stitch Automatic Zig-Zag Electric Sewing Machine with 14 Stitch Function (White and Blue) with Free Sewing KIT Worth RS 500"
          ],
          [
           "Black+Decker Handheld Portable Garment Steamer 1500 Watts with Anti Calc (Violet)"
          ],
          [
           "Personal Size Blender, Portable Blender, Battery Powered USB Blender, with Four Blades, Mini Blender Travel Bottle for Juice, Shakes, and Smoothies (Pink)"
          ],
          [
           "Sujata Powermatic Plus 900 Watts Juicer Mixer Grinder"
          ],
          [
           "Sure From Aquaguard Delight NXT RO+UV+UF+Taste Adjuster(MTDS),6L water purifier,8 stages purification,Suitable for borewell,tanker,municipal water(Black) from Eureka Forbes"
          ],
          [
           "PrettyKrafts Laundry Basket for clothes with Lid & Handles, Toys Organiser, 75 Ltr Grey"
          ],
          [
           "Dr Trust Electronic Kitchen Digital Scale Weighing Machine (Blue)"
          ],
          [
           "Tesora - Inspired by you Large Premium Electric Kettle 1.8L, Stainless Steel Inner Body - Auto Power Cut, Boil Dry Protection & Cool Touch Double Wall, Portable | 1500 Watts |1 Year Warranty | (White)"
          ],
          [
           "AGARO Ace 1600 Watts, 21.5 kPa Suction Power, 21 litres Wet & Dry Stainless Steel Vacuum Cleaner with Blower Function and Washable Dust Bag"
          ],
          [
           "INALSA Hand Blender 1000 Watt with Chopper, Whisker, 600 ml Multipurpose Jar|Variable Speed And Turbo Speed Function |100% Copper Motor |Low Noise |ANTI-SPLASH TECHNOLOGY|2 Year Warranty"
          ],
          [
           "akiara - Makes life easy Electric Handy Sewing/Stitch Handheld Cordless Portable White Sewing Machine for Home Tailoring, Hand Machine | Mini Silai | White Hand Machine with Adapter"
          ],
          [
           "Philips EasySpeed Plus Steam Iron GC2145/20-2200W, Quick Heat Up with up to 30 g/min steam, 110 g steam Boost, Scratch Resistant Ceramic Soleplate, Vertical steam & Drip-Stop"
          ],
          [
           "INALSA Electric Chopper Bullet- 400 Watts with 100% Pure Copper Motor| Chop, Mince, Puree, Dice | Twin Blade Technology| 900 ml Capacity| One Touch Operation, 1.30mtr Long Power Cord (Black/Silver)"
          ],
          [
           "Borosil Electric Egg Boiler, 8 Egg Capacity, For Hard, Soft, Medium Boiled Eggs, Steamed Vegetables, Transparent Lid, Stainless Steel Exterior (500 Watts)"
          ],
          [
           "Wipro Vesta Grill 1000 Watt Sandwich Maker |Dual function-SW Maker&Griller|Non stick Coat -BPA&PTFE Free |Auto Temp Cut-off| Height Control -180ᶿ&105ᶿ |2 year warranty|SS Finish|Standard size"
          ],
          [
           "Rico IRPRO 1500 Watt Japanese Technology Electric Water Heater Immersion Rod Shockproof Protection & Stainless Steel Heating Element for Instant Heating| ISI Certified 1 Year Replacement Warranty"
          ],
          [
           "Eureka Forbes Active Clean 700 Watts Powerful Suction & Blower Vacuum Cleaner with Washable HEPA Filter & 6 Accessories,1 Year Warranty,Compact,Light Weight & Easy to use (Red & Black)"
          ],
          [
           "CSI INTERNATIONAL® Instant Water Geyser, Water Heater, Portable Water Heater, Geyser Made of First Class ABS Plastic 3KW (White)"
          ],
          [
           "Hindware Atlantic Xceed 5L 3kW Instant Water Heater with Copper Heating Element and High Grade Stainless Steel Tank"
          ],
          [
           "Morphy Richards New Europa 800-Watt Espresso and Cappuccino 4-Cup Coffee Maker (Black)"
          ],
          [
           "Lifelong Power - Pro 500 Watt 3 Jar Mixer Grinder with 3 Speed Control and 1100 Watt Dry Non-Stick soleplate Iron Super Combo (White and Grey, 1 Year Warranty)"
          ],
          [
           "iBELL Castor CTEK15L Premium 1.5 Litre Stainless Steel Electric Kettle,1500W Auto Cut-Off Feature,Silver"
          ],
          [
           "BAJAJ PYGMY MINI 110 MM 10 W HIGH SPEED OPERATION, USB CHARGING, MULTI-CLIP FUNCTION PERSONAL FAN"
          ],
          [
           "Crompton InstaGlide 1000-Watts Dry Iron with American Heritage Coating, Pack of 1 Iron"
          ],
          [
           "Prestige Clean Home Water Purifier Cartridge"
          ],
          [
           "Morphy Richards Aristo 2000 Watts PTC Room Heater (White)"
          ],
          [
           "Gadgetronics Digital Kitchen Weighing Scale & Food Weight Machine for Health, Fitness, Home Baking & Cooking (10 KGs,1 Year Warranty & Batteries Included)"
          ],
          [
           "HUL Pureit Germkill kit for Advanced 23 L water purifier - 3000 L Capacity, Sand, Multicolour"
          ],
          [
           "Tom & Jerry Folding Laundry Basket for Clothes with Lid & Handle, Toys Organiser, 75 Litre, Green"
          ],
          [
           "Ikea Little Loved Corner PRODUKT Milk-frother, Coffee/Tea Frother, Handheld Milk Wand Mixer Frother, Black"
          ],
          [
           "Philips EasySpeed Plus Steam Iron GC2147/30-2400W, Quick Heat up with up to 30 g/min steam, 150g steam Boost, Scratch Resistant Ceramic Soleplate, Vertical steam, Drip-Stop"
          ],
          [
           "Bajaj New Shakti Neo Plus 15 Litre 4 Star Rated Storage Water Heater (Geyser) with Multiple Safety System, White"
          ],
          [
           "House of Quirk Reusable Sticky Picker Cleaner Easy-Tear Sheets Travel Pet Hair Lint Rollers Brush (10cm Sheet, Set of 3 Rolls, 180 Sheets, 60 Sheets Each roll Lint Roller Remover, Multicolour)"
          ],
          [
           "Allin Exporters J66 Ultrasonic Humidifier Cool Mist Air Purifier for Dryness, Cold & Cough Large Capacity for Room, Baby, Plants, Bedroom (2.4 L) (1 Year Warranty)"
          ],
          [
           "Multifunctional 2 in 1 Electric Egg Boiling Steamer Egg Frying Pan Egg Boiler Electric Automatic Off with Egg Boiler Machine Non-Stick Electric Egg Frying Pan-Tiger Woods (Multy)"
          ],
          [
           "Maharaja Whiteline Nano Carbon Neo, 500 Watts Room Heater (Black, White), Standard (5200100986)"
          ],
          [
           "KENT Electric Chopper-B for Kitchen 250 Watt | Chop, Mince, Puree, Whisk, 400 ml Capacity | Stainless Steel Double Chopping Blades | Transparent Chopping Bowl | Anti-Skid | One Touch Operation | Black"
          ],
          [
           "Crompton Amica 15-L 5 Star Rated Storage Water Heater (Geyser) with Free Installation (White)"
          ],
          [
           "KENT 16025 Sandwich Grill 700W | Non-Toxic Ceramic Coating | Automatic Temperature Cut-off with LED Indicator | Adjustable Height Control, Metallic Silver, Standard"
          ],
          [
           "Candes Gloster All in One Silent Blower Fan Room Heater Ideal for Small and Medium Area, 2000 Watts (White)"
          ],
          [
           "Inalsa Electric Fan Heater Hotty - 2000 Watts Variable Temperature Control Cool/Warm/Hot Air Selector | Over Heat Protection | ISI Certification, White"
          ],
          [
           "Havells Zella Flap Auto Immersion Rod 1500 Watts"
          ],
          [
           "iBELL SM1301 3-in-1 Sandwich Maker with Detachable Plates for Toast / Waffle / Grill , 750 Watt (Black)"
          ],
          [
           "Inalsa Vacuum Cleaner Wet and Dry Micro WD10 with 3in1 Multifunction Wet/Dry/Blowing| 14KPA Suction and Impact Resistant Polymer Tank,(Yellow/Black)"
          ],
          [
           "MR. BRAND Portable USB Juicer Electric USB Juice Maker Mixer Bottle Blender Grinder Mixer,6 Blades Rechargeable Bottle with (Multi color) (MULTI MIXER 6 BLED)"
          ],
          [
           "Crompton Hill Briz Deco 1200mm (48 inch) High Speed Designer Ceiling Fan (Smoked Brown)"
          ],
          [
           "Sujata Powermatic Plus, Juicer Mixer Grinder with Chutney Jar, 900 Watts, 3 Jars (White)"
          ],
          [
           "Aquadpure Copper + Mineral RO+UV+UF 10 to 12 Liter RO + UV + TDS ADJUSTER Water Purifier with Copper Charge Technology black & copper Best For Home and Office (Made In India)"
          ],
          [
           "Amazon Basics 650 Watt Drip Coffee Maker with Borosilicate Carafe"
          ],
          [
           "Crompton Insta Delight Fan Circulator Room Heater with 3 Heat Settings (Slate Grey & Black, 2000 Watt)"
          ],
          [
           "!!HANEUL!!1000 Watt/2000-Watt Room Heater!! Fan Heater!!Pure White!!HN-2500!!Made in India!!Thermoset!!"
          ],
          [
           "Melbon VM-905 2000-Watt Room Heater (ISI Certified, White Color) Ideal Electric Fan Heater for Small to Medium Room/Area (Plastic Body)"
          ],
          [
           "Cello Eliza Plastic Laundry Bag/Basket, 50 litres, Light Grey"
          ],
          [
           "ACTIVA 1200 MM HIGH SPEED 390 RPM BEE APPROVED 5 STAR RATED APSRA CEILING FAN BROWN 2 Years Warranty"
          ],
          [
           "Shakti Technology S5 High Pressure Car Washer Machine 1900 Watts and Pressure 125 Bar with 10 Meter Hose Pipe"
          ],
          [
           "AMERICAN MICRONIC- Imported Wet & Dry Vacuum Cleaner, 21 Litre Stainless Steel with Blower & HEPA filter, 1600 Watts 100% Copper Motor 28 KPa suction with washable reusable dust bag (Red/Black/Steel)-AMI-VCD21-1600WDx"
          ],
          [
           "Demokrazy New Nova Lint Cum Fuzz Remover for All Woolens Sweaters, Blankets, Jackets Remover Pill Remover from Carpets, Curtains (Pack of 1)"
          ],
          [
           "Instant Pot Air Fryer, Vortex 2QT, Touch Control Panel, 360° EvenCrisp™ Technology, Uses 95 % less Oil, 4-in-1 Appliance: Air Fry, Roast, Bake, Reheat (Vortex 1.97Litre, Black)"
          ],
          [
           "HUL Pureit Eco Water Saver Mineral RO+UV+MF AS wall mounted/Counter top Black 10L Water Purifier"
          ],
          [
           "Livpure Glo Star RO+UV+UF+Mineraliser - 7 L Storage Tank, 15 LPH Water Purifier for Home, Black"
          ],
          [
           "Philips Hi113 1000-Watt Plastic Body Ptfe Coating Dry Iron, Pack of 1"
          ],
          [
           "Kuber Industries Round Non Woven Fabric Foldable Laundry Basket|Toy Storage Basket|Cloth Storage Basket With Handles| Capicity 45 Ltr (Grey & Black)-KUBMART11446"
          ],
          [
           "Preethi MGA-502 0.4-Litre Grind and Store Jar (White), stainless steel, Set of 1"
          ],
          [
           "Usha Aurora 1000 W Dry Iron with Innovative Tail Light Indicator, Weilburger Soleplate (White & Grey)"
          ],
          [
           "ECOVACS DEEBOT N8 2-in-1 Robotic Vacuum Cleaner, 2022 New Launch, Most Powerful Suction, Covers 2000+ Sq. Ft in One Charge, Advanced dToF Technology with OZMO Mopping (DEEBOT N8) - White"
          ],
          [
           "Kent Gold, Optima, Gold+ Spare Kit"
          ],
          [
           "AVNISH Tap Water Purifier Filter Faucet 6 Layer Carbon Activated Dust Chlorine Remover Water Softener for Drinking Cartridge Alkaline Taps for Kitchen Sink Bathroom Wash Basin (6-Layer Filtration)"
          ],
          [
           "Khaitan ORFin Fan heater for Home and kitchen-K0 2215"
          ],
          [
           "USHA RapidMix 500-Watt Copper Motor Mixer Grinder with 3 Jars and 5 Years Warranty(Sea Green/White)"
          ],
          [
           "CSI INTERNATIONAL® Instant Water Geyser, Water Heater, Portable Water Heater, Geyser Made of First Class ABS Plastic 3KW (Red)"
          ],
          [
           "Havells Gatik Neo 400mm Pedestal Fan (Aqua Blue)"
          ],
          [
           "INALSA Upright Vacuum Cleaner, 2-in-1,Handheld & Stick for Home & Office Use,800W- with 16KPA Strong Suction & HEPA Filtration|0.8L Dust Tank|Includes Multiple Accessories,(Grey/Black)"
          ],
          [
           "ROYAL STEP - AMAZON'S BRAND - Portable Electric USB Juice Maker Juicer Bottle Blender Grinder Mixer,4 Blades Rechargeable Bottle with (Multi color) (MULTI)"
          ],
          [
           "Nirdambhay Mini Bag Sealer, 2 in 1 Heat Sealer and Cutter Handheld Sealing Machine Portable Bag Resealer Sealer for Plastic Bags Food Storage Snack Fresh Bag Sealer (Including 2 AA Battery)"
          ],
          [
           "Cello Non-Stick Aluminium Sandwich Gas Toaster(Black)"
          ],
          [
           "Proven® Copper + Mineral RO+UV+UF 10 to 12 Liter RO + UV + TDS ADJUSTER Water Purifier with Copper Charge Technology black & copper Best For Home and Office (Made In India)"
          ],
          [
           "Morphy Richards Daisy 1000W Dry Iron with American Heritage Non-Stick Coated Soleplate, White"
          ],
          [
           "Wipro Vesta 1200 Watt GD201 Lightweight Automatic Dry Iron| Quick Heat Up| Stylish & Sleek |Anti bacterial German Weilburger Double Coated Soleplate |2 Years Warranty"
          ],
          [
           "Zuvexa Egg Boiler Poacher Automatic Off Steaming, Cooking, Boiling Double Layer 14 Egg Boiler (Multicolor)…"
          ],
          [
           "AO Smith HSE-VAS-X-015 Storage 15 Litre Vertical Water Heater (Geyser) White 4 Star"
          ],
          [
           "Havells Festiva 1200mm Dust Resistant Ceiling Fan (Gold Mist)"
          ],
          [
           "INALSA Vaccum Cleaner Handheld 800W High Powerful Motor- Dura Clean with HEPA Filtration & Strong Powerful 16KPA Suction| Lightweight, Compact & Durable Body|Includes Multiple Accessories,(Grey/Black)"
          ],
          [
           "iBELL SM1515NEW Sandwich Maker with Floating Hinges, 1000Watt, Panini / Grill / Toast (Black)"
          ],
          [
           "Aquaguard Aura RO+UV+UF+Taste Adjuster(MTDS) with Active Copper & Zinc 7L water purifier,8 stages of purification,suitable for borewell,tanker,municipal water(Black) from Eureka Forbes"
          ],
          [
           "Havells Instanio 3-Litre 4.5KW Instant Water Heater (Geyser), White Blue"
          ],
          [
           "Milk Frother, Immersion Blender Cordlesss Foam Maker USB Rechargeable Small Mixer Handheld with 2 Stainless Whisks，Wisker for Stirring 3-Speed Adjustable Mini Frother for Cappuccino Latte Coffee Egg"
          ],
          [
           "Panasonic SR-WA22H (E) Automatic Rice Cooker, Apple Green, 2.2 Liters"
          ],
          [
           "InstaCuppa Milk Frother for Coffee - Handheld Battery-Operated Electric Milk and Coffee Frother, Stainless Steel Whisk and Stand, Portable Foam Maker for Coffee, Cappuccino, Lattes, and Egg Beaters"
          ],
          [
           "Goodscity Garment Steamer for Clothes, Steam Iron Press - Vertical & Horizontal Steaming up to 22g/min, 1200 Watt, 230 ml Water tank & 30 sec Fast Heating (GC 111)"
          ],
          [
           "Solidaire 550-Watt Mixer Grinder with 3 Jars (Black) (SLD-550-B)"
          ],
          [
           "Amazon Basics 300 W Hand Blender with Stainless Steel Stem for Hot/Cold Blending and In-Built Cord Hook, ISI-Marked, Black"
          ],
          [
           "Orpat HHB-100E 250-Watt Hand Blender (White)"
          ],
          [
           "HealthSense Rechargeable Lint Remover for Clothes | Fuzz and Fur Remover | Electric Fabric Shaver, Trimmer for Clothes, Carpet, Sofa, Sweaters, Curtains | One-Year Warranty Included - New-Feel LR350"
          ],
          [
           "AGARO Classic Portable Yogurt Maker, 1.2L Capacity, Electric, Automatic, Grey and White, Medium (33603)"
          ],
          [
           "AGARO Imperial 240-Watt Slow Juicer with Cold Press Technology"
          ],
          [
           "Wipro Smartlife Super Deluxe Dry Iron- 1000W"
          ],
          [
           "AmazonBasics Cylinder Bagless Vacuum Cleaner with Power Suction, Low Sound, High Energy Efficiency and 2 Years Warranty (1.5L, Black)"
          ],
          [
           "Crompton IHL 251 1500-Watt Immersion Water Heater with Copper Heating Element and IP 68 Protection"
          ],
          [
           "SaiEllin Room Heater For Home 2000 Watts Room Heater For Bedroom | ISI Approved With 1 Year Warranty | For 250 Sq. Feet Blower Heater & Room Heaters Home For Winters"
          ],
          [
           "Bajaj Majesty Duetto Gas 6 Ltr Vertical Water Heater ( LPG), White"
          ],
          [
           "Black + Decker BD BXIR2201IN 2200-Watt Cord & Cordless Steam Iron (Green)"
          ],
          [
           "Inalsa Hand Blender| Hand Mixer|Beater - Easy Mix, Powerful 250 Watt Motor | Variable 7 Speed Control | 1 Year Warranty | (White/Red)"
          ],
          [
           "Longway Blaze 2 Rod Quartz Room Heater (White, Gray, 800 watts)"
          ],
          [
           "Prestige PWG 07 Wet Grinder, 2L (Multicolor) with Coconut Scraper and Atta Kneader Attachments, 200 Watt"
          ],
          [
           "Pigeon Zest Mixer Grinder 3 Speed Control 750 Watt Powerful Copper Motor with 3 Stainless Steel Jars for Dry Grinding, Wet Grinding and Making Chutney and 3 Polycarbonate lids - Blue"
          ],
          [
           "Borosil Volcano 13 Fin Oil Filled Radiator Room Heater, 2900 W, Black"
          ],
          [
           "Crompton Solarium Qube 15-L 5 Star Rated Storage Water Heater (Geyser) with Free Installation and Connection Pipes (White and Black)"
          ],
          [
           "Singer Aroma 1.8 Liter Electric Kettle High Grade Stainless Steel with Cool and Touch Body and Cordless Base, 1500 watts, Auto Shut Off with Dry Boiling (Silver/Black)"
          ],
          [
           "Orient Electric Aura Neo Instant 3L Water Heater (Geyser), 5-level Safety Shield, Stainless Steel Tank (White & Turquoise)"
          ],
          [
           "Crompton Brio 1000-Watts Dry Iron with Weilburger Coating (Sky Blue and White)"
          ],
          [
           "Butterfly Hero Mixer Grinder, 500W, 3 Jars (Grey)"
          ],
          [
           "Racold Eterno Pro 25L Vertical 5 Star Storage Water Heater (Geyser) with free Standard Installation and free Installation Pipes"
          ],
          [
           "LG 1.5 Ton 5 Star AI DUAL Inverter Split AC (Copper, Super Convertible 6-in-1 Cooling, HD Filter with Anti-Virus Protection, 2022 Model, PS-Q19YNZE, White)"
          ],
          [
           "Eureka Forbes Aquasure Amrit Twin Cartridge (Pack of 2), White"
          ],
          [
           "Green Tales Heat Seal Mini Food Sealer-Impulse Machine for Sealing Plastic Bags Packaging"
          ],
          [
           "SaleOn Instant Coal Heater 500W Charcoal Burner Electric Stove Hot Plate - Mix Colors - Pack of 1 - Only Charcoal Heater"
          ],
          [
           "Sujata Chutney Steel Jar, 400 ml, (White), Stainless Steel"
          ],
          [
           "KHAITAN AVAANTE KA-2013 1200 Watt 3-Rod Halogen Heater (1200 Watts, Grey)"
          ],
          [
           "Kenstar 2400 Watts 9 Fins Oil Filled Radiator with PTC Fan Heater (BLACK GOLD)"
          ],
          [
           "NEXOMS Instant Heating Water Tap Wall Mounted with 3 Pin Indian Plug (16Amp)"
          ],
          [
           "JIALTO Mini Waffle Maker 4 Inch- 350 Watts: Stainless Steel Non-Stick Electric Iron Machine for Individual Belgian Waffles, Pan Cakes, Paninis or Other Snacks - Aqua blue"
          ],
          [
           "Candes BlowHot All in One Silent Blower Fan Room Heater (ABS Body, White, Brown) 2000 Watts"
          ],
          [
           "Ionix Jewellery Scale | Weight Scale | Digital Weight Machine | weight machine for gold | Electronic weighing machines for Jewellery 0.01G to 200G Small Weight Machine for Shop - Silver"
          ],
          [
           "Kitchen Kit Electric Kettle, 1.8L Stainless Steel Tea Kettle, Fast Boil Water Warmer with Auto Shut Off and Boil Dry Protection Tech"
          ],
          [
           "Racold Pronto Pro 3Litres 3KW Vertical Instant Water Heater (Geyser)"
          ],
          [
           "ESN 999 Supreme Quality 1500W Immersion Water Heater Rod (Black)"
          ],
          [
           "Pajaka® South Indian Filter Coffee Maker 200 ML 2-4 Cup / Mugs / Glass | Madras Kaapi/ Kappi Drip Decoction Maker / Makers / Brewer / Pot or Drip / Dripper Made of Stainless Steel | Non-Electric Machine / Appliances / Utensils Medium Size for Home and Kitchen, Office, Cefe Traditional Item / Product | Used for making Country /Desi Style French Press Espresso Nespresso Expresso Cappuccino Instant Black Coffee | Best flavoured with Grounded Arabica Roasted Crushed Grind Coffee Beans"
          ],
          [
           "Saiyam Stainless Steel Espresso Maker Stovetop Coffee Percolator Italian Coffee Maker Moka Pot (4 Cup - 200 ml, Silver)"
          ],
          [
           "KONVIO NEER 10 Inch Spun Filter (PP SPUN) Cartridge Compatible for 10 Inch Pre-Filter Housing of Water Purifier | Pack of 4 Spun"
          ],
          [
           "Havells Glydo 1000 watt Dry Iron With American Heritage Non Stick Sole Plate, Aerodynamic Design, Easy Grip Temperature Knob & 2 years Warranty. (Charcoal Blue)"
          ],
          [
           "Raffles Premium Stainless Steel South Indian Coffee Filter/Drip Coffee Maker, 2-3 Cups, 150 ml"
          ],
          [
           "IONIX Activated Carbon Faucet Water Filters Universal Interface Home Kitchen Faucet Tap Water | Tap filter Multilayer | Clean Purifier Filter Cartridge Five Layer Water Filter-Pack of 1"
          ],
          [
           "KNYUC MART Mini Electric Handy Room Heater Compact Plug-in, The Wall Outlet 400 Watts, Handy Air Warmer Blower Adjustable Timer Digital Display"
          ],
          [
           "INKULTURE Stainless_Steel Measuring Cups & Spoon Combo for Dry or Liquid/Kitchen Gadgets for Cooking & Baking Cakes/Measuring Cup Set Combo with Handles (Set of 4 Cups & 4 Spoons)"
          ],
          [
           "Macmillan Aquafresh 5 Micron PS-05 10\" in PP Spun Filter Candle Set for All Type RO Water Purifier 10 inch (4)"
          ],
          [
           "Havells D'zire 1000 watt Dry Iron With American Heritage Sole Plate, Aerodynamic Design, Easy Grip Temperature Knob & 2 years Warranty. (Mint)"
          ],
          [
           "TE™ Instant Electric Heating Hot and Cold Water Geyser Tap Water with Digital Display (White)"
          ],
          [
           "ZIGMA WinoteK WinoteK Sun Instant Water Geyser, Water Heater, Portable Water Heater, Geysers Made of First Class ABS Plastic, automatic Reset Model, AE10-3 W (Yellow)"
          ],
          [
           "KENT 11054 Alkaline Water Filter Pitcher 3.5 L | Chemical-Free Water with Balanced pH Levels 8.0 to 9.5 | Solves Acidity Issue | Equipped with Carbon and Sediment Filter - Grey"
          ],
          [
           "Sujata Dynamix DX Mixer Grinder, 900W, 3 Jars (White)"
          ],
          [
           "Lifelong LLMG74 750 Watt Mixer Grinder with 3 Jars (White and Grey)"
          ],
          [
           "TTK Prestige Limited Orion Mixer Grinder 500 Watts, 3 Jars (1200ml, 1000ml, 500ml) (Red)"
          ],
          [
           "AGARO Regal Electric Rice Cooker, 3L Ceramic Inner Bowl, Cooks Up to 600 Gms Raw Rice, SS Steamer, Preset Cooking Functions, Preset Timer, Keep Warm Function, LED Display, Black"
          ],
          [
           "VAPJA® Portable Mini Juicer Cup Blender USB Rechargeable with 4 Blades for Shakes and Smoothies Fruits Vegetables Juice Maker Grinder Mixer Strong Cutting Bottle Sports Travel Outdoors Gym (BOTTLE)"
          ],
          [
           "Philips HD6975/00 25 Litre Digital Oven Toaster Grill, Grey, 25 liter"
          ],
          [
           "Usha EI 3710 Heavy Weight 1000-Watt Dry Iron with Golden American Heritage Soleplate, 1.75 Kg(White)"
          ],
          [
           "Campfire Spring Chef Prolix Instant Portable Water Heater Geyser 1Ltr. for Use Home Stainless Steel Baking Rack | Restaurant | Office | Labs | Clinics | Saloon | with Installation Kit (With MCB)"
          ],
          [
           "Themisto TH-WS20 Digital Kitchen Weighing Scale Stainless Steel (5Kg)"
          ],
          [
           "FYA Handheld Vacuum Cleaner Cordless, Wireless Hand Vacuum&Air Blower 2-in-1, Mini Portable Car Vacuum Cleaner with Powerful Suction, USB Rechargeable Vacuum for Pet Hair, Home and Car"
          ],
          [
           "Lifelong LLSM120G Sandwich Griller , Classic Pro 750 W Sandwich Maker with 4 Slice Non-Stick Fixed Plates for Sandwiches at Home with 1 Year Warranty (Black)"
          ],
          [
           "Kuber Industries Nylon Mesh Laundry Basket|Sturdy Material & Durable Handles|Netted Lightweight Laundry Bag, Size 36 x 36 x 58, Capicity 30 Ltr (Pink)"
          ],
          [
           "Bulfyss Plastic Sticky Lint Roller Hair Remover Cleaner Set of 5 Rolls 150 Sheets, 30 Sheets Each roll Lint Roller Remover for Clothes, Furniture, Carpet, Dog Fur, Sweater, Dust & Dirt"
          ],
          [
           "T TOPLINE 180 W Electric Hand Mixer,Hand Blender , Egg Beater, Cake maker , Beater Cream Mix, Food Blender, Beater for Whipping Cream Beater for Cake With 7 -Speed with spatula and oil brush"
          ],
          [
           "Empty Mist Trigger Plastic Spray Bottle for Multi use 200ml Pack of 2"
          ],
          [
           "LONAXA Mini Travel Rechargeable Fruit Juicer - USB Electric Fruit & Vegetable Juice Blender/Grinder for Home and Office Use (Multicolor)…"
          ],
          [
           "SUJATA Powermatic Plus, Juicer Mixer Grinder, 900 Watts, 2 Jars (White)"
          ],
          [
           "AGARO Royal Double Layered Kettle, 1.5 Litres, Double Layered Cool Touch , Dry Boiling Protection, Black"
          ],
          [
           "Cafe JEI French Press Coffee and Tea Maker 600ml with 4 Level Filtration System, Heat Resistant Borosilicate Glass (Black, 600ml)"
          ],
          [
           "Borosil Prime Grill Sandwich Maker (Grey)"
          ],
          [
           "Candes 10 Litre Perfecto 5 Star Rated Automatic Instant Storage Electric Water Heater with Special Metal Body Anti Rust Coating With Installation Kit, 2KW Geyser (Ivory)"
          ],
          [
           "Prestige PSMFB 800 Watt Sandwich Toaster with Fixed Plates, Black"
          ],
          [
           "iBELL MPK120L Premium Stainless Steel Multi Purpose Kettle/Cooker with Inner Pot 1.2 Litre (Silver)"
          ],
          [
           "Maharaja Whiteline Odacio Plus 550-Watt Juicer Mixer Grinder with 3 Jars (Black/Silver)"
          ],
          [
           "Shakti Technology S3 High Pressure Car Washer Machine 1800 Watts and Pressure 120 Bar for Cleaning Car, Bike & Home"
          ],
          [
           "Cello Quick Boil Popular Electric Kettle 1 Litre 1200 Watts | Stainless Steel body | Boiler for Water, Silver"
          ],
          [
           "AGARO Glory Cool Mist Ultrasonic Humidifier, 4.5Litres, For Large Area, Room, Home, Office, Adjustable Mist Output, Ceramic Ball Filter, Ultra Quiet, 360° Rotatable Nozzle, Auto Shut Off, Grey"
          ],
          [
           "Wolpin 1 Lint Roller with 60 Sheets Remove Clothes Lint Dog Hair Dust (19 x 13 cm) Orange"
          ],
          [
           "Abode Kitchen Essential Measuring Cup & Spoon for Spices | for Cooking and Baking Cake | Multipurpose Tablespoon Cups with Ring Holder | (Black)"
          ],
          [
           "Sujata Supermix, Mixer Grinder, 900 Watts, 3 Jars (White)"
          ],
          [
           "CARDEX Digital Kitchen Weighing Machine Multipurpose Electronic Weight Scale With Back Lite LCD Display for Measuring Food, Cake, Vegetable, Fruit (KITCHEN SCALE)"
          ],
          [
           "V-Guard Zenora RO+UF+MB Water Purifier | Suitable for water with TDS up to 2000 ppm | 8 Stage Purification with World-class RO Membrane and Advanced UF Membrane | Free PAN India Installation & 1-Year Comprehensive Warranty | 7 Litre, Black"
          ],
          [
           "Bajaj Rex DLX 750 W 4 Jars Mixer Grinder, White and Blue"
          ],
          [
           "KENT 16051 Hand Blender 300 W | 5 Variable Speed Control | Multiple Beaters & Dough Hooks | Turbo Function"
          ],
          [
           "Prestige PIC 15.0+ 1900-Watt Induction Cooktop (Black)"
          ],
          [
           "Aqua d pure Active Copper 12-L RO+UV Water Filter Purifier for Home, Kitchen Fully Automatic UF+TDS Controller"
          ],
          [
           "PrettyKrafts Laundry Square Shape Basket Bag/Foldable/Multipurpose/Carry Handles/Slanting Lid for Home, Cloth Storage,(Single) Jute Grey"
          ],
          [
           "Libra Roti Maker Electric Automatic | chapati Maker Electric Automatic | roti Maker Machine with 900 Watts for Making Roti/Chapati/Parathas - Stainless Steel"
          ],
          [
           "Glen 3 in 1 Electric Multi Cooker - Steam, Cook & Egg Boiler with 350 W (SA 3035MC) - 350 Watts"
          ],
          [
           "Dynore Stainless Steel Set of 4 Measuring Cup and 4 Measuring Spoon"
          ],
          [
           "Lint Remover For Clothes With 1 Year Warranty Fabric Shaver Lint Shaver for Woolen Clothes Blanket Jackets Stainless Steel Blades,Bedding, Clothes and Furniture Best Remover for Fabrics Portable Lint Shavers (White Orange)"
          ],
          [
           "Monitor AC Stand/Heavy Duty Air Conditioner Outdoor Unit Mounting Bracket"
          ],
          [
           "iBELL Induction Cooktop, 2000W with Auto Shut Off and Overheat Protection, BIS Certified, Black"
          ],
          [
           "KENT POWP-Sediment Filter 10'' Thread WCAP"
          ],
          [
           "LACOPINE Mini Pocket Size Lint Roller (White)"
          ],
          [
           "iBELL SEK170BM Premium Electric Kettle, 1.7 Litre, Stainless Steel with Coating,1500W Auto Cut-Off, Silver with Black"
          ],
          [
           "Activa Easy Mix Nutri Mixer Grinder 500 Watt | Long Lasting Shock Proof ABS Body | Heavy Duty Motor With Nano - Grinding Technology"
          ],
          [
           "Sujata Dynamix, Mixer Grinder, 900 Watts, 3 Jars (White)"
          ],
          [
           "Wipro Vesta 1380W Cordless Steam Iron Quick heat up with 20gm/ min Steam Burst, Scratch resistant Ceramic soleplate ,Vertical and Horizontal Ironing, Steam burst of upto .8g/ shot"
          ],
          [
           "Mi Robot Vacuum-Mop P, Best-in-class Laser Navigation in 10-20K INR price band, Intelligent mapping, Robotic Floor Cleaner with 2 in 1 Mopping and Vacuum, App Control (WiFi, Alexa,GA), Strong suction"
          ],
          [
           "Havells Ventil Air DX 200mm Exhaust Fan (White)"
          ],
          [
           "AGARO Royal Stand 1000W Mixer with 5L SS Bowl and 8 Speed Setting, Includes Whisking Cone, Mixing Beater & Dough Hook, and Splash Guard, 2 Years Warranty, (Black), Medium (33554)"
          ],
          [
           "Crompton Highspeed Markle Prime 1200 mm (48 inch) Anti-Dust Ceiling Fan with Energy Efficient 55W Motor (Burgundy)"
          ],
          [
           "Lifelong LLWM105 750-Watt Belgian Waffle Maker for Home| Makes 2 Square Shape Waffles| Non-stick Plates| Easy to Use with Indicator Lights (1 Year Warranty, Black)"
          ],
          [
           "Kuber Industries Waterproof Round Laundry Bag/Hamper|Polka Dots Print Print with Handles|Foldable Bin & 45 Liter Capicity|Size 37 x 37 x 49, Pack of 1(Black & White)- CTKTC044992"
          ],
          [
           "Portable, Handy Compact Plug-in Portable Digital Electric Heater Fan Wall-Outlet Handy Air Warmer Blower Adjustable Timer Digital Display Heater for Home/Office/Camper (Black, 400 Watts)"
          ],
          [
           "Karcher WD3 EU Wet and Dry Vacuum Cleaner, 1000 Watts Powerful Suction, 17 L Capacity, Blower Function, Easy Filter Removal for Home and Garden Cleaning  (Yellow/Black)"
          ],
          [
           "INALSA Air Fryer Digital 4L Nutri Fry - 1400W with Smart AirCrisp Technology| 8-Preset Menu, Touch Control & Digital Display|Variable Temperature & Timer Control|Free Recipe book|2 Yr Warranty (Black)"
          ],
          [
           "AmazonBasics High Speed 55 Watt Oscillating Pedestal Fan, 400mm Sweep Length, White (Without Remote)"
          ],
          [
           "Eco Crystal J 5 inch Cartridge (Pack of 2)"
          ],
          [
           "Borosil Rio 1.5 L Electric Kettle, Stainless Steel Inner Body, Boil Water For Tea, Coffee, Soup, Silver"
          ],
          [
           "Havells Ambrose 1200mm Ceiling Fan (Pearl White Wood)"
          ],
          [
           "PHILIPS Drip Coffee Maker HD7432/20, 0.6 L, Ideal for 2-7 cups, Black, Medium"
          ],
          [
           "Eureka Forbes Euroclean Paper Vacuum Cleaner Dust Bags for Excel, Ace, 300, Jet Models - Set of 10"
          ],
          [
           "Larrito wooden Cool Mist Humidifiers Essential Oil Diffuser Aroma Air Humidifier with Colorful Change for Car, Office, Babies, humidifiers for home, air humidifier for room (WOODEN HUMIDIFIRE-A)"
          ],
          [
           "Hilton Quartz Heater 400/800-Watt ISI 2 Rods Multi Mode Heater Long Lasting Quick Heating Extremely Warm (Grey)"
          ],
          [
           "Syska SDI-07 1000 W Stellar with Golden American Heritage Soleplate Dry Iron (Blue)"
          ],
          [
           "IKEA Milk Frother for Your Milk, Coffee,(Cold and hot Drinks), Black"
          ],
          [
           "IONIX Tap filter Multilayer | Activated Carbon Faucet Water Filters Universal Interface Home Kitchen Faucet Tap Water Clean Purifier Filter Cartridge Five Layer Water Filter-Pack of 1"
          ],
          [
           "Kitchengenix's Mini Waffle Maker 4 Inch- 350 Watts: Stainless Steel Non-Stick Electric Iron Machine for Individual Belgian Waffles, Pan Cakes, Paninis or Other Snacks (Red)"
          ],
          [
           "Bajaj HM-01 Powerful 250W Hand Mixer, Black"
          ],
          [
           "KNOWZA Electric Handheld Milk Wand Mixer Frother for Latte Coffee Hot Milk, Milk Frother for Coffee, Egg Beater, Hand Blender, Coffee Beater (BLACK COFFEE BEATER)"
          ],
          [
           "Usha Hc 812 T Thermo Fan Room Heater"
          ],
          [
           "akiara - Makes life easy Mini Sewing Machine for Home Tailoring use | Mini Silai Machine with Sewing Kit Set Sewing Box with Thread Scissors, Needle All in One Sewing Accessories (White & Purple)"
          ],
          [
           "USHA 1212 PTC with Adjustable Thermostat Fan Heater (Black/Brown, 1500-Watts)."
          ],
          [
           "4 in 1 Handheld Electric Vegetable Cutter Set,Wireless Food Processor Electric Food Chopper for Garlic Chili Pepper Onion Ginger Celery Meat with Brush"
          ],
          [
           "Philips HD9306/06 1.5-Litre Electric Kettle (Multicolor)"
          ],
          [
           "Libra Room Heater for Home, Room Heaters Home for Winter, Electric Heater with 2000 Watts Power as per IS Specification for Small to Medium Rooms - FH12 (Grey)"
          ],
          [
           "NGI Store 2 Pieces Pet Hair Removers for Your Laundry Catcher Lint Remover for Washing Machine Lint Remover Reusable Portable Silica Gel Clothes Washer Dryer Floating Ball"
          ],
          [
           "Noir Aqua - 5pcs PP Spun Filter + 1 Spanner | for All Types of RO Water purifiers (5 Piece, White, 10 Inch, 5 Micron) - RO Spun Filter Cartridge Sponge Replacement Water Filter Candle"
          ],
          [
           "Prestige Delight PRWO Electric Rice Cooker (1 L, White)"
          ],
          [
           "Bajaj Majesty RX10 2000 Watts Heat Convector Room Heater (White, ISI Approved)"
          ],
          [
           "Havells Ventil Air DSP 230mm Exhaust Fan (Pista Green)"
          ],
          [
           "Borosil Jumbo 1000-Watt Grill Sandwich Maker (Black)"
          ]
         ],
         "hovertemplate": "actual_price_₹=%{x}<br>discounted_price_₹=%{y}<br>rating=%{marker.color}<br>product_name=%{customdata[0]}<extra></extra>",
         "legendgroup": "",
         "marker": {
          "color": [
           4.2,
           4,
           3.9,
           4.2,
           4.2,
           3.9,
           4.1,
           4.3,
           4.2,
           4,
           4.3,
           4.2,
           4.4,
           4.2,
           4.1,
           4.4,
           4.2,
           4,
           4.1,
           4.3,
           4.5,
           3.7,
           4.3,
           4,
           4.3,
           4.2,
           4.2,
           4,
           4.4,
           4.3,
           4.5,
           4,
           4.3,
           4.3,
           3.9,
           3.9,
           4.4,
           4,
           4.2,
           4.2,
           4.5,
           4.3,
           4.2,
           4.3,
           4,
           3.3,
           4.1,
           4.4,
           3.6,
           4.2,
           4.4,
           4.2,
           4.3,
           4.2,
           4.1,
           3.7,
           4.2,
           4.2,
           4.2,
           4.3,
           3.7,
           4.3,
           4,
           4.2,
           4.2,
           4.4,
           4.1,
           4.3,
           4.2,
           4.3,
           4.5,
           4.1,
           4.2,
           4,
           4.1,
           4.1,
           4,
           4.1,
           3.9,
           4,
           4.2,
           4,
           3.4,
           4.4,
           4.2,
           4.2,
           4.3,
           4.3,
           4.5,
           4.2,
           3.6,
           4.2,
           4.2,
           4.1,
           4.2,
           3.7,
           3.8,
           3.7,
           4.5,
           4.1,
           4.3,
           4.3,
           4,
           4.2,
           4.2,
           4.3,
           4.2,
           4.3,
           4.3,
           3.9,
           4.1,
           4.3,
           4.3,
           4.1,
           4.5,
           4.1,
           3.6,
           3.5,
           4,
           3.8,
           4.4,
           3.7,
           4.3,
           4.1,
           4.2,
           4.1,
           4.3,
           4.2,
           4.2,
           4.4,
           4.3,
           4.3,
           4,
           3.9,
           4.2,
           4.3,
           3.9,
           4.6,
           3.9,
           4.3,
           4.1,
           4.4,
           3.2,
           4.2,
           4.2,
           3.7,
           4.5,
           4.2,
           4.2,
           4.2,
           4.1,
           4.3,
           4.3,
           4.3,
           3.4,
           4.3,
           4.4,
           3.9,
           4.1,
           3.9,
           4,
           4.3,
           4,
           3.9,
           4.5,
           3.9,
           4.2,
           4,
           4.3,
           4,
           4.4,
           4.3,
           4,
           4.3,
           5,
           3.7,
           4,
           4.1,
           4,
           3.3,
           3.8,
           4.1,
           4.1,
           4.4,
           4.3,
           4.3,
           4.4,
           4.3,
           3.9,
           4.2,
           4.2,
           4.1,
           4.3,
           3.7,
           4.1,
           3.9,
           4,
           4.2,
           4.4,
           4.1,
           4.3,
           3.8,
           4.4,
           4,
           4.4,
           4,
           4.2,
           3.9,
           3.7,
           3.6,
           4,
           3.5,
           4.5,
           4.2,
           3.8,
           3.8,
           4.1,
           4.3,
           4.4,
           3.9,
           4.2,
           3.8,
           4.1,
           4.1,
           4.3,
           3.7,
           4,
           4.2,
           4.1,
           4.3,
           4.4,
           4.3,
           4.3,
           3.5,
           3.9,
           4.5,
           3.4,
           4,
           4,
           4.4,
           4,
           4.3,
           4,
           4.2,
           3.8,
           4.4,
           3.9,
           4.2,
           3.9,
           4.7,
           3.6,
           3.7,
           4.2,
           4,
           3.6,
           4.3,
           4.2,
           4.3,
           4.2,
           4.2,
           4.4,
           4.2,
           4.4,
           3,
           4.5,
           4.3,
           4.2,
           4.4,
           4,
           3.8,
           4.3,
           4.2,
           4.1,
           4,
           4.2,
           3.3,
           4.3,
           3.8,
           4.2,
           3.7,
           4.3,
           3.9,
           4.3,
           3.5,
           3.9,
           4,
           4.3,
           3.8,
           4.3,
           3.3,
           4.5,
           4.1,
           4.2,
           4.1,
           4.4,
           4.2,
           3.9,
           4,
           4.5,
           3.7,
           4.2,
           4.2,
           4.2,
           4.3,
           4.4,
           4.2,
           4.3,
           3.7,
           4.3,
           4.2,
           4.4,
           3.5,
           4.1,
           4.3,
           4.2,
           4,
           3.9,
           3.3,
           3.8,
           4,
           4.3,
           3.9,
           4.2,
           4.1,
           3.9,
           4.2,
           4.3,
           3.8,
           4.3,
           4.4,
           4.3,
           4.3,
           4.2,
           4.3,
           3.8,
           4.3,
           4,
           4.3,
           4.3,
           4,
           4,
           4.4,
           4.1,
           4,
           3.9,
           4.1,
           4.2,
           3.9,
           4,
           4,
           4.1,
           4.4,
           4.2,
           4.3,
           4.3,
           3.9,
           4.4,
           4,
           4.2,
           4.1,
           4.4,
           4.1,
           4.2,
           4.2,
           4.1,
           4,
           4.2,
           4.2,
           4.1,
           4.1,
           4.2,
           4,
           4.3,
           4.3,
           4.1,
           4,
           4.1,
           3.9,
           4.2,
           4,
           4.4,
           4.2,
           3.8,
           4.3,
           4.2,
           3.9,
           4.4,
           4,
           4,
           3.8,
           4.2,
           4.2,
           4.4,
           4.2,
           4,
           4.3,
           4.1,
           4.1,
           4.1,
           4.1,
           4.4,
           3.9,
           4.3,
           4,
           4.3,
           4,
           3.6,
           4.1,
           4.2,
           4.1,
           4.1,
           4,
           4,
           3.5,
           4.3,
           4.1,
           4.1,
           4.1,
           4.1,
           3.8,
           4.3,
           4,
           4.2,
           4.1,
           4.1,
           4.1,
           4.3,
           3.9,
           4,
           4.5,
           4,
           4,
           4.1,
           4.1,
           3.9,
           4.1,
           4.1,
           4,
           4.3,
           4,
           4.1,
           4.2,
           4,
           4.1,
           4.2,
           4.6,
           4,
           4,
           4.3,
           4.3,
           4.2,
           4,
           4.2,
           4,
           4.1,
           3.9,
           3.8,
           4.7,
           4.3,
           4.2,
           4.1,
           3.3,
           4.4,
           4,
           4.2,
           4.5,
           4.6,
           4.2,
           4,
           3.7,
           4.1,
           4.1,
           4.2,
           4.2,
           4.5,
           3.8,
           4,
           4.1,
           3.8,
           4.1,
           3.8,
           4.2,
           4.2,
           4.2,
           4,
           3.5,
           4.3,
           4.1,
           3.9,
           3.9,
           3.3,
           4,
           4,
           4,
           3.9,
           4.3,
           4.1,
           4.1,
           4.3,
           4.1,
           4.1,
           4.3,
           4.4,
           4.2,
           3.3,
           4.4,
           4.3,
           4.1,
           4,
           4.1,
           4.3,
           3.8,
           3.9,
           3.7,
           4,
           4.2,
           4.4,
           3.9,
           4.5,
           4.2,
           3.9,
           4.2,
           4.1,
           4.1,
           4.3,
           4.1,
           4.3,
           3.6,
           4.1,
           4,
           4.1,
           4.3,
           3.9,
           4.1,
           4.1,
           4.4,
           3.8,
           4.3,
           4.3,
           3.5,
           4,
           3.9,
           4.3,
           2.8,
           3.8,
           4.5,
           4.3,
           4.1,
           3,
           4,
           3.9,
           4.1,
           4.1,
           4.3,
           4,
           4.4,
           4.3,
           4.2,
           3.8,
           4.3,
           4.3,
           4.3,
           4,
           3.9,
           4.1,
           3.7,
           4.2,
           4.1,
           4,
           4.6,
           3.9,
           4,
           4.3,
           4.4,
           4.1,
           4.1,
           4.1,
           4.4,
           4.5,
           4.1,
           4.2,
           4.5,
           4.1,
           3.9,
           4.3,
           3.8,
           4.3,
           4.4,
           3.8,
           3.8,
           3.5,
           4.4,
           4.1,
           4.1,
           4.3,
           3.5,
           4.1,
           4.1,
           3.9,
           3.9,
           4.1,
           4,
           4.2,
           4.3,
           4.1,
           4,
           4.2,
           3.9,
           4.3,
           4.2,
           4.5,
           4,
           4.2,
           4.5,
           4.3,
           3.9,
           4.1,
           4.3,
           4.2,
           4.2,
           4,
           3.9,
           4.1,
           4.5,
           3.7,
           3.5,
           4.2,
           3.5,
           4.3,
           3.9,
           4.2,
           4.3,
           4.2,
           4,
           4.1,
           4.5,
           4.2,
           4.1,
           3.9,
           4.3,
           3.9,
           4,
           4,
           3.5,
           4.3,
           3.8,
           4.4,
           3.7,
           4.4,
           4.4,
           4.4,
           4.2,
           4.5,
           3.8,
           3.8,
           4.1,
           4.1,
           4.4,
           3.8,
           4.2,
           4.1,
           4.4,
           4.1,
           4.1,
           3.5,
           3.6,
           4.3,
           3.8,
           4,
           3.9,
           4.1,
           4.3,
           4.4,
           4.3,
           4.3,
           4.1,
           4.4,
           4.4,
           3.8,
           3.8,
           4,
           4.4,
           4.4,
           4.5,
           4,
           4,
           4.3,
           4.2,
           3.8,
           4.3,
           4.1,
           4.3,
           4,
           4.3,
           4.2,
           4,
           4.4,
           4.4,
           4.5,
           4.2,
           4.1,
           4.5,
           4.2,
           4.3,
           3.9,
           4.5,
           4.1,
           4.2,
           3.8,
           4.3,
           3.9,
           4.3,
           4.3,
           3.9,
           3.7,
           4.2,
           4.3,
           4.2,
           3.9,
           4.3,
           3.7,
           4.3,
           4.3,
           3.9,
           4.4,
           4,
           4.5,
           3.9,
           4.3,
           4.2,
           4.1,
           4.2,
           4.5,
           4.2,
           4.2,
           4.3,
           4,
           4.5,
           3.8,
           3.9,
           4,
           4.1,
           3.4,
           4,
           3.4,
           4.3,
           3.9,
           4.1,
           4.3,
           4.5,
           4.2,
           4.1,
           4.4,
           4.3,
           4.3,
           4.3,
           4.2,
           4.1,
           4.1,
           4.5,
           4.4,
           4.3,
           4.3,
           4.3,
           4,
           4.3,
           4,
           4.4,
           4,
           4.3,
           3.3,
           3.7,
           4.1,
           5,
           4.5,
           3.9,
           4.4,
           4.1,
           3.6,
           3.8,
           3.6,
           4.2,
           4.4,
           3.8,
           4.2,
           4.3,
           4.4,
           4.1,
           4.4,
           4.4,
           4.4,
           4.4,
           4.3,
           4.3,
           4.3,
           4.2,
           4.3,
           4.2,
           3.8,
           4.3,
           4.5,
           4.1,
           4.2,
           4,
           4.1,
           4.1,
           4.3,
           4.5,
           4.5,
           4.1,
           4.3,
           3.6,
           4.4,
           4.5,
           3.9,
           4,
           4,
           4.4,
           4.6,
           4.4,
           4.4,
           4.3,
           4.3,
           4.4,
           4,
           4.2,
           3.8,
           4.1,
           4.2,
           4.2,
           4.4,
           4.3,
           4.1,
           4.4,
           3.9,
           3.9,
           3.6,
           4.4,
           4,
           3.5,
           4.1,
           4.1,
           4,
           4.1,
           4,
           3.8,
           4.3,
           4.2,
           4.1,
           4.2,
           4.5,
           4.6,
           4.3,
           4,
           4.2,
           3.3,
           4.3,
           3.7,
           3.9,
           4.3,
           4.1,
           4.2,
           4.5,
           4,
           4.5,
           3.5,
           4.5,
           4.3,
           3.3,
           4.1,
           3.8,
           3.5,
           4.1,
           4.5,
           4.4,
           4.1,
           4.3,
           3.6,
           4,
           4.1,
           4.5,
           4.2,
           4.3,
           4.2,
           4.6,
           4.5,
           4.3,
           4.1,
           4.5,
           3.5,
           4.4,
           4.2,
           4.4,
           4.4,
           4.2,
           4.5,
           4.3,
           3.8,
           3.9,
           4,
           4.1,
           4.4,
           4.4,
           4.4,
           3.5,
           4.5,
           4.1,
           4.4,
           4.1,
           4.2,
           4.2,
           4.3,
           4.3,
           3.7,
           3.9,
           4.5,
           4.1,
           4,
           3.8,
           3.4,
           4.3,
           4.3,
           4.3,
           4.2,
           4.1,
           4,
           4.3,
           4,
           4.1,
           4,
           3.8,
           4.2,
           4.3,
           4.4,
           4.1,
           4.5,
           4,
           4.2,
           3.9,
           4.3,
           4,
           4.2,
           4.3,
           4.2,
           4.2,
           4.1,
           4.3,
           4.3,
           4.2,
           4.5,
           4.4,
           4.2,
           4.1,
           4.3,
           4.4,
           4.1,
           3.6,
           4,
           4,
           4.4,
           3.9,
           4.3,
           4.6,
           4.4,
           4.5,
           3.9,
           4.1,
           4.3,
           4.5,
           4.5,
           3.6,
           4.1,
           4.3,
           3.8,
           4.6,
           4.1,
           4,
           4.5,
           4.3,
           4,
           4.5,
           4,
           4.5,
           4.1,
           4.3,
           4.1,
           4,
           4.1,
           4.1,
           4.4,
           4,
           4.1,
           4.4,
           4.3,
           4.2,
           3.6,
           4.2,
           4.2,
           3.9,
           4.2,
           4.5,
           4.3,
           4.2,
           4.1,
           4.1,
           4.6,
           3.8,
           4.3,
           4.2,
           4.2,
           4.4,
           3.9,
           4,
           4.2,
           3.7,
           4.5,
           4.5,
           3.6,
           4.3,
           4.1,
           3.9,
           3.6,
           4,
           4.1,
           3.7,
           3.9,
           4.1,
           3.9,
           3.9,
           3.9,
           3.8,
           3.8,
           4.1,
           4.1,
           3.3,
           4.2,
           4,
           4.3,
           4,
           4.5,
           4.1,
           4,
           4.2,
           3.8,
           4.2,
           4.2,
           3.6,
           3.8,
           4.1,
           4.1,
           4.1,
           4.1,
           4.2,
           4,
           4.3,
           4.2,
           4.2,
           3.7,
           4.1,
           4.4,
           3.8,
           4,
           4.2,
           3.8,
           4.2,
           4,
           3.9,
           4.3,
           3.8,
           4,
           4.2,
           4.2,
           3.6,
           4.3,
           4,
           4.2,
           4.1,
           4,
           4.3,
           4,
           3.9,
           4.2,
           4.1,
           4.4,
           4,
           3.8,
           4,
           3.1,
           4.3,
           4.2,
           4.4,
           4.1,
           4.2,
           4.1,
           4.1,
           4.1,
           3.9,
           3.9,
           3.8,
           4,
           4.2,
           4.1,
           4.3,
           3.7,
           4.2,
           4.3,
           4.3,
           4.4,
           3.8,
           4.5,
           3.8,
           3.8,
           4.1,
           4.1,
           3.8,
           3.3,
           4,
           4.6,
           3.9,
           3.7,
           4.2,
           4.1,
           4.1,
           3.8,
           4.1,
           4.6,
           4.1,
           4.2,
           3.9,
           4.1,
           4.1,
           4,
           3.7,
           4.1,
           4.1,
           4.1,
           3.3,
           4.1,
           4.1,
           4.4,
           4.3,
           4.1,
           3.7,
           4.8,
           4.5,
           4,
           4.1,
           3.9,
           4.1,
           4.2,
           4.1,
           3.5,
           4.3,
           3.9,
           4.2,
           3.8,
           4.5,
           3.8,
           4.1,
           4.2,
           4.1,
           4.2,
           4.5,
           4,
           4.4,
           4,
           4,
           3.9,
           4,
           3.8,
           4.2,
           4.3,
           4.2,
           4.3,
           4.2,
           4.4,
           3.8,
           4.1,
           3.9,
           4.3,
           4.4,
           3.6,
           3.8,
           4,
           4.1,
           4.3,
           4,
           3.9,
           4.4,
           3.7,
           3.6,
           3.7,
           4,
           4.2,
           3.8,
           4.2,
           3.9,
           4,
           4.1,
           4.8,
           4.2,
           4.1,
           4,
           3.9,
           4.1,
           4.3,
           4.1,
           4.2,
           3.9,
           3.7,
           4.1,
           4,
           3.8,
           4.2,
           4.6,
           4.1,
           3.3,
           4.2,
           4.3,
           4.3,
           4.3,
           4.7,
           4.4,
           3.9,
           4.7,
           4.1,
           3.8,
           4.4,
           4.3,
           3.4,
           4.2,
           3.7,
           4.3,
           4.3,
           4.4,
           4.1,
           4,
           4.4,
           3.8,
           4.3,
           3.8,
           2.3,
           4.5,
           4,
           3.7,
           4,
           4.4,
           4.1,
           4.4,
           3.1,
           4.3,
           4.4,
           4.4,
           4.1,
           4.1,
           4,
           3.6,
           3.9,
           3.9,
           3.8,
           4.1,
           4.1,
           4.1,
           3.8,
           4.3,
           4.5,
           4.2,
           3.9,
           3.5,
           4.3,
           3.9,
           3.9,
           4,
           4.7,
           4.1,
           3.8,
           4.1,
           4.1,
           3.9,
           3.8,
           4.1,
           4.3,
           3.9,
           2.8,
           4,
           4.5,
           4.6,
           4.1,
           4.1,
           3.4,
           4.6,
           4.2,
           3.9,
           4.2,
           4.2,
           4.1,
           4.8,
           4.4,
           4.3,
           4.3,
           4,
           4.3,
           4,
           4.4,
           4.1,
           3.6,
           2,
           4,
           3.7,
           3.8,
           3.9,
           3.1,
           3,
           4,
           4.4,
           4.1,
           3.6,
           4.4,
           4.2,
           4.3,
           3.8,
           4.1,
           4,
           4.2,
           3.6,
           4.2,
           4.1,
           4.2,
           3.9,
           4,
           4.2,
           4.2,
           4.1,
           4.4,
           4.1,
           4.2,
           4.1,
           3.9,
           3.9,
           4.2,
           4.2,
           3.7,
           3.7,
           3.4,
           4.2,
           4,
           4.1,
           3.9,
           4,
           3.9,
           4.2,
           4.3,
           4,
           2.6,
           3.8,
           4.5,
           3.5,
           3.9,
           4,
           4,
           3.5,
           4,
           3.4,
           4.2,
           3.8,
           4.1,
           4.2,
           4.3,
           4.2,
           4.1,
           3.9,
           3.3,
           4.3,
           3.9,
           4.3,
           3.6,
           3.8,
           3.9,
           4.6,
           3.8,
           3.9,
           4.1,
           3.6,
           4.4,
           4.3,
           4.7,
           4.3,
           3.9,
           3.9,
           3.7,
           3.5,
           4,
           4.1,
           3.9,
           4.4,
           4.3,
           4.5,
           4,
           3.9,
           4.2,
           4.1,
           3.7,
           4.1,
           4.2,
           4.3,
           3.6,
           4.1,
           4.5,
           4.2,
           4.3,
           4,
           4.2,
           4.2,
           4.5,
           3.8,
           4.4,
           4.1,
           4.2,
           4.3,
           4.1,
           4.2,
           4.1,
           3.9,
           3.9,
           3.8,
           4.6,
           3.6,
           4.1,
           4.2,
           4.3,
           3.9,
           3.9,
           4,
           4.4,
           4.2,
           4.5,
           4.1,
           4.1,
           4.2,
           4.2,
           4,
           4.3,
           3.6,
           3.5,
           4.3,
           3.6,
           2.9,
           4.2,
           4.4,
           4.1,
           3.8,
           3.5,
           4.1,
           3.2,
           4.4,
           3.6,
           3.1,
           4,
           4.1,
           3.6,
           4,
           4.3
          ],
          "coloraxis": "coloraxis",
          "symbol": "circle"
         },
         "mode": "markers",
         "name": "",
         "scene": "scene",
         "showlegend": false,
         "type": "scatter3d",
         "x": [
          1099,
          349,
          1899,
          699,
          399,
          1000,
          499,
          299,
          999,
          299,
          339,
          799,
          700,
          899,
          399,
          399,
          24999,
          399,
          499,
          21990,
          1799,
          499,
          22900,
          199,
          19990,
          699,
          19999,
          399,
          1999,
          999,
          750,
          499,
          1099,
          599,
          999,
          666.66,
          1900,
          999,
          45999,
          1999,
          695,
          34999,
          1099,
          1599,
          199,
          999,
          1208,
          475,
          999,
          395,
          2199,
          500,
          2100,
          12999,
          349,
          499,
          1399,
          21999,
          1499,
          349,
          799,
          47900,
          999,
          845,
          24999,
          1400,
          699,
          14990,
          2999,
          700,
          899,
          599,
          42999,
          499,
          999,
          499,
          399,
          30990,
          499,
          3999,
          1099,
          249,
          19125,
          799,
          1299,
          39999,
          40990,
          52900,
          999,
          1999,
          800,
          31999,
          699,
          999,
          40990,
          349,
          799,
          999,
          1899,
          1499,
          1499,
          1809,
          899,
          29999,
          999,
          999,
          1299,
          999,
          65000,
          800,
          20000,
          999,
          23990,
          999,
          1999,
          399,
          1999,
          999,
          999,
          899,
          1999,
          3999,
          15999,
          44990,
          44999,
          1700,
          595,
          27990,
          599,
          1200,
          34990,
          999,
          1299,
          299,
          1500,
          49990,
          931,
          2399,
          399,
          699,
          1099,
          2999,
          1099,
          1339,
          12999,
          499,
          2100,
          899,
          599,
          699,
          65000,
          1099,
          20900,
          1299,
          399,
          799,
          1999,
          15990,
          1499,
          899,
          1600,
          999,
          499,
          399,
          849,
          1199,
          1299,
          1999,
          22990,
          399,
          2499,
          47990,
          399,
          999,
          1999,
          499,
          299,
          1099,
          199,
          1999,
          499,
          699,
          999,
          1999,
          1200,
          485,
          1999,
          1099,
          18990,
          1999,
          11000,
          1999,
          70900,
          1199,
          599,
          549,
          249,
          35999,
          1699,
          499,
          2999,
          699,
          699,
          999,
          599,
          599,
          31990,
          599,
          999,
          599,
          9990,
          599,
          800,
          1999,
          999,
          16990,
          59999,
          999,
          600,
          1490,
          1999,
          899,
          799,
          499,
          2299,
          499,
          499,
          4999,
          1749,
          595,
          1100,
          49999,
          56790,
          1199,
          549,
          849,
          899,
          1099,
          799,
          795,
          399,
          999,
          999,
          399,
          1999,
          798,
          800,
          995,
          1000,
          139900,
          799,
          899,
          799,
          599,
          399,
          85000,
          758,
          999,
          799,
          1999,
          700,
          1099,
          1999,
          1999,
          4699,
          24990,
          999,
          650,
          3100,
          3999,
          49990,
          999,
          1499,
          18999,
          2299,
          999,
          69900,
          299,
          29999,
          599,
          34990,
          670,
          79990,
          499,
          800,
          35000,
          999,
          15999,
          1600,
          2499,
          1500,
          54990,
          1999,
          899,
          50999,
          399,
          699,
          4500,
          28900,
          449,
          999,
          499,
          999,
          999,
          900,
          42999,
          1052,
          19990,
          1099,
          25999,
          1899,
          3500,
          599,
          999,
          600,
          799,
          399,
          2999,
          499,
          599,
          14999,
          699,
          51990,
          69999,
          50000,
          19499,
          999,
          499,
          2499,
          1899,
          69999,
          799,
          19999,
          9999,
          7990,
          2199,
          8999,
          28999,
          28999,
          8999,
          8999,
          1000,
          4999,
          1599,
          6990,
          999,
          11999,
          2499,
          11999,
          1299,
          999,
          1800,
          11999,
          2499,
          2199,
          999,
          1699,
          3999,
          7999,
          25999,
          700,
          17999,
          19999,
          9999,
          24999,
          20999,
          19999,
          1099,
          10999,
          8499,
          19999,
          11999,
          495,
          16999,
          5999,
          349,
          18999,
          999,
          19999,
          11999,
          1699,
          15999,
          1599,
          9999,
          20990,
          24999,
          1699,
          699,
          3990,
          7990,
          699,
          399,
          34999,
          7990,
          1999,
          3999,
          1499,
          19499,
          999,
          19999,
          9999,
          1000,
          499,
          15990,
          33999,
          999,
          1900,
          14999,
          38999,
          24999,
          499,
          1599,
          1599,
          1800,
          1899,
          2499,
          499,
          14999,
          7990,
          7990,
          299,
          299,
          999,
          19499,
          299,
          17999,
          339,
          26999,
          649,
          171,
          1999,
          1600,
          20999,
          18999,
          28999,
          1490,
          699,
          7999,
          2199,
          1699,
          19999,
          799,
          1599,
          17999,
          20990,
          2899,
          4999,
          1699,
          29990,
          1999,
          15990,
          21990,
          899,
          1630,
          399,
          6990,
          7990,
          2899,
          5999,
          699,
          7990,
          5999,
          399,
          20990,
          499,
          1799,
          2899,
          13499,
          399,
          999,
          499,
          7999,
          9999,
          1499,
          1499,
          13499,
          199,
          1299,
          999,
          19499,
          999,
          599,
          9999,
          499,
          249,
          7999,
          599,
          20999,
          15999,
          4999,
          5999,
          999,
          1099,
          6990,
          6990,
          29990,
          13499,
          20999,
          27990,
          18999,
          5999,
          999,
          1999,
          999,
          5999,
          3500,
          9999,
          18999,
          4999,
          20999,
          8499,
          6999,
          666.66,
          5999,
          1630,
          9999,
          1900,
          599,
          1199,
          499,
          15999,
          999,
          499,
          7990,
          1999,
          1899,
          999,
          499,
          12999,
          3999,
          20999,
          49999,
          2999,
          6499,
          2990,
          2400,
          3990,
          149,
          2100,
          5299,
          1899,
          32999,
          39990,
          1999,
          11999,
          999,
          599,
          1899,
          3499,
          3499,
          999,
          6999,
          18999,
          2599,
          1199,
          999,
          9999,
          7999,
          1249,
          599,
          700,
          1799,
          499,
          599,
          9499,
          999,
          74999,
          499,
          399,
          3999,
          11999,
          3999,
          17999,
          499,
          1399,
          2999,
          499,
          11999,
          1499,
          19499,
          499,
          6999,
          999,
          4490,
          9999,
          7990,
          650,
          895,
          237,
          2990,
          699,
          1000,
          4999,
          3990,
          1499,
          399,
          999,
          3990,
          6990,
          999,
          999,
          1299,
          1500,
          649,
          599,
          3999,
          7999,
          999,
          1799,
          9999,
          650,
          1995,
          1099,
          315,
          50,
          165,
          1290,
          16999,
          1290,
          2498,
          349,
          999,
          5999,
          4999,
          1999,
          449,
          699,
          999,
          3990,
          5499,
          399,
          1350,
          7990,
          1999,
          3990,
          1295,
          5499,
          1490,
          995,
          3999,
          1000,
          761,
          999,
          299,
          2500,
          4999,
          1299,
          8999,
          180,
          549,
          225,
          999,
          599,
          4499,
          4499,
          2499,
          499,
          550,
          1999,
          1199,
          3490,
          4999,
          4999,
          599,
          499,
          399,
          299,
          299,
          2499,
          2299,
          299,
          339,
          250,
          1499,
          2800,
          7990,
          299,
          404,
          1399,
          599,
          999,
          1295,
          700,
          160,
          1600,
          899,
          599,
          899,
          2990,
          899,
          399,
          3000,
          4999,
          4999,
          861,
          795,
          2495,
          399,
          1799,
          2499,
          800,
          549,
          9999,
          29999,
          3499,
          315,
          1499,
          13750,
          59,
          999,
          999,
          5999,
          21990,
          699,
          2999,
          499,
          1400,
          3299,
          5999,
          499,
          499,
          22900,
          375,
          4999,
          160,
          199,
          499,
          3999,
          2999,
          699,
          1499,
          3999,
          995,
          499,
          1699,
          1995,
          4999,
          440,
          999,
          3999,
          399,
          999,
          499,
          4999,
          699,
          799,
          2000,
          9999,
          180,
          2900,
          999,
          1999,
          999,
          999,
          2399,
          100,
          1499,
          1795,
          999,
          315,
          220,
          1599,
          1650,
          600,
          6990,
          2499,
          399,
          699,
          2198,
          999,
          499,
          9999,
          499,
          1000,
          3500,
          4100,
          180,
          1190,
          7999,
          1599,
          1999,
          99,
          1999,
          2999,
          999,
          499,
          800,
          3495,
          720,
          590,
          1999,
          7350,
          2595,
          799,
          999,
          1999,
          299,
          1499,
          699,
          2490,
          750,
          499,
          4990,
          999,
          2490,
          999,
          99,
          2999,
          3100,
          75,
          2699,
          1499,
          999,
          7999,
          799,
          600,
          499,
          5734,
          550,
          1390,
          3295,
          1099,
          2911,
          175,
          599,
          7999,
          3250,
          499,
          2295,
          995,
          499,
          599,
          450,
          1109,
          999,
          250,
          499,
          1900,
          999,
          999,
          1499,
          1929,
          1499,
          399,
          699,
          400,
          1499,
          120,
          120,
          1999,
          695,
          2295,
          99,
          249,
          2799,
          999,
          210,
          3490,
          1299,
          499,
          5999,
          999,
          1800,
          9999,
          2890,
          5999,
          160,
          1599,
          999,
          499,
          4700,
          4332.96,
          1800,
          990,
          4699,
          5490,
          100,
          2790,
          999,
          1208,
          899,
          3999,
          2499,
          395,
          1645,
          310,
          149,
          1499,
          1299,
          4199,
          4000,
          250,
          2199,
          100,
          5999,
          1995,
          2100,
          1199,
          999,
          2499,
          3990,
          200,
          230,
          2796,
          999,
          3499,
          349,
          723,
          5999,
          12499,
          1290,
          200,
          5999,
          499,
          2499,
          1599,
          2990,
          320,
          999,
          3875,
          19110,
          999,
          150,
          1499,
          2999,
          899,
          349,
          1490,
          1999,
          1500,
          5499,
          1499,
          775,
          32000,
          1300,
          1999,
          999,
          1999,
          2199,
          1999,
          1799,
          845,
          1099,
          7999,
          1499,
          1499,
          2999,
          1299,
          300,
          1995,
          535,
          24999,
          1099,
          450,
          3999,
          599,
          7005,
          1199,
          2999,
          799,
          999,
          999,
          2895,
          1500,
          3195,
          6355,
          699,
          2999,
          1499,
          165,
          3499,
          7500,
          700,
          39,
          37999,
          1990,
          1949,
          899,
          1547,
          1299,
          599,
          499,
          230,
          999,
          700,
          1150,
          1499,
          1299,
          499,
          1090,
          399,
          100,
          1999,
          1800,
          499,
          39,
          3599,
          3990,
          499,
          1499,
          120,
          3499,
          420,
          225,
          799,
          3999,
          9625,
          6100,
          1299,
          1300,
          400,
          1399,
          59890,
          2490,
          1999,
          6999,
          999,
          800,
          999,
          2999,
          1245,
          1695,
          2000,
          999,
          1999,
          499,
          495,
          1245,
          1549,
          1445,
          3193,
          1345,
          999,
          1650,
          499,
          1400,
          2500,
          6190,
          13999,
          2995,
          5890,
          2000,
          13150,
          3500,
          785,
          3210,
          1000,
          2000,
          1999,
          720,
          1595,
          3645,
          7950,
          999,
          1745,
          1295,
          1499,
          1545,
          5000,
          1695,
          3945,
          2099,
          5295,
          3595,
          1699,
          1129,
          5795,
          999,
          2400,
          1299,
          1299,
          1090,
          2000,
          1545,
          1999,
          875,
          15270,
          4195,
          1989,
          5000,
          990,
          1111,
          10400,
          2490,
          1900,
          6295,
          999,
          1699,
          1500,
          9650,
          10590,
          1999,
          89,
          2485,
          899,
          3279,
          3799,
          1249,
          5000,
          7299,
          625,
          1020,
          8990,
          1639,
          899,
          1199,
          1899,
          11595,
          1750,
          2095,
          2300,
          2990,
          4295,
          199,
          2499,
          499,
          2400,
          749,
          1775,
          1599,
          1795,
          15999,
          1490,
          1999,
          499,
          299,
          600,
          1130,
          6295,
          9455,
          699,
          4999,
          2900,
          2499,
          1190,
          2100,
          499,
          825,
          1499,
          9995,
          999,
          6000,
          3945,
          1999,
          3499,
          5550,
          4590,
          499,
          4400,
          1000,
          299,
          799,
          5190,
          1345,
          4000,
          4000,
          1599,
          9999,
          1990,
          1695,
          940,
          4700,
          2999,
          79,
          14290,
          3945,
          5999,
          1950,
          2799,
          1950,
          9999,
          12999,
          699,
          3190,
          799,
          499,
          1499,
          2660,
          2799,
          1499,
          59900,
          1900,
          999,
          6375,
          499,
          1899,
          1490,
          350,
          8500,
          2499,
          1560,
          6500,
          999,
          7795,
          5995,
          299,
          2349,
          499,
          1299,
          499,
          4775,
          1230,
          1999,
          5156,
          1999,
          2095,
          19825,
          1920,
          16000,
          2199,
          14999,
          1799,
          1950,
          2995,
          999,
          11995,
          2999,
          1690,
          1790,
          8995,
          239,
          1599,
          4290,
          2890,
          1299,
          640,
          3790,
          4560,
          3500,
          2600,
          3300,
          699,
          23559,
          1599,
          9995,
          2545,
          8995,
          1999,
          5500,
          12150,
          4995,
          1499,
          7506,
          18000,
          1099,
          1900,
          1850,
          9999,
          3995,
          1499,
          3295,
          2695,
          2290,
          3099,
          1075,
          6999,
          2499,
          7290,
          5795,
          3398,
          1490,
          1620,
          1000,
          640,
          4495,
          2999,
          980,
          899,
          499,
          3995,
          11500,
          499,
          3550,
          1599,
          1499,
          2999,
          11500,
          1975,
          1699,
          2495,
          3500,
          4600,
          10295,
          2199,
          2380,
          8820,
          24999,
          2400,
          4200,
          1599,
          2999,
          1282,
          1990,
          9999,
          11850,
          999,
          20049,
          24850,
          16490,
          975,
          499,
          635,
          1390,
          59900,
          670,
          399,
          2495,
          3390,
          2499,
          4200,
          4495,
          2199,
          999,
          595,
          19990,
          1010,
          1100,
          999,
          10900,
          4005,
          3295,
          4650,
          24500,
          6070,
          999,
          3945,
          1499,
          6700,
          2800,
          1699,
          970,
          1500,
          1295,
          23999,
          850,
          6000,
          1020,
          1999,
          7445,
          3500,
          1395,
          2199,
          4330,
          4295,
          18990,
          12500,
          2385,
          4890,
          1100,
          3899,
          16899,
          75990,
          825,
          300,
          1499,
          747,
          3999,
          11990,
          3799,
          1999,
          2999,
          599,
          1999,
          4849,
          510,
          499,
          1299,
          999,
          1190,
          400,
          599,
          999,
          699,
          1499,
          1295,
          4999,
          2550,
          1950,
          8478,
          3299,
          3895,
          5495,
          999,
          8995,
          1599,
          3500,
          1999,
          3199,
          1300,
          399,
          599,
          999,
          199,
          1299,
          7776,
          2299,
          1500,
          2590,
          6299,
          1795,
          3190,
          4799,
          8999,
          1899,
          5799,
          799,
          300,
          7200,
          389,
          13049,
          5999,
          2400,
          5295,
          24999,
          799,
          2999,
          2495,
          450,
          999,
          1690,
          3890,
          260,
          599,
          1950,
          2990,
          8073,
          2599,
          29999,
          2360,
          11495,
          4780,
          2400,
          249,
          1199,
          10999,
          10995,
          3300,
          400,
          1440,
          3045,
          3595,
          500,
          799,
          1899,
          799,
          399,
          699,
          1999,
          2199,
          999,
          3290,
          3098,
          4990,
          1200,
          2695,
          2299,
          999,
          919,
          3045,
          3080,
          1890,
          3690
         ],
         "y": [
          399,
          199,
          199,
          329,
          154,
          149,
          176.63,
          229,
          499,
          199,
          154,
          299,
          219,
          350,
          159,
          349,
          13999,
          249,
          199,
          13490,
          970,
          279,
          13490,
          59,
          11499,
          199,
          14999,
          299,
          970,
          299,
          199,
          179,
          389,
          599,
          199,
          99,
          899,
          199,
          32999,
          970,
          209,
          19999,
          399,
          999,
          59,
          333,
          507,
          309,
          399,
          199,
          1199,
          179,
          799,
          6999,
          199,
          230,
          649,
          15999,
          348,
          154,
          179,
          32990,
          139,
          329,
          13999,
          309,
          263,
          7999,
          1599,
          219,
          349,
          349,
          26999,
          115,
          399,
          199,
          179,
          10901,
          209,
          1434,
          399,
          139,
          7299,
          299,
          325,
          29999,
          27999,
          30990,
          199,
          649,
          269,
          24999,
          299,
          199,
          18990,
          290,
          249,
          345,
          1099,
          719,
          349,
          849,
          299,
          21999,
          349,
          399,
          449,
          299,
          37999,
          99,
          7390,
          273.1,
          15990,
          399,
          399,
          210,
          1299,
          347,
          149,
          228,
          1599,
          1499,
          8499,
          20990,
          32999,
          799,
          229,
          9999,
          349,
          489,
          23999,
          399,
          349,
          179,
          689,
          30990,
          249,
          999,
          399,
          349,
          399,
          1699,
          655,
          749,
          9999,
          195,
          999,
          499,
          416,
          368,
          29990,
          339,
          15490,
          499,
          249,
          399,
          1499,
          9490,
          637,
          399,
          1089,
          339,
          149,
          149,
          599,
          299,
          399,
          339,
          12499,
          249,
          1399,
          32999,
          149,
          325,
          399,
          199,
          88,
          399,
          57.89,
          799,
          205,
          299,
          849,
          949,
          499,
          299,
          949,
          379,
          8990,
          486,
          5699,
          709,
          47990,
          299,
          320,
          139,
          129,
          24999,
          999,
          225,
          547,
          259,
          239,
          349,
          467,
          449,
          11990,
          350,
          252,
          204,
          6490,
          235,
          299,
          799,
          299,
          6999,
          42999,
          173,
          209,
          848.99,
          649,
          299,
          399,
          249,
          1249,
          213,
          209,
          598,
          799,
          159,
          499,
          31999,
          32990,
          299,
          128.31,
          599,
          399,
          449,
          254,
          399,
          179,
          339,
          399,
          199,
          349,
          299,
          89,
          549,
          129,
          77990,
          349,
          499,
          299,
          182,
          96,
          54990,
          439,
          299,
          299,
          789,
          299,
          325,
          1299,
          790,
          4699,
          18999,
          199,
          269,
          1990,
          2299,
          35999,
          349,
          719,
          8999,
          917,
          399,
          45999,
          119,
          21999,
          299,
          21990,
          417.44,
          47990,
          215,
          99,
          18999,
          249,
          7999,
          649,
          1289,
          609,
          32990,
          599,
          349,
          29999,
          199,
          349,
          1850,
          13990,
          129,
          379,
          185,
          218,
          199,
          499,
          26999,
          893,
          10990,
          379,
          16999,
          699,
          2699,
          129,
          389,
          246,
          299,
          247,
          1369,
          199,
          299,
          14999,
          299,
          24990,
          61999,
          24499,
          10499,
          349,
          197,
          1299,
          1519,
          46999,
          299,
          1799,
          1998,
          1999,
          2049,
          6499,
          28999,
          28999,
          6499,
          6499,
          569,
          1898,
          1299,
          1499,
          599,
          9499,
          599,
          8999,
          349,
          349,
          959,
          9499,
          1499,
          1149,
          349,
          1219,
          1599,
          1499,
          18499,
          369,
          12999,
          1799,
          2199,
          16999,
          16499,
          1799,
          399,
          8499,
          6499,
          1799,
          8999,
          139,
          3999,
          2998,
          199,
          15499,
          199,
          1799,
          8999,
          873,
          12999,
          539,
          1999,
          15490,
          19999,
          1075,
          399,
          1999,
          1999,
          329,
          154,
          28999,
          2299,
          399,
          1149,
          529,
          13999,
          379,
          13999,
          3999,
          149,
          99,
          4790,
          33999,
          99,
          299,
          10999,
          34999,
          16999,
          199,
          999,
          1299,
          599,
          599,
          1799,
          176.63,
          10999,
          2999,
          1999,
          229,
          199,
          649,
          13999,
          119,
          12999,
          154,
          20999,
          249,
          99,
          489,
          369,
          15499,
          15499,
          22999,
          599,
          134,
          7499,
          1149,
          1324,
          13999,
          299,
          999,
          12999,
          15490,
          999,
          1599,
          1324,
          20999,
          999,
          12490,
          17999,
          350,
          1399,
          159,
          1499,
          1999,
          999,
          2099,
          337,
          2999,
          1299,
          349,
          16499,
          499,
          970,
          999,
          10499,
          249,
          251,
          199,
          6499,
          2999,
          279,
          269,
          8999,
          59,
          599,
          349,
          13999,
          349,
          499,
          2199,
          95,
          139,
          4499,
          89,
          15499,
          13999,
          1999,
          1399,
          599,
          199,
          1799,
          1499,
          20999,
          12999,
          16999,
          19999,
          12999,
          2999,
          299,
          970,
          329,
          1299,
          1989,
          1999,
          12999,
          1499,
          16999,
          1999,
          4999,
          99,
          2499,
          1399,
          1499,
          899,
          249,
          299,
          79,
          13999,
          949,
          99,
          2499,
          689,
          499,
          299,
          209,
          8499,
          2179,
          16999,
          44999,
          2599,
          2799,
          1399,
          649,
          799,
          149,
          799,
          3799,
          199,
          23999,
          29990,
          281,
          7998,
          249,
          299,
          499,
          899,
          1599,
          120,
          3999,
          12999,
          1599,
          699,
          99,
          7915,
          1499,
          1055,
          150,
          219,
          474,
          115,
          239,
          7499,
          265,
          37990,
          199,
          179,
          1799,
          8499,
          1999,
          3999,
          219,
          599,
          2499,
          89,
          2999,
          314,
          13999,
          139,
          2599,
          365,
          1499,
          1998,
          1799,
          289,
          599,
          217,
          1299,
          263,
          569,
          1999,
          1399,
          349,
          149,
          599,
          1220,
          1499,
          499,
          99,
          349,
          475,
          269,
          299,
          1599,
          1499,
          329,
          549,
          2199,
          299,
          798,
          399,
          266,
          50,
          130,
          449,
          3999,
          399,
          1399,
          199,
          199,
          2998,
          4098,
          499,
          299,
          329,
          699,
          799,
          1399,
          154,
          519,
          2299,
          399,
          1499,
          1295,
          1889,
          455,
          399,
          1059,
          149,
          717,
          99,
          39,
          889,
          1199,
          569,
          1499,
          149,
          399,
          191,
          129,
          199,
          999,
          899,
          1799,
          176.63,
          522,
          799,
          681,
          1199,
          2499,
          1799,
          429,
          100,
          329,
          229,
          139,
          1199,
          1049,
          119,
          154,
          225,
          656,
          1109,
          2999,
          169,
          309,
          599,
          299,
          449,
          799,
          219,
          157,
          369,
          599,
          479,
          350,
          1598,
          599,
          159,
          1299,
          1599,
          294,
          828,
          745,
          1549,
          349,
          970,
          1469,
          198,
          549,
          2999,
          12000,
          1299,
          269,
          799,
          6299,
          59,
          571,
          549,
          2099,
          13490,
          448,
          1499,
          299,
          579,
          2499,
          1199,
          399,
          279,
          13490,
          279,
          2499,
          137,
          59,
          299,
          1799,
          1999,
          199,
          399,
          1699,
          699,
          95,
          1149,
          1495,
          849,
          440,
          349,
          599,
          149,
          289,
          179,
          1499,
          399,
          599,
          949,
          2499,
          159,
          1329,
          570,
          899,
          449,
          549,
          1529,
          100,
          299,
          1295,
          699,
          252,
          190,
          1299,
          729,
          480,
          1799,
          999,
          299,
          238,
          1349,
          299,
          199,
          1999,
          99,
          499,
          1792,
          3299,
          125,
          399,
          1199,
          235,
          549,
          89,
          970,
          1299,
          230,
          119,
          449,
          1699,
          561,
          289,
          599,
          5599,
          1990,
          499,
          449,
          999,
          69,
          899,
          478,
          1399,
          199,
          149,
          1799,
          425,
          999,
          378,
          99,
          1499,
          1815,
          67,
          1889,
          499,
          499,
          5799,
          499,
          249,
          179,
          4449,
          299,
          629,
          2595,
          389,
          1799,
          90,
          599,
          1999,
          2099,
          179,
          1345,
          349,
          287,
          599,
          349,
          879,
          199,
          250,
          199,
          899,
          199,
          149,
          469,
          1187,
          849,
          328,
          269,
          299,
          549,
          114,
          120,
          970,
          209,
          1490,
          99,
          149,
          575,
          333,
          178,
          1599,
          499,
          199,
          2499,
          199,
          939,
          2499,
          1439,
          1099,
          157,
          999,
          115,
          175,
          1999,
          3999,
          899,
          299,
          3303,
          1890,
          90,
          1599,
          599,
          507,
          425,
          1499,
          549,
          199,
          1295,
          310,
          149,
          1149,
          499,
          999,
          1709,
          250,
          1199,
          90,
          2025,
          1495,
          799,
          899,
          349,
          900,
          2490,
          116,
          200,
          1249,
          649,
          2649,
          199,
          596,
          2499,
          4999,
          399,
          116,
          4499,
          330,
          649,
          1234,
          1399,
          272,
          99,
          3498,
          10099,
          449,
          150,
          348,
          1199,
          397,
          154,
          699,
          1679,
          354,
          1199,
          379,
          499,
          10389,
          649,
          1199,
          139,
          889,
          1409,
          549,
          749,
          329,
          379,
          5998,
          299,
          379,
          1399,
          699,
          300,
          999,
          535,
          13999,
          269,
          341,
          2499,
          349,
          5899,
          699,
          1565,
          326,
          120,
          657,
          1995,
          1500,
          2640,
          5299,
          263,
          1990,
          1289,
          165,
          1699,
          2299,
          219,
          39,
          26999,
          1490,
          398,
          349,
          770,
          279,
          249,
          115,
          230,
          399,
          599,
          598,
          399,
          499,
          199,
          579,
          179,
          90,
          899,
          1149,
          249,
          39,
          1599,
          1199,
          209,
          1099,
          120,
          1519,
          420,
          225,
          199,
          1799,
          8349,
          3307,
          325,
          449,
          380,
          499,
          37247,
          849,
          799,
          2599,
          199,
          269,
          298,
          1499,
          649,
          1199,
          1199,
          455,
          199,
          293,
          199,
          749,
          1399,
          749,
          1699,
          1043,
          499,
          1464,
          249,
          625,
          1290,
          3600,
          6549,
          1625,
          2599,
          1199,
          5499,
          1299,
          599,
          1999,
          549,
          999,
          398,
          539,
          699,
          2148,
          3599,
          351,
          1614,
          719,
          678,
          809,
          1969,
          1490,
          2499,
          1665,
          3229,
          1799,
          1260,
          749,
          3499,
          379,
          1099,
          749,
          1299,
          549,
          899,
          1321,
          1099,
          775,
          6299,
          3190,
          799,
          2699,
          599,
          749,
          6199,
          1819,
          1199,
          3249,
          349,
          1049,
          799,
          4999,
          6999,
          799,
          89,
          1400,
          355,
          2169,
          2799,
          899,
          2499,
          3599,
          499,
          653,
          4789,
          1409,
          753,
          353,
          1099,
          8799,
          1345,
          2095,
          1498,
          2199,
          3699,
          177,
          1149,
          244,
          1959,
          319,
          1499,
          469,
          1099,
          9590,
          999,
          1299,
          292,
          160,
          600,
          1130,
          3249,
          3599,
          368,
          3199,
          1599,
          1999,
          616,
          1499,
          199,
          610,
          999,
          8999,
          453,
          2464,
          2719,
          1439,
          2799,
          2088,
          2399,
          308,
          2599,
          479,
          245,
          179,
          3569,
          699,
          2089,
          2339,
          784,
          5499,
          899,
          1695,
          499,
          2699,
          1448,
          79,
          6990,
          2698,
          3199,
          1199,
          1414,
          999,
          5999,
          9970,
          698,
          2199,
          320,
          298,
          1199,
          1399,
          599,
          1499,
          14400,
          1699,
          649,
          3249,
          199,
          1099,
          664,
          260,
          6499,
          1484,
          999,
          3299,
          259,
          3249,
          4280,
          189,
          1449,
          199,
          474,
          279,
          1999,
          799,
          949,
          3657.66,
          1699,
          1849,
          12499,
          1099,
          8199,
          499,
          6999,
          1595,
          1049,
          1182,
          499,
          8799,
          1529,
          1199,
          1052,
          6499,
          239,
          699,
          2599,
          1547,
          499,
          510,
          1899,
          2599,
          1199,
          999,
          1999,
          210,
          14499,
          950,
          7199,
          2439,
          7799,
          1599,
          2899,
          9799,
          3299,
          669,
          5890,
          9199,
          351,
          899,
          1349,
          6236,
          2742,
          721,
          2903,
          1656,
          1399,
          2079,
          999,
          3179,
          1049,
          3599,
          4799,
          1699,
          664,
          948,
          850,
          600,
          3711,
          799,
          980,
          351,
          229,
          3349,
          5499,
          299,
          2249,
          699,
          1235,
          1349,
          6800,
          1699,
          1069,
          1349,
          1499,
          2092,
          3859,
          499,
          1804,
          6525,
          4999,
          1189,
          2590,
          899,
          998,
          998.06,
          1099,
          5999,
          8886,
          475,
          4995,
          13999,
          8499,
          949,
          395,
          635,
          717,
          27900,
          649,
          193,
          1299,
          2449,
          1049,
          2399,
          2286,
          499,
          429,
          299,
          5395,
          559,
          660,
          419,
          7349,
          2899,
          1799,
          1474,
          15999,
          3645,
          375,
          2976,
          1099,
          2575,
          1649,
          799,
          765,
          999,
          587,
          12609,
          699,
          3799,
          640,
          979,
          5365,
          3199,
          979,
          929,
          3710,
          2033,
          9495,
          7799,
          949,
          2790,
          645,
          2237.81,
          8699,
          42990,
          825,
          161,
          697,
          688,
          2199,
          6850,
          2699,
          899,
          1090,
          295,
          479,
          2949,
          335,
          293,
          599,
          499,
          849,
          249,
          185,
          778,
          279,
          215,
          889,
          1449,
          1190,
          1799,
          6120,
          1799,
          2199,
          3685,
          649,
          8599,
          1110,
          1499,
          759,
          2669,
          929,
          199,
          279,
          549,
          85,
          499,
          5865,
          1260,
          1099,
          1928,
          3249,
          1199,
          1456,
          3349,
          4899,
          1199,
          3290,
          179,
          149,
          5490,
          379,
          8699,
          3041.67,
          1745,
          3180,
          4999,
          390,
          1999,
          1624,
          184,
          445,
          699,
          1601,
          231,
          369,
          809,
          1199,
          6120,
          1799,
          18999,
          1999,
          5999,
          2599,
          1199,
          219,
          799,
          6199,
          6790,
          1982.84,
          199,
          1180,
          2199,
          2999,
          253,
          499,
          1149,
          457,
          229,
          199,
          899,
          1499,
          426,
          2320,
          1563,
          3487.77,
          498,
          2695,
          949,
          199,
          379,
          2280,
          2219,
          1399,
          2863
         ],
         "z": [
          4.2,
          4,
          3.9,
          4.2,
          4.2,
          3.9,
          4.1,
          4.3,
          4.2,
          4,
          4.3,
          4.2,
          4.4,
          4.2,
          4.1,
          4.4,
          4.2,
          4,
          4.1,
          4.3,
          4.5,
          3.7,
          4.3,
          4,
          4.3,
          4.2,
          4.2,
          4,
          4.4,
          4.3,
          4.5,
          4,
          4.3,
          4.3,
          3.9,
          3.9,
          4.4,
          4,
          4.2,
          4.2,
          4.5,
          4.3,
          4.2,
          4.3,
          4,
          3.3,
          4.1,
          4.4,
          3.6,
          4.2,
          4.4,
          4.2,
          4.3,
          4.2,
          4.1,
          3.7,
          4.2,
          4.2,
          4.2,
          4.3,
          3.7,
          4.3,
          4,
          4.2,
          4.2,
          4.4,
          4.1,
          4.3,
          4.2,
          4.3,
          4.5,
          4.1,
          4.2,
          4,
          4.1,
          4.1,
          4,
          4.1,
          3.9,
          4,
          4.2,
          4,
          3.4,
          4.4,
          4.2,
          4.2,
          4.3,
          4.3,
          4.5,
          4.2,
          3.6,
          4.2,
          4.2,
          4.1,
          4.2,
          3.7,
          3.8,
          3.7,
          4.5,
          4.1,
          4.3,
          4.3,
          4,
          4.2,
          4.2,
          4.3,
          4.2,
          4.3,
          4.3,
          3.9,
          4.1,
          4.3,
          4.3,
          4.1,
          4.5,
          4.1,
          3.6,
          3.5,
          4,
          3.8,
          4.4,
          3.7,
          4.3,
          4.1,
          4.2,
          4.1,
          4.3,
          4.2,
          4.2,
          4.4,
          4.3,
          4.3,
          4,
          3.9,
          4.2,
          4.3,
          3.9,
          4.6,
          3.9,
          4.3,
          4.1,
          4.4,
          3.2,
          4.2,
          4.2,
          3.7,
          4.5,
          4.2,
          4.2,
          4.2,
          4.1,
          4.3,
          4.3,
          4.3,
          3.4,
          4.3,
          4.4,
          3.9,
          4.1,
          3.9,
          4,
          4.3,
          4,
          3.9,
          4.5,
          3.9,
          4.2,
          4,
          4.3,
          4,
          4.4,
          4.3,
          4,
          4.3,
          5,
          3.7,
          4,
          4.1,
          4,
          3.3,
          3.8,
          4.1,
          4.1,
          4.4,
          4.3,
          4.3,
          4.4,
          4.3,
          3.9,
          4.2,
          4.2,
          4.1,
          4.3,
          3.7,
          4.1,
          3.9,
          4,
          4.2,
          4.4,
          4.1,
          4.3,
          3.8,
          4.4,
          4,
          4.4,
          4,
          4.2,
          3.9,
          3.7,
          3.6,
          4,
          3.5,
          4.5,
          4.2,
          3.8,
          3.8,
          4.1,
          4.3,
          4.4,
          3.9,
          4.2,
          3.8,
          4.1,
          4.1,
          4.3,
          3.7,
          4,
          4.2,
          4.1,
          4.3,
          4.4,
          4.3,
          4.3,
          3.5,
          3.9,
          4.5,
          3.4,
          4,
          4,
          4.4,
          4,
          4.3,
          4,
          4.2,
          3.8,
          4.4,
          3.9,
          4.2,
          3.9,
          4.7,
          3.6,
          3.7,
          4.2,
          4,
          3.6,
          4.3,
          4.2,
          4.3,
          4.2,
          4.2,
          4.4,
          4.2,
          4.4,
          3,
          4.5,
          4.3,
          4.2,
          4.4,
          4,
          3.8,
          4.3,
          4.2,
          4.1,
          4,
          4.2,
          3.3,
          4.3,
          3.8,
          4.2,
          3.7,
          4.3,
          3.9,
          4.3,
          3.5,
          3.9,
          4,
          4.3,
          3.8,
          4.3,
          3.3,
          4.5,
          4.1,
          4.2,
          4.1,
          4.4,
          4.2,
          3.9,
          4,
          4.5,
          3.7,
          4.2,
          4.2,
          4.2,
          4.3,
          4.4,
          4.2,
          4.3,
          3.7,
          4.3,
          4.2,
          4.4,
          3.5,
          4.1,
          4.3,
          4.2,
          4,
          3.9,
          3.3,
          3.8,
          4,
          4.3,
          3.9,
          4.2,
          4.1,
          3.9,
          4.2,
          4.3,
          3.8,
          4.3,
          4.4,
          4.3,
          4.3,
          4.2,
          4.3,
          3.8,
          4.3,
          4,
          4.3,
          4.3,
          4,
          4,
          4.4,
          4.1,
          4,
          3.9,
          4.1,
          4.2,
          3.9,
          4,
          4,
          4.1,
          4.4,
          4.2,
          4.3,
          4.3,
          3.9,
          4.4,
          4,
          4.2,
          4.1,
          4.4,
          4.1,
          4.2,
          4.2,
          4.1,
          4,
          4.2,
          4.2,
          4.1,
          4.1,
          4.2,
          4,
          4.3,
          4.3,
          4.1,
          4,
          4.1,
          3.9,
          4.2,
          4,
          4.4,
          4.2,
          3.8,
          4.3,
          4.2,
          3.9,
          4.4,
          4,
          4,
          3.8,
          4.2,
          4.2,
          4.4,
          4.2,
          4,
          4.3,
          4.1,
          4.1,
          4.1,
          4.1,
          4.4,
          3.9,
          4.3,
          4,
          4.3,
          4,
          3.6,
          4.1,
          4.2,
          4.1,
          4.1,
          4,
          4,
          3.5,
          4.3,
          4.1,
          4.1,
          4.1,
          4.1,
          3.8,
          4.3,
          4,
          4.2,
          4.1,
          4.1,
          4.1,
          4.3,
          3.9,
          4,
          4.5,
          4,
          4,
          4.1,
          4.1,
          3.9,
          4.1,
          4.1,
          4,
          4.3,
          4,
          4.1,
          4.2,
          4,
          4.1,
          4.2,
          4.6,
          4,
          4,
          4.3,
          4.3,
          4.2,
          4,
          4.2,
          4,
          4.1,
          3.9,
          3.8,
          4.7,
          4.3,
          4.2,
          4.1,
          3.3,
          4.4,
          4,
          4.2,
          4.5,
          4.6,
          4.2,
          4,
          3.7,
          4.1,
          4.1,
          4.2,
          4.2,
          4.5,
          3.8,
          4,
          4.1,
          3.8,
          4.1,
          3.8,
          4.2,
          4.2,
          4.2,
          4,
          3.5,
          4.3,
          4.1,
          3.9,
          3.9,
          3.3,
          4,
          4,
          4,
          3.9,
          4.3,
          4.1,
          4.1,
          4.3,
          4.1,
          4.1,
          4.3,
          4.4,
          4.2,
          3.3,
          4.4,
          4.3,
          4.1,
          4,
          4.1,
          4.3,
          3.8,
          3.9,
          3.7,
          4,
          4.2,
          4.4,
          3.9,
          4.5,
          4.2,
          3.9,
          4.2,
          4.1,
          4.1,
          4.3,
          4.1,
          4.3,
          3.6,
          4.1,
          4,
          4.1,
          4.3,
          3.9,
          4.1,
          4.1,
          4.4,
          3.8,
          4.3,
          4.3,
          3.5,
          4,
          3.9,
          4.3,
          2.8,
          3.8,
          4.5,
          4.3,
          4.1,
          3,
          4,
          3.9,
          4.1,
          4.1,
          4.3,
          4,
          4.4,
          4.3,
          4.2,
          3.8,
          4.3,
          4.3,
          4.3,
          4,
          3.9,
          4.1,
          3.7,
          4.2,
          4.1,
          4,
          4.6,
          3.9,
          4,
          4.3,
          4.4,
          4.1,
          4.1,
          4.1,
          4.4,
          4.5,
          4.1,
          4.2,
          4.5,
          4.1,
          3.9,
          4.3,
          3.8,
          4.3,
          4.4,
          3.8,
          3.8,
          3.5,
          4.4,
          4.1,
          4.1,
          4.3,
          3.5,
          4.1,
          4.1,
          3.9,
          3.9,
          4.1,
          4,
          4.2,
          4.3,
          4.1,
          4,
          4.2,
          3.9,
          4.3,
          4.2,
          4.5,
          4,
          4.2,
          4.5,
          4.3,
          3.9,
          4.1,
          4.3,
          4.2,
          4.2,
          4,
          3.9,
          4.1,
          4.5,
          3.7,
          3.5,
          4.2,
          3.5,
          4.3,
          3.9,
          4.2,
          4.3,
          4.2,
          4,
          4.1,
          4.5,
          4.2,
          4.1,
          3.9,
          4.3,
          3.9,
          4,
          4,
          3.5,
          4.3,
          3.8,
          4.4,
          3.7,
          4.4,
          4.4,
          4.4,
          4.2,
          4.5,
          3.8,
          3.8,
          4.1,
          4.1,
          4.4,
          3.8,
          4.2,
          4.1,
          4.4,
          4.1,
          4.1,
          3.5,
          3.6,
          4.3,
          3.8,
          4,
          3.9,
          4.1,
          4.3,
          4.4,
          4.3,
          4.3,
          4.1,
          4.4,
          4.4,
          3.8,
          3.8,
          4,
          4.4,
          4.4,
          4.5,
          4,
          4,
          4.3,
          4.2,
          3.8,
          4.3,
          4.1,
          4.3,
          4,
          4.3,
          4.2,
          4,
          4.4,
          4.4,
          4.5,
          4.2,
          4.1,
          4.5,
          4.2,
          4.3,
          3.9,
          4.5,
          4.1,
          4.2,
          3.8,
          4.3,
          3.9,
          4.3,
          4.3,
          3.9,
          3.7,
          4.2,
          4.3,
          4.2,
          3.9,
          4.3,
          3.7,
          4.3,
          4.3,
          3.9,
          4.4,
          4,
          4.5,
          3.9,
          4.3,
          4.2,
          4.1,
          4.2,
          4.5,
          4.2,
          4.2,
          4.3,
          4,
          4.5,
          3.8,
          3.9,
          4,
          4.1,
          3.4,
          4,
          3.4,
          4.3,
          3.9,
          4.1,
          4.3,
          4.5,
          4.2,
          4.1,
          4.4,
          4.3,
          4.3,
          4.3,
          4.2,
          4.1,
          4.1,
          4.5,
          4.4,
          4.3,
          4.3,
          4.3,
          4,
          4.3,
          4,
          4.4,
          4,
          4.3,
          3.3,
          3.7,
          4.1,
          5,
          4.5,
          3.9,
          4.4,
          4.1,
          3.6,
          3.8,
          3.6,
          4.2,
          4.4,
          3.8,
          4.2,
          4.3,
          4.4,
          4.1,
          4.4,
          4.4,
          4.4,
          4.4,
          4.3,
          4.3,
          4.3,
          4.2,
          4.3,
          4.2,
          3.8,
          4.3,
          4.5,
          4.1,
          4.2,
          4,
          4.1,
          4.1,
          4.3,
          4.5,
          4.5,
          4.1,
          4.3,
          3.6,
          4.4,
          4.5,
          3.9,
          4,
          4,
          4.4,
          4.6,
          4.4,
          4.4,
          4.3,
          4.3,
          4.4,
          4,
          4.2,
          3.8,
          4.1,
          4.2,
          4.2,
          4.4,
          4.3,
          4.1,
          4.4,
          3.9,
          3.9,
          3.6,
          4.4,
          4,
          3.5,
          4.1,
          4.1,
          4,
          4.1,
          4,
          3.8,
          4.3,
          4.2,
          4.1,
          4.2,
          4.5,
          4.6,
          4.3,
          4,
          4.2,
          3.3,
          4.3,
          3.7,
          3.9,
          4.3,
          4.1,
          4.2,
          4.5,
          4,
          4.5,
          3.5,
          4.5,
          4.3,
          3.3,
          4.1,
          3.8,
          3.5,
          4.1,
          4.5,
          4.4,
          4.1,
          4.3,
          3.6,
          4,
          4.1,
          4.5,
          4.2,
          4.3,
          4.2,
          4.6,
          4.5,
          4.3,
          4.1,
          4.5,
          3.5,
          4.4,
          4.2,
          4.4,
          4.4,
          4.2,
          4.5,
          4.3,
          3.8,
          3.9,
          4,
          4.1,
          4.4,
          4.4,
          4.4,
          3.5,
          4.5,
          4.1,
          4.4,
          4.1,
          4.2,
          4.2,
          4.3,
          4.3,
          3.7,
          3.9,
          4.5,
          4.1,
          4,
          3.8,
          3.4,
          4.3,
          4.3,
          4.3,
          4.2,
          4.1,
          4,
          4.3,
          4,
          4.1,
          4,
          3.8,
          4.2,
          4.3,
          4.4,
          4.1,
          4.5,
          4,
          4.2,
          3.9,
          4.3,
          4,
          4.2,
          4.3,
          4.2,
          4.2,
          4.1,
          4.3,
          4.3,
          4.2,
          4.5,
          4.4,
          4.2,
          4.1,
          4.3,
          4.4,
          4.1,
          3.6,
          4,
          4,
          4.4,
          3.9,
          4.3,
          4.6,
          4.4,
          4.5,
          3.9,
          4.1,
          4.3,
          4.5,
          4.5,
          3.6,
          4.1,
          4.3,
          3.8,
          4.6,
          4.1,
          4,
          4.5,
          4.3,
          4,
          4.5,
          4,
          4.5,
          4.1,
          4.3,
          4.1,
          4,
          4.1,
          4.1,
          4.4,
          4,
          4.1,
          4.4,
          4.3,
          4.2,
          3.6,
          4.2,
          4.2,
          3.9,
          4.2,
          4.5,
          4.3,
          4.2,
          4.1,
          4.1,
          4.6,
          3.8,
          4.3,
          4.2,
          4.2,
          4.4,
          3.9,
          4,
          4.2,
          3.7,
          4.5,
          4.5,
          3.6,
          4.3,
          4.1,
          3.9,
          3.6,
          4,
          4.1,
          3.7,
          3.9,
          4.1,
          3.9,
          3.9,
          3.9,
          3.8,
          3.8,
          4.1,
          4.1,
          3.3,
          4.2,
          4,
          4.3,
          4,
          4.5,
          4.1,
          4,
          4.2,
          3.8,
          4.2,
          4.2,
          3.6,
          3.8,
          4.1,
          4.1,
          4.1,
          4.1,
          4.2,
          4,
          4.3,
          4.2,
          4.2,
          3.7,
          4.1,
          4.4,
          3.8,
          4,
          4.2,
          3.8,
          4.2,
          4,
          3.9,
          4.3,
          3.8,
          4,
          4.2,
          4.2,
          3.6,
          4.3,
          4,
          4.2,
          4.1,
          4,
          4.3,
          4,
          3.9,
          4.2,
          4.1,
          4.4,
          4,
          3.8,
          4,
          3.1,
          4.3,
          4.2,
          4.4,
          4.1,
          4.2,
          4.1,
          4.1,
          4.1,
          3.9,
          3.9,
          3.8,
          4,
          4.2,
          4.1,
          4.3,
          3.7,
          4.2,
          4.3,
          4.3,
          4.4,
          3.8,
          4.5,
          3.8,
          3.8,
          4.1,
          4.1,
          3.8,
          3.3,
          4,
          4.6,
          3.9,
          3.7,
          4.2,
          4.1,
          4.1,
          3.8,
          4.1,
          4.6,
          4.1,
          4.2,
          3.9,
          4.1,
          4.1,
          4,
          3.7,
          4.1,
          4.1,
          4.1,
          3.3,
          4.1,
          4.1,
          4.4,
          4.3,
          4.1,
          3.7,
          4.8,
          4.5,
          4,
          4.1,
          3.9,
          4.1,
          4.2,
          4.1,
          3.5,
          4.3,
          3.9,
          4.2,
          3.8,
          4.5,
          3.8,
          4.1,
          4.2,
          4.1,
          4.2,
          4.5,
          4,
          4.4,
          4,
          4,
          3.9,
          4,
          3.8,
          4.2,
          4.3,
          4.2,
          4.3,
          4.2,
          4.4,
          3.8,
          4.1,
          3.9,
          4.3,
          4.4,
          3.6,
          3.8,
          4,
          4.1,
          4.3,
          4,
          3.9,
          4.4,
          3.7,
          3.6,
          3.7,
          4,
          4.2,
          3.8,
          4.2,
          3.9,
          4,
          4.1,
          4.8,
          4.2,
          4.1,
          4,
          3.9,
          4.1,
          4.3,
          4.1,
          4.2,
          3.9,
          3.7,
          4.1,
          4,
          3.8,
          4.2,
          4.6,
          4.1,
          3.3,
          4.2,
          4.3,
          4.3,
          4.3,
          4.7,
          4.4,
          3.9,
          4.7,
          4.1,
          3.8,
          4.4,
          4.3,
          3.4,
          4.2,
          3.7,
          4.3,
          4.3,
          4.4,
          4.1,
          4,
          4.4,
          3.8,
          4.3,
          3.8,
          2.3,
          4.5,
          4,
          3.7,
          4,
          4.4,
          4.1,
          4.4,
          3.1,
          4.3,
          4.4,
          4.4,
          4.1,
          4.1,
          4,
          3.6,
          3.9,
          3.9,
          3.8,
          4.1,
          4.1,
          4.1,
          3.8,
          4.3,
          4.5,
          4.2,
          3.9,
          3.5,
          4.3,
          3.9,
          3.9,
          4,
          4.7,
          4.1,
          3.8,
          4.1,
          4.1,
          3.9,
          3.8,
          4.1,
          4.3,
          3.9,
          2.8,
          4,
          4.5,
          4.6,
          4.1,
          4.1,
          3.4,
          4.6,
          4.2,
          3.9,
          4.2,
          4.2,
          4.1,
          4.8,
          4.4,
          4.3,
          4.3,
          4,
          4.3,
          4,
          4.4,
          4.1,
          3.6,
          2,
          4,
          3.7,
          3.8,
          3.9,
          3.1,
          3,
          4,
          4.4,
          4.1,
          3.6,
          4.4,
          4.2,
          4.3,
          3.8,
          4.1,
          4,
          4.2,
          3.6,
          4.2,
          4.1,
          4.2,
          3.9,
          4,
          4.2,
          4.2,
          4.1,
          4.4,
          4.1,
          4.2,
          4.1,
          3.9,
          3.9,
          4.2,
          4.2,
          3.7,
          3.7,
          3.4,
          4.2,
          4,
          4.1,
          3.9,
          4,
          3.9,
          4.2,
          4.3,
          4,
          2.6,
          3.8,
          4.5,
          3.5,
          3.9,
          4,
          4,
          3.5,
          4,
          3.4,
          4.2,
          3.8,
          4.1,
          4.2,
          4.3,
          4.2,
          4.1,
          3.9,
          3.3,
          4.3,
          3.9,
          4.3,
          3.6,
          3.8,
          3.9,
          4.6,
          3.8,
          3.9,
          4.1,
          3.6,
          4.4,
          4.3,
          4.7,
          4.3,
          3.9,
          3.9,
          3.7,
          3.5,
          4,
          4.1,
          3.9,
          4.4,
          4.3,
          4.5,
          4,
          3.9,
          4.2,
          4.1,
          3.7,
          4.1,
          4.2,
          4.3,
          3.6,
          4.1,
          4.5,
          4.2,
          4.3,
          4,
          4.2,
          4.2,
          4.5,
          3.8,
          4.4,
          4.1,
          4.2,
          4.3,
          4.1,
          4.2,
          4.1,
          3.9,
          3.9,
          3.8,
          4.6,
          3.6,
          4.1,
          4.2,
          4.3,
          3.9,
          3.9,
          4,
          4.4,
          4.2,
          4.5,
          4.1,
          4.1,
          4.2,
          4.2,
          4,
          4.3,
          3.6,
          3.5,
          4.3,
          3.6,
          2.9,
          4.2,
          4.4,
          4.1,
          3.8,
          3.5,
          4.1,
          3.2,
          4.4,
          3.6,
          3.1,
          4,
          4.1,
          3.6,
          4,
          4.3
         ]
        }
       ],
       "layout": {
        "coloraxis": {
         "colorbar": {
          "title": {
           "text": "rating"
          }
         },
         "colorscale": [
          [
           0,
           "#0d0887"
          ],
          [
           0.1111111111111111,
           "#46039f"
          ],
          [
           0.2222222222222222,
           "#7201a8"
          ],
          [
           0.3333333333333333,
           "#9c179e"
          ],
          [
           0.4444444444444444,
           "#bd3786"
          ],
          [
           0.5555555555555556,
           "#d8576b"
          ],
          [
           0.6666666666666666,
           "#ed7953"
          ],
          [
           0.7777777777777778,
           "#fb9f3a"
          ],
          [
           0.8888888888888888,
           "#fdca26"
          ],
          [
           1,
           "#f0f921"
          ]
         ]
        },
        "legend": {
         "tracegroupgap": 0
        },
        "scene": {
         "domain": {
          "x": [
           0,
           1
          ],
          "y": [
           0,
           1
          ]
         },
         "xaxis": {
          "title": {
           "text": "actual_price_₹"
          }
         },
         "yaxis": {
          "title": {
           "text": "discounted_price_₹"
          }
         },
         "zaxis": {
          "title": {
           "text": "rating"
          }
         }
        },
        "template": {
         "data": {
          "bar": [
           {
            "error_x": {
             "color": "#2a3f5f"
            },
            "error_y": {
             "color": "#2a3f5f"
            },
            "marker": {
             "line": {
              "color": "#E5ECF6",
              "width": 0.5
             },
             "pattern": {
              "fillmode": "overlay",
              "size": 10,
              "solidity": 0.2
             }
            },
            "type": "bar"
           }
          ],
          "barpolar": [
           {
            "marker": {
             "line": {
              "color": "#E5ECF6",
              "width": 0.5
             },
             "pattern": {
              "fillmode": "overlay",
              "size": 10,
              "solidity": 0.2
             }
            },
            "type": "barpolar"
           }
          ],
          "carpet": [
           {
            "aaxis": {
             "endlinecolor": "#2a3f5f",
             "gridcolor": "white",
             "linecolor": "white",
             "minorgridcolor": "white",
             "startlinecolor": "#2a3f5f"
            },
            "baxis": {
             "endlinecolor": "#2a3f5f",
             "gridcolor": "white",
             "linecolor": "white",
             "minorgridcolor": "white",
             "startlinecolor": "#2a3f5f"
            },
            "type": "carpet"
           }
          ],
          "choropleth": [
           {
            "colorbar": {
             "outlinewidth": 0,
             "ticks": ""
            },
            "type": "choropleth"
           }
          ],
          "contour": [
           {
            "colorbar": {
             "outlinewidth": 0,
             "ticks": ""
            },
            "colorscale": [
             [
              0,
              "#0d0887"
             ],
             [
              0.1111111111111111,
              "#46039f"
             ],
             [
              0.2222222222222222,
              "#7201a8"
             ],
             [
              0.3333333333333333,
              "#9c179e"
             ],
             [
              0.4444444444444444,
              "#bd3786"
             ],
             [
              0.5555555555555556,
              "#d8576b"
             ],
             [
              0.6666666666666666,
              "#ed7953"
             ],
             [
              0.7777777777777778,
              "#fb9f3a"
             ],
             [
              0.8888888888888888,
              "#fdca26"
             ],
             [
              1,
              "#f0f921"
             ]
            ],
            "type": "contour"
           }
          ],
          "contourcarpet": [
           {
            "colorbar": {
             "outlinewidth": 0,
             "ticks": ""
            },
            "type": "contourcarpet"
           }
          ],
          "heatmap": [
           {
            "colorbar": {
             "outlinewidth": 0,
             "ticks": ""
            },
            "colorscale": [
             [
              0,
              "#0d0887"
             ],
             [
              0.1111111111111111,
              "#46039f"
             ],
             [
              0.2222222222222222,
              "#7201a8"
             ],
             [
              0.3333333333333333,
              "#9c179e"
             ],
             [
              0.4444444444444444,
              "#bd3786"
             ],
             [
              0.5555555555555556,
              "#d8576b"
             ],
             [
              0.6666666666666666,
              "#ed7953"
             ],
             [
              0.7777777777777778,
              "#fb9f3a"
             ],
             [
              0.8888888888888888,
              "#fdca26"
             ],
             [
              1,
              "#f0f921"
             ]
            ],
            "type": "heatmap"
           }
          ],
          "heatmapgl": [
           {
            "colorbar": {
             "outlinewidth": 0,
             "ticks": ""
            },
            "colorscale": [
             [
              0,
              "#0d0887"
             ],
             [
              0.1111111111111111,
              "#46039f"
             ],
             [
              0.2222222222222222,
              "#7201a8"
             ],
             [
              0.3333333333333333,
              "#9c179e"
             ],
             [
              0.4444444444444444,
              "#bd3786"
             ],
             [
              0.5555555555555556,
              "#d8576b"
             ],
             [
              0.6666666666666666,
              "#ed7953"
             ],
             [
              0.7777777777777778,
              "#fb9f3a"
             ],
             [
              0.8888888888888888,
              "#fdca26"
             ],
             [
              1,
              "#f0f921"
             ]
            ],
            "type": "heatmapgl"
           }
          ],
          "histogram": [
           {
            "marker": {
             "pattern": {
              "fillmode": "overlay",
              "size": 10,
              "solidity": 0.2
             }
            },
            "type": "histogram"
           }
          ],
          "histogram2d": [
           {
            "colorbar": {
             "outlinewidth": 0,
             "ticks": ""
            },
            "colorscale": [
             [
              0,
              "#0d0887"
             ],
             [
              0.1111111111111111,
              "#46039f"
             ],
             [
              0.2222222222222222,
              "#7201a8"
             ],
             [
              0.3333333333333333,
              "#9c179e"
             ],
             [
              0.4444444444444444,
              "#bd3786"
             ],
             [
              0.5555555555555556,
              "#d8576b"
             ],
             [
              0.6666666666666666,
              "#ed7953"
             ],
             [
              0.7777777777777778,
              "#fb9f3a"
             ],
             [
              0.8888888888888888,
              "#fdca26"
             ],
             [
              1,
              "#f0f921"
             ]
            ],
            "type": "histogram2d"
           }
          ],
          "histogram2dcontour": [
           {
            "colorbar": {
             "outlinewidth": 0,
             "ticks": ""
            },
            "colorscale": [
             [
              0,
              "#0d0887"
             ],
             [
              0.1111111111111111,
              "#46039f"
             ],
             [
              0.2222222222222222,
              "#7201a8"
             ],
             [
              0.3333333333333333,
              "#9c179e"
             ],
             [
              0.4444444444444444,
              "#bd3786"
             ],
             [
              0.5555555555555556,
              "#d8576b"
             ],
             [
              0.6666666666666666,
              "#ed7953"
             ],
             [
              0.7777777777777778,
              "#fb9f3a"
             ],
             [
              0.8888888888888888,
              "#fdca26"
             ],
             [
              1,
              "#f0f921"
             ]
            ],
            "type": "histogram2dcontour"
           }
          ],
          "mesh3d": [
           {
            "colorbar": {
             "outlinewidth": 0,
             "ticks": ""
            },
            "type": "mesh3d"
           }
          ],
          "parcoords": [
           {
            "line": {
             "colorbar": {
              "outlinewidth": 0,
              "ticks": ""
             }
            },
            "type": "parcoords"
           }
          ],
          "pie": [
           {
            "automargin": true,
            "type": "pie"
           }
          ],
          "scatter": [
           {
            "fillpattern": {
             "fillmode": "overlay",
             "size": 10,
             "solidity": 0.2
            },
            "type": "scatter"
           }
          ],
          "scatter3d": [
           {
            "line": {
             "colorbar": {
              "outlinewidth": 0,
              "ticks": ""
             }
            },
            "marker": {
             "colorbar": {
              "outlinewidth": 0,
              "ticks": ""
             }
            },
            "type": "scatter3d"
           }
          ],
          "scattercarpet": [
           {
            "marker": {
             "colorbar": {
              "outlinewidth": 0,
              "ticks": ""
             }
            },
            "type": "scattercarpet"
           }
          ],
          "scattergeo": [
           {
            "marker": {
             "colorbar": {
              "outlinewidth": 0,
              "ticks": ""
             }
            },
            "type": "scattergeo"
           }
          ],
          "scattergl": [
           {
            "marker": {
             "colorbar": {
              "outlinewidth": 0,
              "ticks": ""
             }
            },
            "type": "scattergl"
           }
          ],
          "scattermapbox": [
           {
            "marker": {
             "colorbar": {
              "outlinewidth": 0,
              "ticks": ""
             }
            },
            "type": "scattermapbox"
           }
          ],
          "scatterpolar": [
           {
            "marker": {
             "colorbar": {
              "outlinewidth": 0,
              "ticks": ""
             }
            },
            "type": "scatterpolar"
           }
          ],
          "scatterpolargl": [
           {
            "marker": {
             "colorbar": {
              "outlinewidth": 0,
              "ticks": ""
             }
            },
            "type": "scatterpolargl"
           }
          ],
          "scatterternary": [
           {
            "marker": {
             "colorbar": {
              "outlinewidth": 0,
              "ticks": ""
             }
            },
            "type": "scatterternary"
           }
          ],
          "surface": [
           {
            "colorbar": {
             "outlinewidth": 0,
             "ticks": ""
            },
            "colorscale": [
             [
              0,
              "#0d0887"
             ],
             [
              0.1111111111111111,
              "#46039f"
             ],
             [
              0.2222222222222222,
              "#7201a8"
             ],
             [
              0.3333333333333333,
              "#9c179e"
             ],
             [
              0.4444444444444444,
              "#bd3786"
             ],
             [
              0.5555555555555556,
              "#d8576b"
             ],
             [
              0.6666666666666666,
              "#ed7953"
             ],
             [
              0.7777777777777778,
              "#fb9f3a"
             ],
             [
              0.8888888888888888,
              "#fdca26"
             ],
             [
              1,
              "#f0f921"
             ]
            ],
            "type": "surface"
           }
          ],
          "table": [
           {
            "cells": {
             "fill": {
              "color": "#EBF0F8"
             },
             "line": {
              "color": "white"
             }
            },
            "header": {
             "fill": {
              "color": "#C8D4E3"
             },
             "line": {
              "color": "white"
             }
            },
            "type": "table"
           }
          ]
         },
         "layout": {
          "annotationdefaults": {
           "arrowcolor": "#2a3f5f",
           "arrowhead": 0,
           "arrowwidth": 1
          },
          "autotypenumbers": "strict",
          "coloraxis": {
           "colorbar": {
            "outlinewidth": 0,
            "ticks": ""
           }
          },
          "colorscale": {
           "diverging": [
            [
             0,
             "#8e0152"
            ],
            [
             0.1,
             "#c51b7d"
            ],
            [
             0.2,
             "#de77ae"
            ],
            [
             0.3,
             "#f1b6da"
            ],
            [
             0.4,
             "#fde0ef"
            ],
            [
             0.5,
             "#f7f7f7"
            ],
            [
             0.6,
             "#e6f5d0"
            ],
            [
             0.7,
             "#b8e186"
            ],
            [
             0.8,
             "#7fbc41"
            ],
            [
             0.9,
             "#4d9221"
            ],
            [
             1,
             "#276419"
            ]
           ],
           "sequential": [
            [
             0,
             "#0d0887"
            ],
            [
             0.1111111111111111,
             "#46039f"
            ],
            [
             0.2222222222222222,
             "#7201a8"
            ],
            [
             0.3333333333333333,
             "#9c179e"
            ],
            [
             0.4444444444444444,
             "#bd3786"
            ],
            [
             0.5555555555555556,
             "#d8576b"
            ],
            [
             0.6666666666666666,
             "#ed7953"
            ],
            [
             0.7777777777777778,
             "#fb9f3a"
            ],
            [
             0.8888888888888888,
             "#fdca26"
            ],
            [
             1,
             "#f0f921"
            ]
           ],
           "sequentialminus": [
            [
             0,
             "#0d0887"
            ],
            [
             0.1111111111111111,
             "#46039f"
            ],
            [
             0.2222222222222222,
             "#7201a8"
            ],
            [
             0.3333333333333333,
             "#9c179e"
            ],
            [
             0.4444444444444444,
             "#bd3786"
            ],
            [
             0.5555555555555556,
             "#d8576b"
            ],
            [
             0.6666666666666666,
             "#ed7953"
            ],
            [
             0.7777777777777778,
             "#fb9f3a"
            ],
            [
             0.8888888888888888,
             "#fdca26"
            ],
            [
             1,
             "#f0f921"
            ]
           ]
          },
          "colorway": [
           "#636efa",
           "#EF553B",
           "#00cc96",
           "#ab63fa",
           "#FFA15A",
           "#19d3f3",
           "#FF6692",
           "#B6E880",
           "#FF97FF",
           "#FECB52"
          ],
          "font": {
           "color": "#2a3f5f"
          },
          "geo": {
           "bgcolor": "white",
           "lakecolor": "white",
           "landcolor": "#E5ECF6",
           "showlakes": true,
           "showland": true,
           "subunitcolor": "white"
          },
          "hoverlabel": {
           "align": "left"
          },
          "hovermode": "closest",
          "mapbox": {
           "style": "light"
          },
          "paper_bgcolor": "white",
          "plot_bgcolor": "#E5ECF6",
          "polar": {
           "angularaxis": {
            "gridcolor": "white",
            "linecolor": "white",
            "ticks": ""
           },
           "bgcolor": "#E5ECF6",
           "radialaxis": {
            "gridcolor": "white",
            "linecolor": "white",
            "ticks": ""
           }
          },
          "scene": {
           "xaxis": {
            "backgroundcolor": "#E5ECF6",
            "gridcolor": "white",
            "gridwidth": 2,
            "linecolor": "white",
            "showbackground": true,
            "ticks": "",
            "zerolinecolor": "white"
           },
           "yaxis": {
            "backgroundcolor": "#E5ECF6",
            "gridcolor": "white",
            "gridwidth": 2,
            "linecolor": "white",
            "showbackground": true,
            "ticks": "",
            "zerolinecolor": "white"
           },
           "zaxis": {
            "backgroundcolor": "#E5ECF6",
            "gridcolor": "white",
            "gridwidth": 2,
            "linecolor": "white",
            "showbackground": true,
            "ticks": "",
            "zerolinecolor": "white"
           }
          },
          "shapedefaults": {
           "line": {
            "color": "#2a3f5f"
           }
          },
          "ternary": {
           "aaxis": {
            "gridcolor": "white",
            "linecolor": "white",
            "ticks": ""
           },
           "baxis": {
            "gridcolor": "white",
            "linecolor": "white",
            "ticks": ""
           },
           "bgcolor": "#E5ECF6",
           "caxis": {
            "gridcolor": "white",
            "linecolor": "white",
            "ticks": ""
           }
          },
          "title": {
           "x": 0.05
          },
          "xaxis": {
           "automargin": true,
           "gridcolor": "white",
           "linecolor": "white",
           "ticks": "",
           "title": {
            "standoff": 15
           },
           "zerolinecolor": "white",
           "zerolinewidth": 2
          },
          "yaxis": {
           "automargin": true,
           "gridcolor": "white",
           "linecolor": "white",
           "ticks": "",
           "title": {
            "standoff": 15
           },
           "zerolinecolor": "white",
           "zerolinewidth": 2
          }
         }
        },
        "title": {
         "text": "Interactive 3D Scatter Plot"
        }
       }
      }
     },
     "metadata": {},
     "output_type": "display_data"
    }
   ],
   "source": [
    "# Create an interactive 3D scatter plot with Plotly\n",
    "fig = px.scatter_3d(df, x='actual_price_₹', y='discounted_price_₹', z='rating', color='rating',\n",
    "                     hover_data=['product_name'], title='Interactive 3D Scatter Plot')\n",
    "fig.show()"
   ]
  }
 ],
 "metadata": {
  "kernelspec": {
   "display_name": "Python 3",
   "language": "python",
   "name": "python3"
  },
  "language_info": {
   "codemirror_mode": {
    "name": "ipython",
    "version": 3
   },
   "file_extension": ".py",
   "mimetype": "text/x-python",
   "name": "python",
   "nbconvert_exporter": "python",
   "pygments_lexer": "ipython3",
   "version": "3.10.2"
  }
 },
 "nbformat": 4,
 "nbformat_minor": 2
}
