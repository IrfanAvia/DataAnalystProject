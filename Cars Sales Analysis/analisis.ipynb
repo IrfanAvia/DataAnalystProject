{
 "cells": [
  {
   "cell_type": "markdown",
   "metadata": {},
   "source": [
    "# Car Sales Analysis"
   ]
  },
  {
   "cell_type": "markdown",
   "metadata": {},
   "source": [
    "## Import Libraries"
   ]
  },
  {
   "cell_type": "code",
   "execution_count": 23,
   "metadata": {},
   "outputs": [],
   "source": [
    "import pandas as pd\n",
    "import matplotlib.pyplot as plt\n",
    "import seaborn as sns\n",
    "from sklearn.cluster import KMeans\n",
    "from sklearn.preprocessing import StandardScaler"
   ]
  },
  {
   "cell_type": "code",
   "execution_count": 24,
   "metadata": {},
   "outputs": [],
   "source": [
    "df = pd.read_csv('Car_sales.csv')"
   ]
  },
  {
   "cell_type": "code",
   "execution_count": 79,
   "metadata": {},
   "outputs": [],
   "source": [
    "dfcopy = df.copy()"
   ]
  },
  {
   "cell_type": "markdown",
   "metadata": {},
   "source": [
    "## EDA"
   ]
  },
  {
   "cell_type": "code",
   "execution_count": 26,
   "metadata": {},
   "outputs": [
    {
     "data": {
      "application/vnd.microsoft.datawrangler.viewer.v0+json": {
       "columns": [
        {
         "name": "index",
         "rawType": "int64",
         "type": "integer"
        },
        {
         "name": "Manufacturer",
         "rawType": "object",
         "type": "string"
        },
        {
         "name": "Model",
         "rawType": "object",
         "type": "string"
        },
        {
         "name": "Sales_in_thousands",
         "rawType": "object",
         "type": "string"
        },
        {
         "name": "__year_resale_value",
         "rawType": "object",
         "type": "string"
        },
        {
         "name": "Vehicle_type",
         "rawType": "object",
         "type": "string"
        },
        {
         "name": "Price_in_thousands",
         "rawType": "object",
         "type": "string"
        },
        {
         "name": "Engine_size",
         "rawType": "object",
         "type": "string"
        },
        {
         "name": "Horsepower",
         "rawType": "object",
         "type": "string"
        },
        {
         "name": "Wheelbase",
         "rawType": "object",
         "type": "string"
        },
        {
         "name": "Width",
         "rawType": "object",
         "type": "string"
        },
        {
         "name": "Length",
         "rawType": "object",
         "type": "string"
        },
        {
         "name": "Curb_weight",
         "rawType": "object",
         "type": "string"
        },
        {
         "name": "Fuel_capacity",
         "rawType": "object",
         "type": "string"
        },
        {
         "name": "Fuel_efficiency",
         "rawType": "object",
         "type": "string"
        },
        {
         "name": "Latest_Launch",
         "rawType": "object",
         "type": "string"
        },
        {
         "name": "Power_perf_factor",
         "rawType": "object",
         "type": "string"
        },
        {
         "name": "Latest_Launch ",
         "rawType": "object",
         "type": "string"
        }
       ],
       "ref": "46fd0554-18d9-499f-97e7-0143b4f30481",
       "rows": [
        [
         "0",
         "Acura",
         "Integra",
         "16.919",
         "16.36",
         "Passenger",
         "21.5",
         "1.8",
         "140.0",
         "101.2",
         "67.3",
         "172.4",
         "2.639",
         "13.2",
         "28.0",
         "2/2/2012",
         "58.28014952",
         "2012-02-02"
        ],
        [
         "1",
         "Acura",
         "TL",
         "39.384",
         "19.875",
         "Passenger",
         "28.4",
         "3.2",
         "225.0",
         "108.1",
         "70.3",
         "192.9",
         "3.517",
         "17.2",
         "25.0",
         "6/3/2011",
         "91.37077766",
         "2011-06-03"
        ],
        [
         "2",
         "Acura",
         "CL",
         "14.114",
         "18.225",
         "Passenger",
         "28.4",
         "3.2",
         "225.0",
         "106.9",
         "70.6",
         "192.0",
         "3.47",
         "17.2",
         "26.0",
         "1/4/2012",
         "91.37077766",
         "2012-01-04"
        ],
        [
         "3",
         "Acura",
         "RL",
         "8.588",
         "29.725",
         "Passenger",
         "42.0",
         "3.5",
         "210.0",
         "114.6",
         "71.4",
         "196.6",
         "3.85",
         "18.0",
         "22.0",
         "3/10/2011",
         "91.38977933",
         "2011-03-10"
        ],
        [
         "4",
         "Audi",
         "A4",
         "20.397",
         "22.255",
         "Passenger",
         "23.99",
         "1.8",
         "150.0",
         "102.6",
         "68.2",
         "178.0",
         "2.998",
         "16.4",
         "27.0",
         "10/8/2011",
         "62.7776392",
         "2011-10-08"
        ]
       ],
       "shape": {
        "columns": 17,
        "rows": 5
       }
      },
      "text/html": [
       "<div>\n",
       "<style scoped>\n",
       "    .dataframe tbody tr th:only-of-type {\n",
       "        vertical-align: middle;\n",
       "    }\n",
       "\n",
       "    .dataframe tbody tr th {\n",
       "        vertical-align: top;\n",
       "    }\n",
       "\n",
       "    .dataframe thead th {\n",
       "        text-align: right;\n",
       "    }\n",
       "</style>\n",
       "<table border=\"1\" class=\"dataframe\">\n",
       "  <thead>\n",
       "    <tr style=\"text-align: right;\">\n",
       "      <th></th>\n",
       "      <th>Manufacturer</th>\n",
       "      <th>Model</th>\n",
       "      <th>Sales_in_thousands</th>\n",
       "      <th>__year_resale_value</th>\n",
       "      <th>Vehicle_type</th>\n",
       "      <th>Price_in_thousands</th>\n",
       "      <th>Engine_size</th>\n",
       "      <th>Horsepower</th>\n",
       "      <th>Wheelbase</th>\n",
       "      <th>Width</th>\n",
       "      <th>Length</th>\n",
       "      <th>Curb_weight</th>\n",
       "      <th>Fuel_capacity</th>\n",
       "      <th>Fuel_efficiency</th>\n",
       "      <th>Latest_Launch</th>\n",
       "      <th>Power_perf_factor</th>\n",
       "      <th>Latest_Launch</th>\n",
       "    </tr>\n",
       "  </thead>\n",
       "  <tbody>\n",
       "    <tr>\n",
       "      <th>0</th>\n",
       "      <td>Acura</td>\n",
       "      <td>Integra</td>\n",
       "      <td>16.919</td>\n",
       "      <td>16.36</td>\n",
       "      <td>Passenger</td>\n",
       "      <td>21.5</td>\n",
       "      <td>1.8</td>\n",
       "      <td>140.0</td>\n",
       "      <td>101.2</td>\n",
       "      <td>67.3</td>\n",
       "      <td>172.4</td>\n",
       "      <td>2.639</td>\n",
       "      <td>13.2</td>\n",
       "      <td>28.0</td>\n",
       "      <td>2/2/2012</td>\n",
       "      <td>58.28014952</td>\n",
       "      <td>2012-02-02</td>\n",
       "    </tr>\n",
       "    <tr>\n",
       "      <th>1</th>\n",
       "      <td>Acura</td>\n",
       "      <td>TL</td>\n",
       "      <td>39.384</td>\n",
       "      <td>19.875</td>\n",
       "      <td>Passenger</td>\n",
       "      <td>28.4</td>\n",
       "      <td>3.2</td>\n",
       "      <td>225.0</td>\n",
       "      <td>108.1</td>\n",
       "      <td>70.3</td>\n",
       "      <td>192.9</td>\n",
       "      <td>3.517</td>\n",
       "      <td>17.2</td>\n",
       "      <td>25.0</td>\n",
       "      <td>6/3/2011</td>\n",
       "      <td>91.37077766</td>\n",
       "      <td>2011-06-03</td>\n",
       "    </tr>\n",
       "    <tr>\n",
       "      <th>2</th>\n",
       "      <td>Acura</td>\n",
       "      <td>CL</td>\n",
       "      <td>14.114</td>\n",
       "      <td>18.225</td>\n",
       "      <td>Passenger</td>\n",
       "      <td>28.4</td>\n",
       "      <td>3.2</td>\n",
       "      <td>225.0</td>\n",
       "      <td>106.9</td>\n",
       "      <td>70.6</td>\n",
       "      <td>192.0</td>\n",
       "      <td>3.47</td>\n",
       "      <td>17.2</td>\n",
       "      <td>26.0</td>\n",
       "      <td>1/4/2012</td>\n",
       "      <td>91.37077766</td>\n",
       "      <td>2012-01-04</td>\n",
       "    </tr>\n",
       "    <tr>\n",
       "      <th>3</th>\n",
       "      <td>Acura</td>\n",
       "      <td>RL</td>\n",
       "      <td>8.588</td>\n",
       "      <td>29.725</td>\n",
       "      <td>Passenger</td>\n",
       "      <td>42.0</td>\n",
       "      <td>3.5</td>\n",
       "      <td>210.0</td>\n",
       "      <td>114.6</td>\n",
       "      <td>71.4</td>\n",
       "      <td>196.6</td>\n",
       "      <td>3.85</td>\n",
       "      <td>18.0</td>\n",
       "      <td>22.0</td>\n",
       "      <td>3/10/2011</td>\n",
       "      <td>91.38977933</td>\n",
       "      <td>2011-03-10</td>\n",
       "    </tr>\n",
       "    <tr>\n",
       "      <th>4</th>\n",
       "      <td>Audi</td>\n",
       "      <td>A4</td>\n",
       "      <td>20.397</td>\n",
       "      <td>22.255</td>\n",
       "      <td>Passenger</td>\n",
       "      <td>23.99</td>\n",
       "      <td>1.8</td>\n",
       "      <td>150.0</td>\n",
       "      <td>102.6</td>\n",
       "      <td>68.2</td>\n",
       "      <td>178.0</td>\n",
       "      <td>2.998</td>\n",
       "      <td>16.4</td>\n",
       "      <td>27.0</td>\n",
       "      <td>10/8/2011</td>\n",
       "      <td>62.7776392</td>\n",
       "      <td>2011-10-08</td>\n",
       "    </tr>\n",
       "  </tbody>\n",
       "</table>\n",
       "</div>"
      ],
      "text/plain": [
       "  Manufacturer    Model Sales_in_thousands __year_resale_value Vehicle_type  \\\n",
       "0        Acura  Integra             16.919               16.36    Passenger   \n",
       "1        Acura       TL             39.384              19.875    Passenger   \n",
       "2        Acura       CL             14.114              18.225    Passenger   \n",
       "3        Acura       RL              8.588              29.725    Passenger   \n",
       "4         Audi       A4             20.397              22.255    Passenger   \n",
       "\n",
       "  Price_in_thousands Engine_size Horsepower Wheelbase Width Length  \\\n",
       "0               21.5         1.8      140.0     101.2  67.3  172.4   \n",
       "1               28.4         3.2      225.0     108.1  70.3  192.9   \n",
       "2               28.4         3.2      225.0     106.9  70.6  192.0   \n",
       "3               42.0         3.5      210.0     114.6  71.4  196.6   \n",
       "4              23.99         1.8      150.0     102.6  68.2  178.0   \n",
       "\n",
       "  Curb_weight Fuel_capacity Fuel_efficiency Latest_Launch Power_perf_factor  \\\n",
       "0       2.639          13.2            28.0      2/2/2012       58.28014952   \n",
       "1       3.517          17.2            25.0      6/3/2011       91.37077766   \n",
       "2        3.47          17.2            26.0      1/4/2012       91.37077766   \n",
       "3        3.85          18.0            22.0     3/10/2011       91.38977933   \n",
       "4       2.998          16.4            27.0     10/8/2011        62.7776392   \n",
       "\n",
       "  Latest_Launch   \n",
       "0     2012-02-02  \n",
       "1     2011-06-03  \n",
       "2     2012-01-04  \n",
       "3     2011-03-10  \n",
       "4     2011-10-08  "
      ]
     },
     "execution_count": 26,
     "metadata": {},
     "output_type": "execute_result"
    }
   ],
   "source": [
    "dfcopy.head(5)"
   ]
  },
  {
   "cell_type": "code",
   "execution_count": 69,
   "metadata": {},
   "outputs": [
    {
     "data": {
      "application/vnd.microsoft.datawrangler.viewer.v0+json": {
       "columns": [
        {
         "name": "index",
         "rawType": "object",
         "type": "string"
        },
        {
         "name": "134",
         "rawType": "object",
         "type": "unknown"
        }
       ],
       "ref": "badb5f65-ae05-4895-be10-2162e2eb7167",
       "rows": [
        [
         "Manufacturer",
         "Subaru"
        ],
        [
         "Model",
         "Outback"
        ],
        [
         "Sales_in_thousands",
         "47.107"
        ],
        [
         "__year_resale_value",
         "14.18"
        ],
        [
         "Vehicle_type",
         "Passenger"
        ],
        [
         "Price_in_thousands",
         "22.695"
        ],
        [
         "Engine_size",
         "2.5"
        ],
        [
         "Horsepower",
         "165.0"
        ],
        [
         "Wheelbase",
         "103.5"
        ],
        [
         "Width",
         "67.5"
        ],
        [
         "Length",
         "185.8"
        ],
        [
         "Curb_weight",
         "3.415"
        ],
        [
         "Fuel_capacity",
         "16.9"
        ],
        [
         "Fuel_efficiency",
         "25.0"
        ],
        [
         "Latest_Launch",
         "2011-07-07 00:00:00"
        ],
        [
         "Power_perf_factor",
         "67.7659076"
        ],
        [
         "Cluster",
         "27-33(mpg)"
        ],
        [
         "Cluster_Horsepower",
         "50-175 HP"
        ]
       ],
       "shape": {
        "columns": 1,
        "rows": 18
       }
      },
      "text/plain": [
       "Manufacturer                        Subaru\n",
       "Model                              Outback\n",
       "Sales_in_thousands                  47.107\n",
       "__year_resale_value                  14.18\n",
       "Vehicle_type                     Passenger\n",
       "Price_in_thousands                  22.695\n",
       "Engine_size                            2.5\n",
       "Horsepower                           165.0\n",
       "Wheelbase                            103.5\n",
       "Width                                 67.5\n",
       "Length                               185.8\n",
       "Curb_weight                          3.415\n",
       "Fuel_capacity                         16.9\n",
       "Fuel_efficiency                       25.0\n",
       "Latest_Launch          2011-07-07 00:00:00\n",
       "Power_perf_factor                67.765908\n",
       "Cluster                         27-33(mpg)\n",
       "Cluster_Horsepower               50-175 HP\n",
       "Name: 134, dtype: object"
      ]
     },
     "execution_count": 69,
     "metadata": {},
     "output_type": "execute_result"
    }
   ],
   "source": [
    "# show data in row 134\n",
    "dfcopy.iloc[134]"
   ]
  },
  {
   "cell_type": "code",
   "execution_count": 27,
   "metadata": {},
   "outputs": [
    {
     "data": {
      "application/vnd.microsoft.datawrangler.viewer.v0+json": {
       "columns": [
        {
         "name": "index",
         "rawType": "int64",
         "type": "integer"
        },
        {
         "name": "Manufacturer",
         "rawType": "object",
         "type": "string"
        },
        {
         "name": "Model",
         "rawType": "object",
         "type": "string"
        },
        {
         "name": "Sales_in_thousands",
         "rawType": "object",
         "type": "string"
        },
        {
         "name": "__year_resale_value",
         "rawType": "object",
         "type": "string"
        },
        {
         "name": "Vehicle_type",
         "rawType": "object",
         "type": "string"
        },
        {
         "name": "Price_in_thousands",
         "rawType": "object",
         "type": "string"
        },
        {
         "name": "Engine_size",
         "rawType": "object",
         "type": "string"
        },
        {
         "name": "Horsepower",
         "rawType": "object",
         "type": "string"
        },
        {
         "name": "Wheelbase",
         "rawType": "object",
         "type": "string"
        },
        {
         "name": "Width",
         "rawType": "object",
         "type": "string"
        },
        {
         "name": "Length",
         "rawType": "object",
         "type": "string"
        },
        {
         "name": "Curb_weight",
         "rawType": "object",
         "type": "string"
        },
        {
         "name": "Fuel_capacity",
         "rawType": "object",
         "type": "string"
        },
        {
         "name": "Fuel_efficiency",
         "rawType": "object",
         "type": "string"
        },
        {
         "name": "Latest_Launch",
         "rawType": "object",
         "type": "string"
        },
        {
         "name": "Power_perf_factor",
         "rawType": "object",
         "type": "string"
        },
        {
         "name": "Latest_Launch ",
         "rawType": "object",
         "type": "string"
        }
       ],
       "ref": "948910e2-466f-4905-9a2c-5fe010ef8572",
       "rows": [
        [
         "153",
         "Volvo",
         "S70",
         "15.245",
         "14.18",
         "Passenger",
         "27.5",
         "2.4",
         "168.0",
         "104.9",
         "69.3",
         "185.9",
         "3.208",
         "17.9",
         "25.0",
         "11/24/2012",
         "70.65449545",
         "2012-11-24"
        ],
        [
         "154",
         "Volvo",
         "V70",
         "17.531",
         "14.18",
         "Passenger",
         "28.8",
         "2.4",
         "168.0",
         "104.9",
         "69.3",
         "186.2",
         "3.259",
         "17.9",
         "25.0",
         "6/25/2011",
         "71.1559776",
         "2011-06-25"
        ],
        [
         "155",
         "Volvo",
         "C70",
         "3.493",
         "14.18",
         "Passenger",
         "45.5",
         "2.3",
         "236.0",
         "104.9",
         "71.5",
         "185.7",
         "3.601",
         "18.5",
         "23.0",
         "4/26/2011",
         "101.6233572",
         "2011-04-26"
        ],
        [
         "156",
         "Volvo",
         "S80",
         "18.969",
         "14.18",
         "Passenger",
         "36.0",
         "2.9",
         "201.0",
         "109.9",
         "72.1",
         "189.8",
         "3.6",
         "21.1",
         "24.0",
         "11/14/2011",
         "85.73565451",
         "2011-11-14"
        ],
        [
         "157",
         "Manufacturer",
         "Model",
         "Sales_in_thousands",
         "__year_resale_value",
         "Vehicle_type",
         "Price_in_thousands",
         "Engine_size",
         "Horsepower",
         "Wheelbase",
         "Width",
         "Length",
         "Curb_weight",
         "Fuel_capacity",
         "Fuel_efficiency",
         "Latest_Launch",
         "Power_perf_factor",
         "Latest_Launch "
        ]
       ],
       "shape": {
        "columns": 17,
        "rows": 5
       }
      },
      "text/html": [
       "<div>\n",
       "<style scoped>\n",
       "    .dataframe tbody tr th:only-of-type {\n",
       "        vertical-align: middle;\n",
       "    }\n",
       "\n",
       "    .dataframe tbody tr th {\n",
       "        vertical-align: top;\n",
       "    }\n",
       "\n",
       "    .dataframe thead th {\n",
       "        text-align: right;\n",
       "    }\n",
       "</style>\n",
       "<table border=\"1\" class=\"dataframe\">\n",
       "  <thead>\n",
       "    <tr style=\"text-align: right;\">\n",
       "      <th></th>\n",
       "      <th>Manufacturer</th>\n",
       "      <th>Model</th>\n",
       "      <th>Sales_in_thousands</th>\n",
       "      <th>__year_resale_value</th>\n",
       "      <th>Vehicle_type</th>\n",
       "      <th>Price_in_thousands</th>\n",
       "      <th>Engine_size</th>\n",
       "      <th>Horsepower</th>\n",
       "      <th>Wheelbase</th>\n",
       "      <th>Width</th>\n",
       "      <th>Length</th>\n",
       "      <th>Curb_weight</th>\n",
       "      <th>Fuel_capacity</th>\n",
       "      <th>Fuel_efficiency</th>\n",
       "      <th>Latest_Launch</th>\n",
       "      <th>Power_perf_factor</th>\n",
       "      <th>Latest_Launch</th>\n",
       "    </tr>\n",
       "  </thead>\n",
       "  <tbody>\n",
       "    <tr>\n",
       "      <th>153</th>\n",
       "      <td>Volvo</td>\n",
       "      <td>S70</td>\n",
       "      <td>15.245</td>\n",
       "      <td>14.18</td>\n",
       "      <td>Passenger</td>\n",
       "      <td>27.5</td>\n",
       "      <td>2.4</td>\n",
       "      <td>168.0</td>\n",
       "      <td>104.9</td>\n",
       "      <td>69.3</td>\n",
       "      <td>185.9</td>\n",
       "      <td>3.208</td>\n",
       "      <td>17.9</td>\n",
       "      <td>25.0</td>\n",
       "      <td>11/24/2012</td>\n",
       "      <td>70.65449545</td>\n",
       "      <td>2012-11-24</td>\n",
       "    </tr>\n",
       "    <tr>\n",
       "      <th>154</th>\n",
       "      <td>Volvo</td>\n",
       "      <td>V70</td>\n",
       "      <td>17.531</td>\n",
       "      <td>14.18</td>\n",
       "      <td>Passenger</td>\n",
       "      <td>28.8</td>\n",
       "      <td>2.4</td>\n",
       "      <td>168.0</td>\n",
       "      <td>104.9</td>\n",
       "      <td>69.3</td>\n",
       "      <td>186.2</td>\n",
       "      <td>3.259</td>\n",
       "      <td>17.9</td>\n",
       "      <td>25.0</td>\n",
       "      <td>6/25/2011</td>\n",
       "      <td>71.1559776</td>\n",
       "      <td>2011-06-25</td>\n",
       "    </tr>\n",
       "    <tr>\n",
       "      <th>155</th>\n",
       "      <td>Volvo</td>\n",
       "      <td>C70</td>\n",
       "      <td>3.493</td>\n",
       "      <td>14.18</td>\n",
       "      <td>Passenger</td>\n",
       "      <td>45.5</td>\n",
       "      <td>2.3</td>\n",
       "      <td>236.0</td>\n",
       "      <td>104.9</td>\n",
       "      <td>71.5</td>\n",
       "      <td>185.7</td>\n",
       "      <td>3.601</td>\n",
       "      <td>18.5</td>\n",
       "      <td>23.0</td>\n",
       "      <td>4/26/2011</td>\n",
       "      <td>101.6233572</td>\n",
       "      <td>2011-04-26</td>\n",
       "    </tr>\n",
       "    <tr>\n",
       "      <th>156</th>\n",
       "      <td>Volvo</td>\n",
       "      <td>S80</td>\n",
       "      <td>18.969</td>\n",
       "      <td>14.18</td>\n",
       "      <td>Passenger</td>\n",
       "      <td>36.0</td>\n",
       "      <td>2.9</td>\n",
       "      <td>201.0</td>\n",
       "      <td>109.9</td>\n",
       "      <td>72.1</td>\n",
       "      <td>189.8</td>\n",
       "      <td>3.6</td>\n",
       "      <td>21.1</td>\n",
       "      <td>24.0</td>\n",
       "      <td>11/14/2011</td>\n",
       "      <td>85.73565451</td>\n",
       "      <td>2011-11-14</td>\n",
       "    </tr>\n",
       "    <tr>\n",
       "      <th>157</th>\n",
       "      <td>Manufacturer</td>\n",
       "      <td>Model</td>\n",
       "      <td>Sales_in_thousands</td>\n",
       "      <td>__year_resale_value</td>\n",
       "      <td>Vehicle_type</td>\n",
       "      <td>Price_in_thousands</td>\n",
       "      <td>Engine_size</td>\n",
       "      <td>Horsepower</td>\n",
       "      <td>Wheelbase</td>\n",
       "      <td>Width</td>\n",
       "      <td>Length</td>\n",
       "      <td>Curb_weight</td>\n",
       "      <td>Fuel_capacity</td>\n",
       "      <td>Fuel_efficiency</td>\n",
       "      <td>Latest_Launch</td>\n",
       "      <td>Power_perf_factor</td>\n",
       "      <td>Latest_Launch</td>\n",
       "    </tr>\n",
       "  </tbody>\n",
       "</table>\n",
       "</div>"
      ],
      "text/plain": [
       "     Manufacturer  Model  Sales_in_thousands  __year_resale_value  \\\n",
       "153         Volvo    S70              15.245                14.18   \n",
       "154         Volvo    V70              17.531                14.18   \n",
       "155         Volvo    C70               3.493                14.18   \n",
       "156         Volvo    S80              18.969                14.18   \n",
       "157  Manufacturer  Model  Sales_in_thousands  __year_resale_value   \n",
       "\n",
       "     Vehicle_type  Price_in_thousands  Engine_size  Horsepower  Wheelbase  \\\n",
       "153     Passenger                27.5          2.4       168.0      104.9   \n",
       "154     Passenger                28.8          2.4       168.0      104.9   \n",
       "155     Passenger                45.5          2.3       236.0      104.9   \n",
       "156     Passenger                36.0          2.9       201.0      109.9   \n",
       "157  Vehicle_type  Price_in_thousands  Engine_size  Horsepower  Wheelbase   \n",
       "\n",
       "     Width  Length  Curb_weight  Fuel_capacity  Fuel_efficiency  \\\n",
       "153   69.3   185.9        3.208           17.9             25.0   \n",
       "154   69.3   186.2        3.259           17.9             25.0   \n",
       "155   71.5   185.7        3.601           18.5             23.0   \n",
       "156   72.1   189.8          3.6           21.1             24.0   \n",
       "157  Width  Length  Curb_weight  Fuel_capacity  Fuel_efficiency   \n",
       "\n",
       "     Latest_Launch  Power_perf_factor  Latest_Launch   \n",
       "153     11/24/2012        70.65449545      2012-11-24  \n",
       "154      6/25/2011         71.1559776      2011-06-25  \n",
       "155      4/26/2011        101.6233572      2011-04-26  \n",
       "156     11/14/2011        85.73565451      2011-11-14  \n",
       "157  Latest_Launch  Power_perf_factor  Latest_Launch   "
      ]
     },
     "execution_count": 27,
     "metadata": {},
     "output_type": "execute_result"
    }
   ],
   "source": [
    "dfcopy.tail(5)"
   ]
  },
  {
   "cell_type": "code",
   "execution_count": null,
   "metadata": {},
   "outputs": [
    {
     "data": {
      "text/plain": [
       "23.27627233"
      ]
     },
     "execution_count": 107,
     "metadata": {},
     "output_type": "execute_result"
    }
   ],
   "source": [
    "dfcopy['Power_perf_factor'].min()\n"
   ]
  },
  {
   "cell_type": "code",
   "execution_count": 108,
   "metadata": {},
   "outputs": [
    {
     "data": {
      "text/plain": [
       "188.144323"
      ]
     },
     "execution_count": 108,
     "metadata": {},
     "output_type": "execute_result"
    }
   ],
   "source": [
    "dfcopy['Power_perf_factor'].max()"
   ]
  },
  {
   "cell_type": "code",
   "execution_count": 28,
   "metadata": {},
   "outputs": [
    {
     "data": {
      "text/plain": [
       "Index(['Manufacturer', 'Model', 'Sales_in_thousands', '__year_resale_value',\n",
       "       'Vehicle_type', 'Price_in_thousands', 'Engine_size', 'Horsepower',\n",
       "       'Wheelbase', 'Width', 'Length', 'Curb_weight', 'Fuel_capacity',\n",
       "       'Fuel_efficiency', 'Latest_Launch', 'Power_perf_factor',\n",
       "       'Latest_Launch '],\n",
       "      dtype='object')"
      ]
     },
     "execution_count": 28,
     "metadata": {},
     "output_type": "execute_result"
    }
   ],
   "source": [
    "dfcopy.columns"
   ]
  },
  {
   "cell_type": "code",
   "execution_count": 29,
   "metadata": {},
   "outputs": [
    {
     "data": {
      "application/vnd.microsoft.datawrangler.viewer.v0+json": {
       "columns": [
        {
         "name": "index",
         "rawType": "object",
         "type": "string"
        },
        {
         "name": "0",
         "rawType": "object",
         "type": "unknown"
        }
       ],
       "ref": "2296bf55-10e5-40a1-8bf1-68e5e35242f2",
       "rows": [
        [
         "Manufacturer",
         "object"
        ],
        [
         "Model",
         "object"
        ],
        [
         "Sales_in_thousands",
         "object"
        ],
        [
         "__year_resale_value",
         "object"
        ],
        [
         "Vehicle_type",
         "object"
        ],
        [
         "Price_in_thousands",
         "object"
        ],
        [
         "Engine_size",
         "object"
        ],
        [
         "Horsepower",
         "object"
        ],
        [
         "Wheelbase",
         "object"
        ],
        [
         "Width",
         "object"
        ],
        [
         "Length",
         "object"
        ],
        [
         "Curb_weight",
         "object"
        ],
        [
         "Fuel_capacity",
         "object"
        ],
        [
         "Fuel_efficiency",
         "object"
        ],
        [
         "Latest_Launch",
         "object"
        ],
        [
         "Power_perf_factor",
         "object"
        ],
        [
         "Latest_Launch ",
         "object"
        ]
       ],
       "shape": {
        "columns": 1,
        "rows": 17
       }
      },
      "text/plain": [
       "Manufacturer           object\n",
       "Model                  object\n",
       "Sales_in_thousands     object\n",
       "__year_resale_value    object\n",
       "Vehicle_type           object\n",
       "Price_in_thousands     object\n",
       "Engine_size            object\n",
       "Horsepower             object\n",
       "Wheelbase              object\n",
       "Width                  object\n",
       "Length                 object\n",
       "Curb_weight            object\n",
       "Fuel_capacity          object\n",
       "Fuel_efficiency        object\n",
       "Latest_Launch          object\n",
       "Power_perf_factor      object\n",
       "Latest_Launch          object\n",
       "dtype: object"
      ]
     },
     "execution_count": 29,
     "metadata": {},
     "output_type": "execute_result"
    }
   ],
   "source": [
    "dfcopy.dtypes"
   ]
  },
  {
   "cell_type": "code",
   "execution_count": 85,
   "metadata": {},
   "outputs": [
    {
     "data": {
      "application/vnd.microsoft.datawrangler.viewer.v0+json": {
       "columns": [
        {
         "name": "index",
         "rawType": "object",
         "type": "string"
        },
        {
         "name": "0",
         "rawType": "int64",
         "type": "integer"
        }
       ],
       "ref": "a63b7214-b70e-49fa-a585-a7795e5b2415",
       "rows": [
        [
         "Manufacturer",
         "0"
        ],
        [
         "Model",
         "0"
        ],
        [
         "Sales_in_thousands",
         "0"
        ],
        [
         "__year_resale_value",
         "0"
        ],
        [
         "Vehicle_type",
         "0"
        ],
        [
         "Price_in_thousands",
         "0"
        ],
        [
         "Engine_size",
         "0"
        ],
        [
         "Horsepower",
         "0"
        ],
        [
         "Wheelbase",
         "0"
        ],
        [
         "Width",
         "0"
        ],
        [
         "Length",
         "0"
        ],
        [
         "Curb_weight",
         "0"
        ],
        [
         "Fuel_capacity",
         "0"
        ],
        [
         "Fuel_efficiency",
         "0"
        ],
        [
         "Latest_Launch",
         "0"
        ],
        [
         "Power_perf_factor",
         "0"
        ],
        [
         "Latest_Launch ",
         "0"
        ]
       ],
       "shape": {
        "columns": 1,
        "rows": 17
       }
      },
      "text/plain": [
       "Manufacturer           0\n",
       "Model                  0\n",
       "Sales_in_thousands     0\n",
       "__year_resale_value    0\n",
       "Vehicle_type           0\n",
       "Price_in_thousands     0\n",
       "Engine_size            0\n",
       "Horsepower             0\n",
       "Wheelbase              0\n",
       "Width                  0\n",
       "Length                 0\n",
       "Curb_weight            0\n",
       "Fuel_capacity          0\n",
       "Fuel_efficiency        0\n",
       "Latest_Launch          0\n",
       "Power_perf_factor      0\n",
       "Latest_Launch          0\n",
       "dtype: int64"
      ]
     },
     "execution_count": 85,
     "metadata": {},
     "output_type": "execute_result"
    }
   ],
   "source": [
    "#check for NaN values\n",
    "dfcopy.isna().sum()"
   ]
  },
  {
   "cell_type": "markdown",
   "metadata": {},
   "source": [
    "## Data Type Transformation and Handle anappropriate values"
   ]
  },
  {
   "cell_type": "code",
   "execution_count": 81,
   "metadata": {},
   "outputs": [],
   "source": [
    "# Convert columns to appropriate data types\n",
    "columns_to_number=['Sales_in_thousands','__year_resale_value','Price_in_thousands','Wheelbase', 'Width', 'Length', 'Engine_size', 'Horsepower','Fuel_capacity','Fuel_efficiency','Curb_weight','Power_perf_factor']\n",
    "for col in columns_to_number:\n",
    "    dfcopy[col] = pd.to_numeric(dfcopy[col], errors='coerce')"
   ]
  },
  {
   "cell_type": "code",
   "execution_count": 32,
   "metadata": {},
   "outputs": [],
   "source": [
    "# delete the 'Latest_Launch' column\n",
    "dfcopy.drop('Latest_Launch ', axis=1, inplace=True)"
   ]
  },
  {
   "cell_type": "code",
   "execution_count": 83,
   "metadata": {},
   "outputs": [],
   "source": [
    "# delete row with index 157\n",
    "dfcopy.drop([157],inplace=True)"
   ]
  },
  {
   "cell_type": "code",
   "execution_count": 34,
   "metadata": {},
   "outputs": [
    {
     "data": {
      "application/vnd.microsoft.datawrangler.viewer.v0+json": {
       "columns": [
        {
         "name": "index",
         "rawType": "int64",
         "type": "integer"
        },
        {
         "name": "Latest_Launch",
         "rawType": "datetime64[ns]",
         "type": "datetime"
        }
       ],
       "ref": "8fdc7ed0-1203-4570-b2a9-1c928b528d74",
       "rows": [
        [
         "0",
         "2012-02-02 00:00:00"
        ],
        [
         "1",
         "2011-06-03 00:00:00"
        ],
        [
         "2",
         "2012-01-04 00:00:00"
        ],
        [
         "3",
         "2011-03-10 00:00:00"
        ],
        [
         "4",
         "2011-10-08 00:00:00"
        ]
       ],
       "shape": {
        "columns": 1,
        "rows": 5
       }
      },
      "text/plain": [
       "0   2012-02-02\n",
       "1   2011-06-03\n",
       "2   2012-01-04\n",
       "3   2011-03-10\n",
       "4   2011-10-08\n",
       "Name: Latest_Launch, dtype: datetime64[ns]"
      ]
     },
     "execution_count": 34,
     "metadata": {},
     "output_type": "execute_result"
    }
   ],
   "source": [
    "# Convert latest launch date to datetime format\n",
    "dfcopy['Latest_Launch'] = pd.to_datetime(dfcopy['Latest_Launch'], format='%m/%d/%Y')\n",
    "dfcopy['Latest_Launch'].head(5)"
   ]
  },
  {
   "cell_type": "code",
   "execution_count": 51,
   "metadata": {},
   "outputs": [
    {
     "data": {
      "application/vnd.microsoft.datawrangler.viewer.v0+json": {
       "columns": [
        {
         "name": "index",
         "rawType": "int64",
         "type": "integer"
        },
        {
         "name": "Manufacturer",
         "rawType": "object",
         "type": "string"
        },
        {
         "name": "Model",
         "rawType": "object",
         "type": "string"
        },
        {
         "name": "Sales_in_thousands",
         "rawType": "float64",
         "type": "float"
        },
        {
         "name": "__year_resale_value",
         "rawType": "float64",
         "type": "float"
        },
        {
         "name": "Vehicle_type",
         "rawType": "object",
         "type": "string"
        },
        {
         "name": "Price_in_thousands",
         "rawType": "float64",
         "type": "float"
        },
        {
         "name": "Engine_size",
         "rawType": "float64",
         "type": "float"
        },
        {
         "name": "Horsepower",
         "rawType": "float64",
         "type": "float"
        },
        {
         "name": "Wheelbase",
         "rawType": "float64",
         "type": "float"
        },
        {
         "name": "Width",
         "rawType": "float64",
         "type": "float"
        },
        {
         "name": "Length",
         "rawType": "float64",
         "type": "float"
        },
        {
         "name": "Curb_weight",
         "rawType": "float64",
         "type": "float"
        },
        {
         "name": "Fuel_capacity",
         "rawType": "float64",
         "type": "float"
        },
        {
         "name": "Fuel_efficiency",
         "rawType": "float64",
         "type": "float"
        },
        {
         "name": "Latest_Launch",
         "rawType": "datetime64[ns]",
         "type": "datetime"
        },
        {
         "name": "Power_perf_factor",
         "rawType": "float64",
         "type": "float"
        },
        {
         "name": "Cluster",
         "rawType": "object",
         "type": "string"
        },
        {
         "name": "Cluster_Horsepower",
         "rawType": "object",
         "type": "string"
        }
       ],
       "ref": "5e914f16-ea5e-456c-ba59-6c9d0f998c5a",
       "rows": [
        [
         "0",
         "Acura",
         "Integra",
         "16.919",
         "16.36",
         "Passenger",
         "21.5",
         "1.8",
         "140.0",
         "101.2",
         "67.3",
         "172.4",
         "2.639",
         "13.2",
         "28.0",
         "2012-02-02 00:00:00",
         "58.28014952",
         "27-33(mpg)",
         "50-175 HP"
        ],
        [
         "1",
         "Acura",
         "TL",
         "39.384",
         "19.875",
         "Passenger",
         "28.4",
         "3.2",
         "225.0",
         "108.1",
         "70.3",
         "192.9",
         "3.517",
         "17.2",
         "25.0",
         "2011-06-03 00:00:00",
         "91.37077766",
         "27-33(mpg)",
         "270-450 HP"
        ],
        [
         "2",
         "Acura",
         "CL",
         "14.114",
         "18.225",
         "Passenger",
         "28.4",
         "3.2",
         "225.0",
         "106.9",
         "70.6",
         "192.0",
         "3.47",
         "17.2",
         "26.0",
         "2012-01-04 00:00:00",
         "91.37077766",
         "27-33(mpg)",
         "270-450 HP"
        ],
        [
         "3",
         "Acura",
         "RL",
         "8.588",
         "29.725",
         "Passenger",
         "42.0",
         "3.5",
         "210.0",
         "114.6",
         "71.4",
         "196.6",
         "3.85",
         "18.0",
         "22.0",
         "2011-03-10 00:00:00",
         "91.38977933",
         "22-26(mpg)",
         "270-450 HP"
        ],
        [
         "4",
         "Audi",
         "A4",
         "20.397",
         "22.255",
         "Passenger",
         "23.99",
         "1.8",
         "150.0",
         "102.6",
         "68.2",
         "178.0",
         "2.998",
         "16.4",
         "27.0",
         "2011-10-08 00:00:00",
         "62.7776392",
         "27-33(mpg)",
         "50-175 HP"
        ]
       ],
       "shape": {
        "columns": 18,
        "rows": 5
       }
      },
      "text/html": [
       "<div>\n",
       "<style scoped>\n",
       "    .dataframe tbody tr th:only-of-type {\n",
       "        vertical-align: middle;\n",
       "    }\n",
       "\n",
       "    .dataframe tbody tr th {\n",
       "        vertical-align: top;\n",
       "    }\n",
       "\n",
       "    .dataframe thead th {\n",
       "        text-align: right;\n",
       "    }\n",
       "</style>\n",
       "<table border=\"1\" class=\"dataframe\">\n",
       "  <thead>\n",
       "    <tr style=\"text-align: right;\">\n",
       "      <th></th>\n",
       "      <th>Manufacturer</th>\n",
       "      <th>Model</th>\n",
       "      <th>Sales_in_thousands</th>\n",
       "      <th>__year_resale_value</th>\n",
       "      <th>Vehicle_type</th>\n",
       "      <th>Price_in_thousands</th>\n",
       "      <th>Engine_size</th>\n",
       "      <th>Horsepower</th>\n",
       "      <th>Wheelbase</th>\n",
       "      <th>Width</th>\n",
       "      <th>Length</th>\n",
       "      <th>Curb_weight</th>\n",
       "      <th>Fuel_capacity</th>\n",
       "      <th>Fuel_efficiency</th>\n",
       "      <th>Latest_Launch</th>\n",
       "      <th>Power_perf_factor</th>\n",
       "      <th>Cluster</th>\n",
       "      <th>Cluster_Horsepower</th>\n",
       "    </tr>\n",
       "  </thead>\n",
       "  <tbody>\n",
       "    <tr>\n",
       "      <th>0</th>\n",
       "      <td>Acura</td>\n",
       "      <td>Integra</td>\n",
       "      <td>16.919</td>\n",
       "      <td>16.360</td>\n",
       "      <td>Passenger</td>\n",
       "      <td>21.50</td>\n",
       "      <td>1.8</td>\n",
       "      <td>140.0</td>\n",
       "      <td>101.2</td>\n",
       "      <td>67.3</td>\n",
       "      <td>172.4</td>\n",
       "      <td>2.639</td>\n",
       "      <td>13.2</td>\n",
       "      <td>28.0</td>\n",
       "      <td>2012-02-02</td>\n",
       "      <td>58.280150</td>\n",
       "      <td>27-33(mpg)</td>\n",
       "      <td>50-175 HP</td>\n",
       "    </tr>\n",
       "    <tr>\n",
       "      <th>1</th>\n",
       "      <td>Acura</td>\n",
       "      <td>TL</td>\n",
       "      <td>39.384</td>\n",
       "      <td>19.875</td>\n",
       "      <td>Passenger</td>\n",
       "      <td>28.40</td>\n",
       "      <td>3.2</td>\n",
       "      <td>225.0</td>\n",
       "      <td>108.1</td>\n",
       "      <td>70.3</td>\n",
       "      <td>192.9</td>\n",
       "      <td>3.517</td>\n",
       "      <td>17.2</td>\n",
       "      <td>25.0</td>\n",
       "      <td>2011-06-03</td>\n",
       "      <td>91.370778</td>\n",
       "      <td>27-33(mpg)</td>\n",
       "      <td>270-450 HP</td>\n",
       "    </tr>\n",
       "    <tr>\n",
       "      <th>2</th>\n",
       "      <td>Acura</td>\n",
       "      <td>CL</td>\n",
       "      <td>14.114</td>\n",
       "      <td>18.225</td>\n",
       "      <td>Passenger</td>\n",
       "      <td>28.40</td>\n",
       "      <td>3.2</td>\n",
       "      <td>225.0</td>\n",
       "      <td>106.9</td>\n",
       "      <td>70.6</td>\n",
       "      <td>192.0</td>\n",
       "      <td>3.470</td>\n",
       "      <td>17.2</td>\n",
       "      <td>26.0</td>\n",
       "      <td>2012-01-04</td>\n",
       "      <td>91.370778</td>\n",
       "      <td>27-33(mpg)</td>\n",
       "      <td>270-450 HP</td>\n",
       "    </tr>\n",
       "    <tr>\n",
       "      <th>3</th>\n",
       "      <td>Acura</td>\n",
       "      <td>RL</td>\n",
       "      <td>8.588</td>\n",
       "      <td>29.725</td>\n",
       "      <td>Passenger</td>\n",
       "      <td>42.00</td>\n",
       "      <td>3.5</td>\n",
       "      <td>210.0</td>\n",
       "      <td>114.6</td>\n",
       "      <td>71.4</td>\n",
       "      <td>196.6</td>\n",
       "      <td>3.850</td>\n",
       "      <td>18.0</td>\n",
       "      <td>22.0</td>\n",
       "      <td>2011-03-10</td>\n",
       "      <td>91.389779</td>\n",
       "      <td>22-26(mpg)</td>\n",
       "      <td>270-450 HP</td>\n",
       "    </tr>\n",
       "    <tr>\n",
       "      <th>4</th>\n",
       "      <td>Audi</td>\n",
       "      <td>A4</td>\n",
       "      <td>20.397</td>\n",
       "      <td>22.255</td>\n",
       "      <td>Passenger</td>\n",
       "      <td>23.99</td>\n",
       "      <td>1.8</td>\n",
       "      <td>150.0</td>\n",
       "      <td>102.6</td>\n",
       "      <td>68.2</td>\n",
       "      <td>178.0</td>\n",
       "      <td>2.998</td>\n",
       "      <td>16.4</td>\n",
       "      <td>27.0</td>\n",
       "      <td>2011-10-08</td>\n",
       "      <td>62.777639</td>\n",
       "      <td>27-33(mpg)</td>\n",
       "      <td>50-175 HP</td>\n",
       "    </tr>\n",
       "  </tbody>\n",
       "</table>\n",
       "</div>"
      ],
      "text/plain": [
       "  Manufacturer    Model  Sales_in_thousands  __year_resale_value Vehicle_type  \\\n",
       "0        Acura  Integra              16.919               16.360    Passenger   \n",
       "1        Acura       TL              39.384               19.875    Passenger   \n",
       "2        Acura       CL              14.114               18.225    Passenger   \n",
       "3        Acura       RL               8.588               29.725    Passenger   \n",
       "4         Audi       A4              20.397               22.255    Passenger   \n",
       "\n",
       "   Price_in_thousands  Engine_size  Horsepower  Wheelbase  Width  Length  \\\n",
       "0               21.50          1.8       140.0      101.2   67.3   172.4   \n",
       "1               28.40          3.2       225.0      108.1   70.3   192.9   \n",
       "2               28.40          3.2       225.0      106.9   70.6   192.0   \n",
       "3               42.00          3.5       210.0      114.6   71.4   196.6   \n",
       "4               23.99          1.8       150.0      102.6   68.2   178.0   \n",
       "\n",
       "   Curb_weight  Fuel_capacity  Fuel_efficiency Latest_Launch  \\\n",
       "0        2.639           13.2             28.0    2012-02-02   \n",
       "1        3.517           17.2             25.0    2011-06-03   \n",
       "2        3.470           17.2             26.0    2012-01-04   \n",
       "3        3.850           18.0             22.0    2011-03-10   \n",
       "4        2.998           16.4             27.0    2011-10-08   \n",
       "\n",
       "   Power_perf_factor     Cluster Cluster_Horsepower  \n",
       "0          58.280150  27-33(mpg)          50-175 HP  \n",
       "1          91.370778  27-33(mpg)         270-450 HP  \n",
       "2          91.370778  27-33(mpg)         270-450 HP  \n",
       "3          91.389779  22-26(mpg)         270-450 HP  \n",
       "4          62.777639  27-33(mpg)          50-175 HP  "
      ]
     },
     "execution_count": 51,
     "metadata": {},
     "output_type": "execute_result"
    }
   ],
   "source": [
    "dfcopy.head(5)"
   ]
  },
  {
   "cell_type": "markdown",
   "metadata": {},
   "source": [
    "## Data Analysis"
   ]
  },
  {
   "cell_type": "code",
   "execution_count": 35,
   "metadata": {},
   "outputs": [
    {
     "data": {
      "image/png": "[encoded data removed]",
      "text/plain": [
       "<Figure size 1200x1000 with 2 Axes>"
      ]
     },
     "metadata": {},
     "output_type": "display_data"
    }
   ],
   "source": [
    "# Show correlation heatmap for every numeric column\n",
    "dfcopy_numeric = dfcopy.select_dtypes(include=['number'])\n",
    "dfcopy_numeric.head(5)\n",
    "correlation = dfcopy_numeric.corr()\n",
    "plt.figure(figsize=(12, 10))\n",
    "sns.heatmap(correlation, annot=True, fmt='.2f', cmap='coolwarm', square=True)\n",
    "plt.title('Correlation Heatmap of Car Sales Data')\n",
    "plt.show()"
   ]
  },
  {
   "cell_type": "code",
   "execution_count": 36,
   "metadata": {},
   "outputs": [
    {
     "name": "stderr",
     "output_type": "stream",
     "text": [
      "c:\\Users\\Irfan\\.conda\\envs\\ds39\\lib\\site-packages\\sklearn\\cluster\\_kmeans.py:1334: UserWarning: KMeans is known to have a memory leak on Windows with MKL, when there are less chunks than available threads. You can avoid it by setting the environment variable OMP_NUM_THREADS=1.\n",
      "  warnings.warn(\n",
      "c:\\Users\\Irfan\\.conda\\envs\\ds39\\lib\\site-packages\\sklearn\\cluster\\_kmeans.py:1334: UserWarning: KMeans is known to have a memory leak on Windows with MKL, when there are less chunks than available threads. You can avoid it by setting the environment variable OMP_NUM_THREADS=1.\n",
      "  warnings.warn(\n",
      "c:\\Users\\Irfan\\.conda\\envs\\ds39\\lib\\site-packages\\sklearn\\cluster\\_kmeans.py:1334: UserWarning: KMeans is known to have a memory leak on Windows with MKL, when there are less chunks than available threads. You can avoid it by setting the environment variable OMP_NUM_THREADS=1.\n",
      "  warnings.warn(\n",
      "c:\\Users\\Irfan\\.conda\\envs\\ds39\\lib\\site-packages\\sklearn\\cluster\\_kmeans.py:1334: UserWarning: KMeans is known to have a memory leak on Windows with MKL, when there are less chunks than available threads. You can avoid it by setting the environment variable OMP_NUM_THREADS=1.\n",
      "  warnings.warn(\n",
      "c:\\Users\\Irfan\\.conda\\envs\\ds39\\lib\\site-packages\\sklearn\\cluster\\_kmeans.py:1334: UserWarning: KMeans is known to have a memory leak on Windows with MKL, when there are less chunks than available threads. You can avoid it by setting the environment variable OMP_NUM_THREADS=1.\n",
      "  warnings.warn(\n",
      "c:\\Users\\Irfan\\.conda\\envs\\ds39\\lib\\site-packages\\sklearn\\cluster\\_kmeans.py:1334: UserWarning: KMeans is known to have a memory leak on Windows with MKL, when there are less chunks than available threads. You can avoid it by setting the environment variable OMP_NUM_THREADS=1.\n",
      "  warnings.warn(\n",
      "c:\\Users\\Irfan\\.conda\\envs\\ds39\\lib\\site-packages\\sklearn\\cluster\\_kmeans.py:1334: UserWarning: KMeans is known to have a memory leak on Windows with MKL, when there are less chunks than available threads. You can avoid it by setting the environment variable OMP_NUM_THREADS=1.\n",
      "  warnings.warn(\n",
      "c:\\Users\\Irfan\\.conda\\envs\\ds39\\lib\\site-packages\\sklearn\\cluster\\_kmeans.py:1334: UserWarning: KMeans is known to have a memory leak on Windows with MKL, when there are less chunks than available threads. You can avoid it by setting the environment variable OMP_NUM_THREADS=1.\n",
      "  warnings.warn(\n",
      "c:\\Users\\Irfan\\.conda\\envs\\ds39\\lib\\site-packages\\sklearn\\cluster\\_kmeans.py:1334: UserWarning: KMeans is known to have a memory leak on Windows with MKL, when there are less chunks than available threads. You can avoid it by setting the environment variable OMP_NUM_THREADS=1.\n",
      "  warnings.warn(\n",
      "c:\\Users\\Irfan\\.conda\\envs\\ds39\\lib\\site-packages\\sklearn\\cluster\\_kmeans.py:1334: UserWarning: KMeans is known to have a memory leak on Windows with MKL, when there are less chunks than available threads. You can avoid it by setting the environment variable OMP_NUM_THREADS=1.\n",
      "  warnings.warn(\n"
     ]
    },
    {
     "data": {
      "image/png": "[encoded data removed]",
      "text/plain": [
       "<Figure size 1000x600 with 1 Axes>"
      ]
     },
     "metadata": {},
     "output_type": "display_data"
    }
   ],
   "source": [
    "# Normalisasi data\n",
    "scaler = StandardScaler()\n",
    "df_scaled = scaler.fit_transform(dfcopy[['Fuel_efficiency']])\n",
    "\n",
    "# Menentukan jumlah cluster menggunakan metode Elbow\n",
    "wcss = []  # within-cluster sum of squares\n",
    "for i in range(1, 11):\n",
    "    kmeans = KMeans(n_clusters=i, init='k-means++', random_state=42)\n",
    "    kmeans.fit(df_scaled)\n",
    "    wcss.append(kmeans.inertia_)\n",
    "\n",
    "# Plot untuk metode Elbow\n",
    "plt.figure(figsize=(10, 6))\n",
    "plt.plot(range(1, 11), wcss, marker='o')\n",
    "plt.title('Metode Elbow')\n",
    "plt.xlabel('Jumlah Cluster')\n",
    "plt.ylabel('WCSS')\n",
    "plt.show()"
   ]
  },
  {
   "cell_type": "code",
   "execution_count": 37,
   "metadata": {},
   "outputs": [
    {
     "name": "stderr",
     "output_type": "stream",
     "text": [
      "c:\\Users\\Irfan\\.conda\\envs\\ds39\\lib\\site-packages\\sklearn\\cluster\\_kmeans.py:1334: UserWarning: KMeans is known to have a memory leak on Windows with MKL, when there are less chunks than available threads. You can avoid it by setting the environment variable OMP_NUM_THREADS=1.\n",
      "  warnings.warn(\n"
     ]
    },
    {
     "data": {
      "image/png": "[encoded data removed]",
      "text/plain": [
       "<Figure size 1000x600 with 1 Axes>"
      ]
     },
     "metadata": {},
     "output_type": "display_data"
    }
   ],
   "source": [
    "# Apply KMeans clustering with 4 clusters based on the elbow method\n",
    "kmeans = KMeans(n_clusters=4, init='k-means++', random_state=42)\n",
    "dfcopy['Cluster'] = kmeans.fit_predict(df_scaled)\n",
    "\n",
    "dfcopy['Cluster'] = dfcopy['Cluster'].replace({0: '27-33(mpg)', 1: '15-21(mpg)', 2: 'Above 33(mpg)',3: '22-26(mpg)'})\n",
    "\n",
    "# Visualize the clusters\n",
    "plt.figure(figsize=(10, 6))\n",
    "sns.scatterplot(data=dfcopy, x='Fuel_efficiency', y='Cluster', hue='Cluster', palette='Set2', s=100)\n",
    "plt.title('Clustering on Fuel Efficiency')\n",
    "plt.xlabel('Fuel Efficiency (mpg)')\n",
    "plt.ylabel('Cluster')\n",
    "plt.show()\n"
   ]
  },
  {
   "cell_type": "code",
   "execution_count": 45,
   "metadata": {},
   "outputs": [
    {
     "data": {
      "image/png": "[encoded data removed]",
      "text/plain": [
       "<Figure size 1000x600 with 1 Axes>"
      ]
     },
     "metadata": {},
     "output_type": "display_data"
    },
    {
     "name": "stdout",
     "output_type": "stream",
     "text": [
      "Total Sales per Cluster:\n",
      "Cluster\n",
      "15-21(mpg)       1933.887\n",
      "22-26(mpg)       1612.479\n",
      "27-33(mpg)       3743.047\n",
      "Above 33(mpg)    1031.285\n",
      "Name: Sales_in_thousands, dtype: float64\n"
     ]
    }
   ],
   "source": [
    "sales_per_cluster = dfcopy.groupby('Cluster')['Sales_in_thousands'].sum()\n",
    "\n",
    "# Visualize total sales per cluster\n",
    "plt.figure(figsize=(10, 6))\n",
    "sales_per_cluster.plot(kind='bar', color=['blue', 'orange', 'green'])\n",
    "plt.title('Total Sales per Cluster')\n",
    "plt.xlabel('')\n",
    "plt.ylabel('Sales in Thousands')\n",
    "plt.show()\n",
    "\n",
    "# Calcalate total sales per cluster\n",
    "print(\"Total Sales per Cluster:\")\n",
    "print(sales_per_cluster)"
   ]
  },
  {
   "cell_type": "code",
   "execution_count": 39,
   "metadata": {},
   "outputs": [
    {
     "name": "stdout",
     "output_type": "stream",
     "text": [
      "Cluster Statistics (Min and Max Fuel Efficiency):\n",
      "                min   max\n",
      "Cluster                  \n",
      "15-21(mpg)     15.0  19.0\n",
      "22-26(mpg)     20.0  23.0\n",
      "27-33(mpg)     24.0  28.0\n",
      "Above 33(mpg)  29.0  45.0\n"
     ]
    }
   ],
   "source": [
    "# calculate min and max fuel efficiency for each cluster\n",
    "cluster_stats = dfcopy.groupby('Cluster')['Fuel_efficiency'].agg(['min', 'max'])\n",
    "# Display the cluster statistics\n",
    "print(\"Cluster Statistics (Min and Max Fuel Efficiency):\")\n",
    "print(cluster_stats)"
   ]
  },
  {
   "cell_type": "code",
   "execution_count": 50,
   "metadata": {},
   "outputs": [
    {
     "name": "stderr",
     "output_type": "stream",
     "text": [
      "c:\\Users\\Irfan\\.conda\\envs\\ds39\\lib\\site-packages\\sklearn\\cluster\\_kmeans.py:1334: UserWarning: KMeans is known to have a memory leak on Windows with MKL, when there are less chunks than available threads. You can avoid it by setting the environment variable OMP_NUM_THREADS=1.\n",
      "  warnings.warn(\n",
      "c:\\Users\\Irfan\\.conda\\envs\\ds39\\lib\\site-packages\\sklearn\\cluster\\_kmeans.py:1334: UserWarning: KMeans is known to have a memory leak on Windows with MKL, when there are less chunks than available threads. You can avoid it by setting the environment variable OMP_NUM_THREADS=1.\n",
      "  warnings.warn(\n",
      "c:\\Users\\Irfan\\.conda\\envs\\ds39\\lib\\site-packages\\sklearn\\cluster\\_kmeans.py:1334: UserWarning: KMeans is known to have a memory leak on Windows with MKL, when there are less chunks than available threads. You can avoid it by setting the environment variable OMP_NUM_THREADS=1.\n",
      "  warnings.warn(\n",
      "c:\\Users\\Irfan\\.conda\\envs\\ds39\\lib\\site-packages\\sklearn\\cluster\\_kmeans.py:1334: UserWarning: KMeans is known to have a memory leak on Windows with MKL, when there are less chunks than available threads. You can avoid it by setting the environment variable OMP_NUM_THREADS=1.\n",
      "  warnings.warn(\n",
      "c:\\Users\\Irfan\\.conda\\envs\\ds39\\lib\\site-packages\\sklearn\\cluster\\_kmeans.py:1334: UserWarning: KMeans is known to have a memory leak on Windows with MKL, when there are less chunks than available threads. You can avoid it by setting the environment variable OMP_NUM_THREADS=1.\n",
      "  warnings.warn(\n",
      "c:\\Users\\Irfan\\.conda\\envs\\ds39\\lib\\site-packages\\sklearn\\cluster\\_kmeans.py:1334: UserWarning: KMeans is known to have a memory leak on Windows with MKL, when there are less chunks than available threads. You can avoid it by setting the environment variable OMP_NUM_THREADS=1.\n",
      "  warnings.warn(\n",
      "c:\\Users\\Irfan\\.conda\\envs\\ds39\\lib\\site-packages\\sklearn\\cluster\\_kmeans.py:1334: UserWarning: KMeans is known to have a memory leak on Windows with MKL, when there are less chunks than available threads. You can avoid it by setting the environment variable OMP_NUM_THREADS=1.\n",
      "  warnings.warn(\n",
      "c:\\Users\\Irfan\\.conda\\envs\\ds39\\lib\\site-packages\\sklearn\\cluster\\_kmeans.py:1334: UserWarning: KMeans is known to have a memory leak on Windows with MKL, when there are less chunks than available threads. You can avoid it by setting the environment variable OMP_NUM_THREADS=1.\n",
      "  warnings.warn(\n",
      "c:\\Users\\Irfan\\.conda\\envs\\ds39\\lib\\site-packages\\sklearn\\cluster\\_kmeans.py:1334: UserWarning: KMeans is known to have a memory leak on Windows with MKL, when there are less chunks than available threads. You can avoid it by setting the environment variable OMP_NUM_THREADS=1.\n",
      "  warnings.warn(\n",
      "c:\\Users\\Irfan\\.conda\\envs\\ds39\\lib\\site-packages\\sklearn\\cluster\\_kmeans.py:1334: UserWarning: KMeans is known to have a memory leak on Windows with MKL, when there are less chunks than available threads. You can avoid it by setting the environment variable OMP_NUM_THREADS=1.\n",
      "  warnings.warn(\n"
     ]
    },
    {
     "data": {
      "image/png": "[encoded data removed]",
      "text/plain": [
       "<Figure size 1000x600 with 1 Axes>"
      ]
     },
     "metadata": {},
     "output_type": "display_data"
    }
   ],
   "source": [
    "# Normalize 'Horsepower' column for clustering\n",
    "scaler = StandardScaler()\n",
    "df_scaled = scaler.fit_transform(dfcopy[['Horsepower']])\n",
    "\n",
    "# Determine the number of clusters using the Elbow method\n",
    "wcss = []  # within-cluster sum of squares\n",
    "for i in range(1, 11):\n",
    "    kmeans = KMeans(n_clusters=i, init='k-means++', random_state=42)\n",
    "    kmeans.fit(df_scaled)\n",
    "    wcss.append(kmeans.inertia_)\n",
    "\n",
    "# Viusalize the Elbow method results for Horsepower\n",
    "plt.figure(figsize=(10, 6))\n",
    "plt.plot(range(1, 11), wcss, marker='o')\n",
    "plt.title('Metode Elbow')\n",
    "plt.xlabel('Jumlah Cluster')\n",
    "plt.ylabel('WCSS')\n",
    "plt.show()"
   ]
  },
  {
   "cell_type": "code",
   "execution_count": null,
   "metadata": {},
   "outputs": [
    {
     "name": "stderr",
     "output_type": "stream",
     "text": [
      "c:\\Users\\Irfan\\.conda\\envs\\ds39\\lib\\site-packages\\sklearn\\cluster\\_kmeans.py:1334: UserWarning: KMeans is known to have a memory leak on Windows with MKL, when there are less chunks than available threads. You can avoid it by setting the environment variable OMP_NUM_THREADS=1.\n",
      "  warnings.warn(\n"
     ]
    },
    {
     "data": {
      "image/png": "[encoded data removed]",
      "text/plain": [
       "<Figure size 1000x600 with 1 Axes>"
      ]
     },
     "metadata": {},
     "output_type": "display_data"
    }
   ],
   "source": [
    "# Apply KMeans clustering with 3 clusters based on the elbow method\n",
    "kmeans = KMeans(n_clusters=3, init='k-means++', random_state=42)\n",
    "dfcopy['Cluster_Horsepower'] = kmeans.fit_predict(df_scaled)\n",
    "\n",
    "\n",
    "dfcopy['Cluster_Horsepower'] = dfcopy['Cluster_Horsepower'].replace({0: '50-175 HP', 1: '180-260 HP', 2: '270-450 HP'})\n",
    "\n",
    "# Visualize the clusters based on Horsepower\n",
    "plt.figure(figsize=(10, 6))\n",
    "sns.scatterplot(data=dfcopy, x='Horsepower', y='Cluster_Horsepower', hue='Cluster_Horsepower', palette='Set2', s=100)\n",
    "plt.title('Clustering On Horsepower')\n",
    "plt.xlabel('Horsepower (HP)')\n",
    "plt.ylabel('Cluster')\n",
    "plt.show()"
   ]
  },
  {
   "cell_type": "code",
   "execution_count": null,
   "metadata": {},
   "outputs": [
    {
     "name": "stdout",
     "output_type": "stream",
     "text": [
      "Cluster_Horsepower\n",
      "180-260 HP     306.053\n",
      "270-450 HP    4159.530\n",
      "50-175 HP     3855.115\n",
      "Name: Sales_in_thousands, dtype: float64\n"
     ]
    },
    {
     "data": {
      "image/png": "[encoded data removed]",
      "text/plain": [
       "<Figure size 1000x600 with 1 Axes>"
      ]
     },
     "metadata": {},
     "output_type": "display_data"
    }
   ],
   "source": [
    "# Compare total sales for each horsepower cluster\n",
    "sales_per_cluster = dfcopy.groupby('Cluster_Horsepower')['Sales_in_thousands'].sum()\n",
    "print(sales_per_cluster)\n",
    "\n",
    "# Visualize total sales per horsepower cluster\n",
    "plt.figure(figsize=(10, 6))\n",
    "sales_per_cluster.plot(kind='bar', color=['blue', 'orange', 'green'])\n",
    "plt.title('Total Sales per Cluster')\n",
    "plt.xlabel('')\n",
    "plt.ylabel('Sales in Thousands')\n",
    "plt.show()"
   ]
  },
  {
   "cell_type": "code",
   "execution_count": null,
   "metadata": {},
   "outputs": [
    {
     "name": "stdout",
     "output_type": "stream",
     "text": [
      "                      min    max\n",
      "Cluster_Horsepower              \n",
      "0                    55.0  175.0\n",
      "1                   180.0  255.0\n",
      "2                   275.0  450.0\n"
     ]
    }
   ],
   "source": [
    "# Display the min and max horsepower for each cluster\n",
    "cluster_stats = df.groupby('Cluster_Horsepower')['Horsepower'].agg(['min', 'max'])\n",
    "\n",
    "print(cluster_stats)"
   ]
  },
  {
   "cell_type": "code",
   "execution_count": null,
   "metadata": {},
   "outputs": [
    {
     "data": {
      "image/png": "[encoded data removed]",
      "text/plain": [
       "<Figure size 1000x600 with 1 Axes>"
      ]
     },
     "metadata": {},
     "output_type": "display_data"
    }
   ],
   "source": [
    "# show visual pie chart highest sales for each vehicle type\n",
    "plt.figure(figsize=(10, 6))\n",
    "dfcopy.groupby('Vehicle_type')['Sales_in_thousands'].sum().plot(kind='pie', autopct='%1.1f%%', startangle=140)\n",
    "plt.title('Sales Distribution by Vehicle Type')\n",
    "plt.ylabel('')\n",
    "plt.show()"
   ]
  },
  {
   "cell_type": "code",
   "execution_count": null,
   "metadata": {},
   "outputs": [
    {
     "data": {
      "image/png": "[encoded data removed]",
      "text/plain": [
       "<Figure size 1000x600 with 1 Axes>"
      ]
     },
     "metadata": {},
     "output_type": "display_data"
    }
   ],
   "source": [
    "# show  Top 5 Sales by Manufacturer\n",
    "top_5_sales = dfcopy.groupby('Manufacturer')['Sales_in_thousands'].sum().nlargest(5)\n",
    "plt.figure(figsize=(10, 6))\n",
    "top_5_sales.plot(kind='bar', color='skyblue')\n",
    "plt.title('Top 5 Sales by Manufacturer')\n",
    "plt.xlabel('Manufacturer')\n",
    "plt.ylabel('Sales in Thousands')\n",
    "plt.xticks(rotation=45)\n",
    "plt.show()\n"
   ]
  },
  {
   "cell_type": "code",
   "execution_count": null,
   "metadata": {},
   "outputs": [
    {
     "data": {
      "image/png": "[encoded data removed]",
      "text/plain": [
       "<Figure size 1000x600 with 1 Axes>"
      ]
     },
     "metadata": {},
     "output_type": "display_data"
    }
   ],
   "source": [
    "# Show Top 5 Sales by Model\n",
    "top_5_sales_model = dfcopy.groupby('Model')['Sales_in_thousands'].sum().nlargest(5)\n",
    "plt.figure(figsize=(10, 6))\n",
    "top_5_sales_model.plot(kind='bar', color='lightgreen')\n",
    "plt.title('Top 5 Sales by Model')\n",
    "plt.xlabel('Model')\n",
    "plt.ylabel('Sales in Thousands')\n",
    "plt.xticks(rotation=45)\n",
    "plt.show()"
   ]
  },
  {
   "cell_type": "markdown",
   "metadata": {},
   "source": [
    "## Make a model for Predicting Car Price (Additional)"
   ]
  },
  {
   "cell_type": "code",
   "execution_count": 73,
   "metadata": {},
   "outputs": [
    {
     "data": {
      "text/plain": [
       "Index(['Manufacturer', 'Model', 'Sales_in_thousands', '__year_resale_value',\n",
       "       'Vehicle_type', 'Price_in_thousands', 'Engine_size', 'Horsepower',\n",
       "       'Wheelbase', 'Width', 'Length', 'Curb_weight', 'Fuel_capacity',\n",
       "       'Fuel_efficiency', 'Latest_Launch', 'Power_perf_factor', 'Cluster',\n",
       "       'Cluster_Horsepower'],\n",
       "      dtype='object')"
      ]
     },
     "execution_count": 73,
     "metadata": {},
     "output_type": "execute_result"
    }
   ],
   "source": [
    "dfcopy.columns"
   ]
  },
  {
   "cell_type": "code",
   "execution_count": 75,
   "metadata": {},
   "outputs": [
    {
     "data": {
      "application/vnd.microsoft.datawrangler.viewer.v0+json": {
       "columns": [
        {
         "name": "index",
         "rawType": "int64",
         "type": "integer"
        },
        {
         "name": "Model",
         "rawType": "object",
         "type": "string"
        },
        {
         "name": "Sales_in_thousands",
         "rawType": "float64",
         "type": "float"
        },
        {
         "name": "__year_resale_value",
         "rawType": "float64",
         "type": "float"
        },
        {
         "name": "Vehicle_type",
         "rawType": "object",
         "type": "string"
        },
        {
         "name": "Price_in_thousands",
         "rawType": "float64",
         "type": "float"
        },
        {
         "name": "Engine_size",
         "rawType": "float64",
         "type": "float"
        },
        {
         "name": "Horsepower",
         "rawType": "float64",
         "type": "float"
        },
        {
         "name": "Wheelbase",
         "rawType": "float64",
         "type": "float"
        },
        {
         "name": "Width",
         "rawType": "float64",
         "type": "float"
        },
        {
         "name": "Length",
         "rawType": "float64",
         "type": "float"
        },
        {
         "name": "Curb_weight",
         "rawType": "float64",
         "type": "float"
        },
        {
         "name": "Fuel_capacity",
         "rawType": "float64",
         "type": "float"
        },
        {
         "name": "Fuel_efficiency",
         "rawType": "float64",
         "type": "float"
        },
        {
         "name": "Latest_Launch",
         "rawType": "datetime64[ns]",
         "type": "datetime"
        },
        {
         "name": "Power_perf_factor",
         "rawType": "float64",
         "type": "float"
        },
        {
         "name": "Cluster",
         "rawType": "object",
         "type": "string"
        },
        {
         "name": "Cluster_Horsepower",
         "rawType": "object",
         "type": "string"
        },
        {
         "name": "Manufacturer_Audi",
         "rawType": "bool",
         "type": "boolean"
        },
        {
         "name": "Manufacturer_BMW",
         "rawType": "bool",
         "type": "boolean"
        },
        {
         "name": "Manufacturer_Buick",
         "rawType": "bool",
         "type": "boolean"
        },
        {
         "name": "Manufacturer_Cadillac",
         "rawType": "bool",
         "type": "boolean"
        },
        {
         "name": "Manufacturer_Chevrolet",
         "rawType": "bool",
         "type": "boolean"
        },
        {
         "name": "Manufacturer_Chrysler",
         "rawType": "bool",
         "type": "boolean"
        },
        {
         "name": "Manufacturer_Dodge",
         "rawType": "bool",
         "type": "boolean"
        },
        {
         "name": "Manufacturer_Ford",
         "rawType": "bool",
         "type": "boolean"
        },
        {
         "name": "Manufacturer_Honda",
         "rawType": "bool",
         "type": "boolean"
        },
        {
         "name": "Manufacturer_Hyundai",
         "rawType": "bool",
         "type": "boolean"
        },
        {
         "name": "Manufacturer_Infiniti",
         "rawType": "bool",
         "type": "boolean"
        },
        {
         "name": "Manufacturer_Jaguar",
         "rawType": "bool",
         "type": "boolean"
        },
        {
         "name": "Manufacturer_Jeep",
         "rawType": "bool",
         "type": "boolean"
        },
        {
         "name": "Manufacturer_Lexus",
         "rawType": "bool",
         "type": "boolean"
        },
        {
         "name": "Manufacturer_Lincoln",
         "rawType": "bool",
         "type": "boolean"
        },
        {
         "name": "Manufacturer_Mercedes-B",
         "rawType": "bool",
         "type": "boolean"
        },
        {
         "name": "Manufacturer_Mercury",
         "rawType": "bool",
         "type": "boolean"
        },
        {
         "name": "Manufacturer_Mitsubishi",
         "rawType": "bool",
         "type": "boolean"
        },
        {
         "name": "Manufacturer_Nissan",
         "rawType": "bool",
         "type": "boolean"
        },
        {
         "name": "Manufacturer_Oldsmobile",
         "rawType": "bool",
         "type": "boolean"
        },
        {
         "name": "Manufacturer_Plymouth",
         "rawType": "bool",
         "type": "boolean"
        },
        {
         "name": "Manufacturer_Pontiac",
         "rawType": "bool",
         "type": "boolean"
        },
        {
         "name": "Manufacturer_Porsche",
         "rawType": "bool",
         "type": "boolean"
        },
        {
         "name": "Manufacturer_Saab",
         "rawType": "bool",
         "type": "boolean"
        },
        {
         "name": "Manufacturer_Saturn",
         "rawType": "bool",
         "type": "boolean"
        },
        {
         "name": "Manufacturer_Subaru",
         "rawType": "bool",
         "type": "boolean"
        },
        {
         "name": "Manufacturer_Toyota",
         "rawType": "bool",
         "type": "boolean"
        },
        {
         "name": "Manufacturer_Volkswagen",
         "rawType": "bool",
         "type": "boolean"
        },
        {
         "name": "Manufacturer_Volvo",
         "rawType": "bool",
         "type": "boolean"
        }
       ],
       "ref": "820d65f0-a116-4d52-839c-48a137883b06",
       "rows": [
        [
         "0",
         "Integra",
         "16.919",
         "16.36",
         "Passenger",
         "21.5",
         "1.8",
         "140.0",
         "101.2",
         "67.3",
         "172.4",
         "2.639",
         "13.2",
         "28.0",
         "2012-02-02 00:00:00",
         "58.28014952",
         "27-33(mpg)",
         "50-175 HP",
         "False",
         "False",
         "False",
         "False",
         "False",
         "False",
         "False",
         "False",
         "False",
         "False",
         "False",
         "False",
         "False",
         "False",
         "False",
         "False",
         "False",
         "False",
         "False",
         "False",
         "False",
         "False",
         "False",
         "False",
         "False",
         "False",
         "False",
         "False",
         "False"
        ],
        [
         "1",
         "TL",
         "39.384",
         "19.875",
         "Passenger",
         "28.4",
         "3.2",
         "225.0",
         "108.1",
         "70.3",
         "192.9",
         "3.517",
         "17.2",
         "25.0",
         "2011-06-03 00:00:00",
         "91.37077766",
         "27-33(mpg)",
         "270-450 HP",
         "False",
         "False",
         "False",
         "False",
         "False",
         "False",
         "False",
         "False",
         "False",
         "False",
         "False",
         "False",
         "False",
         "False",
         "False",
         "False",
         "False",
         "False",
         "False",
         "False",
         "False",
         "False",
         "False",
         "False",
         "False",
         "False",
         "False",
         "False",
         "False"
        ],
        [
         "2",
         "CL",
         "14.114",
         "18.225",
         "Passenger",
         "28.4",
         "3.2",
         "225.0",
         "106.9",
         "70.6",
         "192.0",
         "3.47",
         "17.2",
         "26.0",
         "2012-01-04 00:00:00",
         "91.37077766",
         "27-33(mpg)",
         "270-450 HP",
         "False",
         "False",
         "False",
         "False",
         "False",
         "False",
         "False",
         "False",
         "False",
         "False",
         "False",
         "False",
         "False",
         "False",
         "False",
         "False",
         "False",
         "False",
         "False",
         "False",
         "False",
         "False",
         "False",
         "False",
         "False",
         "False",
         "False",
         "False",
         "False"
        ],
        [
         "3",
         "RL",
         "8.588",
         "29.725",
         "Passenger",
         "42.0",
         "3.5",
         "210.0",
         "114.6",
         "71.4",
         "196.6",
         "3.85",
         "18.0",
         "22.0",
         "2011-03-10 00:00:00",
         "91.38977933",
         "22-26(mpg)",
         "270-450 HP",
         "False",
         "False",
         "False",
         "False",
         "False",
         "False",
         "False",
         "False",
         "False",
         "False",
         "False",
         "False",
         "False",
         "False",
         "False",
         "False",
         "False",
         "False",
         "False",
         "False",
         "False",
         "False",
         "False",
         "False",
         "False",
         "False",
         "False",
         "False",
         "False"
        ],
        [
         "4",
         "A4",
         "20.397",
         "22.255",
         "Passenger",
         "23.99",
         "1.8",
         "150.0",
         "102.6",
         "68.2",
         "178.0",
         "2.998",
         "16.4",
         "27.0",
         "2011-10-08 00:00:00",
         "62.7776392",
         "27-33(mpg)",
         "50-175 HP",
         "True",
         "False",
         "False",
         "False",
         "False",
         "False",
         "False",
         "False",
         "False",
         "False",
         "False",
         "False",
         "False",
         "False",
         "False",
         "False",
         "False",
         "False",
         "False",
         "False",
         "False",
         "False",
         "False",
         "False",
         "False",
         "False",
         "False",
         "False",
         "False"
        ]
       ],
       "shape": {
        "columns": 46,
        "rows": 5
       }
      },
      "text/html": [
       "<div>\n",
       "<style scoped>\n",
       "    .dataframe tbody tr th:only-of-type {\n",
       "        vertical-align: middle;\n",
       "    }\n",
       "\n",
       "    .dataframe tbody tr th {\n",
       "        vertical-align: top;\n",
       "    }\n",
       "\n",
       "    .dataframe thead th {\n",
       "        text-align: right;\n",
       "    }\n",
       "</style>\n",
       "<table border=\"1\" class=\"dataframe\">\n",
       "  <thead>\n",
       "    <tr style=\"text-align: right;\">\n",
       "      <th></th>\n",
       "      <th>Model</th>\n",
       "      <th>Sales_in_thousands</th>\n",
       "      <th>__year_resale_value</th>\n",
       "      <th>Vehicle_type</th>\n",
       "      <th>Price_in_thousands</th>\n",
       "      <th>Engine_size</th>\n",
       "      <th>Horsepower</th>\n",
       "      <th>Wheelbase</th>\n",
       "      <th>Width</th>\n",
       "      <th>Length</th>\n",
       "      <th>...</th>\n",
       "      <th>Manufacturer_Oldsmobile</th>\n",
       "      <th>Manufacturer_Plymouth</th>\n",
       "      <th>Manufacturer_Pontiac</th>\n",
       "      <th>Manufacturer_Porsche</th>\n",
       "      <th>Manufacturer_Saab</th>\n",
       "      <th>Manufacturer_Saturn</th>\n",
       "      <th>Manufacturer_Subaru</th>\n",
       "      <th>Manufacturer_Toyota</th>\n",
       "      <th>Manufacturer_Volkswagen</th>\n",
       "      <th>Manufacturer_Volvo</th>\n",
       "    </tr>\n",
       "  </thead>\n",
       "  <tbody>\n",
       "    <tr>\n",
       "      <th>0</th>\n",
       "      <td>Integra</td>\n",
       "      <td>16.919</td>\n",
       "      <td>16.360</td>\n",
       "      <td>Passenger</td>\n",
       "      <td>21.50</td>\n",
       "      <td>1.8</td>\n",
       "      <td>140.0</td>\n",
       "      <td>101.2</td>\n",
       "      <td>67.3</td>\n",
       "      <td>172.4</td>\n",
       "      <td>...</td>\n",
       "      <td>False</td>\n",
       "      <td>False</td>\n",
       "      <td>False</td>\n",
       "      <td>False</td>\n",
       "      <td>False</td>\n",
       "      <td>False</td>\n",
       "      <td>False</td>\n",
       "      <td>False</td>\n",
       "      <td>False</td>\n",
       "      <td>False</td>\n",
       "    </tr>\n",
       "    <tr>\n",
       "      <th>1</th>\n",
       "      <td>TL</td>\n",
       "      <td>39.384</td>\n",
       "      <td>19.875</td>\n",
       "      <td>Passenger</td>\n",
       "      <td>28.40</td>\n",
       "      <td>3.2</td>\n",
       "      <td>225.0</td>\n",
       "      <td>108.1</td>\n",
       "      <td>70.3</td>\n",
       "      <td>192.9</td>\n",
       "      <td>...</td>\n",
       "      <td>False</td>\n",
       "      <td>False</td>\n",
       "      <td>False</td>\n",
       "      <td>False</td>\n",
       "      <td>False</td>\n",
       "      <td>False</td>\n",
       "      <td>False</td>\n",
       "      <td>False</td>\n",
       "      <td>False</td>\n",
       "      <td>False</td>\n",
       "    </tr>\n",
       "    <tr>\n",
       "      <th>2</th>\n",
       "      <td>CL</td>\n",
       "      <td>14.114</td>\n",
       "      <td>18.225</td>\n",
       "      <td>Passenger</td>\n",
       "      <td>28.40</td>\n",
       "      <td>3.2</td>\n",
       "      <td>225.0</td>\n",
       "      <td>106.9</td>\n",
       "      <td>70.6</td>\n",
       "      <td>192.0</td>\n",
       "      <td>...</td>\n",
       "      <td>False</td>\n",
       "      <td>False</td>\n",
       "      <td>False</td>\n",
       "      <td>False</td>\n",
       "      <td>False</td>\n",
       "      <td>False</td>\n",
       "      <td>False</td>\n",
       "      <td>False</td>\n",
       "      <td>False</td>\n",
       "      <td>False</td>\n",
       "    </tr>\n",
       "    <tr>\n",
       "      <th>3</th>\n",
       "      <td>RL</td>\n",
       "      <td>8.588</td>\n",
       "      <td>29.725</td>\n",
       "      <td>Passenger</td>\n",
       "      <td>42.00</td>\n",
       "      <td>3.5</td>\n",
       "      <td>210.0</td>\n",
       "      <td>114.6</td>\n",
       "      <td>71.4</td>\n",
       "      <td>196.6</td>\n",
       "      <td>...</td>\n",
       "      <td>False</td>\n",
       "      <td>False</td>\n",
       "      <td>False</td>\n",
       "      <td>False</td>\n",
       "      <td>False</td>\n",
       "      <td>False</td>\n",
       "      <td>False</td>\n",
       "      <td>False</td>\n",
       "      <td>False</td>\n",
       "      <td>False</td>\n",
       "    </tr>\n",
       "    <tr>\n",
       "      <th>4</th>\n",
       "      <td>A4</td>\n",
       "      <td>20.397</td>\n",
       "      <td>22.255</td>\n",
       "      <td>Passenger</td>\n",
       "      <td>23.99</td>\n",
       "      <td>1.8</td>\n",
       "      <td>150.0</td>\n",
       "      <td>102.6</td>\n",
       "      <td>68.2</td>\n",
       "      <td>178.0</td>\n",
       "      <td>...</td>\n",
       "      <td>False</td>\n",
       "      <td>False</td>\n",
       "      <td>False</td>\n",
       "      <td>False</td>\n",
       "      <td>False</td>\n",
       "      <td>False</td>\n",
       "      <td>False</td>\n",
       "      <td>False</td>\n",
       "      <td>False</td>\n",
       "      <td>False</td>\n",
       "    </tr>\n",
       "  </tbody>\n",
       "</table>\n",
       "<p>5 rows × 46 columns</p>\n",
       "</div>"
      ],
      "text/plain": [
       "     Model  Sales_in_thousands  __year_resale_value Vehicle_type  \\\n",
       "0  Integra              16.919               16.360    Passenger   \n",
       "1       TL              39.384               19.875    Passenger   \n",
       "2       CL              14.114               18.225    Passenger   \n",
       "3       RL               8.588               29.725    Passenger   \n",
       "4       A4              20.397               22.255    Passenger   \n",
       "\n",
       "   Price_in_thousands  Engine_size  Horsepower  Wheelbase  Width  Length  ...  \\\n",
       "0               21.50          1.8       140.0      101.2   67.3   172.4  ...   \n",
       "1               28.40          3.2       225.0      108.1   70.3   192.9  ...   \n",
       "2               28.40          3.2       225.0      106.9   70.6   192.0  ...   \n",
       "3               42.00          3.5       210.0      114.6   71.4   196.6  ...   \n",
       "4               23.99          1.8       150.0      102.6   68.2   178.0  ...   \n",
       "\n",
       "   Manufacturer_Oldsmobile  Manufacturer_Plymouth  Manufacturer_Pontiac  \\\n",
       "0                    False                  False                 False   \n",
       "1                    False                  False                 False   \n",
       "2                    False                  False                 False   \n",
       "3                    False                  False                 False   \n",
       "4                    False                  False                 False   \n",
       "\n",
       "  Manufacturer_Porsche  Manufacturer_Saab Manufacturer_Saturn  \\\n",
       "0                False              False               False   \n",
       "1                False              False               False   \n",
       "2                False              False               False   \n",
       "3                False              False               False   \n",
       "4                False              False               False   \n",
       "\n",
       "  Manufacturer_Subaru  Manufacturer_Toyota  Manufacturer_Volkswagen  \\\n",
       "0               False                False                    False   \n",
       "1               False                False                    False   \n",
       "2               False                False                    False   \n",
       "3               False                False                    False   \n",
       "4               False                False                    False   \n",
       "\n",
       "   Manufacturer_Volvo  \n",
       "0               False  \n",
       "1               False  \n",
       "2               False  \n",
       "3               False  \n",
       "4               False  \n",
       "\n",
       "[5 rows x 46 columns]"
      ]
     },
     "execution_count": 75,
     "metadata": {},
     "output_type": "execute_result"
    }
   ],
   "source": [
    "dfcopy.head(5)"
   ]
  },
  {
   "cell_type": "code",
   "execution_count": null,
   "metadata": {},
   "outputs": [
    {
     "data": {
      "text/html": [
       "<style>#sk-container-id-7 {color: black;background-color: white;}#sk-container-id-7 pre{padding: 0;}#sk-container-id-7 div.sk-toggleable {background-color: white;}#sk-container-id-7 label.sk-toggleable__label {cursor: pointer;display: block;width: 100%;margin-bottom: 0;padding: 0.3em;box-sizing: border-box;text-align: center;}#sk-container-id-7 label.sk-toggleable__label-arrow:before {content: \"▸\";float: left;margin-right: 0.25em;color: #696969;}#sk-container-id-7 label.sk-toggleable__label-arrow:hover:before {color: black;}#sk-container-id-7 div.sk-estimator:hover label.sk-toggleable__label-arrow:before {color: black;}#sk-container-id-7 div.sk-toggleable__content {max-height: 0;max-width: 0;overflow: hidden;text-align: left;background-color: #f0f8ff;}#sk-container-id-7 div.sk-toggleable__content pre {margin: 0.2em;color: black;border-radius: 0.25em;background-color: #f0f8ff;}#sk-container-id-7 input.sk-toggleable__control:checked~div.sk-toggleable__content {max-height: 200px;max-width: 100%;overflow: auto;}#sk-container-id-7 input.sk-toggleable__control:checked~label.sk-toggleable__label-arrow:before {content: \"▾\";}#sk-container-id-7 div.sk-estimator input.sk-toggleable__control:checked~label.sk-toggleable__label {background-color: #d4ebff;}#sk-container-id-7 div.sk-label input.sk-toggleable__control:checked~label.sk-toggleable__label {background-color: #d4ebff;}#sk-container-id-7 input.sk-hidden--visually {border: 0;clip: rect(1px 1px 1px 1px);clip: rect(1px, 1px, 1px, 1px);height: 1px;margin: -1px;overflow: hidden;padding: 0;position: absolute;width: 1px;}#sk-container-id-7 div.sk-estimator {font-family: monospace;background-color: #f0f8ff;border: 1px dotted black;border-radius: 0.25em;box-sizing: border-box;margin-bottom: 0.5em;}#sk-container-id-7 div.sk-estimator:hover {background-color: #d4ebff;}#sk-container-id-7 div.sk-parallel-item::after {content: \"\";width: 100%;border-bottom: 1px solid gray;flex-grow: 1;}#sk-container-id-7 div.sk-label:hover label.sk-toggleable__label {background-color: #d4ebff;}#sk-container-id-7 div.sk-serial::before {content: \"\";position: absolute;border-left: 1px solid gray;box-sizing: border-box;top: 0;bottom: 0;left: 50%;z-index: 0;}#sk-container-id-7 div.sk-serial {display: flex;flex-direction: column;align-items: center;background-color: white;padding-right: 0.2em;padding-left: 0.2em;position: relative;}#sk-container-id-7 div.sk-item {position: relative;z-index: 1;}#sk-container-id-7 div.sk-parallel {display: flex;align-items: stretch;justify-content: center;background-color: white;position: relative;}#sk-container-id-7 div.sk-item::before, #sk-container-id-7 div.sk-parallel-item::before {content: \"\";position: absolute;border-left: 1px solid gray;box-sizing: border-box;top: 0;bottom: 0;left: 50%;z-index: -1;}#sk-container-id-7 div.sk-parallel-item {display: flex;flex-direction: column;z-index: 1;position: relative;background-color: white;}#sk-container-id-7 div.sk-parallel-item:first-child::after {align-self: flex-end;width: 50%;}#sk-container-id-7 div.sk-parallel-item:last-child::after {align-self: flex-start;width: 50%;}#sk-container-id-7 div.sk-parallel-item:only-child::after {width: 0;}#sk-container-id-7 div.sk-dashed-wrapped {border: 1px dashed gray;margin: 0 0.4em 0.5em 0.4em;box-sizing: border-box;padding-bottom: 0.4em;background-color: white;}#sk-container-id-7 div.sk-label label {font-family: monospace;font-weight: bold;display: inline-block;line-height: 1.2em;}#sk-container-id-7 div.sk-label-container {text-align: center;}#sk-container-id-7 div.sk-container {/* jupyter's `normalize.less` sets `[hidden] { display: none; }` but bootstrap.min.css set `[hidden] { display: none !important; }` so we also need the `!important` here to be able to override the default hidden behavior on the sphinx rendered scikit-learn.org. See: https://github.com/scikit-learn/scikit-learn/issues/21755 */display: inline-block !important;position: relative;}#sk-container-id-7 div.sk-text-repr-fallback {display: none;}</style><div id=\"sk-container-id-7\" class=\"sk-top-container\"><div class=\"sk-text-repr-fallback\"><pre>LinearRegression()</pre><b>In a Jupyter environment, please rerun this cell to show the HTML representation or trust the notebook. <br />On GitHub, the HTML representation is unable to render, please try loading this page with nbviewer.org.</b></div><div class=\"sk-container\" hidden><div class=\"sk-item\"><div class=\"sk-estimator sk-toggleable\"><input class=\"sk-toggleable__control sk-hidden--visually\" id=\"sk-estimator-id-7\" type=\"checkbox\" checked><label for=\"sk-estimator-id-7\" class=\"sk-toggleable__label sk-toggleable__label-arrow\">LinearRegression</label><div class=\"sk-toggleable__content\"><pre>LinearRegression()</pre></div></div></div></div></div>"
      ],
      "text/plain": [
       "LinearRegression()"
      ]
     },
     "execution_count": 128,
     "metadata": {},
     "output_type": "execute_result"
    }
   ],
   "source": [
    "from sklearn.model_selection import train_test_split\n",
    "from sklearn.preprocessing import StandardScaler\n",
    "from sklearn.linear_model import LinearRegression\n",
    "\n",
    "# One-hot encode 'Manufacturer' first\n",
    "df_encoded = pd.get_dummies(dfcopy, columns=['Manufacturer'], drop_first=True)\n",
    "\n",
    "# Now select X and y\n",
    "X = df_encoded[['Sales_in_thousands', '__year_resale_value', 'Engine_size', 'Horsepower',\n",
    "                'Wheelbase', 'Width', 'Length', 'Fuel_capacity', 'Fuel_efficiency',\n",
    "                'Curb_weight', 'Power_perf_factor'] +\n",
    "               [col for col in df_encoded.columns if col.startswith('Manufacturer_')]]  # include one-hot columns\n",
    "\n",
    "y = df_encoded['Price_in_thousands']\n",
    "\n",
    "# Scale the features\n",
    "scaler = StandardScaler()\n",
    "X_scaled = scaler.fit_transform(X)\n",
    "\n",
    "# Split into training/testing sets\n",
    "X_train, X_test, y_train, y_test = train_test_split(X_scaled, y, test_size=0.1, random_state=42)\n",
    "\n",
    "# Train a Linear Regression model\n",
    "model = LinearRegression()\n",
    "model.fit(X_train, y_train)"
   ]
  },
  {
   "cell_type": "code",
   "execution_count": 87,
   "metadata": {},
   "outputs": [
    {
     "name": "stdout",
     "output_type": "stream",
     "text": [
      "Mean Squared Error: 8.981575418240646e-16\n",
      "R-squared: 1.0\n"
     ]
    }
   ],
   "source": [
    "# Evaluate the model\n",
    "from sklearn.metrics import mean_squared_error, r2_score\n",
    "y_pred = model.predict(X_test)\n",
    "mse = mean_squared_error(y_test, y_pred)\n",
    "r2 = r2_score(y_test, y_pred)\n",
    "print(f'Mean Squared Error: {mse}')\n",
    "print(f'R-squared: {r2}')"
   ]
  },
  {
   "cell_type": "code",
   "execution_count": 88,
   "metadata": {},
   "outputs": [
    {
     "name": "stdout",
     "output_type": "stream",
     "text": [
      "Model Coefficients:\n",
      "                          Coefficient\n",
      "Sales_in_thousands       2.415731e-09\n",
      "__year_resale_value     -1.614739e-08\n",
      "Engine_size             -7.014724e-01\n",
      "Horsepower              -5.188686e+01\n",
      "Wheelbase               -4.080798e-09\n",
      "Width                    2.161475e-09\n",
      "Length                   1.522379e-09\n",
      "Fuel_capacity            6.485049e-09\n",
      "Fuel_efficiency         -4.671183e-09\n",
      "Curb_weight             -1.188446e-08\n",
      "Power_perf_factor        6.481192e+01\n",
      "Manufacturer_Audi       -4.541104e-09\n",
      "Manufacturer_BMW         1.371987e-09\n",
      "Manufacturer_Buick      -3.013587e-09\n",
      "Manufacturer_Cadillac    1.647041e-09\n",
      "Manufacturer_Chevrolet  -5.475013e-09\n",
      "Manufacturer_Chrysler   -1.331963e-08\n",
      "Manufacturer_Dodge      -6.637312e-09\n",
      "Manufacturer_Ford       -7.890489e-09\n",
      "Manufacturer_Honda      -2.380201e-09\n",
      "Manufacturer_Hyundai    -4.132703e-09\n",
      "Manufacturer_Infiniti    2.687071e-11\n",
      "Manufacturer_Jaguar      6.500523e-09\n",
      "Manufacturer_Jeep       -4.456307e-09\n",
      "Manufacturer_Lexus      -6.075671e-09\n",
      "Manufacturer_Lincoln     1.086191e-09\n",
      "Manufacturer_Mercedes-B  1.283283e-09\n",
      "Manufacturer_Mercury    -3.838576e-09\n",
      "Manufacturer_Mitsubishi -4.195811e-09\n",
      "Manufacturer_Nissan     -3.920740e-09\n",
      "Manufacturer_Oldsmobile -1.925115e-09\n",
      "Manufacturer_Plymouth   -4.875634e-09\n",
      "Manufacturer_Pontiac    -3.238028e-09\n",
      "Manufacturer_Porsche    -3.053026e-09\n",
      "Manufacturer_Saab       -2.478470e-09\n",
      "Manufacturer_Saturn     -3.105469e-09\n",
      "Manufacturer_Subaru     -2.063747e-09\n",
      "Manufacturer_Toyota     -7.707558e-09\n",
      "Manufacturer_Volkswagen -3.506202e-09\n",
      "Manufacturer_Volvo      -6.835299e-10\n"
     ]
    }
   ],
   "source": [
    "# Show coefficients of the model\n",
    "coefficients = pd.DataFrame(model.coef_, X.columns, columns=['Coefficient'])\n",
    "print(\"Model Coefficients:\")\n",
    "print(coefficients)"
   ]
  },
  {
   "cell_type": "code",
   "execution_count": 90,
   "metadata": {},
   "outputs": [
    {
     "name": "stdout",
     "output_type": "stream",
     "text": [
      "Intercept: 27.403229298493507\n"
     ]
    }
   ],
   "source": [
    "# Show the intercept of the model\n",
    "intercept = model.intercept_\n",
    "print(f'Intercept: {intercept}')"
   ]
  },
  {
   "cell_type": "code",
   "execution_count": 91,
   "metadata": {},
   "outputs": [
    {
     "name": "stdout",
     "output_type": "stream",
     "text": [
      "Predicted Prices:\n",
      "     Actual Price  Predicted Price\n",
      "126        74.970           74.970\n",
      "45         19.565           19.565\n",
      "133        15.010           15.010\n",
      "138        25.545           25.545\n",
      "111        36.229           36.229\n",
      "29         24.495           24.495\n",
      "95         82.600           82.600\n",
      "97         41.000           41.000\n",
      "94         69.700           69.700\n",
      "139        16.875           16.875\n"
     ]
    }
   ],
   "source": [
    "# Show the predicted prices for the test set\n",
    "predicted_prices = pd.DataFrame({'Actual Price': y_test, 'Predicted Price': y_pred})\n",
    "print(\"Predicted Prices:\")\n",
    "print(predicted_prices.head(10))"
   ]
  },
  {
   "cell_type": "code",
   "execution_count": 93,
   "metadata": {},
   "outputs": [
    {
     "data": {
      "application/vnd.microsoft.datawrangler.viewer.v0+json": {
       "columns": [
        {
         "name": "index",
         "rawType": "object",
         "type": "string"
        },
        {
         "name": "29",
         "rawType": "object",
         "type": "unknown"
        }
       ],
       "ref": "f22fd0c0-2eae-491b-b8eb-762b80babd57",
       "rows": [
        [
         "Manufacturer",
         "Chrysler"
        ],
        [
         "Model",
         "Sebring Conv."
        ],
        [
         "Sales_in_thousands",
         "32.775"
        ],
        [
         "__year_resale_value",
         "14.18"
        ],
        [
         "Vehicle_type",
         "Passenger"
        ],
        [
         "Price_in_thousands",
         "24.495"
        ],
        [
         "Engine_size",
         "2.5"
        ],
        [
         "Horsepower",
         "168.0"
        ],
        [
         "Wheelbase",
         "106.0"
        ],
        [
         "Width",
         "69.2"
        ],
        [
         "Length",
         "193.0"
        ],
        [
         "Curb_weight",
         "3.332"
        ],
        [
         "Fuel_capacity",
         "16.0"
        ],
        [
         "Fuel_efficiency",
         "24.0"
        ],
        [
         "Latest_Launch",
         "11/17/2011"
        ],
        [
         "Power_perf_factor",
         "69.52135505"
        ],
        [
         "Latest_Launch ",
         "2011-11-17"
        ]
       ],
       "shape": {
        "columns": 1,
        "rows": 17
       }
      },
      "text/plain": [
       "Manufacturer                Chrysler\n",
       "Model                  Sebring Conv.\n",
       "Sales_in_thousands            32.775\n",
       "__year_resale_value            14.18\n",
       "Vehicle_type               Passenger\n",
       "Price_in_thousands            24.495\n",
       "Engine_size                      2.5\n",
       "Horsepower                     168.0\n",
       "Wheelbase                      106.0\n",
       "Width                           69.2\n",
       "Length                         193.0\n",
       "Curb_weight                    3.332\n",
       "Fuel_capacity                   16.0\n",
       "Fuel_efficiency                 24.0\n",
       "Latest_Launch             11/17/2011\n",
       "Power_perf_factor          69.521355\n",
       "Latest_Launch             2011-11-17\n",
       "Name: 29, dtype: object"
      ]
     },
     "execution_count": 93,
     "metadata": {},
     "output_type": "execute_result"
    }
   ],
   "source": [
    "dfcopy.iloc[29]"
   ]
  },
  {
   "cell_type": "code",
   "execution_count": 94,
   "metadata": {},
   "outputs": [
    {
     "data": {
      "text/plain": [
       "['car_price_prediction_model.pkl']"
      ]
     },
     "execution_count": 94,
     "metadata": {},
     "output_type": "execute_result"
    }
   ],
   "source": [
    "# Save the model for future use\n",
    "import joblib\n",
    "joblib.dump(model, 'car_price_prediction_model.pkl')"
   ]
  },
  {
   "cell_type": "code",
   "execution_count": 127,
   "metadata": {},
   "outputs": [
    {
     "name": "stdout",
     "output_type": "stream",
     "text": [
      "Predicted Price for the input values: 348.47079515591787 thousands\n"
     ]
    }
   ],
   "source": [
    "# Load the model and make predictions\n",
    "loaded_model = joblib.load('car_price_prediction_model.pkl')\n",
    "\n",
    "# Input values for prediction\n",
    "input_values = {\n",
    "    'Manufacturer': 'Xtera',\n",
    "    'Sales_in_thousands': 40,\n",
    "    '__year_resale_value': 67,\n",
    "    'Engine_size': 2.0,\n",
    "    'Horsepower': 150,\n",
    "    'Wheelbase': 110,\n",
    "    'Width': 70,\n",
    "    'Length': 180,\n",
    "    'Fuel_capacity': 15,\n",
    "    'Fuel_efficiency': 15,\n",
    "    'Curb_weight': 3.0,\n",
    "    'Power_perf_factor': 188\n",
    "}\n",
    "# Convert input values to DataFrame\n",
    "input_df = pd.DataFrame([input_values])\n",
    "# One-hot encode the input values\n",
    "input_df_encoded = pd.get_dummies(input_df, columns=['Manufacturer'], drop_first=True)\n",
    "# Ensure the input DataFrame has the same columns as the training data\n",
    "missing_cols = set(X.columns) - set(input_df_encoded.columns)\n",
    "for col in missing_cols:\n",
    "    input_df_encoded[col] = 0\n",
    "input_df_encoded = input_df_encoded[X.columns]  # Reorder columns to match training data\n",
    "# Scale the input values\n",
    "input_scaled = scaler.transform(input_df_encoded)\n",
    "# Make prediction\n",
    "predicted_price = loaded_model.predict(input_scaled)\n",
    "print(f'Predicted Price for the input values: {predicted_price[0]} thousands')"
   ]
  },
  {
   "cell_type": "code",
   "execution_count": null,
   "metadata": {},
   "outputs": [
    {
     "name": "stdout",
     "output_type": "stream",
     "text": [
      "Min and Max Values for Each Column:\n",
      "                            min         max\n",
      "Manufacturer              Acura       Volvo\n",
      "Model                     3-Sep      Xterra\n",
      "Sales_in_thousands         0.11     540.561\n",
      "__year_resale_value        5.16       67.55\n",
      "Vehicle_type                Car   Passenger\n",
      "Price_in_thousands        9.235        85.5\n",
      "Engine_size                 1.0         8.0\n",
      "Horsepower                 55.0       450.0\n",
      "Wheelbase                  92.6       138.7\n",
      "Width                      62.6        79.9\n",
      "Length                    149.4       224.5\n",
      "Curb_weight               1.895       5.572\n",
      "Fuel_capacity              10.3        32.0\n",
      "Fuel_efficiency            15.0        45.0\n",
      "Latest_Launch         1/14/2012    9/3/2011\n",
      "Power_perf_factor     23.276272  188.144323\n",
      "Latest_Launch        2008-02-13  2012-12-29\n"
     ]
    }
   ],
   "source": [
    "# Min and Max value for every column\n",
    "min_max_values = dfcopy.agg(['min', 'max']).T\n",
    "print(\"Min and Max Values for Each Column:\")\n",
    "print(min_max_values)"
   ]
  }
 ],
 "metadata": {
  "kernelspec": {
   "display_name": "ds39",
   "language": "python",
   "name": "python3"
  },
  "language_info": {
   "codemirror_mode": {
    "name": "ipython",
    "version": 3
   },
   "file_extension": ".py",
   "mimetype": "text/x-python",
   "name": "python",
   "nbconvert_exporter": "python",
   "pygments_lexer": "ipython3",
   "version": "3.9.13"
  }
 },
 "nbformat": 4,
 "nbformat_minor": 2
}
