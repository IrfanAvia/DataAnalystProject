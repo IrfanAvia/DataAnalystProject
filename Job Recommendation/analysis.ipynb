{
 "cells": [
  {
   "cell_type": "markdown",
   "metadata": {},
   "source": [
    "## Job Recommendation"
   ]
  },
  {
   "cell_type": "markdown",
   "metadata": {},
   "source": [
    "Dataset: https://www.kaggle.com/datasets/ravindrasinghrana/job-description-dataset"
   ]
  },
  {
   "cell_type": "code",
   "execution_count": 1,
   "metadata": {},
   "outputs": [],
   "source": [
    "import pandas as pd\n",
    "\n",
    "df = pd.read_csv('job_descriptions.csv')"
   ]
  },
  {
   "cell_type": "code",
   "execution_count": 2,
   "metadata": {},
   "outputs": [],
   "source": [
    "# Drop column: 'Contact'\n",
    "df = df.drop(columns=['Contact'])\n",
    "df = df.drop(columns=['Job Id'])"
   ]
  },
  {
   "cell_type": "code",
   "execution_count": 3,
   "metadata": {},
   "outputs": [
    {
     "data": {
      "text/plain": [
       "Index(['Experience', 'Qualifications', 'Salary Range', 'location', 'Country',\n",
       "       'latitude', 'longitude', 'Work Type', 'Company Size',\n",
       "       'Job Posting Date', 'Preference', 'Contact Person', 'Job Title', 'Role',\n",
       "       'Job Portal', 'Job Description', 'Benefits', 'skills',\n",
       "       'Responsibilities', 'Company', 'Company Profile'],\n",
       "      dtype='object')"
      ]
     },
     "execution_count": 3,
     "metadata": {},
     "output_type": "execute_result"
    }
   ],
   "source": [
    "df.columns"
   ]
  },
  {
   "cell_type": "code",
   "execution_count": 4,
   "metadata": {},
   "outputs": [
    {
     "data": {
      "text/plain": [
       "Experience             0\n",
       "Qualifications         0\n",
       "Salary Range           0\n",
       "location               0\n",
       "Country                0\n",
       "latitude               0\n",
       "longitude              0\n",
       "Work Type              0\n",
       "Company Size           0\n",
       "Job Posting Date       0\n",
       "Preference             0\n",
       "Contact Person         0\n",
       "Job Title              0\n",
       "Role                   0\n",
       "Job Portal             0\n",
       "Job Description        0\n",
       "Benefits               0\n",
       "skills                 0\n",
       "Responsibilities       0\n",
       "Company                0\n",
       "Company Profile     5478\n",
       "dtype: int64"
      ]
     },
     "execution_count": 4,
     "metadata": {},
     "output_type": "execute_result"
    }
   ],
   "source": [
    "df.isnull().sum()"
   ]
  },
  {
   "cell_type": "code",
   "execution_count": 5,
   "metadata": {},
   "outputs": [],
   "source": [
    "import polars as pl\n",
    "\n",
    "# Using Polar dataframe to Preprocessing the Data\n",
    "df_polars = pl.DataFrame(df)\n",
    "\n",
    "# Cleaned '$' and 'K' in 'Salary Range'\n",
    "df_polars = df_polars.with_columns([\n",
    "    pl.col(\"Salary Range\").str.replace_all(r\"[\\$K]\", \"\").str.split(\"-\").alias(\"Salary Range Split\")\n",
    "])\n",
    "\n",
    "# Split Max and Min Salary\n",
    "df_polars = df_polars.with_columns([\n",
    "    (pl.col(\"Salary Range Split\").list.get(0).cast(pl.Float64) * 1000).alias(\"Min Salary\"),\n",
    "    (pl.col(\"Salary Range Split\").list.get(1).cast(pl.Float64) * 1000).alias(\"Max Salary\")\n",
    "])\n",
    "\n",
    "df_polars = df_polars.with_columns([\n",
    "    pl.col('skills').fill_null('').str.to_lowercase(),\n",
    "    pl.col('Qualifications').fill_null('').str.to_lowercase(),\n",
    "    pl.col('Job Description').fill_null('').str.to_lowercase()\n",
    "])"
   ]
  },
  {
   "cell_type": "code",
   "execution_count": 6,
   "metadata": {},
   "outputs": [],
   "source": [
    "df = df_polars.to_pandas()"
   ]
  },
  {
   "cell_type": "code",
   "execution_count": 7,
   "metadata": {},
   "outputs": [],
   "source": [
    "import numpy as np\n",
    "from sklearn.feature_extraction.text import TfidfVectorizer\n",
    "from sklearn.metrics.pairwise import cosine_similarity\n",
    "\n",
    "# Use TF-IDF to vectorize the 'Skills' column\n",
    "tfidf = TfidfVectorizer(stop_words='english')\n",
    "tfidf_matrix = tfidf.fit_transform(df['skills'])\n",
    "\n",
    "# Function to recommend jobs based on skills\n",
    "def recommend_jobs(job_seeker_skills, top_n=5):\n",
    "    # Convert job seeker's skills to a vector\n",
    "    seeker_skills_vector = tfidf.transform([job_seeker_skills.lower()])\n",
    "    \n",
    "    # Compute cosine similarity between job seeker's skills and all job postings\n",
    "    cosine_sim = cosine_similarity(seeker_skills_vector, tfidf_matrix).flatten()\n",
    "    \n",
    "    # Get the top N jobs with highest similarity\n",
    "    top_jobs_indices = cosine_sim.argsort()[-top_n:][::-1]\n",
    "    \n",
    "    return df.iloc[top_jobs_indices][['Job Title', 'Company', 'skills', 'Salary Range']]"
   ]
  },
  {
   "cell_type": "code",
   "execution_count": 8,
   "metadata": {},
   "outputs": [
    {
     "name": "stdout",
     "output_type": "stream",
     "text": [
      "              Job Title                   Company  \\\n",
      "630408   Data Scientist      Bristol-Myers Squibb   \n",
      "137643   Data Scientist                      Olin   \n",
      "655749   Data Scientist  TravelCenters of America   \n",
      "1069428  Data Scientist     L3Harris Technologies   \n",
      "857581   Data Scientist              W.R. Berkley   \n",
      "\n",
      "                                                    skills Salary Range  \n",
      "630408   machine learning algorithms python programming...   $58K-$125K  \n",
      "137643   machine learning algorithms python programming...   $58K-$112K  \n",
      "655749   machine learning algorithms python programming...   $60K-$114K  \n",
      "1069428  machine learning algorithms python programming...    $58K-$85K  \n",
      "857581   machine learning algorithms python programming...   $64K-$120K  \n"
     ]
    }
   ],
   "source": [
    "# Example usage: recommend jobs based on a job seeker's skills\n",
    "job_seeker_skills = \"python, machine learning, data analysis\"\n",
    "recommended_jobs = recommend_jobs(job_seeker_skills)\n",
    "print(recommended_jobs)"
   ]
  },
  {
   "cell_type": "code",
   "execution_count": 9,
   "metadata": {},
   "outputs": [
    {
     "name": "stdout",
     "output_type": "stream",
     "text": [
      "              Job Title               Company  \\\n",
      "1182591  Data Scientist                  AGCO   \n",
      "88352    Data Scientist           Wells Fargo   \n",
      "659611   Data Scientist                Sempra   \n",
      "939425   Data Scientist  State Farm Insurance   \n",
      "134294   Data Scientist          Ryder System   \n",
      "\n",
      "                                                    skills Salary Range  \\\n",
      "1182591  machine learning algorithms python programming...    $63K-$95K   \n",
      "88352    machine learning algorithms python programming...    $60K-$84K   \n",
      "659611   machine learning algorithms python programming...    $61K-$86K   \n",
      "939425   machine learning algorithms python programming...    $62K-$98K   \n",
      "134294   machine learning algorithms python programming...    $64K-$91K   \n",
      "\n",
      "         Skill Similarity  \n",
      "1182591          0.609868  \n",
      "88352            0.609868  \n",
      "659611           0.609868  \n",
      "939425           0.609868  \n",
      "134294           0.609868  \n"
     ]
    }
   ],
   "source": [
    "# Combine all criteria: skills, location, and salary\n",
    "def recommend_jobs_combined(job_seeker_skills, desired_min_salary, desired_max_salary, top_n=5):\n",
    "    # Step 1: Skills filtering\n",
    "    seeker_skills_vector = tfidf.transform([job_seeker_skills.lower()])\n",
    "    cosine_sim = cosine_similarity(seeker_skills_vector, tfidf_matrix).flatten()\n",
    "    df['Skill Similarity'] = cosine_sim\n",
    "    \n",
    "   \n",
    "    # Step 2: Salary filtering\n",
    "    filtered_jobs = df[(df['Min Salary'] >= desired_min_salary) & \n",
    "                       (df['Max Salary'] <= desired_max_salary) ]  \n",
    "    \n",
    "    # Sort by skill similarity and get top N jobs\n",
    "    top_jobs = filtered_jobs.sort_values(by='Skill Similarity', ascending=False).head(top_n)\n",
    "    \n",
    "    return top_jobs[['Job Title', 'Company', 'skills', 'Salary Range', 'Skill Similarity']]\n",
    "\n",
    "# Example: Recommend jobs based on all criteria\n",
    "recommended_jobs_combined = recommend_jobs_combined(\"python, machine learning, data analysis\", 60000, 100000)\n",
    "print(recommended_jobs_combined)\n"
   ]
  },
  {
   "cell_type": "code",
   "execution_count": 10,
   "metadata": {},
   "outputs": [
    {
     "data": {
      "text/html": [
       "<div>\n",
       "<style scoped>\n",
       "    .dataframe tbody tr th:only-of-type {\n",
       "        vertical-align: middle;\n",
       "    }\n",
       "\n",
       "    .dataframe tbody tr th {\n",
       "        vertical-align: top;\n",
       "    }\n",
       "\n",
       "    .dataframe thead th {\n",
       "        text-align: right;\n",
       "    }\n",
       "</style>\n",
       "<table border=\"1\" class=\"dataframe\">\n",
       "  <thead>\n",
       "    <tr style=\"text-align: right;\">\n",
       "      <th></th>\n",
       "      <th>Job Title</th>\n",
       "      <th>Company</th>\n",
       "      <th>skills</th>\n",
       "      <th>Salary Range</th>\n",
       "      <th>Skill Similarity</th>\n",
       "    </tr>\n",
       "  </thead>\n",
       "  <tbody>\n",
       "    <tr>\n",
       "      <th>1160895</th>\n",
       "      <td>Electrical Designer</td>\n",
       "      <td>Constellation Energy</td>\n",
       "      <td>electrical engineering circuit design electron...</td>\n",
       "      <td>$55K-$112K</td>\n",
       "      <td>0.467321</td>\n",
       "    </tr>\n",
       "    <tr>\n",
       "      <th>348030</th>\n",
       "      <td>Electrical Designer</td>\n",
       "      <td>AutoZone</td>\n",
       "      <td>electrical engineering circuit design electron...</td>\n",
       "      <td>$58K-$88K</td>\n",
       "      <td>0.467321</td>\n",
       "    </tr>\n",
       "    <tr>\n",
       "      <th>335545</th>\n",
       "      <td>Electrical Designer</td>\n",
       "      <td>Cisco Systems</td>\n",
       "      <td>electrical engineering circuit design electron...</td>\n",
       "      <td>$60K-$97K</td>\n",
       "      <td>0.467321</td>\n",
       "    </tr>\n",
       "    <tr>\n",
       "      <th>762816</th>\n",
       "      <td>Electrical Designer</td>\n",
       "      <td>Global Partners</td>\n",
       "      <td>electrical engineering circuit design electron...</td>\n",
       "      <td>$58K-$91K</td>\n",
       "      <td>0.467321</td>\n",
       "    </tr>\n",
       "    <tr>\n",
       "      <th>1068505</th>\n",
       "      <td>Electrical Designer</td>\n",
       "      <td>Pacific Life</td>\n",
       "      <td>electrical engineering circuit design electron...</td>\n",
       "      <td>$65K-$117K</td>\n",
       "      <td>0.467321</td>\n",
       "    </tr>\n",
       "  </tbody>\n",
       "</table>\n",
       "</div>"
      ],
      "text/plain": [
       "                   Job Title               Company  \\\n",
       "1160895  Electrical Designer  Constellation Energy   \n",
       "348030   Electrical Designer              AutoZone   \n",
       "335545   Electrical Designer         Cisco Systems   \n",
       "762816   Electrical Designer       Global Partners   \n",
       "1068505  Electrical Designer          Pacific Life   \n",
       "\n",
       "                                                    skills Salary Range  \\\n",
       "1160895  electrical engineering circuit design electron...   $55K-$112K   \n",
       "348030   electrical engineering circuit design electron...    $58K-$88K   \n",
       "335545   electrical engineering circuit design electron...    $60K-$97K   \n",
       "762816   electrical engineering circuit design electron...    $58K-$91K   \n",
       "1068505  electrical engineering circuit design electron...   $65K-$117K   \n",
       "\n",
       "         Skill Similarity  \n",
       "1160895          0.467321  \n",
       "348030           0.467321  \n",
       "335545           0.467321  \n",
       "762816           0.467321  \n",
       "1068505          0.467321  "
      ]
     },
     "execution_count": 10,
     "metadata": {},
     "output_type": "execute_result"
    }
   ],
   "source": [
    "# Example: Recommend jobs based on all criteria\n",
    "recommended_jobs_combined = recommend_jobs_combined(\"electrical\", 10000, 120000)\n",
    "recommended_jobs_combined"
   ]
  },
  {
   "cell_type": "code",
   "execution_count": 11,
   "metadata": {},
   "outputs": [
    {
     "name": "stdout",
     "output_type": "stream",
     "text": [
      "PERSON: John Doe\n",
      "Python\n",
      "DATE: 5 years\n",
      "PERSON: Django\n",
      "ORG: TensorFlow\n",
      "PERSON: Docker\n",
      "ORG: ABC Corp\n",
      "DATE: 2018-2023\n",
      "ORG: Computer Science\n",
      "ORG: XYZ University\n",
      "Skills: ['Python, Django, TensorFlow, Docker, AWS']\n",
      "Experience: ['Python Developer at ABC Corp (2018-2023)']\n",
      "Education: ['BSc in Computer Science, XYZ University']\n"
     ]
    }
   ],
   "source": [
    "import spacy\n",
    "import re\n",
    "\n",
    "# Load pre-trained NLP model (spaCy's en_core_web_sm)\n",
    "nlp = spacy.load('en_core_web_sm')\n",
    "\n",
    "# Example resume text\n",
    "resume_text = \"\"\"\n",
    "John Doe\n",
    "Python Developer with 5 years of experience in machine learning and web development.\n",
    "Skills: Python, Django, TensorFlow, Docker, AWS\n",
    "Experience: Python Developer at ABC Corp (2018-2023)\n",
    "Education: BSc in Computer Science, XYZ University\n",
    "Contact: johndoe@example.com, +1234567890\n",
    "\"\"\"\n",
    "\n",
    "# Preprocess the resume text\n",
    "def clean_resume(text):\n",
    "    # Remove email addresses, phone numbers, and other irrelevant information\n",
    "    text = re.sub(r'\\S+@\\S+', '', text)  # Remove emails\n",
    "    text = re.sub(r'\\+\\d{9,}', '', text)  # Remove phone numbers\n",
    "    return text\n",
    "\n",
    "# Parse the resume using spaCy\n",
    "doc = nlp(clean_resume(resume_text))\n",
    "\n",
    "# Extract specific entities (NER)\n",
    "for ent in doc.ents:\n",
    "    print(f\"{ent.label_}: {ent.text}\")\n",
    "\n",
    "# Example: Extracting skills, experience, and education manually\n",
    "skills = re.findall(r\"Skills: (.+)\", resume_text)\n",
    "experience = re.findall(r\"Experience: (.+)\", resume_text)\n",
    "education = re.findall(r\"Education: (.+)\", resume_text)\n",
    "\n",
    "print(\"Skills:\", skills)\n",
    "print(\"Experience:\", experience)\n",
    "print(\"Education:\", education)\n"
   ]
  },
  {
   "cell_type": "code",
   "execution_count": 12,
   "metadata": {},
   "outputs": [],
   "source": [
    "def parse_resume(resume_text):\n",
    "    doc = nlp(clean_resume(resume_text))\n",
    "    skills = re.findall(r\"Skills: (.+)\", resume_text)\n",
    "    experience = re.findall(r\"Experience: (.+)\", resume_text)\n",
    "    education = re.findall(r\"Education: (.+)\", resume_text)\n",
    "    \n",
    "    return {\n",
    "        'skills': skills[0] if skills else '',\n",
    "        'experience': experience[0] if experience else '',\n",
    "        'education': education[0] if education else ''\n",
    "    }\n",
    "\n",
    "def recommend_jobs(resume_text, job_descriptions_df):\n",
    "    # Parse the resume\n",
    "    resume_data = parse_resume(resume_text)\n",
    "    \n",
    "    # Job descriptions from the dataset\n",
    "    job_descriptions = job_descriptions_df['Job Description'].fillna('').tolist()\n",
    "    \n",
    "    # Create TF-IDF vectors\n",
    "    vectorizer = TfidfVectorizer(stop_words='english')\n",
    "    tfidf_matrix = vectorizer.fit_transform(job_descriptions + [resume_data['skills']])\n",
    "    \n",
    "    # Calculate similarity\n",
    "    cosine_sim = cosine_similarity(tfidf_matrix[-1], tfidf_matrix[:-1]).flatten()\n",
    "    \n",
    "    # Get top job matches\n",
    "    top_matches = cosine_sim.argsort()[-5:][::-1]\n",
    "    recommended_jobs = job_descriptions_df.iloc[top_matches][['Job Title', 'Company', 'skills']]\n",
    "    \n",
    "    return recommended_jobs"
   ]
  },
  {
   "cell_type": "code",
   "execution_count": 13,
   "metadata": {},
   "outputs": [
    {
     "name": "stdout",
     "output_type": "stream",
     "text": [
      "                  Job Title                     Company  \\\n",
      "176479   Front-End Engineer                     Hershey   \n",
      "299718   Front-End Engineer  Indiabulls Housing Finance   \n",
      "502858   Front-End Engineer  Farmers Insurance Exchange   \n",
      "1426315  Front-End Engineer      Tractor Supply Company   \n",
      "641987   Front-End Engineer      Mondelez International   \n",
      "\n",
      "                                                    skills  \n",
      "176479   javascript programming frontend development fr...  \n",
      "299718   javascript programming frontend development fr...  \n",
      "502858   javascript programming frontend development fr...  \n",
      "1426315  javascript programming frontend development fr...  \n",
      "641987   javascript programming frontend development fr...  \n"
     ]
    }
   ],
   "source": [
    "# Example usage\n",
    "resume_text = \"\"\"\n",
    "Harry Garry\n",
    "Python Developer with 1 years of experience in machine learning.\n",
    "Skills: Python, Javascript, TensorFlow\n",
    "Experience: Python Developer at Osborn Corp (2018-2023)\n",
    "Education: Bachelor in Computer Science, Harvard University\n",
    "Contact: HG@example.com, +4421\n",
    "\"\"\"\n",
    "\n",
    "recommended_jobs = recommend_jobs(resume_text, df)\n",
    "print(recommended_jobs)"
   ]
  }
 ],
 "metadata": {
  "kernelspec": {
   "display_name": "ds39",
   "language": "python",
   "name": "python3"
  },
  "language_info": {
   "codemirror_mode": {
    "name": "ipython",
    "version": 3
   },
   "file_extension": ".py",
   "mimetype": "text/x-python",
   "name": "python",
   "nbconvert_exporter": "python",
   "pygments_lexer": "ipython3",
   "version": "3.9.13"
  }
 },
 "nbformat": 4,
 "nbformat_minor": 2
}
